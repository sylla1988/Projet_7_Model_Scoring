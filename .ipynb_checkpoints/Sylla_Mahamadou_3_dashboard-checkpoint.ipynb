{
 "cells": [
  {
   "cell_type": "markdown",
   "id": "03daec40",
   "metadata": {},
   "source": [
    "## <font color = 'green' id = \"section\" > Projet_7: Implémenter un modèle de scoring</font>"
   ]
  },
  {
   "cell_type": "markdown",
   "id": "15e17cb3",
   "metadata": {},
   "source": [
    "### <font color = 'green' id = \"section\" > Notebook 1: Dossier Code"
   ]
  },
  {
   "cell_type": "markdown",
   "id": "8c7fc33c",
   "metadata": {},
   "source": [
    "# <font color=\"blue\">Sommaire</font>\n",
    "1. [Importation des librairies](#section_1)    \n",
    "2. [Lecture du Dataset](#section_2)     \n",
    "3. [Aperçu des données](#section_3)         \n",
    "4. [Affichages des informations du Dataset](#section_4)        \n"
   ]
  },
  {
   "cell_type": "markdown",
   "id": "2e082814",
   "metadata": {},
   "source": [
    "# <font color ='red' id = 'section_1' > 1.Importation des librairies </font>"
   ]
  },
  {
   "cell_type": "code",
   "execution_count": 1,
   "id": "39273929",
   "metadata": {},
   "outputs": [
    {
     "name": "stdout",
     "output_type": "stream",
     "text": [
      "No Warning Shown\n"
     ]
    }
   ],
   "source": [
    "import warnings\n",
    "warnings.filterwarnings('ignore')\n",
    "warnings.warn('DelftStack')\n",
    "warnings.warn('Do not show this message')\n",
    "print(\"No Warning Shown\")"
   ]
  },
  {
   "cell_type": "code",
   "execution_count": 2,
   "id": "82bfb92a",
   "metadata": {},
   "outputs": [],
   "source": [
    "import pandas as pd\n",
    "import numpy as np\n",
    "import scipy.stats as st\n",
    "import seaborn as sns\n",
    "import matplotlib.pyplot as plt\n",
    "from scipy import stats\n",
    "import ast\n",
    "import scipy as sp\n",
    "import time\n",
    "import pickle\n",
    "#-------------------------------------------------------------------\n",
    "from sklearn.decomposition import PCA\n",
    "from sklearn.manifold import TSNE\n",
    "from sklearn.model_selection import  train_test_split\n",
    "from sklearn.pipeline import make_pipeline\n",
    "\n",
    "#-----------------------------------------------------------------\n",
    "import sklearn\n",
    "from sklearn.pipeline import Pipeline\n",
    "from sklearn.compose import ColumnTransformer, make_column_transformer\n",
    "from sklearn.compose import TransformedTargetRegressor\n",
    "\n",
    "#--------------------------------------------\n",
    "from tqdm import tqdm\n",
    "import gc\n",
    "from imblearn.pipeline import Pipeline\n",
    "from imblearn.over_sampling import SMOTE\n",
    "from imblearn.under_sampling import RandomUnderSampler\n",
    "import collections\n",
    "from sklearn.neighbors import NearestNeighbors\n",
    "#----------------------------------------------------\n",
    "from sklearn.model_selection import GridSearchCV\n",
    "from sklearn.model_selection import cross_val_score\n",
    "\n",
    " #-----------------------------------------------------------\n",
    "from sklearn.dummy import DummyClassifier\n",
    "\n",
    "#------------------------------------------------------------\n",
    "from lightgbm import LGBMClassifier\n",
    "\n",
    "#------------------------------------------------------------\n",
    "from sklearn.preprocessing import OneHotEncoder, StandardScaler, MinMaxScaler\n",
    "\n",
    "#-----------------------------------------------------------\n",
    "from sklearn.ensemble import GradientBoostingClassifier, RandomForestClassifier\n",
    "\n",
    "#-----------------------------------------------------------\n",
    "from xgboost import XGBClassifier\n",
    "\n",
    "#-----------------------------------------------------------\n",
    "from sklearn.linear_model import LogisticRegression\n",
    "\n",
    "#-----------------------------------------------------------\n",
    "from sklearn.metrics import *\n",
    "\n",
    "#----------------------------------------------------\n",
    "import lime\n",
    "from lime import lime_tabular\n",
    "\n",
    "#------------------------------------------------------------------\n",
    "import dash\n",
    "import dash_core_components as dcc\n",
    "import dash_html_components as html\n",
    "from dash.dependencies import Input, Output\n",
    "import plotly.graph_objs as go\n",
    "import dash_table\n",
    "\n",
    "#---------------------------------------------------------------------------\n",
    "from operator import itemgetter\n",
    "from flask import Flask\n",
    "import plotly.express as px\n",
    "from textwrap import wrap"
   ]
  },
  {
   "cell_type": "code",
   "execution_count": 3,
   "id": "03ba9a09",
   "metadata": {},
   "outputs": [],
   "source": [
    "pd.set_option(\"display.max_columns\", 500)\n",
    "pd.set_option(\"display.max_rows\", 500)"
   ]
  },
  {
   "cell_type": "markdown",
   "id": "dbeb2921",
   "metadata": {},
   "source": [
    "## Checklist\n",
    "# Mission:\n",
    "\n",
    "1. Construire un **modèle de scoring** qui donnera une prédiction sur la probabilité de faillite d'un client de façon automatique.\n",
    "\n",
    "\n",
    "2. Construire un **dashboard interactif** à destination des gestionnaires de la relation client permettant **d'interpréter les prédictions** faites par le modèle, et d’améliorer la connaissance client des chargés de relation client.\n",
    "\n",
    "\n",
    "# Objectifs/ Spécifications du dashboard:\n",
    "\n",
    "**1**. Permettre de **visualiser le score et l’interprétation de ce score** pour chaque client de façon intelligible pour une personne non experte en data science.\n",
    "\n",
    "**2.** Permettre de **visualiser des informations descriptives** relatives à un client (via un système de filtre).\n",
    "\n",
    "\n",
    "**3.** Permettre de **comparer les informations descriptives** relatives à un client à l’ensemble des clients ou à un groupe de clients similaires.\n",
    "\n",
    "\n",
    "# Objectifs/ Dossier:\n",
    "\n",
    "Un dossier sur un outil de versioning de code doit contenir:\n",
    "\n",
    "\n",
    "* Le **code de la modélisation** (du prétraitement à la prédiction)\n",
    "\n",
    "\n",
    "* Le **code générant le dashboard**\n",
    "\n",
    "\n",
    "* Le **code** permettant de **déployer le modèle sous forme d'API**.\n",
    "\n",
    "\n",
    "# Objectifs/ note méthodologique :\n",
    "\n",
    "Une note méthodologique décrivant :\n",
    "\n",
    "* La méthodologie **d'entraînement du modèle** (2 pages maximum)\n",
    "\n",
    "\n",
    "* La **fonction coût** métier, **l'algorithme d'optimisation** et la **métrique d'évaluation** (1 page maximum)\n",
    "\n",
    "\n",
    "* **L’interprétabilité globale** et **locale** du modèle (1 page maximum)\n",
    "\n",
    "\n",
    "* Les **limites** et les **améliorations possibles** (1 page maximum)\n",
    "\n",
    "\n",
    "# Informations supplémentaires\n",
    "\n",
    "* Sélectionner un kernel Kaggle pour nous faciliter la préparation des données nécessaires à l’élaboration du modèle de scoring.\n",
    "\n",
    "* Analyser ce kernel et l’adapter pour nous assurer qu’il répond aux besoins de notre mission.\n",
    "\n",
    "\n",
    "On peut  ainsi nous  focaliser sur:\n",
    "\n",
    "\n",
    "* **L’élaboration du modèle**, \n",
    "\n",
    "\n",
    "* Son **optimisation**,\n",
    "\n",
    "\n",
    "* Sa **compréhension**.\n",
    "\n",
    "# Description des données\n",
    "\n",
    "lien vers les données: https://www.kaggle.com/c/home-credit-default-risk/data\n",
    "\n",
    "![title](home_credit.png)"
   ]
  },
  {
   "cell_type": "markdown",
   "id": "4aa43bf0",
   "metadata": {},
   "source": [
    "# <font color=\"red\" id=\"section_2\"> 2. Chargement, lecture  et apercu  des données</font>"
   ]
  },
  {
   "cell_type": "code",
   "execution_count": 4,
   "id": "ca9e6c21",
   "metadata": {},
   "outputs": [],
   "source": [
    "path = r'C:\\Users\\sylla\\Desktop\\Data Sciences\\Projet7_ impémenter un model scoring\\archive/'\n",
    "\n",
    "app_test = pd.read_csv(path + \"application_test.csv\")\n",
    "\n",
    "path_enc = r\"C:\\Users\\sylla\\Desktop\\Data Sciences\\Projet7_ impémenter un model scoring\\P7_Notebook_1_Dossier_code/\"\n",
    "df_test_encoded_features_engi = pd.read_csv(path_enc + \"app_test_encodede_feature_engen.csv\")\n",
    "\n",
    "df_cout =pd.read_csv(\"df_cout.csv\")"
   ]
  },
  {
   "cell_type": "code",
   "execution_count": 5,
   "id": "923f36ff",
   "metadata": {},
   "outputs": [
    {
     "data": {
      "text/html": [
       "<div>\n",
       "<style scoped>\n",
       "    .dataframe tbody tr th:only-of-type {\n",
       "        vertical-align: middle;\n",
       "    }\n",
       "\n",
       "    .dataframe tbody tr th {\n",
       "        vertical-align: top;\n",
       "    }\n",
       "\n",
       "    .dataframe thead th {\n",
       "        text-align: right;\n",
       "    }\n",
       "</style>\n",
       "<table border=\"1\" class=\"dataframe\">\n",
       "  <thead>\n",
       "    <tr style=\"text-align: right;\">\n",
       "      <th></th>\n",
       "      <th>SK_ID_CURR</th>\n",
       "      <th>NAME_CONTRACT_TYPE</th>\n",
       "      <th>CODE_GENDER</th>\n",
       "      <th>FLAG_OWN_CAR</th>\n",
       "      <th>FLAG_OWN_REALTY</th>\n",
       "      <th>CNT_CHILDREN</th>\n",
       "      <th>AMT_INCOME_TOTAL</th>\n",
       "      <th>AMT_CREDIT</th>\n",
       "      <th>AMT_ANNUITY</th>\n",
       "      <th>AMT_GOODS_PRICE</th>\n",
       "      <th>NAME_TYPE_SUITE</th>\n",
       "      <th>NAME_INCOME_TYPE</th>\n",
       "      <th>NAME_EDUCATION_TYPE</th>\n",
       "      <th>NAME_FAMILY_STATUS</th>\n",
       "      <th>NAME_HOUSING_TYPE</th>\n",
       "      <th>REGION_POPULATION_RELATIVE</th>\n",
       "      <th>DAYS_BIRTH</th>\n",
       "      <th>DAYS_EMPLOYED</th>\n",
       "      <th>DAYS_REGISTRATION</th>\n",
       "      <th>DAYS_ID_PUBLISH</th>\n",
       "      <th>OWN_CAR_AGE</th>\n",
       "      <th>FLAG_MOBIL</th>\n",
       "      <th>FLAG_EMP_PHONE</th>\n",
       "      <th>FLAG_WORK_PHONE</th>\n",
       "      <th>FLAG_CONT_MOBILE</th>\n",
       "      <th>FLAG_PHONE</th>\n",
       "      <th>FLAG_EMAIL</th>\n",
       "      <th>OCCUPATION_TYPE</th>\n",
       "      <th>CNT_FAM_MEMBERS</th>\n",
       "      <th>REGION_RATING_CLIENT</th>\n",
       "      <th>REGION_RATING_CLIENT_W_CITY</th>\n",
       "      <th>WEEKDAY_APPR_PROCESS_START</th>\n",
       "      <th>HOUR_APPR_PROCESS_START</th>\n",
       "      <th>REG_REGION_NOT_LIVE_REGION</th>\n",
       "      <th>REG_REGION_NOT_WORK_REGION</th>\n",
       "      <th>LIVE_REGION_NOT_WORK_REGION</th>\n",
       "      <th>REG_CITY_NOT_LIVE_CITY</th>\n",
       "      <th>REG_CITY_NOT_WORK_CITY</th>\n",
       "      <th>LIVE_CITY_NOT_WORK_CITY</th>\n",
       "      <th>ORGANIZATION_TYPE</th>\n",
       "      <th>EXT_SOURCE_1</th>\n",
       "      <th>EXT_SOURCE_2</th>\n",
       "      <th>EXT_SOURCE_3</th>\n",
       "      <th>APARTMENTS_AVG</th>\n",
       "      <th>BASEMENTAREA_AVG</th>\n",
       "      <th>YEARS_BEGINEXPLUATATION_AVG</th>\n",
       "      <th>YEARS_BUILD_AVG</th>\n",
       "      <th>COMMONAREA_AVG</th>\n",
       "      <th>ELEVATORS_AVG</th>\n",
       "      <th>ENTRANCES_AVG</th>\n",
       "      <th>FLOORSMAX_AVG</th>\n",
       "      <th>FLOORSMIN_AVG</th>\n",
       "      <th>LANDAREA_AVG</th>\n",
       "      <th>LIVINGAPARTMENTS_AVG</th>\n",
       "      <th>LIVINGAREA_AVG</th>\n",
       "      <th>NONLIVINGAPARTMENTS_AVG</th>\n",
       "      <th>NONLIVINGAREA_AVG</th>\n",
       "      <th>APARTMENTS_MODE</th>\n",
       "      <th>BASEMENTAREA_MODE</th>\n",
       "      <th>YEARS_BEGINEXPLUATATION_MODE</th>\n",
       "      <th>YEARS_BUILD_MODE</th>\n",
       "      <th>COMMONAREA_MODE</th>\n",
       "      <th>ELEVATORS_MODE</th>\n",
       "      <th>ENTRANCES_MODE</th>\n",
       "      <th>FLOORSMAX_MODE</th>\n",
       "      <th>FLOORSMIN_MODE</th>\n",
       "      <th>LANDAREA_MODE</th>\n",
       "      <th>LIVINGAPARTMENTS_MODE</th>\n",
       "      <th>LIVINGAREA_MODE</th>\n",
       "      <th>NONLIVINGAPARTMENTS_MODE</th>\n",
       "      <th>NONLIVINGAREA_MODE</th>\n",
       "      <th>APARTMENTS_MEDI</th>\n",
       "      <th>BASEMENTAREA_MEDI</th>\n",
       "      <th>YEARS_BEGINEXPLUATATION_MEDI</th>\n",
       "      <th>YEARS_BUILD_MEDI</th>\n",
       "      <th>COMMONAREA_MEDI</th>\n",
       "      <th>ELEVATORS_MEDI</th>\n",
       "      <th>ENTRANCES_MEDI</th>\n",
       "      <th>FLOORSMAX_MEDI</th>\n",
       "      <th>FLOORSMIN_MEDI</th>\n",
       "      <th>LANDAREA_MEDI</th>\n",
       "      <th>LIVINGAPARTMENTS_MEDI</th>\n",
       "      <th>LIVINGAREA_MEDI</th>\n",
       "      <th>NONLIVINGAPARTMENTS_MEDI</th>\n",
       "      <th>NONLIVINGAREA_MEDI</th>\n",
       "      <th>FONDKAPREMONT_MODE</th>\n",
       "      <th>HOUSETYPE_MODE</th>\n",
       "      <th>TOTALAREA_MODE</th>\n",
       "      <th>WALLSMATERIAL_MODE</th>\n",
       "      <th>EMERGENCYSTATE_MODE</th>\n",
       "      <th>OBS_30_CNT_SOCIAL_CIRCLE</th>\n",
       "      <th>DEF_30_CNT_SOCIAL_CIRCLE</th>\n",
       "      <th>OBS_60_CNT_SOCIAL_CIRCLE</th>\n",
       "      <th>DEF_60_CNT_SOCIAL_CIRCLE</th>\n",
       "      <th>DAYS_LAST_PHONE_CHANGE</th>\n",
       "      <th>FLAG_DOCUMENT_2</th>\n",
       "      <th>FLAG_DOCUMENT_3</th>\n",
       "      <th>FLAG_DOCUMENT_4</th>\n",
       "      <th>FLAG_DOCUMENT_5</th>\n",
       "      <th>FLAG_DOCUMENT_6</th>\n",
       "      <th>FLAG_DOCUMENT_7</th>\n",
       "      <th>FLAG_DOCUMENT_8</th>\n",
       "      <th>FLAG_DOCUMENT_9</th>\n",
       "      <th>FLAG_DOCUMENT_10</th>\n",
       "      <th>FLAG_DOCUMENT_11</th>\n",
       "      <th>FLAG_DOCUMENT_12</th>\n",
       "      <th>FLAG_DOCUMENT_13</th>\n",
       "      <th>FLAG_DOCUMENT_14</th>\n",
       "      <th>FLAG_DOCUMENT_15</th>\n",
       "      <th>FLAG_DOCUMENT_16</th>\n",
       "      <th>FLAG_DOCUMENT_17</th>\n",
       "      <th>FLAG_DOCUMENT_18</th>\n",
       "      <th>FLAG_DOCUMENT_19</th>\n",
       "      <th>FLAG_DOCUMENT_20</th>\n",
       "      <th>FLAG_DOCUMENT_21</th>\n",
       "      <th>AMT_REQ_CREDIT_BUREAU_HOUR</th>\n",
       "      <th>AMT_REQ_CREDIT_BUREAU_DAY</th>\n",
       "      <th>AMT_REQ_CREDIT_BUREAU_WEEK</th>\n",
       "      <th>AMT_REQ_CREDIT_BUREAU_MON</th>\n",
       "      <th>AMT_REQ_CREDIT_BUREAU_QRT</th>\n",
       "      <th>AMT_REQ_CREDIT_BUREAU_YEAR</th>\n",
       "    </tr>\n",
       "  </thead>\n",
       "  <tbody>\n",
       "    <tr>\n",
       "      <th>0</th>\n",
       "      <td>100001</td>\n",
       "      <td>Cash loans</td>\n",
       "      <td>F</td>\n",
       "      <td>N</td>\n",
       "      <td>Y</td>\n",
       "      <td>0</td>\n",
       "      <td>135000.0</td>\n",
       "      <td>568800.0</td>\n",
       "      <td>20560.5</td>\n",
       "      <td>450000.0</td>\n",
       "      <td>Unaccompanied</td>\n",
       "      <td>Working</td>\n",
       "      <td>Higher education</td>\n",
       "      <td>Married</td>\n",
       "      <td>House / apartment</td>\n",
       "      <td>0.018850</td>\n",
       "      <td>-19241</td>\n",
       "      <td>-2329</td>\n",
       "      <td>-5170.0</td>\n",
       "      <td>-812</td>\n",
       "      <td>NaN</td>\n",
       "      <td>1</td>\n",
       "      <td>1</td>\n",
       "      <td>0</td>\n",
       "      <td>1</td>\n",
       "      <td>0</td>\n",
       "      <td>1</td>\n",
       "      <td>NaN</td>\n",
       "      <td>2.0</td>\n",
       "      <td>2</td>\n",
       "      <td>2</td>\n",
       "      <td>TUESDAY</td>\n",
       "      <td>18</td>\n",
       "      <td>0</td>\n",
       "      <td>0</td>\n",
       "      <td>0</td>\n",
       "      <td>0</td>\n",
       "      <td>0</td>\n",
       "      <td>0</td>\n",
       "      <td>Kindergarten</td>\n",
       "      <td>0.752614</td>\n",
       "      <td>0.789654</td>\n",
       "      <td>0.159520</td>\n",
       "      <td>0.0660</td>\n",
       "      <td>0.0590</td>\n",
       "      <td>0.9732</td>\n",
       "      <td>NaN</td>\n",
       "      <td>NaN</td>\n",
       "      <td>NaN</td>\n",
       "      <td>0.1379</td>\n",
       "      <td>0.125</td>\n",
       "      <td>NaN</td>\n",
       "      <td>NaN</td>\n",
       "      <td>NaN</td>\n",
       "      <td>0.0505</td>\n",
       "      <td>NaN</td>\n",
       "      <td>NaN</td>\n",
       "      <td>0.0672</td>\n",
       "      <td>0.0612</td>\n",
       "      <td>0.9732</td>\n",
       "      <td>NaN</td>\n",
       "      <td>NaN</td>\n",
       "      <td>NaN</td>\n",
       "      <td>0.1379</td>\n",
       "      <td>0.125</td>\n",
       "      <td>NaN</td>\n",
       "      <td>NaN</td>\n",
       "      <td>NaN</td>\n",
       "      <td>0.0526</td>\n",
       "      <td>NaN</td>\n",
       "      <td>NaN</td>\n",
       "      <td>0.0666</td>\n",
       "      <td>0.0590</td>\n",
       "      <td>0.9732</td>\n",
       "      <td>NaN</td>\n",
       "      <td>NaN</td>\n",
       "      <td>NaN</td>\n",
       "      <td>0.1379</td>\n",
       "      <td>0.125</td>\n",
       "      <td>NaN</td>\n",
       "      <td>NaN</td>\n",
       "      <td>NaN</td>\n",
       "      <td>0.0514</td>\n",
       "      <td>NaN</td>\n",
       "      <td>NaN</td>\n",
       "      <td>NaN</td>\n",
       "      <td>block of flats</td>\n",
       "      <td>0.0392</td>\n",
       "      <td>Stone, brick</td>\n",
       "      <td>No</td>\n",
       "      <td>0.0</td>\n",
       "      <td>0.0</td>\n",
       "      <td>0.0</td>\n",
       "      <td>0.0</td>\n",
       "      <td>-1740.0</td>\n",
       "      <td>0</td>\n",
       "      <td>1</td>\n",
       "      <td>0</td>\n",
       "      <td>0</td>\n",
       "      <td>0</td>\n",
       "      <td>0</td>\n",
       "      <td>0</td>\n",
       "      <td>0</td>\n",
       "      <td>0</td>\n",
       "      <td>0</td>\n",
       "      <td>0</td>\n",
       "      <td>0</td>\n",
       "      <td>0</td>\n",
       "      <td>0</td>\n",
       "      <td>0</td>\n",
       "      <td>0</td>\n",
       "      <td>0</td>\n",
       "      <td>0</td>\n",
       "      <td>0</td>\n",
       "      <td>0</td>\n",
       "      <td>0.0</td>\n",
       "      <td>0.0</td>\n",
       "      <td>0.0</td>\n",
       "      <td>0.0</td>\n",
       "      <td>0.0</td>\n",
       "      <td>0.0</td>\n",
       "    </tr>\n",
       "    <tr>\n",
       "      <th>1</th>\n",
       "      <td>100005</td>\n",
       "      <td>Cash loans</td>\n",
       "      <td>M</td>\n",
       "      <td>N</td>\n",
       "      <td>Y</td>\n",
       "      <td>0</td>\n",
       "      <td>99000.0</td>\n",
       "      <td>222768.0</td>\n",
       "      <td>17370.0</td>\n",
       "      <td>180000.0</td>\n",
       "      <td>Unaccompanied</td>\n",
       "      <td>Working</td>\n",
       "      <td>Secondary / secondary special</td>\n",
       "      <td>Married</td>\n",
       "      <td>House / apartment</td>\n",
       "      <td>0.035792</td>\n",
       "      <td>-18064</td>\n",
       "      <td>-4469</td>\n",
       "      <td>-9118.0</td>\n",
       "      <td>-1623</td>\n",
       "      <td>NaN</td>\n",
       "      <td>1</td>\n",
       "      <td>1</td>\n",
       "      <td>0</td>\n",
       "      <td>1</td>\n",
       "      <td>0</td>\n",
       "      <td>0</td>\n",
       "      <td>Low-skill Laborers</td>\n",
       "      <td>2.0</td>\n",
       "      <td>2</td>\n",
       "      <td>2</td>\n",
       "      <td>FRIDAY</td>\n",
       "      <td>9</td>\n",
       "      <td>0</td>\n",
       "      <td>0</td>\n",
       "      <td>0</td>\n",
       "      <td>0</td>\n",
       "      <td>0</td>\n",
       "      <td>0</td>\n",
       "      <td>Self-employed</td>\n",
       "      <td>0.564990</td>\n",
       "      <td>0.291656</td>\n",
       "      <td>0.432962</td>\n",
       "      <td>NaN</td>\n",
       "      <td>NaN</td>\n",
       "      <td>NaN</td>\n",
       "      <td>NaN</td>\n",
       "      <td>NaN</td>\n",
       "      <td>NaN</td>\n",
       "      <td>NaN</td>\n",
       "      <td>NaN</td>\n",
       "      <td>NaN</td>\n",
       "      <td>NaN</td>\n",
       "      <td>NaN</td>\n",
       "      <td>NaN</td>\n",
       "      <td>NaN</td>\n",
       "      <td>NaN</td>\n",
       "      <td>NaN</td>\n",
       "      <td>NaN</td>\n",
       "      <td>NaN</td>\n",
       "      <td>NaN</td>\n",
       "      <td>NaN</td>\n",
       "      <td>NaN</td>\n",
       "      <td>NaN</td>\n",
       "      <td>NaN</td>\n",
       "      <td>NaN</td>\n",
       "      <td>NaN</td>\n",
       "      <td>NaN</td>\n",
       "      <td>NaN</td>\n",
       "      <td>NaN</td>\n",
       "      <td>NaN</td>\n",
       "      <td>NaN</td>\n",
       "      <td>NaN</td>\n",
       "      <td>NaN</td>\n",
       "      <td>NaN</td>\n",
       "      <td>NaN</td>\n",
       "      <td>NaN</td>\n",
       "      <td>NaN</td>\n",
       "      <td>NaN</td>\n",
       "      <td>NaN</td>\n",
       "      <td>NaN</td>\n",
       "      <td>NaN</td>\n",
       "      <td>NaN</td>\n",
       "      <td>NaN</td>\n",
       "      <td>NaN</td>\n",
       "      <td>NaN</td>\n",
       "      <td>NaN</td>\n",
       "      <td>NaN</td>\n",
       "      <td>NaN</td>\n",
       "      <td>NaN</td>\n",
       "      <td>0.0</td>\n",
       "      <td>0.0</td>\n",
       "      <td>0.0</td>\n",
       "      <td>0.0</td>\n",
       "      <td>0.0</td>\n",
       "      <td>0</td>\n",
       "      <td>1</td>\n",
       "      <td>0</td>\n",
       "      <td>0</td>\n",
       "      <td>0</td>\n",
       "      <td>0</td>\n",
       "      <td>0</td>\n",
       "      <td>0</td>\n",
       "      <td>0</td>\n",
       "      <td>0</td>\n",
       "      <td>0</td>\n",
       "      <td>0</td>\n",
       "      <td>0</td>\n",
       "      <td>0</td>\n",
       "      <td>0</td>\n",
       "      <td>0</td>\n",
       "      <td>0</td>\n",
       "      <td>0</td>\n",
       "      <td>0</td>\n",
       "      <td>0</td>\n",
       "      <td>0.0</td>\n",
       "      <td>0.0</td>\n",
       "      <td>0.0</td>\n",
       "      <td>0.0</td>\n",
       "      <td>0.0</td>\n",
       "      <td>3.0</td>\n",
       "    </tr>\n",
       "    <tr>\n",
       "      <th>2</th>\n",
       "      <td>100013</td>\n",
       "      <td>Cash loans</td>\n",
       "      <td>M</td>\n",
       "      <td>Y</td>\n",
       "      <td>Y</td>\n",
       "      <td>0</td>\n",
       "      <td>202500.0</td>\n",
       "      <td>663264.0</td>\n",
       "      <td>69777.0</td>\n",
       "      <td>630000.0</td>\n",
       "      <td>NaN</td>\n",
       "      <td>Working</td>\n",
       "      <td>Higher education</td>\n",
       "      <td>Married</td>\n",
       "      <td>House / apartment</td>\n",
       "      <td>0.019101</td>\n",
       "      <td>-20038</td>\n",
       "      <td>-4458</td>\n",
       "      <td>-2175.0</td>\n",
       "      <td>-3503</td>\n",
       "      <td>5.0</td>\n",
       "      <td>1</td>\n",
       "      <td>1</td>\n",
       "      <td>0</td>\n",
       "      <td>1</td>\n",
       "      <td>0</td>\n",
       "      <td>0</td>\n",
       "      <td>Drivers</td>\n",
       "      <td>2.0</td>\n",
       "      <td>2</td>\n",
       "      <td>2</td>\n",
       "      <td>MONDAY</td>\n",
       "      <td>14</td>\n",
       "      <td>0</td>\n",
       "      <td>0</td>\n",
       "      <td>0</td>\n",
       "      <td>0</td>\n",
       "      <td>0</td>\n",
       "      <td>0</td>\n",
       "      <td>Transport: type 3</td>\n",
       "      <td>NaN</td>\n",
       "      <td>0.699787</td>\n",
       "      <td>0.610991</td>\n",
       "      <td>NaN</td>\n",
       "      <td>NaN</td>\n",
       "      <td>NaN</td>\n",
       "      <td>NaN</td>\n",
       "      <td>NaN</td>\n",
       "      <td>NaN</td>\n",
       "      <td>NaN</td>\n",
       "      <td>NaN</td>\n",
       "      <td>NaN</td>\n",
       "      <td>NaN</td>\n",
       "      <td>NaN</td>\n",
       "      <td>NaN</td>\n",
       "      <td>NaN</td>\n",
       "      <td>NaN</td>\n",
       "      <td>NaN</td>\n",
       "      <td>NaN</td>\n",
       "      <td>NaN</td>\n",
       "      <td>NaN</td>\n",
       "      <td>NaN</td>\n",
       "      <td>NaN</td>\n",
       "      <td>NaN</td>\n",
       "      <td>NaN</td>\n",
       "      <td>NaN</td>\n",
       "      <td>NaN</td>\n",
       "      <td>NaN</td>\n",
       "      <td>NaN</td>\n",
       "      <td>NaN</td>\n",
       "      <td>NaN</td>\n",
       "      <td>NaN</td>\n",
       "      <td>NaN</td>\n",
       "      <td>NaN</td>\n",
       "      <td>NaN</td>\n",
       "      <td>NaN</td>\n",
       "      <td>NaN</td>\n",
       "      <td>NaN</td>\n",
       "      <td>NaN</td>\n",
       "      <td>NaN</td>\n",
       "      <td>NaN</td>\n",
       "      <td>NaN</td>\n",
       "      <td>NaN</td>\n",
       "      <td>NaN</td>\n",
       "      <td>NaN</td>\n",
       "      <td>NaN</td>\n",
       "      <td>NaN</td>\n",
       "      <td>NaN</td>\n",
       "      <td>NaN</td>\n",
       "      <td>NaN</td>\n",
       "      <td>0.0</td>\n",
       "      <td>0.0</td>\n",
       "      <td>0.0</td>\n",
       "      <td>0.0</td>\n",
       "      <td>-856.0</td>\n",
       "      <td>0</td>\n",
       "      <td>0</td>\n",
       "      <td>0</td>\n",
       "      <td>0</td>\n",
       "      <td>0</td>\n",
       "      <td>0</td>\n",
       "      <td>1</td>\n",
       "      <td>0</td>\n",
       "      <td>0</td>\n",
       "      <td>0</td>\n",
       "      <td>0</td>\n",
       "      <td>0</td>\n",
       "      <td>0</td>\n",
       "      <td>0</td>\n",
       "      <td>0</td>\n",
       "      <td>0</td>\n",
       "      <td>0</td>\n",
       "      <td>0</td>\n",
       "      <td>0</td>\n",
       "      <td>0</td>\n",
       "      <td>0.0</td>\n",
       "      <td>0.0</td>\n",
       "      <td>0.0</td>\n",
       "      <td>0.0</td>\n",
       "      <td>1.0</td>\n",
       "      <td>4.0</td>\n",
       "    </tr>\n",
       "    <tr>\n",
       "      <th>3</th>\n",
       "      <td>100028</td>\n",
       "      <td>Cash loans</td>\n",
       "      <td>F</td>\n",
       "      <td>N</td>\n",
       "      <td>Y</td>\n",
       "      <td>2</td>\n",
       "      <td>315000.0</td>\n",
       "      <td>1575000.0</td>\n",
       "      <td>49018.5</td>\n",
       "      <td>1575000.0</td>\n",
       "      <td>Unaccompanied</td>\n",
       "      <td>Working</td>\n",
       "      <td>Secondary / secondary special</td>\n",
       "      <td>Married</td>\n",
       "      <td>House / apartment</td>\n",
       "      <td>0.026392</td>\n",
       "      <td>-13976</td>\n",
       "      <td>-1866</td>\n",
       "      <td>-2000.0</td>\n",
       "      <td>-4208</td>\n",
       "      <td>NaN</td>\n",
       "      <td>1</td>\n",
       "      <td>1</td>\n",
       "      <td>0</td>\n",
       "      <td>1</td>\n",
       "      <td>1</td>\n",
       "      <td>0</td>\n",
       "      <td>Sales staff</td>\n",
       "      <td>4.0</td>\n",
       "      <td>2</td>\n",
       "      <td>2</td>\n",
       "      <td>WEDNESDAY</td>\n",
       "      <td>11</td>\n",
       "      <td>0</td>\n",
       "      <td>0</td>\n",
       "      <td>0</td>\n",
       "      <td>0</td>\n",
       "      <td>0</td>\n",
       "      <td>0</td>\n",
       "      <td>Business Entity Type 3</td>\n",
       "      <td>0.525734</td>\n",
       "      <td>0.509677</td>\n",
       "      <td>0.612704</td>\n",
       "      <td>0.3052</td>\n",
       "      <td>0.1974</td>\n",
       "      <td>0.9970</td>\n",
       "      <td>0.9592</td>\n",
       "      <td>0.1165</td>\n",
       "      <td>0.32</td>\n",
       "      <td>0.2759</td>\n",
       "      <td>0.375</td>\n",
       "      <td>0.0417</td>\n",
       "      <td>0.2042</td>\n",
       "      <td>0.2404</td>\n",
       "      <td>0.3673</td>\n",
       "      <td>0.0386</td>\n",
       "      <td>0.08</td>\n",
       "      <td>0.3109</td>\n",
       "      <td>0.2049</td>\n",
       "      <td>0.9970</td>\n",
       "      <td>0.9608</td>\n",
       "      <td>0.1176</td>\n",
       "      <td>0.3222</td>\n",
       "      <td>0.2759</td>\n",
       "      <td>0.375</td>\n",
       "      <td>0.0417</td>\n",
       "      <td>0.2089</td>\n",
       "      <td>0.2626</td>\n",
       "      <td>0.3827</td>\n",
       "      <td>0.0389</td>\n",
       "      <td>0.0847</td>\n",
       "      <td>0.3081</td>\n",
       "      <td>0.1974</td>\n",
       "      <td>0.9970</td>\n",
       "      <td>0.9597</td>\n",
       "      <td>0.1173</td>\n",
       "      <td>0.32</td>\n",
       "      <td>0.2759</td>\n",
       "      <td>0.375</td>\n",
       "      <td>0.0417</td>\n",
       "      <td>0.2078</td>\n",
       "      <td>0.2446</td>\n",
       "      <td>0.3739</td>\n",
       "      <td>0.0388</td>\n",
       "      <td>0.0817</td>\n",
       "      <td>reg oper account</td>\n",
       "      <td>block of flats</td>\n",
       "      <td>0.3700</td>\n",
       "      <td>Panel</td>\n",
       "      <td>No</td>\n",
       "      <td>0.0</td>\n",
       "      <td>0.0</td>\n",
       "      <td>0.0</td>\n",
       "      <td>0.0</td>\n",
       "      <td>-1805.0</td>\n",
       "      <td>0</td>\n",
       "      <td>1</td>\n",
       "      <td>0</td>\n",
       "      <td>0</td>\n",
       "      <td>0</td>\n",
       "      <td>0</td>\n",
       "      <td>0</td>\n",
       "      <td>0</td>\n",
       "      <td>0</td>\n",
       "      <td>0</td>\n",
       "      <td>0</td>\n",
       "      <td>0</td>\n",
       "      <td>0</td>\n",
       "      <td>0</td>\n",
       "      <td>0</td>\n",
       "      <td>0</td>\n",
       "      <td>0</td>\n",
       "      <td>0</td>\n",
       "      <td>0</td>\n",
       "      <td>0</td>\n",
       "      <td>0.0</td>\n",
       "      <td>0.0</td>\n",
       "      <td>0.0</td>\n",
       "      <td>0.0</td>\n",
       "      <td>0.0</td>\n",
       "      <td>3.0</td>\n",
       "    </tr>\n",
       "  </tbody>\n",
       "</table>\n",
       "</div>"
      ],
      "text/plain": [
       "   SK_ID_CURR NAME_CONTRACT_TYPE CODE_GENDER FLAG_OWN_CAR FLAG_OWN_REALTY  \\\n",
       "0      100001         Cash loans           F            N               Y   \n",
       "1      100005         Cash loans           M            N               Y   \n",
       "2      100013         Cash loans           M            Y               Y   \n",
       "3      100028         Cash loans           F            N               Y   \n",
       "\n",
       "   CNT_CHILDREN  AMT_INCOME_TOTAL  AMT_CREDIT  AMT_ANNUITY  AMT_GOODS_PRICE  \\\n",
       "0             0          135000.0    568800.0      20560.5         450000.0   \n",
       "1             0           99000.0    222768.0      17370.0         180000.0   \n",
       "2             0          202500.0    663264.0      69777.0         630000.0   \n",
       "3             2          315000.0   1575000.0      49018.5        1575000.0   \n",
       "\n",
       "  NAME_TYPE_SUITE NAME_INCOME_TYPE            NAME_EDUCATION_TYPE  \\\n",
       "0   Unaccompanied          Working               Higher education   \n",
       "1   Unaccompanied          Working  Secondary / secondary special   \n",
       "2             NaN          Working               Higher education   \n",
       "3   Unaccompanied          Working  Secondary / secondary special   \n",
       "\n",
       "  NAME_FAMILY_STATUS  NAME_HOUSING_TYPE  REGION_POPULATION_RELATIVE  \\\n",
       "0            Married  House / apartment                    0.018850   \n",
       "1            Married  House / apartment                    0.035792   \n",
       "2            Married  House / apartment                    0.019101   \n",
       "3            Married  House / apartment                    0.026392   \n",
       "\n",
       "   DAYS_BIRTH  DAYS_EMPLOYED  DAYS_REGISTRATION  DAYS_ID_PUBLISH  OWN_CAR_AGE  \\\n",
       "0      -19241          -2329            -5170.0             -812          NaN   \n",
       "1      -18064          -4469            -9118.0            -1623          NaN   \n",
       "2      -20038          -4458            -2175.0            -3503          5.0   \n",
       "3      -13976          -1866            -2000.0            -4208          NaN   \n",
       "\n",
       "   FLAG_MOBIL  FLAG_EMP_PHONE  FLAG_WORK_PHONE  FLAG_CONT_MOBILE  FLAG_PHONE  \\\n",
       "0           1               1                0                 1           0   \n",
       "1           1               1                0                 1           0   \n",
       "2           1               1                0                 1           0   \n",
       "3           1               1                0                 1           1   \n",
       "\n",
       "   FLAG_EMAIL     OCCUPATION_TYPE  CNT_FAM_MEMBERS  REGION_RATING_CLIENT  \\\n",
       "0           1                 NaN              2.0                     2   \n",
       "1           0  Low-skill Laborers              2.0                     2   \n",
       "2           0             Drivers              2.0                     2   \n",
       "3           0         Sales staff              4.0                     2   \n",
       "\n",
       "   REGION_RATING_CLIENT_W_CITY WEEKDAY_APPR_PROCESS_START  \\\n",
       "0                            2                    TUESDAY   \n",
       "1                            2                     FRIDAY   \n",
       "2                            2                     MONDAY   \n",
       "3                            2                  WEDNESDAY   \n",
       "\n",
       "   HOUR_APPR_PROCESS_START  REG_REGION_NOT_LIVE_REGION  \\\n",
       "0                       18                           0   \n",
       "1                        9                           0   \n",
       "2                       14                           0   \n",
       "3                       11                           0   \n",
       "\n",
       "   REG_REGION_NOT_WORK_REGION  LIVE_REGION_NOT_WORK_REGION  \\\n",
       "0                           0                            0   \n",
       "1                           0                            0   \n",
       "2                           0                            0   \n",
       "3                           0                            0   \n",
       "\n",
       "   REG_CITY_NOT_LIVE_CITY  REG_CITY_NOT_WORK_CITY  LIVE_CITY_NOT_WORK_CITY  \\\n",
       "0                       0                       0                        0   \n",
       "1                       0                       0                        0   \n",
       "2                       0                       0                        0   \n",
       "3                       0                       0                        0   \n",
       "\n",
       "        ORGANIZATION_TYPE  EXT_SOURCE_1  EXT_SOURCE_2  EXT_SOURCE_3  \\\n",
       "0            Kindergarten      0.752614      0.789654      0.159520   \n",
       "1           Self-employed      0.564990      0.291656      0.432962   \n",
       "2       Transport: type 3           NaN      0.699787      0.610991   \n",
       "3  Business Entity Type 3      0.525734      0.509677      0.612704   \n",
       "\n",
       "   APARTMENTS_AVG  BASEMENTAREA_AVG  YEARS_BEGINEXPLUATATION_AVG  \\\n",
       "0          0.0660            0.0590                       0.9732   \n",
       "1             NaN               NaN                          NaN   \n",
       "2             NaN               NaN                          NaN   \n",
       "3          0.3052            0.1974                       0.9970   \n",
       "\n",
       "   YEARS_BUILD_AVG  COMMONAREA_AVG  ELEVATORS_AVG  ENTRANCES_AVG  \\\n",
       "0              NaN             NaN            NaN         0.1379   \n",
       "1              NaN             NaN            NaN            NaN   \n",
       "2              NaN             NaN            NaN            NaN   \n",
       "3           0.9592          0.1165           0.32         0.2759   \n",
       "\n",
       "   FLOORSMAX_AVG  FLOORSMIN_AVG  LANDAREA_AVG  LIVINGAPARTMENTS_AVG  \\\n",
       "0          0.125            NaN           NaN                   NaN   \n",
       "1            NaN            NaN           NaN                   NaN   \n",
       "2            NaN            NaN           NaN                   NaN   \n",
       "3          0.375         0.0417        0.2042                0.2404   \n",
       "\n",
       "   LIVINGAREA_AVG  NONLIVINGAPARTMENTS_AVG  NONLIVINGAREA_AVG  \\\n",
       "0          0.0505                      NaN                NaN   \n",
       "1             NaN                      NaN                NaN   \n",
       "2             NaN                      NaN                NaN   \n",
       "3          0.3673                   0.0386               0.08   \n",
       "\n",
       "   APARTMENTS_MODE  BASEMENTAREA_MODE  YEARS_BEGINEXPLUATATION_MODE  \\\n",
       "0           0.0672             0.0612                        0.9732   \n",
       "1              NaN                NaN                           NaN   \n",
       "2              NaN                NaN                           NaN   \n",
       "3           0.3109             0.2049                        0.9970   \n",
       "\n",
       "   YEARS_BUILD_MODE  COMMONAREA_MODE  ELEVATORS_MODE  ENTRANCES_MODE  \\\n",
       "0               NaN              NaN             NaN          0.1379   \n",
       "1               NaN              NaN             NaN             NaN   \n",
       "2               NaN              NaN             NaN             NaN   \n",
       "3            0.9608           0.1176          0.3222          0.2759   \n",
       "\n",
       "   FLOORSMAX_MODE  FLOORSMIN_MODE  LANDAREA_MODE  LIVINGAPARTMENTS_MODE  \\\n",
       "0           0.125             NaN            NaN                    NaN   \n",
       "1             NaN             NaN            NaN                    NaN   \n",
       "2             NaN             NaN            NaN                    NaN   \n",
       "3           0.375          0.0417         0.2089                 0.2626   \n",
       "\n",
       "   LIVINGAREA_MODE  NONLIVINGAPARTMENTS_MODE  NONLIVINGAREA_MODE  \\\n",
       "0           0.0526                       NaN                 NaN   \n",
       "1              NaN                       NaN                 NaN   \n",
       "2              NaN                       NaN                 NaN   \n",
       "3           0.3827                    0.0389              0.0847   \n",
       "\n",
       "   APARTMENTS_MEDI  BASEMENTAREA_MEDI  YEARS_BEGINEXPLUATATION_MEDI  \\\n",
       "0           0.0666             0.0590                        0.9732   \n",
       "1              NaN                NaN                           NaN   \n",
       "2              NaN                NaN                           NaN   \n",
       "3           0.3081             0.1974                        0.9970   \n",
       "\n",
       "   YEARS_BUILD_MEDI  COMMONAREA_MEDI  ELEVATORS_MEDI  ENTRANCES_MEDI  \\\n",
       "0               NaN              NaN             NaN          0.1379   \n",
       "1               NaN              NaN             NaN             NaN   \n",
       "2               NaN              NaN             NaN             NaN   \n",
       "3            0.9597           0.1173            0.32          0.2759   \n",
       "\n",
       "   FLOORSMAX_MEDI  FLOORSMIN_MEDI  LANDAREA_MEDI  LIVINGAPARTMENTS_MEDI  \\\n",
       "0           0.125             NaN            NaN                    NaN   \n",
       "1             NaN             NaN            NaN                    NaN   \n",
       "2             NaN             NaN            NaN                    NaN   \n",
       "3           0.375          0.0417         0.2078                 0.2446   \n",
       "\n",
       "   LIVINGAREA_MEDI  NONLIVINGAPARTMENTS_MEDI  NONLIVINGAREA_MEDI  \\\n",
       "0           0.0514                       NaN                 NaN   \n",
       "1              NaN                       NaN                 NaN   \n",
       "2              NaN                       NaN                 NaN   \n",
       "3           0.3739                    0.0388              0.0817   \n",
       "\n",
       "  FONDKAPREMONT_MODE  HOUSETYPE_MODE  TOTALAREA_MODE WALLSMATERIAL_MODE  \\\n",
       "0                NaN  block of flats          0.0392       Stone, brick   \n",
       "1                NaN             NaN             NaN                NaN   \n",
       "2                NaN             NaN             NaN                NaN   \n",
       "3   reg oper account  block of flats          0.3700              Panel   \n",
       "\n",
       "  EMERGENCYSTATE_MODE  OBS_30_CNT_SOCIAL_CIRCLE  DEF_30_CNT_SOCIAL_CIRCLE  \\\n",
       "0                  No                       0.0                       0.0   \n",
       "1                 NaN                       0.0                       0.0   \n",
       "2                 NaN                       0.0                       0.0   \n",
       "3                  No                       0.0                       0.0   \n",
       "\n",
       "   OBS_60_CNT_SOCIAL_CIRCLE  DEF_60_CNT_SOCIAL_CIRCLE  DAYS_LAST_PHONE_CHANGE  \\\n",
       "0                       0.0                       0.0                 -1740.0   \n",
       "1                       0.0                       0.0                     0.0   \n",
       "2                       0.0                       0.0                  -856.0   \n",
       "3                       0.0                       0.0                 -1805.0   \n",
       "\n",
       "   FLAG_DOCUMENT_2  FLAG_DOCUMENT_3  FLAG_DOCUMENT_4  FLAG_DOCUMENT_5  \\\n",
       "0                0                1                0                0   \n",
       "1                0                1                0                0   \n",
       "2                0                0                0                0   \n",
       "3                0                1                0                0   \n",
       "\n",
       "   FLAG_DOCUMENT_6  FLAG_DOCUMENT_7  FLAG_DOCUMENT_8  FLAG_DOCUMENT_9  \\\n",
       "0                0                0                0                0   \n",
       "1                0                0                0                0   \n",
       "2                0                0                1                0   \n",
       "3                0                0                0                0   \n",
       "\n",
       "   FLAG_DOCUMENT_10  FLAG_DOCUMENT_11  FLAG_DOCUMENT_12  FLAG_DOCUMENT_13  \\\n",
       "0                 0                 0                 0                 0   \n",
       "1                 0                 0                 0                 0   \n",
       "2                 0                 0                 0                 0   \n",
       "3                 0                 0                 0                 0   \n",
       "\n",
       "   FLAG_DOCUMENT_14  FLAG_DOCUMENT_15  FLAG_DOCUMENT_16  FLAG_DOCUMENT_17  \\\n",
       "0                 0                 0                 0                 0   \n",
       "1                 0                 0                 0                 0   \n",
       "2                 0                 0                 0                 0   \n",
       "3                 0                 0                 0                 0   \n",
       "\n",
       "   FLAG_DOCUMENT_18  FLAG_DOCUMENT_19  FLAG_DOCUMENT_20  FLAG_DOCUMENT_21  \\\n",
       "0                 0                 0                 0                 0   \n",
       "1                 0                 0                 0                 0   \n",
       "2                 0                 0                 0                 0   \n",
       "3                 0                 0                 0                 0   \n",
       "\n",
       "   AMT_REQ_CREDIT_BUREAU_HOUR  AMT_REQ_CREDIT_BUREAU_DAY  \\\n",
       "0                         0.0                        0.0   \n",
       "1                         0.0                        0.0   \n",
       "2                         0.0                        0.0   \n",
       "3                         0.0                        0.0   \n",
       "\n",
       "   AMT_REQ_CREDIT_BUREAU_WEEK  AMT_REQ_CREDIT_BUREAU_MON  \\\n",
       "0                         0.0                        0.0   \n",
       "1                         0.0                        0.0   \n",
       "2                         0.0                        0.0   \n",
       "3                         0.0                        0.0   \n",
       "\n",
       "   AMT_REQ_CREDIT_BUREAU_QRT  AMT_REQ_CREDIT_BUREAU_YEAR  \n",
       "0                        0.0                         0.0  \n",
       "1                        0.0                         3.0  \n",
       "2                        1.0                         4.0  \n",
       "3                        0.0                         3.0  "
      ]
     },
     "execution_count": 5,
     "metadata": {},
     "output_type": "execute_result"
    }
   ],
   "source": [
    "app_test.head(4)"
   ]
  },
  {
   "cell_type": "code",
   "execution_count": 6,
   "id": "eea655ae",
   "metadata": {},
   "outputs": [
    {
     "data": {
      "text/html": [
       "<div>\n",
       "<style scoped>\n",
       "    .dataframe tbody tr th:only-of-type {\n",
       "        vertical-align: middle;\n",
       "    }\n",
       "\n",
       "    .dataframe tbody tr th {\n",
       "        vertical-align: top;\n",
       "    }\n",
       "\n",
       "    .dataframe thead th {\n",
       "        text-align: right;\n",
       "    }\n",
       "</style>\n",
       "<table border=\"1\" class=\"dataframe\">\n",
       "  <thead>\n",
       "    <tr style=\"text-align: right;\">\n",
       "      <th></th>\n",
       "      <th>SK_ID_CURR</th>\n",
       "      <th>TARGET</th>\n",
       "      <th>CODE_GENDER</th>\n",
       "      <th>FLAG_OWN_CAR</th>\n",
       "      <th>FLAG_OWN_REALTY</th>\n",
       "      <th>CNT_CHILDREN</th>\n",
       "      <th>REG_CITY_NOT_LIVE_CITY</th>\n",
       "      <th>REG_REGION_NOT_LIVE_REGION</th>\n",
       "      <th>REG_REGION_NOT_WORK_REGION</th>\n",
       "      <th>LIVE_REGION_NOT_WORK_REGION</th>\n",
       "      <th>REG_CITY_NOT_WORK_CITY</th>\n",
       "      <th>LIVE_CITY_NOT_WORK_CITY</th>\n",
       "      <th>EXT_SOURCE_1</th>\n",
       "      <th>EXT_SOURCE_3</th>\n",
       "      <th>AMT_REQ_CREDIT_BUREAU_YEAR</th>\n",
       "      <th>DAYS_LAST_PHONE_CHANGE</th>\n",
       "      <th>EXT_SOURCE_2</th>\n",
       "      <th>AMT_GOODS_PRICE</th>\n",
       "      <th>DAYS_REGISTRATION</th>\n",
       "      <th>DAYS_ID_PUBLISH</th>\n",
       "      <th>NAME_CONTRACT_TYPE_Cash loans</th>\n",
       "      <th>NAME_CONTRACT_TYPE_Revolving loans</th>\n",
       "      <th>NAME_INCOME_TYPE_Businessman</th>\n",
       "      <th>NAME_INCOME_TYPE_Commercial associate</th>\n",
       "      <th>NAME_INCOME_TYPE_Maternity leave</th>\n",
       "      <th>NAME_INCOME_TYPE_Pensioner</th>\n",
       "      <th>NAME_INCOME_TYPE_State servant</th>\n",
       "      <th>NAME_INCOME_TYPE_Student</th>\n",
       "      <th>NAME_INCOME_TYPE_Unemployed</th>\n",
       "      <th>NAME_INCOME_TYPE_Working</th>\n",
       "      <th>NAME_FAMILY_STATUS_Civil marriage</th>\n",
       "      <th>NAME_FAMILY_STATUS_Married</th>\n",
       "      <th>NAME_FAMILY_STATUS_Separated</th>\n",
       "      <th>NAME_FAMILY_STATUS_Single / not married</th>\n",
       "      <th>NAME_FAMILY_STATUS_Unknown</th>\n",
       "      <th>NAME_FAMILY_STATUS_Widow</th>\n",
       "      <th>NAME_EDUCATION_TYPE_Academic degree</th>\n",
       "      <th>NAME_EDUCATION_TYPE_Higher education</th>\n",
       "      <th>NAME_EDUCATION_TYPE_Incomplete higher</th>\n",
       "      <th>NAME_EDUCATION_TYPE_Lower secondary</th>\n",
       "      <th>NAME_EDUCATION_TYPE_Secondary / secondary special</th>\n",
       "      <th>NAME_HOUSING_TYPE_Co-op apartment</th>\n",
       "      <th>NAME_HOUSING_TYPE_House / apartment</th>\n",
       "      <th>NAME_HOUSING_TYPE_Municipal apartment</th>\n",
       "      <th>NAME_HOUSING_TYPE_Office apartment</th>\n",
       "      <th>NAME_HOUSING_TYPE_Rented apartment</th>\n",
       "      <th>NAME_HOUSING_TYPE_With parents</th>\n",
       "      <th>DAYS_EMPLOYED_PERC</th>\n",
       "      <th>INCOME_CREDIT_PERC</th>\n",
       "      <th>INCOME_PER_PERSON</th>\n",
       "      <th>ANNUITY_INCOME_PERC</th>\n",
       "      <th>PAYMENT_RATE</th>\n",
       "    </tr>\n",
       "  </thead>\n",
       "  <tbody>\n",
       "    <tr>\n",
       "      <th>0</th>\n",
       "      <td>100002</td>\n",
       "      <td>1.0</td>\n",
       "      <td>0</td>\n",
       "      <td>0</td>\n",
       "      <td>0</td>\n",
       "      <td>0</td>\n",
       "      <td>0</td>\n",
       "      <td>0</td>\n",
       "      <td>0</td>\n",
       "      <td>0</td>\n",
       "      <td>0</td>\n",
       "      <td>0</td>\n",
       "      <td>0.0</td>\n",
       "      <td>0.0</td>\n",
       "      <td>1.0</td>\n",
       "      <td>3.0</td>\n",
       "      <td>0.0</td>\n",
       "      <td>351000.0</td>\n",
       "      <td>10.0</td>\n",
       "      <td>6.0</td>\n",
       "      <td>1</td>\n",
       "      <td>0</td>\n",
       "      <td>0</td>\n",
       "      <td>0</td>\n",
       "      <td>0</td>\n",
       "      <td>0</td>\n",
       "      <td>0</td>\n",
       "      <td>0</td>\n",
       "      <td>0</td>\n",
       "      <td>1</td>\n",
       "      <td>0</td>\n",
       "      <td>0</td>\n",
       "      <td>0</td>\n",
       "      <td>1</td>\n",
       "      <td>0</td>\n",
       "      <td>0</td>\n",
       "      <td>0</td>\n",
       "      <td>0</td>\n",
       "      <td>0</td>\n",
       "      <td>0</td>\n",
       "      <td>1</td>\n",
       "      <td>0</td>\n",
       "      <td>1</td>\n",
       "      <td>0</td>\n",
       "      <td>0</td>\n",
       "      <td>0</td>\n",
       "      <td>0</td>\n",
       "      <td>0.077212</td>\n",
       "      <td>0.498036</td>\n",
       "      <td>202500.0</td>\n",
       "      <td>0.121975</td>\n",
       "      <td>0.060748</td>\n",
       "    </tr>\n",
       "    <tr>\n",
       "      <th>1</th>\n",
       "      <td>100003</td>\n",
       "      <td>0.0</td>\n",
       "      <td>1</td>\n",
       "      <td>0</td>\n",
       "      <td>1</td>\n",
       "      <td>0</td>\n",
       "      <td>0</td>\n",
       "      <td>0</td>\n",
       "      <td>0</td>\n",
       "      <td>0</td>\n",
       "      <td>0</td>\n",
       "      <td>0</td>\n",
       "      <td>0.0</td>\n",
       "      <td>0.0</td>\n",
       "      <td>0.0</td>\n",
       "      <td>2.0</td>\n",
       "      <td>1.0</td>\n",
       "      <td>1129500.0</td>\n",
       "      <td>3.0</td>\n",
       "      <td>1.0</td>\n",
       "      <td>1</td>\n",
       "      <td>0</td>\n",
       "      <td>0</td>\n",
       "      <td>0</td>\n",
       "      <td>0</td>\n",
       "      <td>0</td>\n",
       "      <td>1</td>\n",
       "      <td>0</td>\n",
       "      <td>0</td>\n",
       "      <td>0</td>\n",
       "      <td>0</td>\n",
       "      <td>1</td>\n",
       "      <td>0</td>\n",
       "      <td>0</td>\n",
       "      <td>0</td>\n",
       "      <td>0</td>\n",
       "      <td>0</td>\n",
       "      <td>1</td>\n",
       "      <td>0</td>\n",
       "      <td>0</td>\n",
       "      <td>0</td>\n",
       "      <td>0</td>\n",
       "      <td>1</td>\n",
       "      <td>0</td>\n",
       "      <td>0</td>\n",
       "      <td>0</td>\n",
       "      <td>0</td>\n",
       "      <td>0.065359</td>\n",
       "      <td>0.208736</td>\n",
       "      <td>135000.0</td>\n",
       "      <td>0.132215</td>\n",
       "      <td>0.027598</td>\n",
       "    </tr>\n",
       "  </tbody>\n",
       "</table>\n",
       "</div>"
      ],
      "text/plain": [
       "   SK_ID_CURR  TARGET  CODE_GENDER  FLAG_OWN_CAR  FLAG_OWN_REALTY  \\\n",
       "0      100002     1.0            0             0                0   \n",
       "1      100003     0.0            1             0                1   \n",
       "\n",
       "   CNT_CHILDREN  REG_CITY_NOT_LIVE_CITY  REG_REGION_NOT_LIVE_REGION  \\\n",
       "0             0                       0                           0   \n",
       "1             0                       0                           0   \n",
       "\n",
       "   REG_REGION_NOT_WORK_REGION  LIVE_REGION_NOT_WORK_REGION  \\\n",
       "0                           0                            0   \n",
       "1                           0                            0   \n",
       "\n",
       "   REG_CITY_NOT_WORK_CITY  LIVE_CITY_NOT_WORK_CITY  EXT_SOURCE_1  \\\n",
       "0                       0                        0           0.0   \n",
       "1                       0                        0           0.0   \n",
       "\n",
       "   EXT_SOURCE_3  AMT_REQ_CREDIT_BUREAU_YEAR  DAYS_LAST_PHONE_CHANGE  \\\n",
       "0           0.0                         1.0                     3.0   \n",
       "1           0.0                         0.0                     2.0   \n",
       "\n",
       "   EXT_SOURCE_2  AMT_GOODS_PRICE  DAYS_REGISTRATION  DAYS_ID_PUBLISH  \\\n",
       "0           0.0         351000.0               10.0              6.0   \n",
       "1           1.0        1129500.0                3.0              1.0   \n",
       "\n",
       "   NAME_CONTRACT_TYPE_Cash loans  NAME_CONTRACT_TYPE_Revolving loans  \\\n",
       "0                              1                                   0   \n",
       "1                              1                                   0   \n",
       "\n",
       "   NAME_INCOME_TYPE_Businessman  NAME_INCOME_TYPE_Commercial associate  \\\n",
       "0                             0                                      0   \n",
       "1                             0                                      0   \n",
       "\n",
       "   NAME_INCOME_TYPE_Maternity leave  NAME_INCOME_TYPE_Pensioner  \\\n",
       "0                                 0                           0   \n",
       "1                                 0                           0   \n",
       "\n",
       "   NAME_INCOME_TYPE_State servant  NAME_INCOME_TYPE_Student  \\\n",
       "0                               0                         0   \n",
       "1                               1                         0   \n",
       "\n",
       "   NAME_INCOME_TYPE_Unemployed  NAME_INCOME_TYPE_Working  \\\n",
       "0                            0                         1   \n",
       "1                            0                         0   \n",
       "\n",
       "   NAME_FAMILY_STATUS_Civil marriage  NAME_FAMILY_STATUS_Married  \\\n",
       "0                                  0                           0   \n",
       "1                                  0                           1   \n",
       "\n",
       "   NAME_FAMILY_STATUS_Separated  NAME_FAMILY_STATUS_Single / not married  \\\n",
       "0                             0                                        1   \n",
       "1                             0                                        0   \n",
       "\n",
       "   NAME_FAMILY_STATUS_Unknown  NAME_FAMILY_STATUS_Widow  \\\n",
       "0                           0                         0   \n",
       "1                           0                         0   \n",
       "\n",
       "   NAME_EDUCATION_TYPE_Academic degree  NAME_EDUCATION_TYPE_Higher education  \\\n",
       "0                                    0                                     0   \n",
       "1                                    0                                     1   \n",
       "\n",
       "   NAME_EDUCATION_TYPE_Incomplete higher  NAME_EDUCATION_TYPE_Lower secondary  \\\n",
       "0                                      0                                    0   \n",
       "1                                      0                                    0   \n",
       "\n",
       "   NAME_EDUCATION_TYPE_Secondary / secondary special  \\\n",
       "0                                                  1   \n",
       "1                                                  0   \n",
       "\n",
       "   NAME_HOUSING_TYPE_Co-op apartment  NAME_HOUSING_TYPE_House / apartment  \\\n",
       "0                                  0                                    1   \n",
       "1                                  0                                    1   \n",
       "\n",
       "   NAME_HOUSING_TYPE_Municipal apartment  NAME_HOUSING_TYPE_Office apartment  \\\n",
       "0                                      0                                   0   \n",
       "1                                      0                                   0   \n",
       "\n",
       "   NAME_HOUSING_TYPE_Rented apartment  NAME_HOUSING_TYPE_With parents  \\\n",
       "0                                   0                               0   \n",
       "1                                   0                               0   \n",
       "\n",
       "   DAYS_EMPLOYED_PERC  INCOME_CREDIT_PERC  INCOME_PER_PERSON  \\\n",
       "0            0.077212            0.498036           202500.0   \n",
       "1            0.065359            0.208736           135000.0   \n",
       "\n",
       "   ANNUITY_INCOME_PERC  PAYMENT_RATE  \n",
       "0             0.121975      0.060748  \n",
       "1             0.132215      0.027598  "
      ]
     },
     "execution_count": 6,
     "metadata": {},
     "output_type": "execute_result"
    }
   ],
   "source": [
    "df_test_encoded_features_engi.head(2)"
   ]
  },
  {
   "cell_type": "code",
   "execution_count": 7,
   "id": "fdb0d539",
   "metadata": {},
   "outputs": [],
   "source": [
    "df_test_encoded_features_engi = df_test_encoded_features_engi[df_test_encoded_features_engi[\"TARGET\"].isna()]"
   ]
  },
  {
   "cell_type": "code",
   "execution_count": 8,
   "id": "00b58f48",
   "metadata": {},
   "outputs": [
    {
     "data": {
      "text/html": [
       "<div>\n",
       "<style scoped>\n",
       "    .dataframe tbody tr th:only-of-type {\n",
       "        vertical-align: middle;\n",
       "    }\n",
       "\n",
       "    .dataframe tbody tr th {\n",
       "        vertical-align: top;\n",
       "    }\n",
       "\n",
       "    .dataframe thead th {\n",
       "        text-align: right;\n",
       "    }\n",
       "</style>\n",
       "<table border=\"1\" class=\"dataframe\">\n",
       "  <thead>\n",
       "    <tr style=\"text-align: right;\">\n",
       "      <th></th>\n",
       "      <th>SK_ID_CURR</th>\n",
       "      <th>TARGET</th>\n",
       "      <th>CODE_GENDER</th>\n",
       "      <th>FLAG_OWN_CAR</th>\n",
       "      <th>FLAG_OWN_REALTY</th>\n",
       "      <th>CNT_CHILDREN</th>\n",
       "      <th>REG_CITY_NOT_LIVE_CITY</th>\n",
       "      <th>REG_REGION_NOT_LIVE_REGION</th>\n",
       "      <th>REG_REGION_NOT_WORK_REGION</th>\n",
       "      <th>LIVE_REGION_NOT_WORK_REGION</th>\n",
       "      <th>REG_CITY_NOT_WORK_CITY</th>\n",
       "      <th>LIVE_CITY_NOT_WORK_CITY</th>\n",
       "      <th>EXT_SOURCE_1</th>\n",
       "      <th>EXT_SOURCE_3</th>\n",
       "      <th>AMT_REQ_CREDIT_BUREAU_YEAR</th>\n",
       "      <th>DAYS_LAST_PHONE_CHANGE</th>\n",
       "      <th>EXT_SOURCE_2</th>\n",
       "      <th>AMT_GOODS_PRICE</th>\n",
       "      <th>DAYS_REGISTRATION</th>\n",
       "      <th>DAYS_ID_PUBLISH</th>\n",
       "      <th>NAME_CONTRACT_TYPE_Cash loans</th>\n",
       "      <th>NAME_CONTRACT_TYPE_Revolving loans</th>\n",
       "      <th>NAME_INCOME_TYPE_Businessman</th>\n",
       "      <th>NAME_INCOME_TYPE_Commercial associate</th>\n",
       "      <th>NAME_INCOME_TYPE_Maternity leave</th>\n",
       "      <th>NAME_INCOME_TYPE_Pensioner</th>\n",
       "      <th>NAME_INCOME_TYPE_State servant</th>\n",
       "      <th>NAME_INCOME_TYPE_Student</th>\n",
       "      <th>NAME_INCOME_TYPE_Unemployed</th>\n",
       "      <th>NAME_INCOME_TYPE_Working</th>\n",
       "      <th>NAME_FAMILY_STATUS_Civil marriage</th>\n",
       "      <th>NAME_FAMILY_STATUS_Married</th>\n",
       "      <th>NAME_FAMILY_STATUS_Separated</th>\n",
       "      <th>NAME_FAMILY_STATUS_Single / not married</th>\n",
       "      <th>NAME_FAMILY_STATUS_Unknown</th>\n",
       "      <th>NAME_FAMILY_STATUS_Widow</th>\n",
       "      <th>NAME_EDUCATION_TYPE_Academic degree</th>\n",
       "      <th>NAME_EDUCATION_TYPE_Higher education</th>\n",
       "      <th>NAME_EDUCATION_TYPE_Incomplete higher</th>\n",
       "      <th>NAME_EDUCATION_TYPE_Lower secondary</th>\n",
       "      <th>NAME_EDUCATION_TYPE_Secondary / secondary special</th>\n",
       "      <th>NAME_HOUSING_TYPE_Co-op apartment</th>\n",
       "      <th>NAME_HOUSING_TYPE_House / apartment</th>\n",
       "      <th>NAME_HOUSING_TYPE_Municipal apartment</th>\n",
       "      <th>NAME_HOUSING_TYPE_Office apartment</th>\n",
       "      <th>NAME_HOUSING_TYPE_Rented apartment</th>\n",
       "      <th>NAME_HOUSING_TYPE_With parents</th>\n",
       "      <th>DAYS_EMPLOYED_PERC</th>\n",
       "      <th>INCOME_CREDIT_PERC</th>\n",
       "      <th>INCOME_PER_PERSON</th>\n",
       "      <th>ANNUITY_INCOME_PERC</th>\n",
       "      <th>PAYMENT_RATE</th>\n",
       "    </tr>\n",
       "  </thead>\n",
       "  <tbody>\n",
       "    <tr>\n",
       "      <th>307506</th>\n",
       "      <td>100001</td>\n",
       "      <td>NaN</td>\n",
       "      <td>1</td>\n",
       "      <td>0</td>\n",
       "      <td>0</td>\n",
       "      <td>0</td>\n",
       "      <td>0</td>\n",
       "      <td>0</td>\n",
       "      <td>0</td>\n",
       "      <td>0</td>\n",
       "      <td>0</td>\n",
       "      <td>0</td>\n",
       "      <td>1.0</td>\n",
       "      <td>0.0</td>\n",
       "      <td>2.0</td>\n",
       "      <td>5.0</td>\n",
       "      <td>1.0</td>\n",
       "      <td>810000.0</td>\n",
       "      <td>17.0</td>\n",
       "      <td>6.0</td>\n",
       "      <td>1</td>\n",
       "      <td>0</td>\n",
       "      <td>0</td>\n",
       "      <td>0</td>\n",
       "      <td>0</td>\n",
       "      <td>0</td>\n",
       "      <td>0</td>\n",
       "      <td>0</td>\n",
       "      <td>0</td>\n",
       "      <td>1</td>\n",
       "      <td>0</td>\n",
       "      <td>1</td>\n",
       "      <td>0</td>\n",
       "      <td>0</td>\n",
       "      <td>0</td>\n",
       "      <td>0</td>\n",
       "      <td>0</td>\n",
       "      <td>1</td>\n",
       "      <td>0</td>\n",
       "      <td>0</td>\n",
       "      <td>0</td>\n",
       "      <td>0</td>\n",
       "      <td>1</td>\n",
       "      <td>0</td>\n",
       "      <td>0</td>\n",
       "      <td>0</td>\n",
       "      <td>0</td>\n",
       "      <td>0.626436</td>\n",
       "      <td>0.237342</td>\n",
       "      <td>67500.0</td>\n",
       "      <td>0.256296</td>\n",
       "      <td>0.060830</td>\n",
       "    </tr>\n",
       "    <tr>\n",
       "      <th>307507</th>\n",
       "      <td>100005</td>\n",
       "      <td>NaN</td>\n",
       "      <td>0</td>\n",
       "      <td>0</td>\n",
       "      <td>0</td>\n",
       "      <td>0</td>\n",
       "      <td>0</td>\n",
       "      <td>0</td>\n",
       "      <td>0</td>\n",
       "      <td>0</td>\n",
       "      <td>0</td>\n",
       "      <td>0</td>\n",
       "      <td>1.0</td>\n",
       "      <td>1.0</td>\n",
       "      <td>1.0</td>\n",
       "      <td>3.0</td>\n",
       "      <td>1.0</td>\n",
       "      <td>373500.0</td>\n",
       "      <td>28.0</td>\n",
       "      <td>1.0</td>\n",
       "      <td>1</td>\n",
       "      <td>0</td>\n",
       "      <td>0</td>\n",
       "      <td>0</td>\n",
       "      <td>0</td>\n",
       "      <td>0</td>\n",
       "      <td>0</td>\n",
       "      <td>0</td>\n",
       "      <td>0</td>\n",
       "      <td>1</td>\n",
       "      <td>0</td>\n",
       "      <td>1</td>\n",
       "      <td>0</td>\n",
       "      <td>0</td>\n",
       "      <td>0</td>\n",
       "      <td>0</td>\n",
       "      <td>0</td>\n",
       "      <td>0</td>\n",
       "      <td>0</td>\n",
       "      <td>0</td>\n",
       "      <td>1</td>\n",
       "      <td>0</td>\n",
       "      <td>1</td>\n",
       "      <td>0</td>\n",
       "      <td>0</td>\n",
       "      <td>0</td>\n",
       "      <td>0</td>\n",
       "      <td>0.141538</td>\n",
       "      <td>0.444409</td>\n",
       "      <td>24750.0</td>\n",
       "      <td>0.223414</td>\n",
       "      <td>0.099287</td>\n",
       "    </tr>\n",
       "  </tbody>\n",
       "</table>\n",
       "</div>"
      ],
      "text/plain": [
       "        SK_ID_CURR  TARGET  CODE_GENDER  FLAG_OWN_CAR  FLAG_OWN_REALTY  \\\n",
       "307506      100001     NaN            1             0                0   \n",
       "307507      100005     NaN            0             0                0   \n",
       "\n",
       "        CNT_CHILDREN  REG_CITY_NOT_LIVE_CITY  REG_REGION_NOT_LIVE_REGION  \\\n",
       "307506             0                       0                           0   \n",
       "307507             0                       0                           0   \n",
       "\n",
       "        REG_REGION_NOT_WORK_REGION  LIVE_REGION_NOT_WORK_REGION  \\\n",
       "307506                           0                            0   \n",
       "307507                           0                            0   \n",
       "\n",
       "        REG_CITY_NOT_WORK_CITY  LIVE_CITY_NOT_WORK_CITY  EXT_SOURCE_1  \\\n",
       "307506                       0                        0           1.0   \n",
       "307507                       0                        0           1.0   \n",
       "\n",
       "        EXT_SOURCE_3  AMT_REQ_CREDIT_BUREAU_YEAR  DAYS_LAST_PHONE_CHANGE  \\\n",
       "307506           0.0                         2.0                     5.0   \n",
       "307507           1.0                         1.0                     3.0   \n",
       "\n",
       "        EXT_SOURCE_2  AMT_GOODS_PRICE  DAYS_REGISTRATION  DAYS_ID_PUBLISH  \\\n",
       "307506           1.0         810000.0               17.0              6.0   \n",
       "307507           1.0         373500.0               28.0              1.0   \n",
       "\n",
       "        NAME_CONTRACT_TYPE_Cash loans  NAME_CONTRACT_TYPE_Revolving loans  \\\n",
       "307506                              1                                   0   \n",
       "307507                              1                                   0   \n",
       "\n",
       "        NAME_INCOME_TYPE_Businessman  NAME_INCOME_TYPE_Commercial associate  \\\n",
       "307506                             0                                      0   \n",
       "307507                             0                                      0   \n",
       "\n",
       "        NAME_INCOME_TYPE_Maternity leave  NAME_INCOME_TYPE_Pensioner  \\\n",
       "307506                                 0                           0   \n",
       "307507                                 0                           0   \n",
       "\n",
       "        NAME_INCOME_TYPE_State servant  NAME_INCOME_TYPE_Student  \\\n",
       "307506                               0                         0   \n",
       "307507                               0                         0   \n",
       "\n",
       "        NAME_INCOME_TYPE_Unemployed  NAME_INCOME_TYPE_Working  \\\n",
       "307506                            0                         1   \n",
       "307507                            0                         1   \n",
       "\n",
       "        NAME_FAMILY_STATUS_Civil marriage  NAME_FAMILY_STATUS_Married  \\\n",
       "307506                                  0                           1   \n",
       "307507                                  0                           1   \n",
       "\n",
       "        NAME_FAMILY_STATUS_Separated  NAME_FAMILY_STATUS_Single / not married  \\\n",
       "307506                             0                                        0   \n",
       "307507                             0                                        0   \n",
       "\n",
       "        NAME_FAMILY_STATUS_Unknown  NAME_FAMILY_STATUS_Widow  \\\n",
       "307506                           0                         0   \n",
       "307507                           0                         0   \n",
       "\n",
       "        NAME_EDUCATION_TYPE_Academic degree  \\\n",
       "307506                                    0   \n",
       "307507                                    0   \n",
       "\n",
       "        NAME_EDUCATION_TYPE_Higher education  \\\n",
       "307506                                     1   \n",
       "307507                                     0   \n",
       "\n",
       "        NAME_EDUCATION_TYPE_Incomplete higher  \\\n",
       "307506                                      0   \n",
       "307507                                      0   \n",
       "\n",
       "        NAME_EDUCATION_TYPE_Lower secondary  \\\n",
       "307506                                    0   \n",
       "307507                                    0   \n",
       "\n",
       "        NAME_EDUCATION_TYPE_Secondary / secondary special  \\\n",
       "307506                                                  0   \n",
       "307507                                                  1   \n",
       "\n",
       "        NAME_HOUSING_TYPE_Co-op apartment  \\\n",
       "307506                                  0   \n",
       "307507                                  0   \n",
       "\n",
       "        NAME_HOUSING_TYPE_House / apartment  \\\n",
       "307506                                    1   \n",
       "307507                                    1   \n",
       "\n",
       "        NAME_HOUSING_TYPE_Municipal apartment  \\\n",
       "307506                                      0   \n",
       "307507                                      0   \n",
       "\n",
       "        NAME_HOUSING_TYPE_Office apartment  \\\n",
       "307506                                   0   \n",
       "307507                                   0   \n",
       "\n",
       "        NAME_HOUSING_TYPE_Rented apartment  NAME_HOUSING_TYPE_With parents  \\\n",
       "307506                                   0                               0   \n",
       "307507                                   0                               0   \n",
       "\n",
       "        DAYS_EMPLOYED_PERC  INCOME_CREDIT_PERC  INCOME_PER_PERSON  \\\n",
       "307506            0.626436            0.237342            67500.0   \n",
       "307507            0.141538            0.444409            24750.0   \n",
       "\n",
       "        ANNUITY_INCOME_PERC  PAYMENT_RATE  \n",
       "307506             0.256296      0.060830  \n",
       "307507             0.223414      0.099287  "
      ]
     },
     "execution_count": 8,
     "metadata": {},
     "output_type": "execute_result"
    }
   ],
   "source": [
    "df_test_encoded_features_engi.head(2)"
   ]
  },
  {
   "cell_type": "code",
   "execution_count": 9,
   "id": "3725c491",
   "metadata": {},
   "outputs": [],
   "source": [
    "df_test_encoded_features_engi = df_test_encoded_features_engi.set_index(\"SK_ID_CURR\")"
   ]
  },
  {
   "cell_type": "code",
   "execution_count": 10,
   "id": "e305d21c",
   "metadata": {},
   "outputs": [
    {
     "data": {
      "text/html": [
       "<div>\n",
       "<style scoped>\n",
       "    .dataframe tbody tr th:only-of-type {\n",
       "        vertical-align: middle;\n",
       "    }\n",
       "\n",
       "    .dataframe tbody tr th {\n",
       "        vertical-align: top;\n",
       "    }\n",
       "\n",
       "    .dataframe thead th {\n",
       "        text-align: right;\n",
       "    }\n",
       "</style>\n",
       "<table border=\"1\" class=\"dataframe\">\n",
       "  <thead>\n",
       "    <tr style=\"text-align: right;\">\n",
       "      <th></th>\n",
       "      <th>TARGET</th>\n",
       "      <th>CODE_GENDER</th>\n",
       "      <th>FLAG_OWN_CAR</th>\n",
       "      <th>FLAG_OWN_REALTY</th>\n",
       "      <th>CNT_CHILDREN</th>\n",
       "      <th>REG_CITY_NOT_LIVE_CITY</th>\n",
       "      <th>REG_REGION_NOT_LIVE_REGION</th>\n",
       "      <th>REG_REGION_NOT_WORK_REGION</th>\n",
       "      <th>LIVE_REGION_NOT_WORK_REGION</th>\n",
       "      <th>REG_CITY_NOT_WORK_CITY</th>\n",
       "      <th>LIVE_CITY_NOT_WORK_CITY</th>\n",
       "      <th>EXT_SOURCE_1</th>\n",
       "      <th>EXT_SOURCE_3</th>\n",
       "      <th>AMT_REQ_CREDIT_BUREAU_YEAR</th>\n",
       "      <th>DAYS_LAST_PHONE_CHANGE</th>\n",
       "      <th>EXT_SOURCE_2</th>\n",
       "      <th>AMT_GOODS_PRICE</th>\n",
       "      <th>DAYS_REGISTRATION</th>\n",
       "      <th>DAYS_ID_PUBLISH</th>\n",
       "      <th>NAME_CONTRACT_TYPE_Cash loans</th>\n",
       "      <th>NAME_CONTRACT_TYPE_Revolving loans</th>\n",
       "      <th>NAME_INCOME_TYPE_Businessman</th>\n",
       "      <th>NAME_INCOME_TYPE_Commercial associate</th>\n",
       "      <th>NAME_INCOME_TYPE_Maternity leave</th>\n",
       "      <th>NAME_INCOME_TYPE_Pensioner</th>\n",
       "      <th>NAME_INCOME_TYPE_State servant</th>\n",
       "      <th>NAME_INCOME_TYPE_Student</th>\n",
       "      <th>NAME_INCOME_TYPE_Unemployed</th>\n",
       "      <th>NAME_INCOME_TYPE_Working</th>\n",
       "      <th>NAME_FAMILY_STATUS_Civil marriage</th>\n",
       "      <th>NAME_FAMILY_STATUS_Married</th>\n",
       "      <th>NAME_FAMILY_STATUS_Separated</th>\n",
       "      <th>NAME_FAMILY_STATUS_Single / not married</th>\n",
       "      <th>NAME_FAMILY_STATUS_Unknown</th>\n",
       "      <th>NAME_FAMILY_STATUS_Widow</th>\n",
       "      <th>NAME_EDUCATION_TYPE_Academic degree</th>\n",
       "      <th>NAME_EDUCATION_TYPE_Higher education</th>\n",
       "      <th>NAME_EDUCATION_TYPE_Incomplete higher</th>\n",
       "      <th>NAME_EDUCATION_TYPE_Lower secondary</th>\n",
       "      <th>NAME_EDUCATION_TYPE_Secondary / secondary special</th>\n",
       "      <th>NAME_HOUSING_TYPE_Co-op apartment</th>\n",
       "      <th>NAME_HOUSING_TYPE_House / apartment</th>\n",
       "      <th>NAME_HOUSING_TYPE_Municipal apartment</th>\n",
       "      <th>NAME_HOUSING_TYPE_Office apartment</th>\n",
       "      <th>NAME_HOUSING_TYPE_Rented apartment</th>\n",
       "      <th>NAME_HOUSING_TYPE_With parents</th>\n",
       "      <th>DAYS_EMPLOYED_PERC</th>\n",
       "      <th>INCOME_CREDIT_PERC</th>\n",
       "      <th>INCOME_PER_PERSON</th>\n",
       "      <th>ANNUITY_INCOME_PERC</th>\n",
       "      <th>PAYMENT_RATE</th>\n",
       "    </tr>\n",
       "    <tr>\n",
       "      <th>SK_ID_CURR</th>\n",
       "      <th></th>\n",
       "      <th></th>\n",
       "      <th></th>\n",
       "      <th></th>\n",
       "      <th></th>\n",
       "      <th></th>\n",
       "      <th></th>\n",
       "      <th></th>\n",
       "      <th></th>\n",
       "      <th></th>\n",
       "      <th></th>\n",
       "      <th></th>\n",
       "      <th></th>\n",
       "      <th></th>\n",
       "      <th></th>\n",
       "      <th></th>\n",
       "      <th></th>\n",
       "      <th></th>\n",
       "      <th></th>\n",
       "      <th></th>\n",
       "      <th></th>\n",
       "      <th></th>\n",
       "      <th></th>\n",
       "      <th></th>\n",
       "      <th></th>\n",
       "      <th></th>\n",
       "      <th></th>\n",
       "      <th></th>\n",
       "      <th></th>\n",
       "      <th></th>\n",
       "      <th></th>\n",
       "      <th></th>\n",
       "      <th></th>\n",
       "      <th></th>\n",
       "      <th></th>\n",
       "      <th></th>\n",
       "      <th></th>\n",
       "      <th></th>\n",
       "      <th></th>\n",
       "      <th></th>\n",
       "      <th></th>\n",
       "      <th></th>\n",
       "      <th></th>\n",
       "      <th></th>\n",
       "      <th></th>\n",
       "      <th></th>\n",
       "      <th></th>\n",
       "      <th></th>\n",
       "      <th></th>\n",
       "      <th></th>\n",
       "      <th></th>\n",
       "    </tr>\n",
       "  </thead>\n",
       "  <tbody>\n",
       "    <tr>\n",
       "      <th>100001</th>\n",
       "      <td>NaN</td>\n",
       "      <td>1</td>\n",
       "      <td>0</td>\n",
       "      <td>0</td>\n",
       "      <td>0</td>\n",
       "      <td>0</td>\n",
       "      <td>0</td>\n",
       "      <td>0</td>\n",
       "      <td>0</td>\n",
       "      <td>0</td>\n",
       "      <td>0</td>\n",
       "      <td>1.0</td>\n",
       "      <td>0.0</td>\n",
       "      <td>2.0</td>\n",
       "      <td>5.0</td>\n",
       "      <td>1.0</td>\n",
       "      <td>810000.0</td>\n",
       "      <td>17.0</td>\n",
       "      <td>6.0</td>\n",
       "      <td>1</td>\n",
       "      <td>0</td>\n",
       "      <td>0</td>\n",
       "      <td>0</td>\n",
       "      <td>0</td>\n",
       "      <td>0</td>\n",
       "      <td>0</td>\n",
       "      <td>0</td>\n",
       "      <td>0</td>\n",
       "      <td>1</td>\n",
       "      <td>0</td>\n",
       "      <td>1</td>\n",
       "      <td>0</td>\n",
       "      <td>0</td>\n",
       "      <td>0</td>\n",
       "      <td>0</td>\n",
       "      <td>0</td>\n",
       "      <td>1</td>\n",
       "      <td>0</td>\n",
       "      <td>0</td>\n",
       "      <td>0</td>\n",
       "      <td>0</td>\n",
       "      <td>1</td>\n",
       "      <td>0</td>\n",
       "      <td>0</td>\n",
       "      <td>0</td>\n",
       "      <td>0</td>\n",
       "      <td>0.626436</td>\n",
       "      <td>0.237342</td>\n",
       "      <td>67500.0</td>\n",
       "      <td>0.256296</td>\n",
       "      <td>0.060830</td>\n",
       "    </tr>\n",
       "    <tr>\n",
       "      <th>100005</th>\n",
       "      <td>NaN</td>\n",
       "      <td>0</td>\n",
       "      <td>0</td>\n",
       "      <td>0</td>\n",
       "      <td>0</td>\n",
       "      <td>0</td>\n",
       "      <td>0</td>\n",
       "      <td>0</td>\n",
       "      <td>0</td>\n",
       "      <td>0</td>\n",
       "      <td>0</td>\n",
       "      <td>1.0</td>\n",
       "      <td>1.0</td>\n",
       "      <td>1.0</td>\n",
       "      <td>3.0</td>\n",
       "      <td>1.0</td>\n",
       "      <td>373500.0</td>\n",
       "      <td>28.0</td>\n",
       "      <td>1.0</td>\n",
       "      <td>1</td>\n",
       "      <td>0</td>\n",
       "      <td>0</td>\n",
       "      <td>0</td>\n",
       "      <td>0</td>\n",
       "      <td>0</td>\n",
       "      <td>0</td>\n",
       "      <td>0</td>\n",
       "      <td>0</td>\n",
       "      <td>1</td>\n",
       "      <td>0</td>\n",
       "      <td>1</td>\n",
       "      <td>0</td>\n",
       "      <td>0</td>\n",
       "      <td>0</td>\n",
       "      <td>0</td>\n",
       "      <td>0</td>\n",
       "      <td>0</td>\n",
       "      <td>0</td>\n",
       "      <td>0</td>\n",
       "      <td>1</td>\n",
       "      <td>0</td>\n",
       "      <td>1</td>\n",
       "      <td>0</td>\n",
       "      <td>0</td>\n",
       "      <td>0</td>\n",
       "      <td>0</td>\n",
       "      <td>0.141538</td>\n",
       "      <td>0.444409</td>\n",
       "      <td>24750.0</td>\n",
       "      <td>0.223414</td>\n",
       "      <td>0.099287</td>\n",
       "    </tr>\n",
       "    <tr>\n",
       "      <th>100013</th>\n",
       "      <td>NaN</td>\n",
       "      <td>0</td>\n",
       "      <td>1</td>\n",
       "      <td>0</td>\n",
       "      <td>0</td>\n",
       "      <td>0</td>\n",
       "      <td>0</td>\n",
       "      <td>0</td>\n",
       "      <td>0</td>\n",
       "      <td>0</td>\n",
       "      <td>0</td>\n",
       "      <td>1.0</td>\n",
       "      <td>0.0</td>\n",
       "      <td>2.0</td>\n",
       "      <td>3.0</td>\n",
       "      <td>1.0</td>\n",
       "      <td>180000.0</td>\n",
       "      <td>14.0</td>\n",
       "      <td>6.0</td>\n",
       "      <td>1</td>\n",
       "      <td>0</td>\n",
       "      <td>0</td>\n",
       "      <td>0</td>\n",
       "      <td>0</td>\n",
       "      <td>0</td>\n",
       "      <td>0</td>\n",
       "      <td>0</td>\n",
       "      <td>0</td>\n",
       "      <td>1</td>\n",
       "      <td>0</td>\n",
       "      <td>1</td>\n",
       "      <td>0</td>\n",
       "      <td>0</td>\n",
       "      <td>0</td>\n",
       "      <td>0</td>\n",
       "      <td>0</td>\n",
       "      <td>1</td>\n",
       "      <td>0</td>\n",
       "      <td>0</td>\n",
       "      <td>0</td>\n",
       "      <td>0</td>\n",
       "      <td>1</td>\n",
       "      <td>0</td>\n",
       "      <td>0</td>\n",
       "      <td>0</td>\n",
       "      <td>0</td>\n",
       "      <td>0.072911</td>\n",
       "      <td>0.305308</td>\n",
       "      <td>202500.0</td>\n",
       "      <td>0.070222</td>\n",
       "      <td>0.021439</td>\n",
       "    </tr>\n",
       "  </tbody>\n",
       "</table>\n",
       "</div>"
      ],
      "text/plain": [
       "            TARGET  CODE_GENDER  FLAG_OWN_CAR  FLAG_OWN_REALTY  CNT_CHILDREN  \\\n",
       "SK_ID_CURR                                                                     \n",
       "100001         NaN            1             0                0             0   \n",
       "100005         NaN            0             0                0             0   \n",
       "100013         NaN            0             1                0             0   \n",
       "\n",
       "            REG_CITY_NOT_LIVE_CITY  REG_REGION_NOT_LIVE_REGION  \\\n",
       "SK_ID_CURR                                                       \n",
       "100001                           0                           0   \n",
       "100005                           0                           0   \n",
       "100013                           0                           0   \n",
       "\n",
       "            REG_REGION_NOT_WORK_REGION  LIVE_REGION_NOT_WORK_REGION  \\\n",
       "SK_ID_CURR                                                            \n",
       "100001                               0                            0   \n",
       "100005                               0                            0   \n",
       "100013                               0                            0   \n",
       "\n",
       "            REG_CITY_NOT_WORK_CITY  LIVE_CITY_NOT_WORK_CITY  EXT_SOURCE_1  \\\n",
       "SK_ID_CURR                                                                  \n",
       "100001                           0                        0           1.0   \n",
       "100005                           0                        0           1.0   \n",
       "100013                           0                        0           1.0   \n",
       "\n",
       "            EXT_SOURCE_3  AMT_REQ_CREDIT_BUREAU_YEAR  DAYS_LAST_PHONE_CHANGE  \\\n",
       "SK_ID_CURR                                                                     \n",
       "100001               0.0                         2.0                     5.0   \n",
       "100005               1.0                         1.0                     3.0   \n",
       "100013               0.0                         2.0                     3.0   \n",
       "\n",
       "            EXT_SOURCE_2  AMT_GOODS_PRICE  DAYS_REGISTRATION  DAYS_ID_PUBLISH  \\\n",
       "SK_ID_CURR                                                                      \n",
       "100001               1.0         810000.0               17.0              6.0   \n",
       "100005               1.0         373500.0               28.0              1.0   \n",
       "100013               1.0         180000.0               14.0              6.0   \n",
       "\n",
       "            NAME_CONTRACT_TYPE_Cash loans  NAME_CONTRACT_TYPE_Revolving loans  \\\n",
       "SK_ID_CURR                                                                      \n",
       "100001                                  1                                   0   \n",
       "100005                                  1                                   0   \n",
       "100013                                  1                                   0   \n",
       "\n",
       "            NAME_INCOME_TYPE_Businessman  \\\n",
       "SK_ID_CURR                                 \n",
       "100001                                 0   \n",
       "100005                                 0   \n",
       "100013                                 0   \n",
       "\n",
       "            NAME_INCOME_TYPE_Commercial associate  \\\n",
       "SK_ID_CURR                                          \n",
       "100001                                          0   \n",
       "100005                                          0   \n",
       "100013                                          0   \n",
       "\n",
       "            NAME_INCOME_TYPE_Maternity leave  NAME_INCOME_TYPE_Pensioner  \\\n",
       "SK_ID_CURR                                                                 \n",
       "100001                                     0                           0   \n",
       "100005                                     0                           0   \n",
       "100013                                     0                           0   \n",
       "\n",
       "            NAME_INCOME_TYPE_State servant  NAME_INCOME_TYPE_Student  \\\n",
       "SK_ID_CURR                                                             \n",
       "100001                                   0                         0   \n",
       "100005                                   0                         0   \n",
       "100013                                   0                         0   \n",
       "\n",
       "            NAME_INCOME_TYPE_Unemployed  NAME_INCOME_TYPE_Working  \\\n",
       "SK_ID_CURR                                                          \n",
       "100001                                0                         1   \n",
       "100005                                0                         1   \n",
       "100013                                0                         1   \n",
       "\n",
       "            NAME_FAMILY_STATUS_Civil marriage  NAME_FAMILY_STATUS_Married  \\\n",
       "SK_ID_CURR                                                                  \n",
       "100001                                      0                           1   \n",
       "100005                                      0                           1   \n",
       "100013                                      0                           1   \n",
       "\n",
       "            NAME_FAMILY_STATUS_Separated  \\\n",
       "SK_ID_CURR                                 \n",
       "100001                                 0   \n",
       "100005                                 0   \n",
       "100013                                 0   \n",
       "\n",
       "            NAME_FAMILY_STATUS_Single / not married  \\\n",
       "SK_ID_CURR                                            \n",
       "100001                                            0   \n",
       "100005                                            0   \n",
       "100013                                            0   \n",
       "\n",
       "            NAME_FAMILY_STATUS_Unknown  NAME_FAMILY_STATUS_Widow  \\\n",
       "SK_ID_CURR                                                         \n",
       "100001                               0                         0   \n",
       "100005                               0                         0   \n",
       "100013                               0                         0   \n",
       "\n",
       "            NAME_EDUCATION_TYPE_Academic degree  \\\n",
       "SK_ID_CURR                                        \n",
       "100001                                        0   \n",
       "100005                                        0   \n",
       "100013                                        0   \n",
       "\n",
       "            NAME_EDUCATION_TYPE_Higher education  \\\n",
       "SK_ID_CURR                                         \n",
       "100001                                         1   \n",
       "100005                                         0   \n",
       "100013                                         1   \n",
       "\n",
       "            NAME_EDUCATION_TYPE_Incomplete higher  \\\n",
       "SK_ID_CURR                                          \n",
       "100001                                          0   \n",
       "100005                                          0   \n",
       "100013                                          0   \n",
       "\n",
       "            NAME_EDUCATION_TYPE_Lower secondary  \\\n",
       "SK_ID_CURR                                        \n",
       "100001                                        0   \n",
       "100005                                        0   \n",
       "100013                                        0   \n",
       "\n",
       "            NAME_EDUCATION_TYPE_Secondary / secondary special  \\\n",
       "SK_ID_CURR                                                      \n",
       "100001                                                      0   \n",
       "100005                                                      1   \n",
       "100013                                                      0   \n",
       "\n",
       "            NAME_HOUSING_TYPE_Co-op apartment  \\\n",
       "SK_ID_CURR                                      \n",
       "100001                                      0   \n",
       "100005                                      0   \n",
       "100013                                      0   \n",
       "\n",
       "            NAME_HOUSING_TYPE_House / apartment  \\\n",
       "SK_ID_CURR                                        \n",
       "100001                                        1   \n",
       "100005                                        1   \n",
       "100013                                        1   \n",
       "\n",
       "            NAME_HOUSING_TYPE_Municipal apartment  \\\n",
       "SK_ID_CURR                                          \n",
       "100001                                          0   \n",
       "100005                                          0   \n",
       "100013                                          0   \n",
       "\n",
       "            NAME_HOUSING_TYPE_Office apartment  \\\n",
       "SK_ID_CURR                                       \n",
       "100001                                       0   \n",
       "100005                                       0   \n",
       "100013                                       0   \n",
       "\n",
       "            NAME_HOUSING_TYPE_Rented apartment  \\\n",
       "SK_ID_CURR                                       \n",
       "100001                                       0   \n",
       "100005                                       0   \n",
       "100013                                       0   \n",
       "\n",
       "            NAME_HOUSING_TYPE_With parents  DAYS_EMPLOYED_PERC  \\\n",
       "SK_ID_CURR                                                       \n",
       "100001                                   0            0.626436   \n",
       "100005                                   0            0.141538   \n",
       "100013                                   0            0.072911   \n",
       "\n",
       "            INCOME_CREDIT_PERC  INCOME_PER_PERSON  ANNUITY_INCOME_PERC  \\\n",
       "SK_ID_CURR                                                               \n",
       "100001                0.237342            67500.0             0.256296   \n",
       "100005                0.444409            24750.0             0.223414   \n",
       "100013                0.305308           202500.0             0.070222   \n",
       "\n",
       "            PAYMENT_RATE  \n",
       "SK_ID_CURR                \n",
       "100001          0.060830  \n",
       "100005          0.099287  \n",
       "100013          0.021439  "
      ]
     },
     "execution_count": 10,
     "metadata": {},
     "output_type": "execute_result"
    }
   ],
   "source": [
    "df_test_encoded_features_engi.head(3)"
   ]
  },
  {
   "cell_type": "markdown",
   "id": "160f1ef9",
   "metadata": {},
   "source": [
    "# <font color=\"red\" id=\"section_3\"> 3. Affichage des  caracteristiques du jeu de données"
   ]
  },
  {
   "cell_type": "markdown",
   "id": "bda285ea",
   "metadata": {},
   "source": [
    "### Information"
   ]
  },
  {
   "cell_type": "code",
   "execution_count": 11,
   "id": "2c2524b9",
   "metadata": {
    "scrolled": false
   },
   "outputs": [
    {
     "name": "stdout",
     "output_type": "stream",
     "text": [
      "<class 'pandas.core.frame.DataFrame'>\n",
      "RangeIndex: 48744 entries, 0 to 48743\n",
      "Columns: 121 entries, SK_ID_CURR to AMT_REQ_CREDIT_BUREAU_YEAR\n",
      "dtypes: float64(65), int64(40), object(16)\n",
      "memory usage: 45.0+ MB\n"
     ]
    }
   ],
   "source": [
    "app_test.info()"
   ]
  },
  {
   "cell_type": "code",
   "execution_count": 12,
   "id": "2a8ecf46",
   "metadata": {},
   "outputs": [
    {
     "name": "stdout",
     "output_type": "stream",
     "text": [
      "<class 'pandas.core.frame.DataFrame'>\n",
      "Int64Index: 48739 entries, 100001 to 456202\n",
      "Data columns (total 51 columns):\n",
      " #   Column                                             Non-Null Count  Dtype  \n",
      "---  ------                                             --------------  -----  \n",
      " 0   TARGET                                             0 non-null      float64\n",
      " 1   CODE_GENDER                                        48739 non-null  int64  \n",
      " 2   FLAG_OWN_CAR                                       48739 non-null  int64  \n",
      " 3   FLAG_OWN_REALTY                                    48739 non-null  int64  \n",
      " 4   CNT_CHILDREN                                       48739 non-null  int64  \n",
      " 5   REG_CITY_NOT_LIVE_CITY                             48739 non-null  int64  \n",
      " 6   REG_REGION_NOT_LIVE_REGION                         48739 non-null  int64  \n",
      " 7   REG_REGION_NOT_WORK_REGION                         48739 non-null  int64  \n",
      " 8   LIVE_REGION_NOT_WORK_REGION                        48739 non-null  int64  \n",
      " 9   REG_CITY_NOT_WORK_CITY                             48739 non-null  int64  \n",
      " 10  LIVE_CITY_NOT_WORK_CITY                            48739 non-null  int64  \n",
      " 11  EXT_SOURCE_1                                       48739 non-null  float64\n",
      " 12  EXT_SOURCE_3                                       48739 non-null  float64\n",
      " 13  AMT_REQ_CREDIT_BUREAU_YEAR                         48739 non-null  float64\n",
      " 14  DAYS_LAST_PHONE_CHANGE                             48739 non-null  float64\n",
      " 15  EXT_SOURCE_2                                       48739 non-null  float64\n",
      " 16  AMT_GOODS_PRICE                                    48739 non-null  float64\n",
      " 17  DAYS_REGISTRATION                                  48739 non-null  float64\n",
      " 18  DAYS_ID_PUBLISH                                    48739 non-null  float64\n",
      " 19  NAME_CONTRACT_TYPE_Cash loans                      48739 non-null  int64  \n",
      " 20  NAME_CONTRACT_TYPE_Revolving loans                 48739 non-null  int64  \n",
      " 21  NAME_INCOME_TYPE_Businessman                       48739 non-null  int64  \n",
      " 22  NAME_INCOME_TYPE_Commercial associate              48739 non-null  int64  \n",
      " 23  NAME_INCOME_TYPE_Maternity leave                   48739 non-null  int64  \n",
      " 24  NAME_INCOME_TYPE_Pensioner                         48739 non-null  int64  \n",
      " 25  NAME_INCOME_TYPE_State servant                     48739 non-null  int64  \n",
      " 26  NAME_INCOME_TYPE_Student                           48739 non-null  int64  \n",
      " 27  NAME_INCOME_TYPE_Unemployed                        48739 non-null  int64  \n",
      " 28  NAME_INCOME_TYPE_Working                           48739 non-null  int64  \n",
      " 29  NAME_FAMILY_STATUS_Civil marriage                  48739 non-null  int64  \n",
      " 30  NAME_FAMILY_STATUS_Married                         48739 non-null  int64  \n",
      " 31  NAME_FAMILY_STATUS_Separated                       48739 non-null  int64  \n",
      " 32  NAME_FAMILY_STATUS_Single / not married            48739 non-null  int64  \n",
      " 33  NAME_FAMILY_STATUS_Unknown                         48739 non-null  int64  \n",
      " 34  NAME_FAMILY_STATUS_Widow                           48739 non-null  int64  \n",
      " 35  NAME_EDUCATION_TYPE_Academic degree                48739 non-null  int64  \n",
      " 36  NAME_EDUCATION_TYPE_Higher education               48739 non-null  int64  \n",
      " 37  NAME_EDUCATION_TYPE_Incomplete higher              48739 non-null  int64  \n",
      " 38  NAME_EDUCATION_TYPE_Lower secondary                48739 non-null  int64  \n",
      " 39  NAME_EDUCATION_TYPE_Secondary / secondary special  48739 non-null  int64  \n",
      " 40  NAME_HOUSING_TYPE_Co-op apartment                  48739 non-null  int64  \n",
      " 41  NAME_HOUSING_TYPE_House / apartment                48739 non-null  int64  \n",
      " 42  NAME_HOUSING_TYPE_Municipal apartment              48739 non-null  int64  \n",
      " 43  NAME_HOUSING_TYPE_Office apartment                 48739 non-null  int64  \n",
      " 44  NAME_HOUSING_TYPE_Rented apartment                 48739 non-null  int64  \n",
      " 45  NAME_HOUSING_TYPE_With parents                     48739 non-null  int64  \n",
      " 46  DAYS_EMPLOYED_PERC                                 48739 non-null  float64\n",
      " 47  INCOME_CREDIT_PERC                                 48739 non-null  float64\n",
      " 48  INCOME_PER_PERSON                                  48739 non-null  float64\n",
      " 49  ANNUITY_INCOME_PERC                                48739 non-null  float64\n",
      " 50  PAYMENT_RATE                                       48739 non-null  float64\n",
      "dtypes: float64(14), int64(37)\n",
      "memory usage: 19.3 MB\n"
     ]
    }
   ],
   "source": [
    "df_test_encoded_features_engi.info()"
   ]
  },
  {
   "cell_type": "markdown",
   "id": "90161189",
   "metadata": {},
   "source": [
    "### Duplicité"
   ]
  },
  {
   "cell_type": "code",
   "execution_count": 13,
   "id": "b173879b",
   "metadata": {},
   "outputs": [
    {
     "data": {
      "text/plain": [
       "0"
      ]
     },
     "execution_count": 13,
     "metadata": {},
     "output_type": "execute_result"
    }
   ],
   "source": [
    "df_test_encoded_features_engi.duplicated().sum()"
   ]
  },
  {
   "cell_type": "markdown",
   "id": "8fb52ea7",
   "metadata": {},
   "source": [
    "### Types de variables"
   ]
  },
  {
   "cell_type": "code",
   "execution_count": 14,
   "id": "831bf672",
   "metadata": {},
   "outputs": [
    {
     "data": {
      "text/plain": [
       "int64      37\n",
       "float64    14\n",
       "dtype: int64"
      ]
     },
     "execution_count": 14,
     "metadata": {},
     "output_type": "execute_result"
    }
   ],
   "source": [
    "df_test_encoded_features_engi.dtypes.value_counts()"
   ]
  },
  {
   "cell_type": "markdown",
   "id": "622abefd",
   "metadata": {},
   "source": [
    "### Valeurs manquantes"
   ]
  },
  {
   "cell_type": "code",
   "execution_count": 15,
   "id": "b6e00c8a",
   "metadata": {},
   "outputs": [
    {
     "data": {
      "text/plain": [
       "TARGET                                               48739\n",
       "CODE_GENDER                                              0\n",
       "FLAG_OWN_CAR                                             0\n",
       "FLAG_OWN_REALTY                                          0\n",
       "CNT_CHILDREN                                             0\n",
       "REG_CITY_NOT_LIVE_CITY                                   0\n",
       "REG_REGION_NOT_LIVE_REGION                               0\n",
       "REG_REGION_NOT_WORK_REGION                               0\n",
       "LIVE_REGION_NOT_WORK_REGION                              0\n",
       "REG_CITY_NOT_WORK_CITY                                   0\n",
       "LIVE_CITY_NOT_WORK_CITY                                  0\n",
       "EXT_SOURCE_1                                             0\n",
       "EXT_SOURCE_3                                             0\n",
       "AMT_REQ_CREDIT_BUREAU_YEAR                               0\n",
       "DAYS_LAST_PHONE_CHANGE                                   0\n",
       "EXT_SOURCE_2                                             0\n",
       "AMT_GOODS_PRICE                                          0\n",
       "DAYS_REGISTRATION                                        0\n",
       "DAYS_ID_PUBLISH                                          0\n",
       "NAME_CONTRACT_TYPE_Cash loans                            0\n",
       "NAME_CONTRACT_TYPE_Revolving loans                       0\n",
       "NAME_INCOME_TYPE_Businessman                             0\n",
       "NAME_INCOME_TYPE_Commercial associate                    0\n",
       "NAME_INCOME_TYPE_Maternity leave                         0\n",
       "NAME_INCOME_TYPE_Pensioner                               0\n",
       "NAME_INCOME_TYPE_State servant                           0\n",
       "NAME_INCOME_TYPE_Student                                 0\n",
       "NAME_INCOME_TYPE_Unemployed                              0\n",
       "NAME_INCOME_TYPE_Working                                 0\n",
       "NAME_FAMILY_STATUS_Civil marriage                        0\n",
       "NAME_FAMILY_STATUS_Married                               0\n",
       "NAME_FAMILY_STATUS_Separated                             0\n",
       "NAME_FAMILY_STATUS_Single / not married                  0\n",
       "NAME_FAMILY_STATUS_Unknown                               0\n",
       "NAME_FAMILY_STATUS_Widow                                 0\n",
       "NAME_EDUCATION_TYPE_Academic degree                      0\n",
       "NAME_EDUCATION_TYPE_Higher education                     0\n",
       "NAME_EDUCATION_TYPE_Incomplete higher                    0\n",
       "NAME_EDUCATION_TYPE_Lower secondary                      0\n",
       "NAME_EDUCATION_TYPE_Secondary / secondary special        0\n",
       "NAME_HOUSING_TYPE_Co-op apartment                        0\n",
       "NAME_HOUSING_TYPE_House / apartment                      0\n",
       "NAME_HOUSING_TYPE_Municipal apartment                    0\n",
       "NAME_HOUSING_TYPE_Office apartment                       0\n",
       "NAME_HOUSING_TYPE_Rented apartment                       0\n",
       "NAME_HOUSING_TYPE_With parents                           0\n",
       "DAYS_EMPLOYED_PERC                                       0\n",
       "INCOME_CREDIT_PERC                                       0\n",
       "INCOME_PER_PERSON                                        0\n",
       "ANNUITY_INCOME_PERC                                      0\n",
       "PAYMENT_RATE                                             0\n",
       "dtype: int64"
      ]
     },
     "execution_count": 15,
     "metadata": {},
     "output_type": "execute_result"
    }
   ],
   "source": [
    "df_test_encoded_features_engi.isna().sum()"
   ]
  },
  {
   "cell_type": "markdown",
   "id": "fbcc739e",
   "metadata": {},
   "source": [
    "### Valeurs uniques"
   ]
  },
  {
   "cell_type": "markdown",
   "id": "f5affff3",
   "metadata": {
    "scrolled": false
   },
   "source": [
    "for col in data_model.columns:\n",
    "    print(\"Nombre de  valeurs uniques de\", col, \"est : \", data_model[col].nunique())\n",
    "    print(\"-\"*70)"
   ]
  },
  {
   "cell_type": "code",
   "execution_count": 16,
   "id": "9233a8af",
   "metadata": {},
   "outputs": [],
   "source": [
    "#del df_test_encoded_features_engi[\"SK_ID_CURR\"]"
   ]
  },
  {
   "cell_type": "markdown",
   "id": "f3835590",
   "metadata": {},
   "source": [
    "# <font color=\"red\" id=\"section_4\"> 4. Désérialisation "
   ]
  },
  {
   "cell_type": "code",
   "execution_count": 17,
   "id": "c9a53bf6",
   "metadata": {},
   "outputs": [],
   "source": [
    "#lecture du model choisi\n",
    "pipe_model =pickle.load(open(\"Model_choice.md\", \"rb\"))"
   ]
  },
  {
   "cell_type": "code",
   "execution_count": 18,
   "id": "31cbc6e4",
   "metadata": {},
   "outputs": [
    {
     "data": {
      "text/plain": [
       "Pipeline(steps=[('preprocessor',\n",
       "                 ColumnTransformer(transformers=[('num',\n",
       "                                                  Pipeline(steps=[('scaler',\n",
       "                                                                   StandardScaler())]),\n",
       "                                                  ['CODE_GENDER',\n",
       "                                                   'FLAG_OWN_CAR',\n",
       "                                                   'FLAG_OWN_REALTY',\n",
       "                                                   'CNT_CHILDREN',\n",
       "                                                   'REG_CITY_NOT_LIVE_CITY',\n",
       "                                                   'REG_REGION_NOT_LIVE_REGION',\n",
       "                                                   'REG_REGION_NOT_WORK_REGION',\n",
       "                                                   'LIVE_REGION_NOT_WORK_REGION',\n",
       "                                                   'REG_CITY_NOT_WORK_CITY',\n",
       "                                                   'LIVE_CITY_NOT_WORK_CITY',\n",
       "                                                   'EXT_S...\n",
       "                                                   'NAME_INCOME_TYPE_State '\n",
       "                                                   'servant',\n",
       "                                                   'NAME_INCOME_TYPE_Student',\n",
       "                                                   'NAME_INCOME_TYPE_Unemployed',\n",
       "                                                   'NAME_INCOME_TYPE_Working',\n",
       "                                                   'NAME_FAMILY_STATUS_Civil '\n",
       "                                                   'marriage',\n",
       "                                                   'NAME_FAMILY_STATUS_Married', ...])])),\n",
       "                ('oversampler', SMOTE(sampling_strategy=1)),\n",
       "                ('undersampler', RandomUnderSampler(sampling_strategy=1)),\n",
       "                ('classifier',\n",
       "                 LogisticRegression(C=10, random_state=5, solver='liblinear'))])"
      ]
     },
     "execution_count": 18,
     "metadata": {},
     "output_type": "execute_result"
    }
   ],
   "source": [
    "pipe_model"
   ]
  },
  {
   "cell_type": "code",
   "execution_count": 19,
   "id": "f5b50d2f",
   "metadata": {},
   "outputs": [],
   "source": [
    "#lecture de la matice de confusiion optimal\n",
    "conf_mx =pickle.load(open(\"conf_mx_opt\", \"rb\"))"
   ]
  },
  {
   "cell_type": "code",
   "execution_count": 20,
   "id": "034c5a24",
   "metadata": {},
   "outputs": [
    {
     "data": {
      "text/plain": [
       "array([[17312,  8132],\n",
       "       [ 1115,  1117]], dtype=int64)"
      ]
     },
     "execution_count": 20,
     "metadata": {},
     "output_type": "execute_result"
    }
   ],
   "source": [
    "conf_mx"
   ]
  },
  {
   "cell_type": "markdown",
   "id": "d36de8a0",
   "metadata": {},
   "source": [
    "# <font color=\"red\" id=\"section_5\"> 5. Approche de mise en oeuvre de dashboad\n",
    "##  <font color=\"red\" id=\"section_5_1\"> 5.1 Transformation de données test"
   ]
  },
  {
   "cell_type": "code",
   "execution_count": 21,
   "id": "afcd0b6d",
   "metadata": {},
   "outputs": [],
   "source": [
    "x_test_transformed = pd.DataFrame(pipe_model[0].transform(df_test_encoded_features_engi.drop(columns=[\"TARGET\"])),\n",
    "                                  columns=df_test_encoded_features_engi.drop(columns=[\"TARGET\"]).columns,\n",
    "                                  index=df_test_encoded_features_engi.index)"
   ]
  },
  {
   "cell_type": "code",
   "execution_count": 22,
   "id": "c67801eb",
   "metadata": {},
   "outputs": [],
   "source": [
    "x_test_transformed.to_csv(\"x_test_transformed.csv\", index = True)"
   ]
  },
  {
   "cell_type": "code",
   "execution_count": 23,
   "id": "45a7ae75",
   "metadata": {},
   "outputs": [],
   "source": [
    "x_test_transformed =  pd.read_csv(\"x_test_transformed.csv\")"
   ]
  },
  {
   "cell_type": "code",
   "execution_count": 24,
   "id": "a082dc13",
   "metadata": {},
   "outputs": [
    {
     "data": {
      "text/html": [
       "<div>\n",
       "<style scoped>\n",
       "    .dataframe tbody tr th:only-of-type {\n",
       "        vertical-align: middle;\n",
       "    }\n",
       "\n",
       "    .dataframe tbody tr th {\n",
       "        vertical-align: top;\n",
       "    }\n",
       "\n",
       "    .dataframe thead th {\n",
       "        text-align: right;\n",
       "    }\n",
       "</style>\n",
       "<table border=\"1\" class=\"dataframe\">\n",
       "  <thead>\n",
       "    <tr style=\"text-align: right;\">\n",
       "      <th></th>\n",
       "      <th>SK_ID_CURR</th>\n",
       "      <th>CODE_GENDER</th>\n",
       "      <th>FLAG_OWN_CAR</th>\n",
       "      <th>FLAG_OWN_REALTY</th>\n",
       "      <th>CNT_CHILDREN</th>\n",
       "      <th>REG_CITY_NOT_LIVE_CITY</th>\n",
       "      <th>REG_REGION_NOT_LIVE_REGION</th>\n",
       "      <th>REG_REGION_NOT_WORK_REGION</th>\n",
       "      <th>LIVE_REGION_NOT_WORK_REGION</th>\n",
       "      <th>REG_CITY_NOT_WORK_CITY</th>\n",
       "      <th>LIVE_CITY_NOT_WORK_CITY</th>\n",
       "      <th>EXT_SOURCE_1</th>\n",
       "      <th>EXT_SOURCE_3</th>\n",
       "      <th>AMT_REQ_CREDIT_BUREAU_YEAR</th>\n",
       "      <th>DAYS_LAST_PHONE_CHANGE</th>\n",
       "      <th>EXT_SOURCE_2</th>\n",
       "      <th>AMT_GOODS_PRICE</th>\n",
       "      <th>DAYS_REGISTRATION</th>\n",
       "      <th>DAYS_ID_PUBLISH</th>\n",
       "      <th>NAME_CONTRACT_TYPE_Cash loans</th>\n",
       "      <th>NAME_CONTRACT_TYPE_Revolving loans</th>\n",
       "      <th>NAME_INCOME_TYPE_Businessman</th>\n",
       "      <th>NAME_INCOME_TYPE_Commercial associate</th>\n",
       "      <th>NAME_INCOME_TYPE_Maternity leave</th>\n",
       "      <th>NAME_INCOME_TYPE_Pensioner</th>\n",
       "      <th>NAME_INCOME_TYPE_State servant</th>\n",
       "      <th>NAME_INCOME_TYPE_Student</th>\n",
       "      <th>NAME_INCOME_TYPE_Unemployed</th>\n",
       "      <th>NAME_INCOME_TYPE_Working</th>\n",
       "      <th>NAME_FAMILY_STATUS_Civil marriage</th>\n",
       "      <th>NAME_FAMILY_STATUS_Married</th>\n",
       "      <th>NAME_FAMILY_STATUS_Separated</th>\n",
       "      <th>NAME_FAMILY_STATUS_Single / not married</th>\n",
       "      <th>NAME_FAMILY_STATUS_Unknown</th>\n",
       "      <th>NAME_FAMILY_STATUS_Widow</th>\n",
       "      <th>NAME_EDUCATION_TYPE_Academic degree</th>\n",
       "      <th>NAME_EDUCATION_TYPE_Higher education</th>\n",
       "      <th>NAME_EDUCATION_TYPE_Incomplete higher</th>\n",
       "      <th>NAME_EDUCATION_TYPE_Lower secondary</th>\n",
       "      <th>NAME_EDUCATION_TYPE_Secondary / secondary special</th>\n",
       "      <th>NAME_HOUSING_TYPE_Co-op apartment</th>\n",
       "      <th>NAME_HOUSING_TYPE_House / apartment</th>\n",
       "      <th>NAME_HOUSING_TYPE_Municipal apartment</th>\n",
       "      <th>NAME_HOUSING_TYPE_Office apartment</th>\n",
       "      <th>NAME_HOUSING_TYPE_Rented apartment</th>\n",
       "      <th>NAME_HOUSING_TYPE_With parents</th>\n",
       "      <th>DAYS_EMPLOYED_PERC</th>\n",
       "      <th>INCOME_CREDIT_PERC</th>\n",
       "      <th>INCOME_PER_PERSON</th>\n",
       "      <th>ANNUITY_INCOME_PERC</th>\n",
       "      <th>PAYMENT_RATE</th>\n",
       "    </tr>\n",
       "  </thead>\n",
       "  <tbody>\n",
       "    <tr>\n",
       "      <th>0</th>\n",
       "      <td>100001</td>\n",
       "      <td>0.715789</td>\n",
       "      <td>-0.715467</td>\n",
       "      <td>-0.665612</td>\n",
       "      <td>-0.573224</td>\n",
       "      <td>-0.290454</td>\n",
       "      <td>-0.123233</td>\n",
       "      <td>-0.229386</td>\n",
       "      <td>-0.204122</td>\n",
       "      <td>-0.548531</td>\n",
       "      <td>-0.46816</td>\n",
       "      <td>0.93575</td>\n",
       "      <td>-1.091919</td>\n",
       "      <td>0.044389</td>\n",
       "      <td>0.970852</td>\n",
       "      <td>0.789977</td>\n",
       "      <td>0.738422</td>\n",
       "      <td>0.348215</td>\n",
       "      <td>-0.528058</td>\n",
       "      <td>0.321429</td>\n",
       "      <td>-0.321429</td>\n",
       "      <td>-0.006816</td>\n",
       "      <td>-0.5492</td>\n",
       "      <td>-0.003935</td>\n",
       "      <td>-0.468849</td>\n",
       "      <td>-0.27691</td>\n",
       "      <td>-0.010412</td>\n",
       "      <td>-0.006816</td>\n",
       "      <td>0.967272</td>\n",
       "      <td>-0.325052</td>\n",
       "      <td>0.752968</td>\n",
       "      <td>-0.263179</td>\n",
       "      <td>-0.417494</td>\n",
       "      <td>-0.003935</td>\n",
       "      <td>-0.236662</td>\n",
       "      <td>-0.025205</td>\n",
       "      <td>1.757085</td>\n",
       "      <td>-0.187626</td>\n",
       "      <td>-0.114385</td>\n",
       "      <td>-1.556326</td>\n",
       "      <td>-0.058201</td>\n",
       "      <td>0.356288</td>\n",
       "      <td>-0.193689</td>\n",
       "      <td>-0.093614</td>\n",
       "      <td>-0.126368</td>\n",
       "      <td>-0.226265</td>\n",
       "      <td>2.890146</td>\n",
       "      <td>-0.472670</td>\n",
       "      <td>-0.341924</td>\n",
       "      <td>0.328304</td>\n",
       "      <td>-0.161010</td>\n",
       "    </tr>\n",
       "    <tr>\n",
       "      <th>1</th>\n",
       "      <td>100005</td>\n",
       "      <td>-1.397060</td>\n",
       "      <td>-0.715467</td>\n",
       "      <td>-0.665612</td>\n",
       "      <td>-0.573224</td>\n",
       "      <td>-0.290454</td>\n",
       "      <td>-0.123233</td>\n",
       "      <td>-0.229386</td>\n",
       "      <td>-0.204122</td>\n",
       "      <td>-0.548531</td>\n",
       "      <td>-0.46816</td>\n",
       "      <td>0.93575</td>\n",
       "      <td>0.915819</td>\n",
       "      <td>-0.527416</td>\n",
       "      <td>0.007230</td>\n",
       "      <td>0.789977</td>\n",
       "      <td>-0.445750</td>\n",
       "      <td>1.488405</td>\n",
       "      <td>-1.734381</td>\n",
       "      <td>0.321429</td>\n",
       "      <td>-0.321429</td>\n",
       "      <td>-0.006816</td>\n",
       "      <td>-0.5492</td>\n",
       "      <td>-0.003935</td>\n",
       "      <td>-0.468849</td>\n",
       "      <td>-0.27691</td>\n",
       "      <td>-0.010412</td>\n",
       "      <td>-0.006816</td>\n",
       "      <td>0.967272</td>\n",
       "      <td>-0.325052</td>\n",
       "      <td>0.752968</td>\n",
       "      <td>-0.263179</td>\n",
       "      <td>-0.417494</td>\n",
       "      <td>-0.003935</td>\n",
       "      <td>-0.236662</td>\n",
       "      <td>-0.025205</td>\n",
       "      <td>-0.569124</td>\n",
       "      <td>-0.187626</td>\n",
       "      <td>-0.114385</td>\n",
       "      <td>0.642539</td>\n",
       "      <td>-0.058201</td>\n",
       "      <td>0.356288</td>\n",
       "      <td>-0.193689</td>\n",
       "      <td>-0.093614</td>\n",
       "      <td>-0.126368</td>\n",
       "      <td>-0.226265</td>\n",
       "      <td>-0.172307</td>\n",
       "      <td>0.136606</td>\n",
       "      <td>-0.903045</td>\n",
       "      <td>0.120513</td>\n",
       "      <td>0.313065</td>\n",
       "    </tr>\n",
       "  </tbody>\n",
       "</table>\n",
       "</div>"
      ],
      "text/plain": [
       "   SK_ID_CURR  CODE_GENDER  FLAG_OWN_CAR  FLAG_OWN_REALTY  CNT_CHILDREN  \\\n",
       "0      100001     0.715789     -0.715467        -0.665612     -0.573224   \n",
       "1      100005    -1.397060     -0.715467        -0.665612     -0.573224   \n",
       "\n",
       "   REG_CITY_NOT_LIVE_CITY  REG_REGION_NOT_LIVE_REGION  \\\n",
       "0               -0.290454                   -0.123233   \n",
       "1               -0.290454                   -0.123233   \n",
       "\n",
       "   REG_REGION_NOT_WORK_REGION  LIVE_REGION_NOT_WORK_REGION  \\\n",
       "0                   -0.229386                    -0.204122   \n",
       "1                   -0.229386                    -0.204122   \n",
       "\n",
       "   REG_CITY_NOT_WORK_CITY  LIVE_CITY_NOT_WORK_CITY  EXT_SOURCE_1  \\\n",
       "0               -0.548531                 -0.46816       0.93575   \n",
       "1               -0.548531                 -0.46816       0.93575   \n",
       "\n",
       "   EXT_SOURCE_3  AMT_REQ_CREDIT_BUREAU_YEAR  DAYS_LAST_PHONE_CHANGE  \\\n",
       "0     -1.091919                    0.044389                0.970852   \n",
       "1      0.915819                   -0.527416                0.007230   \n",
       "\n",
       "   EXT_SOURCE_2  AMT_GOODS_PRICE  DAYS_REGISTRATION  DAYS_ID_PUBLISH  \\\n",
       "0      0.789977         0.738422           0.348215        -0.528058   \n",
       "1      0.789977        -0.445750           1.488405        -1.734381   \n",
       "\n",
       "   NAME_CONTRACT_TYPE_Cash loans  NAME_CONTRACT_TYPE_Revolving loans  \\\n",
       "0                       0.321429                           -0.321429   \n",
       "1                       0.321429                           -0.321429   \n",
       "\n",
       "   NAME_INCOME_TYPE_Businessman  NAME_INCOME_TYPE_Commercial associate  \\\n",
       "0                     -0.006816                                -0.5492   \n",
       "1                     -0.006816                                -0.5492   \n",
       "\n",
       "   NAME_INCOME_TYPE_Maternity leave  NAME_INCOME_TYPE_Pensioner  \\\n",
       "0                         -0.003935                   -0.468849   \n",
       "1                         -0.003935                   -0.468849   \n",
       "\n",
       "   NAME_INCOME_TYPE_State servant  NAME_INCOME_TYPE_Student  \\\n",
       "0                        -0.27691                 -0.010412   \n",
       "1                        -0.27691                 -0.010412   \n",
       "\n",
       "   NAME_INCOME_TYPE_Unemployed  NAME_INCOME_TYPE_Working  \\\n",
       "0                    -0.006816                  0.967272   \n",
       "1                    -0.006816                  0.967272   \n",
       "\n",
       "   NAME_FAMILY_STATUS_Civil marriage  NAME_FAMILY_STATUS_Married  \\\n",
       "0                          -0.325052                    0.752968   \n",
       "1                          -0.325052                    0.752968   \n",
       "\n",
       "   NAME_FAMILY_STATUS_Separated  NAME_FAMILY_STATUS_Single / not married  \\\n",
       "0                     -0.263179                                -0.417494   \n",
       "1                     -0.263179                                -0.417494   \n",
       "\n",
       "   NAME_FAMILY_STATUS_Unknown  NAME_FAMILY_STATUS_Widow  \\\n",
       "0                   -0.003935                 -0.236662   \n",
       "1                   -0.003935                 -0.236662   \n",
       "\n",
       "   NAME_EDUCATION_TYPE_Academic degree  NAME_EDUCATION_TYPE_Higher education  \\\n",
       "0                            -0.025205                              1.757085   \n",
       "1                            -0.025205                             -0.569124   \n",
       "\n",
       "   NAME_EDUCATION_TYPE_Incomplete higher  NAME_EDUCATION_TYPE_Lower secondary  \\\n",
       "0                              -0.187626                            -0.114385   \n",
       "1                              -0.187626                            -0.114385   \n",
       "\n",
       "   NAME_EDUCATION_TYPE_Secondary / secondary special  \\\n",
       "0                                          -1.556326   \n",
       "1                                           0.642539   \n",
       "\n",
       "   NAME_HOUSING_TYPE_Co-op apartment  NAME_HOUSING_TYPE_House / apartment  \\\n",
       "0                          -0.058201                             0.356288   \n",
       "1                          -0.058201                             0.356288   \n",
       "\n",
       "   NAME_HOUSING_TYPE_Municipal apartment  NAME_HOUSING_TYPE_Office apartment  \\\n",
       "0                              -0.193689                           -0.093614   \n",
       "1                              -0.193689                           -0.093614   \n",
       "\n",
       "   NAME_HOUSING_TYPE_Rented apartment  NAME_HOUSING_TYPE_With parents  \\\n",
       "0                           -0.126368                       -0.226265   \n",
       "1                           -0.126368                       -0.226265   \n",
       "\n",
       "   DAYS_EMPLOYED_PERC  INCOME_CREDIT_PERC  INCOME_PER_PERSON  \\\n",
       "0            2.890146           -0.472670          -0.341924   \n",
       "1           -0.172307            0.136606          -0.903045   \n",
       "\n",
       "   ANNUITY_INCOME_PERC  PAYMENT_RATE  \n",
       "0             0.328304     -0.161010  \n",
       "1             0.120513      0.313065  "
      ]
     },
     "execution_count": 24,
     "metadata": {},
     "output_type": "execute_result"
    }
   ],
   "source": [
    "x_test_transformed.head(2)"
   ]
  },
  {
   "cell_type": "code",
   "execution_count": 25,
   "id": "ec6ed2ff",
   "metadata": {},
   "outputs": [],
   "source": [
    "x_test_transformed  = x_test_transformed.set_index(\"SK_ID_CURR\")"
   ]
  },
  {
   "cell_type": "code",
   "execution_count": 26,
   "id": "4851ad0c",
   "metadata": {},
   "outputs": [
    {
     "data": {
      "text/html": [
       "<div>\n",
       "<style scoped>\n",
       "    .dataframe tbody tr th:only-of-type {\n",
       "        vertical-align: middle;\n",
       "    }\n",
       "\n",
       "    .dataframe tbody tr th {\n",
       "        vertical-align: top;\n",
       "    }\n",
       "\n",
       "    .dataframe thead th {\n",
       "        text-align: right;\n",
       "    }\n",
       "</style>\n",
       "<table border=\"1\" class=\"dataframe\">\n",
       "  <thead>\n",
       "    <tr style=\"text-align: right;\">\n",
       "      <th></th>\n",
       "      <th>CODE_GENDER</th>\n",
       "      <th>FLAG_OWN_CAR</th>\n",
       "      <th>FLAG_OWN_REALTY</th>\n",
       "      <th>CNT_CHILDREN</th>\n",
       "      <th>REG_CITY_NOT_LIVE_CITY</th>\n",
       "      <th>REG_REGION_NOT_LIVE_REGION</th>\n",
       "      <th>REG_REGION_NOT_WORK_REGION</th>\n",
       "      <th>LIVE_REGION_NOT_WORK_REGION</th>\n",
       "      <th>REG_CITY_NOT_WORK_CITY</th>\n",
       "      <th>LIVE_CITY_NOT_WORK_CITY</th>\n",
       "      <th>EXT_SOURCE_1</th>\n",
       "      <th>EXT_SOURCE_3</th>\n",
       "      <th>AMT_REQ_CREDIT_BUREAU_YEAR</th>\n",
       "      <th>DAYS_LAST_PHONE_CHANGE</th>\n",
       "      <th>EXT_SOURCE_2</th>\n",
       "      <th>AMT_GOODS_PRICE</th>\n",
       "      <th>DAYS_REGISTRATION</th>\n",
       "      <th>DAYS_ID_PUBLISH</th>\n",
       "      <th>NAME_CONTRACT_TYPE_Cash loans</th>\n",
       "      <th>NAME_CONTRACT_TYPE_Revolving loans</th>\n",
       "      <th>NAME_INCOME_TYPE_Businessman</th>\n",
       "      <th>NAME_INCOME_TYPE_Commercial associate</th>\n",
       "      <th>NAME_INCOME_TYPE_Maternity leave</th>\n",
       "      <th>NAME_INCOME_TYPE_Pensioner</th>\n",
       "      <th>NAME_INCOME_TYPE_State servant</th>\n",
       "      <th>NAME_INCOME_TYPE_Student</th>\n",
       "      <th>NAME_INCOME_TYPE_Unemployed</th>\n",
       "      <th>NAME_INCOME_TYPE_Working</th>\n",
       "      <th>NAME_FAMILY_STATUS_Civil marriage</th>\n",
       "      <th>NAME_FAMILY_STATUS_Married</th>\n",
       "      <th>NAME_FAMILY_STATUS_Separated</th>\n",
       "      <th>NAME_FAMILY_STATUS_Single / not married</th>\n",
       "      <th>NAME_FAMILY_STATUS_Unknown</th>\n",
       "      <th>NAME_FAMILY_STATUS_Widow</th>\n",
       "      <th>NAME_EDUCATION_TYPE_Academic degree</th>\n",
       "      <th>NAME_EDUCATION_TYPE_Higher education</th>\n",
       "      <th>NAME_EDUCATION_TYPE_Incomplete higher</th>\n",
       "      <th>NAME_EDUCATION_TYPE_Lower secondary</th>\n",
       "      <th>NAME_EDUCATION_TYPE_Secondary / secondary special</th>\n",
       "      <th>NAME_HOUSING_TYPE_Co-op apartment</th>\n",
       "      <th>NAME_HOUSING_TYPE_House / apartment</th>\n",
       "      <th>NAME_HOUSING_TYPE_Municipal apartment</th>\n",
       "      <th>NAME_HOUSING_TYPE_Office apartment</th>\n",
       "      <th>NAME_HOUSING_TYPE_Rented apartment</th>\n",
       "      <th>NAME_HOUSING_TYPE_With parents</th>\n",
       "      <th>DAYS_EMPLOYED_PERC</th>\n",
       "      <th>INCOME_CREDIT_PERC</th>\n",
       "      <th>INCOME_PER_PERSON</th>\n",
       "      <th>ANNUITY_INCOME_PERC</th>\n",
       "      <th>PAYMENT_RATE</th>\n",
       "    </tr>\n",
       "    <tr>\n",
       "      <th>SK_ID_CURR</th>\n",
       "      <th></th>\n",
       "      <th></th>\n",
       "      <th></th>\n",
       "      <th></th>\n",
       "      <th></th>\n",
       "      <th></th>\n",
       "      <th></th>\n",
       "      <th></th>\n",
       "      <th></th>\n",
       "      <th></th>\n",
       "      <th></th>\n",
       "      <th></th>\n",
       "      <th></th>\n",
       "      <th></th>\n",
       "      <th></th>\n",
       "      <th></th>\n",
       "      <th></th>\n",
       "      <th></th>\n",
       "      <th></th>\n",
       "      <th></th>\n",
       "      <th></th>\n",
       "      <th></th>\n",
       "      <th></th>\n",
       "      <th></th>\n",
       "      <th></th>\n",
       "      <th></th>\n",
       "      <th></th>\n",
       "      <th></th>\n",
       "      <th></th>\n",
       "      <th></th>\n",
       "      <th></th>\n",
       "      <th></th>\n",
       "      <th></th>\n",
       "      <th></th>\n",
       "      <th></th>\n",
       "      <th></th>\n",
       "      <th></th>\n",
       "      <th></th>\n",
       "      <th></th>\n",
       "      <th></th>\n",
       "      <th></th>\n",
       "      <th></th>\n",
       "      <th></th>\n",
       "      <th></th>\n",
       "      <th></th>\n",
       "      <th></th>\n",
       "      <th></th>\n",
       "      <th></th>\n",
       "      <th></th>\n",
       "      <th></th>\n",
       "    </tr>\n",
       "  </thead>\n",
       "  <tbody>\n",
       "    <tr>\n",
       "      <th>100001</th>\n",
       "      <td>0.715789</td>\n",
       "      <td>-0.715467</td>\n",
       "      <td>-0.665612</td>\n",
       "      <td>-0.573224</td>\n",
       "      <td>-0.290454</td>\n",
       "      <td>-0.123233</td>\n",
       "      <td>-0.229386</td>\n",
       "      <td>-0.204122</td>\n",
       "      <td>-0.548531</td>\n",
       "      <td>-0.46816</td>\n",
       "      <td>0.93575</td>\n",
       "      <td>-1.091919</td>\n",
       "      <td>0.044389</td>\n",
       "      <td>0.970852</td>\n",
       "      <td>0.789977</td>\n",
       "      <td>0.738422</td>\n",
       "      <td>0.348215</td>\n",
       "      <td>-0.528058</td>\n",
       "      <td>0.321429</td>\n",
       "      <td>-0.321429</td>\n",
       "      <td>-0.006816</td>\n",
       "      <td>-0.5492</td>\n",
       "      <td>-0.003935</td>\n",
       "      <td>-0.468849</td>\n",
       "      <td>-0.27691</td>\n",
       "      <td>-0.010412</td>\n",
       "      <td>-0.006816</td>\n",
       "      <td>0.967272</td>\n",
       "      <td>-0.325052</td>\n",
       "      <td>0.752968</td>\n",
       "      <td>-0.263179</td>\n",
       "      <td>-0.417494</td>\n",
       "      <td>-0.003935</td>\n",
       "      <td>-0.236662</td>\n",
       "      <td>-0.025205</td>\n",
       "      <td>1.757085</td>\n",
       "      <td>-0.187626</td>\n",
       "      <td>-0.114385</td>\n",
       "      <td>-1.556326</td>\n",
       "      <td>-0.058201</td>\n",
       "      <td>0.356288</td>\n",
       "      <td>-0.193689</td>\n",
       "      <td>-0.093614</td>\n",
       "      <td>-0.126368</td>\n",
       "      <td>-0.226265</td>\n",
       "      <td>2.890146</td>\n",
       "      <td>-0.472670</td>\n",
       "      <td>-0.341924</td>\n",
       "      <td>0.328304</td>\n",
       "      <td>-0.161010</td>\n",
       "    </tr>\n",
       "    <tr>\n",
       "      <th>100005</th>\n",
       "      <td>-1.397060</td>\n",
       "      <td>-0.715467</td>\n",
       "      <td>-0.665612</td>\n",
       "      <td>-0.573224</td>\n",
       "      <td>-0.290454</td>\n",
       "      <td>-0.123233</td>\n",
       "      <td>-0.229386</td>\n",
       "      <td>-0.204122</td>\n",
       "      <td>-0.548531</td>\n",
       "      <td>-0.46816</td>\n",
       "      <td>0.93575</td>\n",
       "      <td>0.915819</td>\n",
       "      <td>-0.527416</td>\n",
       "      <td>0.007230</td>\n",
       "      <td>0.789977</td>\n",
       "      <td>-0.445750</td>\n",
       "      <td>1.488405</td>\n",
       "      <td>-1.734381</td>\n",
       "      <td>0.321429</td>\n",
       "      <td>-0.321429</td>\n",
       "      <td>-0.006816</td>\n",
       "      <td>-0.5492</td>\n",
       "      <td>-0.003935</td>\n",
       "      <td>-0.468849</td>\n",
       "      <td>-0.27691</td>\n",
       "      <td>-0.010412</td>\n",
       "      <td>-0.006816</td>\n",
       "      <td>0.967272</td>\n",
       "      <td>-0.325052</td>\n",
       "      <td>0.752968</td>\n",
       "      <td>-0.263179</td>\n",
       "      <td>-0.417494</td>\n",
       "      <td>-0.003935</td>\n",
       "      <td>-0.236662</td>\n",
       "      <td>-0.025205</td>\n",
       "      <td>-0.569124</td>\n",
       "      <td>-0.187626</td>\n",
       "      <td>-0.114385</td>\n",
       "      <td>0.642539</td>\n",
       "      <td>-0.058201</td>\n",
       "      <td>0.356288</td>\n",
       "      <td>-0.193689</td>\n",
       "      <td>-0.093614</td>\n",
       "      <td>-0.126368</td>\n",
       "      <td>-0.226265</td>\n",
       "      <td>-0.172307</td>\n",
       "      <td>0.136606</td>\n",
       "      <td>-0.903045</td>\n",
       "      <td>0.120513</td>\n",
       "      <td>0.313065</td>\n",
       "    </tr>\n",
       "  </tbody>\n",
       "</table>\n",
       "</div>"
      ],
      "text/plain": [
       "            CODE_GENDER  FLAG_OWN_CAR  FLAG_OWN_REALTY  CNT_CHILDREN  \\\n",
       "SK_ID_CURR                                                             \n",
       "100001         0.715789     -0.715467        -0.665612     -0.573224   \n",
       "100005        -1.397060     -0.715467        -0.665612     -0.573224   \n",
       "\n",
       "            REG_CITY_NOT_LIVE_CITY  REG_REGION_NOT_LIVE_REGION  \\\n",
       "SK_ID_CURR                                                       \n",
       "100001                   -0.290454                   -0.123233   \n",
       "100005                   -0.290454                   -0.123233   \n",
       "\n",
       "            REG_REGION_NOT_WORK_REGION  LIVE_REGION_NOT_WORK_REGION  \\\n",
       "SK_ID_CURR                                                            \n",
       "100001                       -0.229386                    -0.204122   \n",
       "100005                       -0.229386                    -0.204122   \n",
       "\n",
       "            REG_CITY_NOT_WORK_CITY  LIVE_CITY_NOT_WORK_CITY  EXT_SOURCE_1  \\\n",
       "SK_ID_CURR                                                                  \n",
       "100001                   -0.548531                 -0.46816       0.93575   \n",
       "100005                   -0.548531                 -0.46816       0.93575   \n",
       "\n",
       "            EXT_SOURCE_3  AMT_REQ_CREDIT_BUREAU_YEAR  DAYS_LAST_PHONE_CHANGE  \\\n",
       "SK_ID_CURR                                                                     \n",
       "100001         -1.091919                    0.044389                0.970852   \n",
       "100005          0.915819                   -0.527416                0.007230   \n",
       "\n",
       "            EXT_SOURCE_2  AMT_GOODS_PRICE  DAYS_REGISTRATION  DAYS_ID_PUBLISH  \\\n",
       "SK_ID_CURR                                                                      \n",
       "100001          0.789977         0.738422           0.348215        -0.528058   \n",
       "100005          0.789977        -0.445750           1.488405        -1.734381   \n",
       "\n",
       "            NAME_CONTRACT_TYPE_Cash loans  NAME_CONTRACT_TYPE_Revolving loans  \\\n",
       "SK_ID_CURR                                                                      \n",
       "100001                           0.321429                           -0.321429   \n",
       "100005                           0.321429                           -0.321429   \n",
       "\n",
       "            NAME_INCOME_TYPE_Businessman  \\\n",
       "SK_ID_CURR                                 \n",
       "100001                         -0.006816   \n",
       "100005                         -0.006816   \n",
       "\n",
       "            NAME_INCOME_TYPE_Commercial associate  \\\n",
       "SK_ID_CURR                                          \n",
       "100001                                    -0.5492   \n",
       "100005                                    -0.5492   \n",
       "\n",
       "            NAME_INCOME_TYPE_Maternity leave  NAME_INCOME_TYPE_Pensioner  \\\n",
       "SK_ID_CURR                                                                 \n",
       "100001                             -0.003935                   -0.468849   \n",
       "100005                             -0.003935                   -0.468849   \n",
       "\n",
       "            NAME_INCOME_TYPE_State servant  NAME_INCOME_TYPE_Student  \\\n",
       "SK_ID_CURR                                                             \n",
       "100001                            -0.27691                 -0.010412   \n",
       "100005                            -0.27691                 -0.010412   \n",
       "\n",
       "            NAME_INCOME_TYPE_Unemployed  NAME_INCOME_TYPE_Working  \\\n",
       "SK_ID_CURR                                                          \n",
       "100001                        -0.006816                  0.967272   \n",
       "100005                        -0.006816                  0.967272   \n",
       "\n",
       "            NAME_FAMILY_STATUS_Civil marriage  NAME_FAMILY_STATUS_Married  \\\n",
       "SK_ID_CURR                                                                  \n",
       "100001                              -0.325052                    0.752968   \n",
       "100005                              -0.325052                    0.752968   \n",
       "\n",
       "            NAME_FAMILY_STATUS_Separated  \\\n",
       "SK_ID_CURR                                 \n",
       "100001                         -0.263179   \n",
       "100005                         -0.263179   \n",
       "\n",
       "            NAME_FAMILY_STATUS_Single / not married  \\\n",
       "SK_ID_CURR                                            \n",
       "100001                                    -0.417494   \n",
       "100005                                    -0.417494   \n",
       "\n",
       "            NAME_FAMILY_STATUS_Unknown  NAME_FAMILY_STATUS_Widow  \\\n",
       "SK_ID_CURR                                                         \n",
       "100001                       -0.003935                 -0.236662   \n",
       "100005                       -0.003935                 -0.236662   \n",
       "\n",
       "            NAME_EDUCATION_TYPE_Academic degree  \\\n",
       "SK_ID_CURR                                        \n",
       "100001                                -0.025205   \n",
       "100005                                -0.025205   \n",
       "\n",
       "            NAME_EDUCATION_TYPE_Higher education  \\\n",
       "SK_ID_CURR                                         \n",
       "100001                                  1.757085   \n",
       "100005                                 -0.569124   \n",
       "\n",
       "            NAME_EDUCATION_TYPE_Incomplete higher  \\\n",
       "SK_ID_CURR                                          \n",
       "100001                                  -0.187626   \n",
       "100005                                  -0.187626   \n",
       "\n",
       "            NAME_EDUCATION_TYPE_Lower secondary  \\\n",
       "SK_ID_CURR                                        \n",
       "100001                                -0.114385   \n",
       "100005                                -0.114385   \n",
       "\n",
       "            NAME_EDUCATION_TYPE_Secondary / secondary special  \\\n",
       "SK_ID_CURR                                                      \n",
       "100001                                              -1.556326   \n",
       "100005                                               0.642539   \n",
       "\n",
       "            NAME_HOUSING_TYPE_Co-op apartment  \\\n",
       "SK_ID_CURR                                      \n",
       "100001                              -0.058201   \n",
       "100005                              -0.058201   \n",
       "\n",
       "            NAME_HOUSING_TYPE_House / apartment  \\\n",
       "SK_ID_CURR                                        \n",
       "100001                                 0.356288   \n",
       "100005                                 0.356288   \n",
       "\n",
       "            NAME_HOUSING_TYPE_Municipal apartment  \\\n",
       "SK_ID_CURR                                          \n",
       "100001                                  -0.193689   \n",
       "100005                                  -0.193689   \n",
       "\n",
       "            NAME_HOUSING_TYPE_Office apartment  \\\n",
       "SK_ID_CURR                                       \n",
       "100001                               -0.093614   \n",
       "100005                               -0.093614   \n",
       "\n",
       "            NAME_HOUSING_TYPE_Rented apartment  \\\n",
       "SK_ID_CURR                                       \n",
       "100001                               -0.126368   \n",
       "100005                               -0.126368   \n",
       "\n",
       "            NAME_HOUSING_TYPE_With parents  DAYS_EMPLOYED_PERC  \\\n",
       "SK_ID_CURR                                                       \n",
       "100001                           -0.226265            2.890146   \n",
       "100005                           -0.226265           -0.172307   \n",
       "\n",
       "            INCOME_CREDIT_PERC  INCOME_PER_PERSON  ANNUITY_INCOME_PERC  \\\n",
       "SK_ID_CURR                                                               \n",
       "100001               -0.472670          -0.341924             0.328304   \n",
       "100005                0.136606          -0.903045             0.120513   \n",
       "\n",
       "            PAYMENT_RATE  \n",
       "SK_ID_CURR                \n",
       "100001         -0.161010  \n",
       "100005          0.313065  "
      ]
     },
     "execution_count": 26,
     "metadata": {},
     "output_type": "execute_result"
    }
   ],
   "source": [
    "x_test_transformed.head(2)"
   ]
  },
  {
   "cell_type": "code",
   "execution_count": 27,
   "id": "d4c9e1a8",
   "metadata": {},
   "outputs": [],
   "source": [
    "# Interprétabilité du modèle\n",
    "explainer = lime_tabular.LimeTabularExplainer(x_test_transformed,\n",
    "                             feature_names=x_test_transformed.columns,\n",
    "                             class_names=[\"O\", \"1\"],\n",
    "                             discretize_continuous=False)"
   ]
  },
  {
   "cell_type": "markdown",
   "id": "8a43d70c",
   "metadata": {},
   "source": [
    "## <font color=\"red\" id=\"section_5_2\">  5.2 Definition  des fonctions utiles pour le dashboard"
   ]
  },
  {
   "cell_type": "code",
   "execution_count": 30,
   "id": "b7207b0c",
   "metadata": {},
   "outputs": [
    {
     "data": {
      "text/html": [
       "<div>\n",
       "<style scoped>\n",
       "    .dataframe tbody tr th:only-of-type {\n",
       "        vertical-align: middle;\n",
       "    }\n",
       "\n",
       "    .dataframe tbody tr th {\n",
       "        vertical-align: top;\n",
       "    }\n",
       "\n",
       "    .dataframe thead th {\n",
       "        text-align: right;\n",
       "    }\n",
       "</style>\n",
       "<table border=\"1\" class=\"dataframe\">\n",
       "  <thead>\n",
       "    <tr style=\"text-align: right;\">\n",
       "      <th></th>\n",
       "      <th>CODE_GENDER</th>\n",
       "      <th>FLAG_OWN_CAR</th>\n",
       "      <th>FLAG_OWN_REALTY</th>\n",
       "      <th>CNT_CHILDREN</th>\n",
       "      <th>REG_CITY_NOT_LIVE_CITY</th>\n",
       "      <th>REG_REGION_NOT_LIVE_REGION</th>\n",
       "      <th>REG_REGION_NOT_WORK_REGION</th>\n",
       "      <th>LIVE_REGION_NOT_WORK_REGION</th>\n",
       "      <th>REG_CITY_NOT_WORK_CITY</th>\n",
       "      <th>LIVE_CITY_NOT_WORK_CITY</th>\n",
       "      <th>EXT_SOURCE_1</th>\n",
       "      <th>EXT_SOURCE_3</th>\n",
       "      <th>AMT_REQ_CREDIT_BUREAU_YEAR</th>\n",
       "      <th>DAYS_LAST_PHONE_CHANGE</th>\n",
       "      <th>EXT_SOURCE_2</th>\n",
       "      <th>AMT_GOODS_PRICE</th>\n",
       "      <th>DAYS_REGISTRATION</th>\n",
       "      <th>DAYS_ID_PUBLISH</th>\n",
       "      <th>NAME_CONTRACT_TYPE_Cash loans</th>\n",
       "      <th>NAME_CONTRACT_TYPE_Revolving loans</th>\n",
       "      <th>NAME_INCOME_TYPE_Businessman</th>\n",
       "      <th>NAME_INCOME_TYPE_Commercial associate</th>\n",
       "      <th>NAME_INCOME_TYPE_Maternity leave</th>\n",
       "      <th>NAME_INCOME_TYPE_Pensioner</th>\n",
       "      <th>NAME_INCOME_TYPE_State servant</th>\n",
       "      <th>NAME_INCOME_TYPE_Student</th>\n",
       "      <th>NAME_INCOME_TYPE_Unemployed</th>\n",
       "      <th>NAME_INCOME_TYPE_Working</th>\n",
       "      <th>NAME_FAMILY_STATUS_Civil marriage</th>\n",
       "      <th>NAME_FAMILY_STATUS_Married</th>\n",
       "      <th>NAME_FAMILY_STATUS_Separated</th>\n",
       "      <th>NAME_FAMILY_STATUS_Single / not married</th>\n",
       "      <th>NAME_FAMILY_STATUS_Unknown</th>\n",
       "      <th>NAME_FAMILY_STATUS_Widow</th>\n",
       "      <th>NAME_EDUCATION_TYPE_Academic degree</th>\n",
       "      <th>NAME_EDUCATION_TYPE_Higher education</th>\n",
       "      <th>NAME_EDUCATION_TYPE_Incomplete higher</th>\n",
       "      <th>NAME_EDUCATION_TYPE_Lower secondary</th>\n",
       "      <th>NAME_EDUCATION_TYPE_Secondary / secondary special</th>\n",
       "      <th>NAME_HOUSING_TYPE_Co-op apartment</th>\n",
       "      <th>NAME_HOUSING_TYPE_House / apartment</th>\n",
       "      <th>NAME_HOUSING_TYPE_Municipal apartment</th>\n",
       "      <th>NAME_HOUSING_TYPE_Office apartment</th>\n",
       "      <th>NAME_HOUSING_TYPE_Rented apartment</th>\n",
       "      <th>NAME_HOUSING_TYPE_With parents</th>\n",
       "      <th>DAYS_EMPLOYED_PERC</th>\n",
       "      <th>INCOME_CREDIT_PERC</th>\n",
       "      <th>INCOME_PER_PERSON</th>\n",
       "      <th>ANNUITY_INCOME_PERC</th>\n",
       "      <th>PAYMENT_RATE</th>\n",
       "    </tr>\n",
       "    <tr>\n",
       "      <th>SK_ID_CURR</th>\n",
       "      <th></th>\n",
       "      <th></th>\n",
       "      <th></th>\n",
       "      <th></th>\n",
       "      <th></th>\n",
       "      <th></th>\n",
       "      <th></th>\n",
       "      <th></th>\n",
       "      <th></th>\n",
       "      <th></th>\n",
       "      <th></th>\n",
       "      <th></th>\n",
       "      <th></th>\n",
       "      <th></th>\n",
       "      <th></th>\n",
       "      <th></th>\n",
       "      <th></th>\n",
       "      <th></th>\n",
       "      <th></th>\n",
       "      <th></th>\n",
       "      <th></th>\n",
       "      <th></th>\n",
       "      <th></th>\n",
       "      <th></th>\n",
       "      <th></th>\n",
       "      <th></th>\n",
       "      <th></th>\n",
       "      <th></th>\n",
       "      <th></th>\n",
       "      <th></th>\n",
       "      <th></th>\n",
       "      <th></th>\n",
       "      <th></th>\n",
       "      <th></th>\n",
       "      <th></th>\n",
       "      <th></th>\n",
       "      <th></th>\n",
       "      <th></th>\n",
       "      <th></th>\n",
       "      <th></th>\n",
       "      <th></th>\n",
       "      <th></th>\n",
       "      <th></th>\n",
       "      <th></th>\n",
       "      <th></th>\n",
       "      <th></th>\n",
       "      <th></th>\n",
       "      <th></th>\n",
       "      <th></th>\n",
       "      <th></th>\n",
       "    </tr>\n",
       "  </thead>\n",
       "  <tbody>\n",
       "    <tr>\n",
       "      <th>100001</th>\n",
       "      <td>0.715789</td>\n",
       "      <td>-0.715467</td>\n",
       "      <td>-0.665612</td>\n",
       "      <td>-0.573224</td>\n",
       "      <td>-0.290454</td>\n",
       "      <td>-0.123233</td>\n",
       "      <td>-0.229386</td>\n",
       "      <td>-0.204122</td>\n",
       "      <td>-0.548531</td>\n",
       "      <td>-0.46816</td>\n",
       "      <td>0.93575</td>\n",
       "      <td>-1.091919</td>\n",
       "      <td>0.044389</td>\n",
       "      <td>0.970852</td>\n",
       "      <td>0.789977</td>\n",
       "      <td>0.738422</td>\n",
       "      <td>0.348215</td>\n",
       "      <td>-0.528058</td>\n",
       "      <td>0.321429</td>\n",
       "      <td>-0.321429</td>\n",
       "      <td>-0.006816</td>\n",
       "      <td>-0.5492</td>\n",
       "      <td>-0.003935</td>\n",
       "      <td>-0.468849</td>\n",
       "      <td>-0.27691</td>\n",
       "      <td>-0.010412</td>\n",
       "      <td>-0.006816</td>\n",
       "      <td>0.967272</td>\n",
       "      <td>-0.325052</td>\n",
       "      <td>0.752968</td>\n",
       "      <td>-0.263179</td>\n",
       "      <td>-0.417494</td>\n",
       "      <td>-0.003935</td>\n",
       "      <td>-0.236662</td>\n",
       "      <td>-0.025205</td>\n",
       "      <td>1.757085</td>\n",
       "      <td>-0.187626</td>\n",
       "      <td>-0.114385</td>\n",
       "      <td>-1.556326</td>\n",
       "      <td>-0.058201</td>\n",
       "      <td>0.356288</td>\n",
       "      <td>-0.193689</td>\n",
       "      <td>-0.093614</td>\n",
       "      <td>-0.126368</td>\n",
       "      <td>-0.226265</td>\n",
       "      <td>2.890146</td>\n",
       "      <td>-0.472670</td>\n",
       "      <td>-0.341924</td>\n",
       "      <td>0.328304</td>\n",
       "      <td>-0.161010</td>\n",
       "    </tr>\n",
       "    <tr>\n",
       "      <th>100005</th>\n",
       "      <td>-1.397060</td>\n",
       "      <td>-0.715467</td>\n",
       "      <td>-0.665612</td>\n",
       "      <td>-0.573224</td>\n",
       "      <td>-0.290454</td>\n",
       "      <td>-0.123233</td>\n",
       "      <td>-0.229386</td>\n",
       "      <td>-0.204122</td>\n",
       "      <td>-0.548531</td>\n",
       "      <td>-0.46816</td>\n",
       "      <td>0.93575</td>\n",
       "      <td>0.915819</td>\n",
       "      <td>-0.527416</td>\n",
       "      <td>0.007230</td>\n",
       "      <td>0.789977</td>\n",
       "      <td>-0.445750</td>\n",
       "      <td>1.488405</td>\n",
       "      <td>-1.734381</td>\n",
       "      <td>0.321429</td>\n",
       "      <td>-0.321429</td>\n",
       "      <td>-0.006816</td>\n",
       "      <td>-0.5492</td>\n",
       "      <td>-0.003935</td>\n",
       "      <td>-0.468849</td>\n",
       "      <td>-0.27691</td>\n",
       "      <td>-0.010412</td>\n",
       "      <td>-0.006816</td>\n",
       "      <td>0.967272</td>\n",
       "      <td>-0.325052</td>\n",
       "      <td>0.752968</td>\n",
       "      <td>-0.263179</td>\n",
       "      <td>-0.417494</td>\n",
       "      <td>-0.003935</td>\n",
       "      <td>-0.236662</td>\n",
       "      <td>-0.025205</td>\n",
       "      <td>-0.569124</td>\n",
       "      <td>-0.187626</td>\n",
       "      <td>-0.114385</td>\n",
       "      <td>0.642539</td>\n",
       "      <td>-0.058201</td>\n",
       "      <td>0.356288</td>\n",
       "      <td>-0.193689</td>\n",
       "      <td>-0.093614</td>\n",
       "      <td>-0.126368</td>\n",
       "      <td>-0.226265</td>\n",
       "      <td>-0.172307</td>\n",
       "      <td>0.136606</td>\n",
       "      <td>-0.903045</td>\n",
       "      <td>0.120513</td>\n",
       "      <td>0.313065</td>\n",
       "    </tr>\n",
       "  </tbody>\n",
       "</table>\n",
       "</div>"
      ],
      "text/plain": [
       "            CODE_GENDER  FLAG_OWN_CAR  FLAG_OWN_REALTY  CNT_CHILDREN  \\\n",
       "SK_ID_CURR                                                             \n",
       "100001         0.715789     -0.715467        -0.665612     -0.573224   \n",
       "100005        -1.397060     -0.715467        -0.665612     -0.573224   \n",
       "\n",
       "            REG_CITY_NOT_LIVE_CITY  REG_REGION_NOT_LIVE_REGION  \\\n",
       "SK_ID_CURR                                                       \n",
       "100001                   -0.290454                   -0.123233   \n",
       "100005                   -0.290454                   -0.123233   \n",
       "\n",
       "            REG_REGION_NOT_WORK_REGION  LIVE_REGION_NOT_WORK_REGION  \\\n",
       "SK_ID_CURR                                                            \n",
       "100001                       -0.229386                    -0.204122   \n",
       "100005                       -0.229386                    -0.204122   \n",
       "\n",
       "            REG_CITY_NOT_WORK_CITY  LIVE_CITY_NOT_WORK_CITY  EXT_SOURCE_1  \\\n",
       "SK_ID_CURR                                                                  \n",
       "100001                   -0.548531                 -0.46816       0.93575   \n",
       "100005                   -0.548531                 -0.46816       0.93575   \n",
       "\n",
       "            EXT_SOURCE_3  AMT_REQ_CREDIT_BUREAU_YEAR  DAYS_LAST_PHONE_CHANGE  \\\n",
       "SK_ID_CURR                                                                     \n",
       "100001         -1.091919                    0.044389                0.970852   \n",
       "100005          0.915819                   -0.527416                0.007230   \n",
       "\n",
       "            EXT_SOURCE_2  AMT_GOODS_PRICE  DAYS_REGISTRATION  DAYS_ID_PUBLISH  \\\n",
       "SK_ID_CURR                                                                      \n",
       "100001          0.789977         0.738422           0.348215        -0.528058   \n",
       "100005          0.789977        -0.445750           1.488405        -1.734381   \n",
       "\n",
       "            NAME_CONTRACT_TYPE_Cash loans  NAME_CONTRACT_TYPE_Revolving loans  \\\n",
       "SK_ID_CURR                                                                      \n",
       "100001                           0.321429                           -0.321429   \n",
       "100005                           0.321429                           -0.321429   \n",
       "\n",
       "            NAME_INCOME_TYPE_Businessman  \\\n",
       "SK_ID_CURR                                 \n",
       "100001                         -0.006816   \n",
       "100005                         -0.006816   \n",
       "\n",
       "            NAME_INCOME_TYPE_Commercial associate  \\\n",
       "SK_ID_CURR                                          \n",
       "100001                                    -0.5492   \n",
       "100005                                    -0.5492   \n",
       "\n",
       "            NAME_INCOME_TYPE_Maternity leave  NAME_INCOME_TYPE_Pensioner  \\\n",
       "SK_ID_CURR                                                                 \n",
       "100001                             -0.003935                   -0.468849   \n",
       "100005                             -0.003935                   -0.468849   \n",
       "\n",
       "            NAME_INCOME_TYPE_State servant  NAME_INCOME_TYPE_Student  \\\n",
       "SK_ID_CURR                                                             \n",
       "100001                            -0.27691                 -0.010412   \n",
       "100005                            -0.27691                 -0.010412   \n",
       "\n",
       "            NAME_INCOME_TYPE_Unemployed  NAME_INCOME_TYPE_Working  \\\n",
       "SK_ID_CURR                                                          \n",
       "100001                        -0.006816                  0.967272   \n",
       "100005                        -0.006816                  0.967272   \n",
       "\n",
       "            NAME_FAMILY_STATUS_Civil marriage  NAME_FAMILY_STATUS_Married  \\\n",
       "SK_ID_CURR                                                                  \n",
       "100001                              -0.325052                    0.752968   \n",
       "100005                              -0.325052                    0.752968   \n",
       "\n",
       "            NAME_FAMILY_STATUS_Separated  \\\n",
       "SK_ID_CURR                                 \n",
       "100001                         -0.263179   \n",
       "100005                         -0.263179   \n",
       "\n",
       "            NAME_FAMILY_STATUS_Single / not married  \\\n",
       "SK_ID_CURR                                            \n",
       "100001                                    -0.417494   \n",
       "100005                                    -0.417494   \n",
       "\n",
       "            NAME_FAMILY_STATUS_Unknown  NAME_FAMILY_STATUS_Widow  \\\n",
       "SK_ID_CURR                                                         \n",
       "100001                       -0.003935                 -0.236662   \n",
       "100005                       -0.003935                 -0.236662   \n",
       "\n",
       "            NAME_EDUCATION_TYPE_Academic degree  \\\n",
       "SK_ID_CURR                                        \n",
       "100001                                -0.025205   \n",
       "100005                                -0.025205   \n",
       "\n",
       "            NAME_EDUCATION_TYPE_Higher education  \\\n",
       "SK_ID_CURR                                         \n",
       "100001                                  1.757085   \n",
       "100005                                 -0.569124   \n",
       "\n",
       "            NAME_EDUCATION_TYPE_Incomplete higher  \\\n",
       "SK_ID_CURR                                          \n",
       "100001                                  -0.187626   \n",
       "100005                                  -0.187626   \n",
       "\n",
       "            NAME_EDUCATION_TYPE_Lower secondary  \\\n",
       "SK_ID_CURR                                        \n",
       "100001                                -0.114385   \n",
       "100005                                -0.114385   \n",
       "\n",
       "            NAME_EDUCATION_TYPE_Secondary / secondary special  \\\n",
       "SK_ID_CURR                                                      \n",
       "100001                                              -1.556326   \n",
       "100005                                               0.642539   \n",
       "\n",
       "            NAME_HOUSING_TYPE_Co-op apartment  \\\n",
       "SK_ID_CURR                                      \n",
       "100001                              -0.058201   \n",
       "100005                              -0.058201   \n",
       "\n",
       "            NAME_HOUSING_TYPE_House / apartment  \\\n",
       "SK_ID_CURR                                        \n",
       "100001                                 0.356288   \n",
       "100005                                 0.356288   \n",
       "\n",
       "            NAME_HOUSING_TYPE_Municipal apartment  \\\n",
       "SK_ID_CURR                                          \n",
       "100001                                  -0.193689   \n",
       "100005                                  -0.193689   \n",
       "\n",
       "            NAME_HOUSING_TYPE_Office apartment  \\\n",
       "SK_ID_CURR                                       \n",
       "100001                               -0.093614   \n",
       "100005                               -0.093614   \n",
       "\n",
       "            NAME_HOUSING_TYPE_Rented apartment  \\\n",
       "SK_ID_CURR                                       \n",
       "100001                               -0.126368   \n",
       "100005                               -0.126368   \n",
       "\n",
       "            NAME_HOUSING_TYPE_With parents  DAYS_EMPLOYED_PERC  \\\n",
       "SK_ID_CURR                                                       \n",
       "100001                           -0.226265            2.890146   \n",
       "100005                           -0.226265           -0.172307   \n",
       "\n",
       "            INCOME_CREDIT_PERC  INCOME_PER_PERSON  ANNUITY_INCOME_PERC  \\\n",
       "SK_ID_CURR                                                               \n",
       "100001               -0.472670          -0.341924             0.328304   \n",
       "100005                0.136606          -0.903045             0.120513   \n",
       "\n",
       "            PAYMENT_RATE  \n",
       "SK_ID_CURR                \n",
       "100001         -0.161010  \n",
       "100005          0.313065  "
      ]
     },
     "execution_count": 30,
     "metadata": {},
     "output_type": "execute_result"
    }
   ],
   "source": [
    "x_test_transformed.head(2)"
   ]
  },
  {
   "cell_type": "code",
   "execution_count": 31,
   "id": "451a8281",
   "metadata": {},
   "outputs": [
    {
     "data": {
      "text/plain": [
       "array([0.57357325, 0.42642675])"
      ]
     },
     "execution_count": 31,
     "metadata": {},
     "output_type": "execute_result"
    }
   ],
   "source": [
    "pipe_model[3].predict_proba(np.array(x_test_transformed.loc[100001]).reshape(1, -1)).flatten()"
   ]
  },
  {
   "cell_type": "code",
   "execution_count": 33,
   "id": "055906bd",
   "metadata": {},
   "outputs": [],
   "source": [
    "def upadat_proba_bar(id_client):    \n",
    "    values = pipe_model[3].predict_proba(np.array(x_test_transformed.loc[id_client]).reshape(1, -1)).flatten()\n",
    "    # Retourne le bar plot mis à jour pour l'id client\n",
    "    df = ['0', \"1\"]\n",
    "    fig_proba = px.bar(x = df, y= values,\n",
    "     color=['Non faillite', 'Faillite'],\n",
    "            labels=dict(x='Situation', y='Score proba'),\n",
    "            title='Information sur le client', text_auto=True)\n",
    "    fig_proba.update_layout(autosize=False,\n",
    "        width=500,\n",
    "        height=500)\n",
    "    return fig_proba"
   ]
  },
  {
   "cell_type": "code",
   "execution_count": 34,
   "id": "1e4e2914",
   "metadata": {},
   "outputs": [
    {
     "data": {
      "application/vnd.plotly.v1+json": {
       "config": {
        "plotlyServerURL": "https://plot.ly"
       },
       "data": [
        {
         "alignmentgroup": "True",
         "hovertemplate": "color=Non faillite<br>Situation=%{x}<br>Score proba=%{y}<extra></extra>",
         "legendgroup": "Non faillite",
         "marker": {
          "color": "#636efa",
          "pattern": {
           "shape": ""
          }
         },
         "name": "Non faillite",
         "offsetgroup": "Non faillite",
         "orientation": "v",
         "showlegend": true,
         "textposition": "auto",
         "texttemplate": "%{y}",
         "type": "bar",
         "x": [
          "0"
         ],
         "xaxis": "x",
         "y": [
          0.5735732456585005
         ],
         "yaxis": "y"
        },
        {
         "alignmentgroup": "True",
         "hovertemplate": "color=Faillite<br>Situation=%{x}<br>Score proba=%{y}<extra></extra>",
         "legendgroup": "Faillite",
         "marker": {
          "color": "#EF553B",
          "pattern": {
           "shape": ""
          }
         },
         "name": "Faillite",
         "offsetgroup": "Faillite",
         "orientation": "v",
         "showlegend": true,
         "textposition": "auto",
         "texttemplate": "%{y}",
         "type": "bar",
         "x": [
          "1"
         ],
         "xaxis": "x",
         "y": [
          0.4264267543414995
         ],
         "yaxis": "y"
        }
       ],
       "layout": {
        "autosize": false,
        "barmode": "relative",
        "height": 500,
        "legend": {
         "title": {
          "text": "color"
         },
         "tracegroupgap": 0
        },
        "template": {
         "data": {
          "bar": [
           {
            "error_x": {
             "color": "#2a3f5f"
            },
            "error_y": {
             "color": "#2a3f5f"
            },
            "marker": {
             "line": {
              "color": "#E5ECF6",
              "width": 0.5
             },
             "pattern": {
              "fillmode": "overlay",
              "size": 10,
              "solidity": 0.2
             }
            },
            "type": "bar"
           }
          ],
          "barpolar": [
           {
            "marker": {
             "line": {
              "color": "#E5ECF6",
              "width": 0.5
             },
             "pattern": {
              "fillmode": "overlay",
              "size": 10,
              "solidity": 0.2
             }
            },
            "type": "barpolar"
           }
          ],
          "carpet": [
           {
            "aaxis": {
             "endlinecolor": "#2a3f5f",
             "gridcolor": "white",
             "linecolor": "white",
             "minorgridcolor": "white",
             "startlinecolor": "#2a3f5f"
            },
            "baxis": {
             "endlinecolor": "#2a3f5f",
             "gridcolor": "white",
             "linecolor": "white",
             "minorgridcolor": "white",
             "startlinecolor": "#2a3f5f"
            },
            "type": "carpet"
           }
          ],
          "choropleth": [
           {
            "colorbar": {
             "outlinewidth": 0,
             "ticks": ""
            },
            "type": "choropleth"
           }
          ],
          "contour": [
           {
            "colorbar": {
             "outlinewidth": 0,
             "ticks": ""
            },
            "colorscale": [
             [
              0,
              "#0d0887"
             ],
             [
              0.1111111111111111,
              "#46039f"
             ],
             [
              0.2222222222222222,
              "#7201a8"
             ],
             [
              0.3333333333333333,
              "#9c179e"
             ],
             [
              0.4444444444444444,
              "#bd3786"
             ],
             [
              0.5555555555555556,
              "#d8576b"
             ],
             [
              0.6666666666666666,
              "#ed7953"
             ],
             [
              0.7777777777777778,
              "#fb9f3a"
             ],
             [
              0.8888888888888888,
              "#fdca26"
             ],
             [
              1,
              "#f0f921"
             ]
            ],
            "type": "contour"
           }
          ],
          "contourcarpet": [
           {
            "colorbar": {
             "outlinewidth": 0,
             "ticks": ""
            },
            "type": "contourcarpet"
           }
          ],
          "heatmap": [
           {
            "colorbar": {
             "outlinewidth": 0,
             "ticks": ""
            },
            "colorscale": [
             [
              0,
              "#0d0887"
             ],
             [
              0.1111111111111111,
              "#46039f"
             ],
             [
              0.2222222222222222,
              "#7201a8"
             ],
             [
              0.3333333333333333,
              "#9c179e"
             ],
             [
              0.4444444444444444,
              "#bd3786"
             ],
             [
              0.5555555555555556,
              "#d8576b"
             ],
             [
              0.6666666666666666,
              "#ed7953"
             ],
             [
              0.7777777777777778,
              "#fb9f3a"
             ],
             [
              0.8888888888888888,
              "#fdca26"
             ],
             [
              1,
              "#f0f921"
             ]
            ],
            "type": "heatmap"
           }
          ],
          "heatmapgl": [
           {
            "colorbar": {
             "outlinewidth": 0,
             "ticks": ""
            },
            "colorscale": [
             [
              0,
              "#0d0887"
             ],
             [
              0.1111111111111111,
              "#46039f"
             ],
             [
              0.2222222222222222,
              "#7201a8"
             ],
             [
              0.3333333333333333,
              "#9c179e"
             ],
             [
              0.4444444444444444,
              "#bd3786"
             ],
             [
              0.5555555555555556,
              "#d8576b"
             ],
             [
              0.6666666666666666,
              "#ed7953"
             ],
             [
              0.7777777777777778,
              "#fb9f3a"
             ],
             [
              0.8888888888888888,
              "#fdca26"
             ],
             [
              1,
              "#f0f921"
             ]
            ],
            "type": "heatmapgl"
           }
          ],
          "histogram": [
           {
            "marker": {
             "pattern": {
              "fillmode": "overlay",
              "size": 10,
              "solidity": 0.2
             }
            },
            "type": "histogram"
           }
          ],
          "histogram2d": [
           {
            "colorbar": {
             "outlinewidth": 0,
             "ticks": ""
            },
            "colorscale": [
             [
              0,
              "#0d0887"
             ],
             [
              0.1111111111111111,
              "#46039f"
             ],
             [
              0.2222222222222222,
              "#7201a8"
             ],
             [
              0.3333333333333333,
              "#9c179e"
             ],
             [
              0.4444444444444444,
              "#bd3786"
             ],
             [
              0.5555555555555556,
              "#d8576b"
             ],
             [
              0.6666666666666666,
              "#ed7953"
             ],
             [
              0.7777777777777778,
              "#fb9f3a"
             ],
             [
              0.8888888888888888,
              "#fdca26"
             ],
             [
              1,
              "#f0f921"
             ]
            ],
            "type": "histogram2d"
           }
          ],
          "histogram2dcontour": [
           {
            "colorbar": {
             "outlinewidth": 0,
             "ticks": ""
            },
            "colorscale": [
             [
              0,
              "#0d0887"
             ],
             [
              0.1111111111111111,
              "#46039f"
             ],
             [
              0.2222222222222222,
              "#7201a8"
             ],
             [
              0.3333333333333333,
              "#9c179e"
             ],
             [
              0.4444444444444444,
              "#bd3786"
             ],
             [
              0.5555555555555556,
              "#d8576b"
             ],
             [
              0.6666666666666666,
              "#ed7953"
             ],
             [
              0.7777777777777778,
              "#fb9f3a"
             ],
             [
              0.8888888888888888,
              "#fdca26"
             ],
             [
              1,
              "#f0f921"
             ]
            ],
            "type": "histogram2dcontour"
           }
          ],
          "mesh3d": [
           {
            "colorbar": {
             "outlinewidth": 0,
             "ticks": ""
            },
            "type": "mesh3d"
           }
          ],
          "parcoords": [
           {
            "line": {
             "colorbar": {
              "outlinewidth": 0,
              "ticks": ""
             }
            },
            "type": "parcoords"
           }
          ],
          "pie": [
           {
            "automargin": true,
            "type": "pie"
           }
          ],
          "scatter": [
           {
            "marker": {
             "colorbar": {
              "outlinewidth": 0,
              "ticks": ""
             }
            },
            "type": "scatter"
           }
          ],
          "scatter3d": [
           {
            "line": {
             "colorbar": {
              "outlinewidth": 0,
              "ticks": ""
             }
            },
            "marker": {
             "colorbar": {
              "outlinewidth": 0,
              "ticks": ""
             }
            },
            "type": "scatter3d"
           }
          ],
          "scattercarpet": [
           {
            "marker": {
             "colorbar": {
              "outlinewidth": 0,
              "ticks": ""
             }
            },
            "type": "scattercarpet"
           }
          ],
          "scattergeo": [
           {
            "marker": {
             "colorbar": {
              "outlinewidth": 0,
              "ticks": ""
             }
            },
            "type": "scattergeo"
           }
          ],
          "scattergl": [
           {
            "marker": {
             "colorbar": {
              "outlinewidth": 0,
              "ticks": ""
             }
            },
            "type": "scattergl"
           }
          ],
          "scattermapbox": [
           {
            "marker": {
             "colorbar": {
              "outlinewidth": 0,
              "ticks": ""
             }
            },
            "type": "scattermapbox"
           }
          ],
          "scatterpolar": [
           {
            "marker": {
             "colorbar": {
              "outlinewidth": 0,
              "ticks": ""
             }
            },
            "type": "scatterpolar"
           }
          ],
          "scatterpolargl": [
           {
            "marker": {
             "colorbar": {
              "outlinewidth": 0,
              "ticks": ""
             }
            },
            "type": "scatterpolargl"
           }
          ],
          "scatterternary": [
           {
            "marker": {
             "colorbar": {
              "outlinewidth": 0,
              "ticks": ""
             }
            },
            "type": "scatterternary"
           }
          ],
          "surface": [
           {
            "colorbar": {
             "outlinewidth": 0,
             "ticks": ""
            },
            "colorscale": [
             [
              0,
              "#0d0887"
             ],
             [
              0.1111111111111111,
              "#46039f"
             ],
             [
              0.2222222222222222,
              "#7201a8"
             ],
             [
              0.3333333333333333,
              "#9c179e"
             ],
             [
              0.4444444444444444,
              "#bd3786"
             ],
             [
              0.5555555555555556,
              "#d8576b"
             ],
             [
              0.6666666666666666,
              "#ed7953"
             ],
             [
              0.7777777777777778,
              "#fb9f3a"
             ],
             [
              0.8888888888888888,
              "#fdca26"
             ],
             [
              1,
              "#f0f921"
             ]
            ],
            "type": "surface"
           }
          ],
          "table": [
           {
            "cells": {
             "fill": {
              "color": "#EBF0F8"
             },
             "line": {
              "color": "white"
             }
            },
            "header": {
             "fill": {
              "color": "#C8D4E3"
             },
             "line": {
              "color": "white"
             }
            },
            "type": "table"
           }
          ]
         },
         "layout": {
          "annotationdefaults": {
           "arrowcolor": "#2a3f5f",
           "arrowhead": 0,
           "arrowwidth": 1
          },
          "autotypenumbers": "strict",
          "coloraxis": {
           "colorbar": {
            "outlinewidth": 0,
            "ticks": ""
           }
          },
          "colorscale": {
           "diverging": [
            [
             0,
             "#8e0152"
            ],
            [
             0.1,
             "#c51b7d"
            ],
            [
             0.2,
             "#de77ae"
            ],
            [
             0.3,
             "#f1b6da"
            ],
            [
             0.4,
             "#fde0ef"
            ],
            [
             0.5,
             "#f7f7f7"
            ],
            [
             0.6,
             "#e6f5d0"
            ],
            [
             0.7,
             "#b8e186"
            ],
            [
             0.8,
             "#7fbc41"
            ],
            [
             0.9,
             "#4d9221"
            ],
            [
             1,
             "#276419"
            ]
           ],
           "sequential": [
            [
             0,
             "#0d0887"
            ],
            [
             0.1111111111111111,
             "#46039f"
            ],
            [
             0.2222222222222222,
             "#7201a8"
            ],
            [
             0.3333333333333333,
             "#9c179e"
            ],
            [
             0.4444444444444444,
             "#bd3786"
            ],
            [
             0.5555555555555556,
             "#d8576b"
            ],
            [
             0.6666666666666666,
             "#ed7953"
            ],
            [
             0.7777777777777778,
             "#fb9f3a"
            ],
            [
             0.8888888888888888,
             "#fdca26"
            ],
            [
             1,
             "#f0f921"
            ]
           ],
           "sequentialminus": [
            [
             0,
             "#0d0887"
            ],
            [
             0.1111111111111111,
             "#46039f"
            ],
            [
             0.2222222222222222,
             "#7201a8"
            ],
            [
             0.3333333333333333,
             "#9c179e"
            ],
            [
             0.4444444444444444,
             "#bd3786"
            ],
            [
             0.5555555555555556,
             "#d8576b"
            ],
            [
             0.6666666666666666,
             "#ed7953"
            ],
            [
             0.7777777777777778,
             "#fb9f3a"
            ],
            [
             0.8888888888888888,
             "#fdca26"
            ],
            [
             1,
             "#f0f921"
            ]
           ]
          },
          "colorway": [
           "#636efa",
           "#EF553B",
           "#00cc96",
           "#ab63fa",
           "#FFA15A",
           "#19d3f3",
           "#FF6692",
           "#B6E880",
           "#FF97FF",
           "#FECB52"
          ],
          "font": {
           "color": "#2a3f5f"
          },
          "geo": {
           "bgcolor": "white",
           "lakecolor": "white",
           "landcolor": "#E5ECF6",
           "showlakes": true,
           "showland": true,
           "subunitcolor": "white"
          },
          "hoverlabel": {
           "align": "left"
          },
          "hovermode": "closest",
          "mapbox": {
           "style": "light"
          },
          "paper_bgcolor": "white",
          "plot_bgcolor": "#E5ECF6",
          "polar": {
           "angularaxis": {
            "gridcolor": "white",
            "linecolor": "white",
            "ticks": ""
           },
           "bgcolor": "#E5ECF6",
           "radialaxis": {
            "gridcolor": "white",
            "linecolor": "white",
            "ticks": ""
           }
          },
          "scene": {
           "xaxis": {
            "backgroundcolor": "#E5ECF6",
            "gridcolor": "white",
            "gridwidth": 2,
            "linecolor": "white",
            "showbackground": true,
            "ticks": "",
            "zerolinecolor": "white"
           },
           "yaxis": {
            "backgroundcolor": "#E5ECF6",
            "gridcolor": "white",
            "gridwidth": 2,
            "linecolor": "white",
            "showbackground": true,
            "ticks": "",
            "zerolinecolor": "white"
           },
           "zaxis": {
            "backgroundcolor": "#E5ECF6",
            "gridcolor": "white",
            "gridwidth": 2,
            "linecolor": "white",
            "showbackground": true,
            "ticks": "",
            "zerolinecolor": "white"
           }
          },
          "shapedefaults": {
           "line": {
            "color": "#2a3f5f"
           }
          },
          "ternary": {
           "aaxis": {
            "gridcolor": "white",
            "linecolor": "white",
            "ticks": ""
           },
           "baxis": {
            "gridcolor": "white",
            "linecolor": "white",
            "ticks": ""
           },
           "bgcolor": "#E5ECF6",
           "caxis": {
            "gridcolor": "white",
            "linecolor": "white",
            "ticks": ""
           }
          },
          "title": {
           "x": 0.05
          },
          "xaxis": {
           "automargin": true,
           "gridcolor": "white",
           "linecolor": "white",
           "ticks": "",
           "title": {
            "standoff": 15
           },
           "zerolinecolor": "white",
           "zerolinewidth": 2
          },
          "yaxis": {
           "automargin": true,
           "gridcolor": "white",
           "linecolor": "white",
           "ticks": "",
           "title": {
            "standoff": 15
           },
           "zerolinecolor": "white",
           "zerolinewidth": 2
          }
         }
        },
        "title": {
         "text": "Information sur le client"
        },
        "width": 500,
        "xaxis": {
         "anchor": "y",
         "domain": [
          0,
          1
         ],
         "title": {
          "text": "Situation"
         }
        },
        "yaxis": {
         "anchor": "x",
         "domain": [
          0,
          1
         ],
         "title": {
          "text": "Score proba"
         }
        }
       }
      },
      "text/html": [
       "<div>                            <div id=\"3ce2ca9c-bc28-4616-8e56-23b3f38b52ac\" class=\"plotly-graph-div\" style=\"height:500px; width:500px;\"></div>            <script type=\"text/javascript\">                require([\"plotly\"], function(Plotly) {                    window.PLOTLYENV=window.PLOTLYENV || {};                                    if (document.getElementById(\"3ce2ca9c-bc28-4616-8e56-23b3f38b52ac\")) {                    Plotly.newPlot(                        \"3ce2ca9c-bc28-4616-8e56-23b3f38b52ac\",                        [{\"alignmentgroup\":\"True\",\"hovertemplate\":\"color=Non faillite<br>Situation=%{x}<br>Score proba=%{y}<extra></extra>\",\"legendgroup\":\"Non faillite\",\"marker\":{\"color\":\"#636efa\",\"pattern\":{\"shape\":\"\"}},\"name\":\"Non faillite\",\"offsetgroup\":\"Non faillite\",\"orientation\":\"v\",\"showlegend\":true,\"textposition\":\"auto\",\"texttemplate\":\"%{y}\",\"x\":[\"0\"],\"xaxis\":\"x\",\"y\":[0.5735732456585005],\"yaxis\":\"y\",\"type\":\"bar\"},{\"alignmentgroup\":\"True\",\"hovertemplate\":\"color=Faillite<br>Situation=%{x}<br>Score proba=%{y}<extra></extra>\",\"legendgroup\":\"Faillite\",\"marker\":{\"color\":\"#EF553B\",\"pattern\":{\"shape\":\"\"}},\"name\":\"Faillite\",\"offsetgroup\":\"Faillite\",\"orientation\":\"v\",\"showlegend\":true,\"textposition\":\"auto\",\"texttemplate\":\"%{y}\",\"x\":[\"1\"],\"xaxis\":\"x\",\"y\":[0.4264267543414995],\"yaxis\":\"y\",\"type\":\"bar\"}],                        {\"template\":{\"data\":{\"bar\":[{\"error_x\":{\"color\":\"#2a3f5f\"},\"error_y\":{\"color\":\"#2a3f5f\"},\"marker\":{\"line\":{\"color\":\"#E5ECF6\",\"width\":0.5},\"pattern\":{\"fillmode\":\"overlay\",\"size\":10,\"solidity\":0.2}},\"type\":\"bar\"}],\"barpolar\":[{\"marker\":{\"line\":{\"color\":\"#E5ECF6\",\"width\":0.5},\"pattern\":{\"fillmode\":\"overlay\",\"size\":10,\"solidity\":0.2}},\"type\":\"barpolar\"}],\"carpet\":[{\"aaxis\":{\"endlinecolor\":\"#2a3f5f\",\"gridcolor\":\"white\",\"linecolor\":\"white\",\"minorgridcolor\":\"white\",\"startlinecolor\":\"#2a3f5f\"},\"baxis\":{\"endlinecolor\":\"#2a3f5f\",\"gridcolor\":\"white\",\"linecolor\":\"white\",\"minorgridcolor\":\"white\",\"startlinecolor\":\"#2a3f5f\"},\"type\":\"carpet\"}],\"choropleth\":[{\"colorbar\":{\"outlinewidth\":0,\"ticks\":\"\"},\"type\":\"choropleth\"}],\"contour\":[{\"colorbar\":{\"outlinewidth\":0,\"ticks\":\"\"},\"colorscale\":[[0.0,\"#0d0887\"],[0.1111111111111111,\"#46039f\"],[0.2222222222222222,\"#7201a8\"],[0.3333333333333333,\"#9c179e\"],[0.4444444444444444,\"#bd3786\"],[0.5555555555555556,\"#d8576b\"],[0.6666666666666666,\"#ed7953\"],[0.7777777777777778,\"#fb9f3a\"],[0.8888888888888888,\"#fdca26\"],[1.0,\"#f0f921\"]],\"type\":\"contour\"}],\"contourcarpet\":[{\"colorbar\":{\"outlinewidth\":0,\"ticks\":\"\"},\"type\":\"contourcarpet\"}],\"heatmap\":[{\"colorbar\":{\"outlinewidth\":0,\"ticks\":\"\"},\"colorscale\":[[0.0,\"#0d0887\"],[0.1111111111111111,\"#46039f\"],[0.2222222222222222,\"#7201a8\"],[0.3333333333333333,\"#9c179e\"],[0.4444444444444444,\"#bd3786\"],[0.5555555555555556,\"#d8576b\"],[0.6666666666666666,\"#ed7953\"],[0.7777777777777778,\"#fb9f3a\"],[0.8888888888888888,\"#fdca26\"],[1.0,\"#f0f921\"]],\"type\":\"heatmap\"}],\"heatmapgl\":[{\"colorbar\":{\"outlinewidth\":0,\"ticks\":\"\"},\"colorscale\":[[0.0,\"#0d0887\"],[0.1111111111111111,\"#46039f\"],[0.2222222222222222,\"#7201a8\"],[0.3333333333333333,\"#9c179e\"],[0.4444444444444444,\"#bd3786\"],[0.5555555555555556,\"#d8576b\"],[0.6666666666666666,\"#ed7953\"],[0.7777777777777778,\"#fb9f3a\"],[0.8888888888888888,\"#fdca26\"],[1.0,\"#f0f921\"]],\"type\":\"heatmapgl\"}],\"histogram\":[{\"marker\":{\"pattern\":{\"fillmode\":\"overlay\",\"size\":10,\"solidity\":0.2}},\"type\":\"histogram\"}],\"histogram2d\":[{\"colorbar\":{\"outlinewidth\":0,\"ticks\":\"\"},\"colorscale\":[[0.0,\"#0d0887\"],[0.1111111111111111,\"#46039f\"],[0.2222222222222222,\"#7201a8\"],[0.3333333333333333,\"#9c179e\"],[0.4444444444444444,\"#bd3786\"],[0.5555555555555556,\"#d8576b\"],[0.6666666666666666,\"#ed7953\"],[0.7777777777777778,\"#fb9f3a\"],[0.8888888888888888,\"#fdca26\"],[1.0,\"#f0f921\"]],\"type\":\"histogram2d\"}],\"histogram2dcontour\":[{\"colorbar\":{\"outlinewidth\":0,\"ticks\":\"\"},\"colorscale\":[[0.0,\"#0d0887\"],[0.1111111111111111,\"#46039f\"],[0.2222222222222222,\"#7201a8\"],[0.3333333333333333,\"#9c179e\"],[0.4444444444444444,\"#bd3786\"],[0.5555555555555556,\"#d8576b\"],[0.6666666666666666,\"#ed7953\"],[0.7777777777777778,\"#fb9f3a\"],[0.8888888888888888,\"#fdca26\"],[1.0,\"#f0f921\"]],\"type\":\"histogram2dcontour\"}],\"mesh3d\":[{\"colorbar\":{\"outlinewidth\":0,\"ticks\":\"\"},\"type\":\"mesh3d\"}],\"parcoords\":[{\"line\":{\"colorbar\":{\"outlinewidth\":0,\"ticks\":\"\"}},\"type\":\"parcoords\"}],\"pie\":[{\"automargin\":true,\"type\":\"pie\"}],\"scatter\":[{\"marker\":{\"colorbar\":{\"outlinewidth\":0,\"ticks\":\"\"}},\"type\":\"scatter\"}],\"scatter3d\":[{\"line\":{\"colorbar\":{\"outlinewidth\":0,\"ticks\":\"\"}},\"marker\":{\"colorbar\":{\"outlinewidth\":0,\"ticks\":\"\"}},\"type\":\"scatter3d\"}],\"scattercarpet\":[{\"marker\":{\"colorbar\":{\"outlinewidth\":0,\"ticks\":\"\"}},\"type\":\"scattercarpet\"}],\"scattergeo\":[{\"marker\":{\"colorbar\":{\"outlinewidth\":0,\"ticks\":\"\"}},\"type\":\"scattergeo\"}],\"scattergl\":[{\"marker\":{\"colorbar\":{\"outlinewidth\":0,\"ticks\":\"\"}},\"type\":\"scattergl\"}],\"scattermapbox\":[{\"marker\":{\"colorbar\":{\"outlinewidth\":0,\"ticks\":\"\"}},\"type\":\"scattermapbox\"}],\"scatterpolar\":[{\"marker\":{\"colorbar\":{\"outlinewidth\":0,\"ticks\":\"\"}},\"type\":\"scatterpolar\"}],\"scatterpolargl\":[{\"marker\":{\"colorbar\":{\"outlinewidth\":0,\"ticks\":\"\"}},\"type\":\"scatterpolargl\"}],\"scatterternary\":[{\"marker\":{\"colorbar\":{\"outlinewidth\":0,\"ticks\":\"\"}},\"type\":\"scatterternary\"}],\"surface\":[{\"colorbar\":{\"outlinewidth\":0,\"ticks\":\"\"},\"colorscale\":[[0.0,\"#0d0887\"],[0.1111111111111111,\"#46039f\"],[0.2222222222222222,\"#7201a8\"],[0.3333333333333333,\"#9c179e\"],[0.4444444444444444,\"#bd3786\"],[0.5555555555555556,\"#d8576b\"],[0.6666666666666666,\"#ed7953\"],[0.7777777777777778,\"#fb9f3a\"],[0.8888888888888888,\"#fdca26\"],[1.0,\"#f0f921\"]],\"type\":\"surface\"}],\"table\":[{\"cells\":{\"fill\":{\"color\":\"#EBF0F8\"},\"line\":{\"color\":\"white\"}},\"header\":{\"fill\":{\"color\":\"#C8D4E3\"},\"line\":{\"color\":\"white\"}},\"type\":\"table\"}]},\"layout\":{\"annotationdefaults\":{\"arrowcolor\":\"#2a3f5f\",\"arrowhead\":0,\"arrowwidth\":1},\"autotypenumbers\":\"strict\",\"coloraxis\":{\"colorbar\":{\"outlinewidth\":0,\"ticks\":\"\"}},\"colorscale\":{\"diverging\":[[0,\"#8e0152\"],[0.1,\"#c51b7d\"],[0.2,\"#de77ae\"],[0.3,\"#f1b6da\"],[0.4,\"#fde0ef\"],[0.5,\"#f7f7f7\"],[0.6,\"#e6f5d0\"],[0.7,\"#b8e186\"],[0.8,\"#7fbc41\"],[0.9,\"#4d9221\"],[1,\"#276419\"]],\"sequential\":[[0.0,\"#0d0887\"],[0.1111111111111111,\"#46039f\"],[0.2222222222222222,\"#7201a8\"],[0.3333333333333333,\"#9c179e\"],[0.4444444444444444,\"#bd3786\"],[0.5555555555555556,\"#d8576b\"],[0.6666666666666666,\"#ed7953\"],[0.7777777777777778,\"#fb9f3a\"],[0.8888888888888888,\"#fdca26\"],[1.0,\"#f0f921\"]],\"sequentialminus\":[[0.0,\"#0d0887\"],[0.1111111111111111,\"#46039f\"],[0.2222222222222222,\"#7201a8\"],[0.3333333333333333,\"#9c179e\"],[0.4444444444444444,\"#bd3786\"],[0.5555555555555556,\"#d8576b\"],[0.6666666666666666,\"#ed7953\"],[0.7777777777777778,\"#fb9f3a\"],[0.8888888888888888,\"#fdca26\"],[1.0,\"#f0f921\"]]},\"colorway\":[\"#636efa\",\"#EF553B\",\"#00cc96\",\"#ab63fa\",\"#FFA15A\",\"#19d3f3\",\"#FF6692\",\"#B6E880\",\"#FF97FF\",\"#FECB52\"],\"font\":{\"color\":\"#2a3f5f\"},\"geo\":{\"bgcolor\":\"white\",\"lakecolor\":\"white\",\"landcolor\":\"#E5ECF6\",\"showlakes\":true,\"showland\":true,\"subunitcolor\":\"white\"},\"hoverlabel\":{\"align\":\"left\"},\"hovermode\":\"closest\",\"mapbox\":{\"style\":\"light\"},\"paper_bgcolor\":\"white\",\"plot_bgcolor\":\"#E5ECF6\",\"polar\":{\"angularaxis\":{\"gridcolor\":\"white\",\"linecolor\":\"white\",\"ticks\":\"\"},\"bgcolor\":\"#E5ECF6\",\"radialaxis\":{\"gridcolor\":\"white\",\"linecolor\":\"white\",\"ticks\":\"\"}},\"scene\":{\"xaxis\":{\"backgroundcolor\":\"#E5ECF6\",\"gridcolor\":\"white\",\"gridwidth\":2,\"linecolor\":\"white\",\"showbackground\":true,\"ticks\":\"\",\"zerolinecolor\":\"white\"},\"yaxis\":{\"backgroundcolor\":\"#E5ECF6\",\"gridcolor\":\"white\",\"gridwidth\":2,\"linecolor\":\"white\",\"showbackground\":true,\"ticks\":\"\",\"zerolinecolor\":\"white\"},\"zaxis\":{\"backgroundcolor\":\"#E5ECF6\",\"gridcolor\":\"white\",\"gridwidth\":2,\"linecolor\":\"white\",\"showbackground\":true,\"ticks\":\"\",\"zerolinecolor\":\"white\"}},\"shapedefaults\":{\"line\":{\"color\":\"#2a3f5f\"}},\"ternary\":{\"aaxis\":{\"gridcolor\":\"white\",\"linecolor\":\"white\",\"ticks\":\"\"},\"baxis\":{\"gridcolor\":\"white\",\"linecolor\":\"white\",\"ticks\":\"\"},\"bgcolor\":\"#E5ECF6\",\"caxis\":{\"gridcolor\":\"white\",\"linecolor\":\"white\",\"ticks\":\"\"}},\"title\":{\"x\":0.05},\"xaxis\":{\"automargin\":true,\"gridcolor\":\"white\",\"linecolor\":\"white\",\"ticks\":\"\",\"title\":{\"standoff\":15},\"zerolinecolor\":\"white\",\"zerolinewidth\":2},\"yaxis\":{\"automargin\":true,\"gridcolor\":\"white\",\"linecolor\":\"white\",\"ticks\":\"\",\"title\":{\"standoff\":15},\"zerolinecolor\":\"white\",\"zerolinewidth\":2}}},\"xaxis\":{\"anchor\":\"y\",\"domain\":[0.0,1.0],\"title\":{\"text\":\"Situation\"}},\"yaxis\":{\"anchor\":\"x\",\"domain\":[0.0,1.0],\"title\":{\"text\":\"Score proba\"}},\"legend\":{\"title\":{\"text\":\"color\"},\"tracegroupgap\":0},\"title\":{\"text\":\"Information sur le client\"},\"barmode\":\"relative\",\"autosize\":false,\"width\":500,\"height\":500},                        {\"responsive\": true}                    ).then(function(){\n",
       "                            \n",
       "var gd = document.getElementById('3ce2ca9c-bc28-4616-8e56-23b3f38b52ac');\n",
       "var x = new MutationObserver(function (mutations, observer) {{\n",
       "        var display = window.getComputedStyle(gd).display;\n",
       "        if (!display || display === 'none') {{\n",
       "            console.log([gd, 'removed!']);\n",
       "            Plotly.purge(gd);\n",
       "            observer.disconnect();\n",
       "        }}\n",
       "}});\n",
       "\n",
       "// Listen for the removal of the full notebook cells\n",
       "var notebookContainer = gd.closest('#notebook-container');\n",
       "if (notebookContainer) {{\n",
       "    x.observe(notebookContainer, {childList: true});\n",
       "}}\n",
       "\n",
       "// Listen for the clearing of the current output cell\n",
       "var outputEl = gd.closest('.output');\n",
       "if (outputEl) {{\n",
       "    x.observe(outputEl, {childList: true});\n",
       "}}\n",
       "\n",
       "                        })                };                });            </script>        </div>"
      ]
     },
     "metadata": {},
     "output_type": "display_data"
    }
   ],
   "source": [
    "upadat_proba_bar(100001)"
   ]
  },
  {
   "cell_type": "code",
   "execution_count": 35,
   "id": "8d78b201",
   "metadata": {},
   "outputs": [],
   "source": [
    "def coef_importan():\n",
    "    import plotly.express as px\n",
    "\n",
    "    coef_importances_values = pipe_model.named_steps['classifier'].coef_.flatten()\n",
    "    colors = ['Positive' if c > 0 else 'Negative' for c in coef_importances_values]\n",
    "    fig = px.bar(\n",
    "        x=x_test_transformed.columns, y=coef_importances_values, color=colors,\n",
    "        color_discrete_sequence=['red', 'blue'],\n",
    "        labels=dict(x='Feature', y='coefficient logistic'),\n",
    "        title='Coeficient importances'\n",
    "\n",
    "    )\n",
    "    fig.update_layout(autosize=False,\n",
    "        width=980,\n",
    "        height=800)\n",
    "    \n",
    "    fig.update_xaxes(categoryorder = \"total ascending\")\n",
    "    return fig"
   ]
  },
  {
   "cell_type": "code",
   "execution_count": 36,
   "id": "c0ebb13b",
   "metadata": {},
   "outputs": [],
   "source": [
    "def coef_importances(pipe_model) :\n",
    "     \n",
    "    coef = pipe_model[3].coef_.flatten()\n",
    "    indices =[]\n",
    "    values = []\n",
    "    for val, ind in sorted(zip(pipe_model[3].coef_.flatten(),\n",
    "                               x_test_transformed.columns), reverse=True):\n",
    "        indices.append(ind)\n",
    "        values.append(val)\n",
    "        \n",
    "    data = pd.DataFrame(values, columns=[\"values\"], index=indices)\n",
    "    data[\"positive\"] = data[\"values\"]>0\n",
    "    del indices, values\n",
    "\n",
    "    traces = [go.Bar(x=data[\"values\"], y=data.index,\n",
    "                    orientation='h',\n",
    "                    marker_color=list(data.positive.map({True: 'red', False: 'blue'}).values))]\n",
    "     \n",
    "    return {\n",
    "        'data': traces,\n",
    "        \n",
    "        'layout': go.Layout(margin=dict(l=300, r=0, t=30, b=100))\n",
    "           }"
   ]
  },
  {
   "cell_type": "code",
   "execution_count": 37,
   "id": "14bc79eb",
   "metadata": {},
   "outputs": [
    {
     "data": {
      "application/vnd.plotly.v1+json": {
       "config": {
        "plotlyServerURL": "https://plot.ly"
       },
       "data": [
        {
         "alignmentgroup": "True",
         "hovertemplate": "color=Negative<br>Feature=%{x}<br>coefficient logistic=%{y}<extra></extra>",
         "legendgroup": "Negative",
         "marker": {
          "color": "red",
          "pattern": {
           "shape": ""
          }
         },
         "name": "Negative",
         "offsetgroup": "Negative",
         "orientation": "v",
         "showlegend": true,
         "textposition": "auto",
         "type": "bar",
         "x": [
          "CODE_GENDER",
          "FLAG_OWN_CAR",
          "FLAG_OWN_REALTY",
          "REG_REGION_NOT_LIVE_REGION",
          "LIVE_REGION_NOT_WORK_REGION",
          "LIVE_CITY_NOT_WORK_CITY",
          "EXT_SOURCE_1",
          "EXT_SOURCE_3",
          "AMT_REQ_CREDIT_BUREAU_YEAR",
          "DAYS_LAST_PHONE_CHANGE",
          "AMT_GOODS_PRICE",
          "DAYS_REGISTRATION",
          "NAME_CONTRACT_TYPE_Revolving loans",
          "NAME_INCOME_TYPE_Businessman",
          "NAME_INCOME_TYPE_Pensioner",
          "NAME_INCOME_TYPE_State servant",
          "NAME_INCOME_TYPE_Student",
          "NAME_FAMILY_STATUS_Married",
          "NAME_FAMILY_STATUS_Separated",
          "NAME_FAMILY_STATUS_Unknown",
          "NAME_FAMILY_STATUS_Widow",
          "NAME_EDUCATION_TYPE_Academic degree",
          "NAME_EDUCATION_TYPE_Higher education",
          "NAME_HOUSING_TYPE_Co-op apartment",
          "NAME_HOUSING_TYPE_House / apartment",
          "NAME_HOUSING_TYPE_Municipal apartment",
          "NAME_HOUSING_TYPE_Office apartment",
          "INCOME_CREDIT_PERC",
          "INCOME_PER_PERSON",
          "ANNUITY_INCOME_PERC",
          "PAYMENT_RATE"
         ],
         "xaxis": "x",
         "y": [
          -0.2216610106656831,
          -0.21485181980285292,
          -0.10259124481744879,
          -0.02134192074978979,
          -0.06338933505217233,
          -0.12246047503203274,
          -0.003207211690774546,
          -0.027358619767763312,
          -0.020021965278852895,
          -0.0250632463254211,
          -0.06862819772184664,
          -0.027528964373472423,
          -0.05866138684031181,
          -0.050803439413086224,
          -0.13235575457094664,
          -0.09264375380090889,
          -0.09515526835538608,
          -0.03517465433502649,
          -0.003986180763523901,
          -0.03152676831237311,
          -0.033568158357350886,
          -0.21776898056485205,
          -0.13422644680626836,
          -0.00677007873796813,
          -0.0343649407828518,
          -0.015629186185430795,
          -0.002712063558814528,
          -0.06418113881536347,
          -0.054431691945436435,
          -0.004310402580818294,
          -0.023033431451884228
         ],
         "yaxis": "y"
        },
        {
         "alignmentgroup": "True",
         "hovertemplate": "color=Positive<br>Feature=%{x}<br>coefficient logistic=%{y}<extra></extra>",
         "legendgroup": "Positive",
         "marker": {
          "color": "blue",
          "pattern": {
           "shape": ""
          }
         },
         "name": "Positive",
         "offsetgroup": "Positive",
         "orientation": "v",
         "showlegend": true,
         "textposition": "auto",
         "type": "bar",
         "x": [
          "CNT_CHILDREN",
          "REG_CITY_NOT_LIVE_CITY",
          "REG_REGION_NOT_WORK_REGION",
          "REG_CITY_NOT_WORK_CITY",
          "EXT_SOURCE_2",
          "DAYS_ID_PUBLISH",
          "NAME_CONTRACT_TYPE_Cash loans",
          "NAME_INCOME_TYPE_Commercial associate",
          "NAME_INCOME_TYPE_Maternity leave",
          "NAME_INCOME_TYPE_Unemployed",
          "NAME_INCOME_TYPE_Working",
          "NAME_FAMILY_STATUS_Civil marriage",
          "NAME_FAMILY_STATUS_Single / not married",
          "NAME_EDUCATION_TYPE_Incomplete higher",
          "NAME_EDUCATION_TYPE_Lower secondary",
          "NAME_EDUCATION_TYPE_Secondary / secondary special",
          "NAME_HOUSING_TYPE_Rented apartment",
          "NAME_HOUSING_TYPE_With parents",
          "DAYS_EMPLOYED_PERC"
         ],
         "xaxis": "x",
         "y": [
          0.013233874714330506,
          0.009951466128229959,
          0.05173358845627463,
          0.1877205597690813,
          0.010615175597648099,
          0.029535633968745128,
          0.05866138684028538,
          0.009323135797878294,
          0.14209076647372876,
          0.013272283655730587,
          0.14298448559111543,
          0.02882330015455351,
          0.04797627208685999,
          0.028084154344061234,
          0.053387863556129074,
          0.1144931893506466,
          0.02678569564198486,
          0.05154646345498324,
          0.023402295039593096
         ],
         "yaxis": "y"
        }
       ],
       "layout": {
        "autosize": false,
        "barmode": "relative",
        "height": 800,
        "legend": {
         "title": {
          "text": "color"
         },
         "tracegroupgap": 0
        },
        "template": {
         "data": {
          "bar": [
           {
            "error_x": {
             "color": "#2a3f5f"
            },
            "error_y": {
             "color": "#2a3f5f"
            },
            "marker": {
             "line": {
              "color": "#E5ECF6",
              "width": 0.5
             },
             "pattern": {
              "fillmode": "overlay",
              "size": 10,
              "solidity": 0.2
             }
            },
            "type": "bar"
           }
          ],
          "barpolar": [
           {
            "marker": {
             "line": {
              "color": "#E5ECF6",
              "width": 0.5
             },
             "pattern": {
              "fillmode": "overlay",
              "size": 10,
              "solidity": 0.2
             }
            },
            "type": "barpolar"
           }
          ],
          "carpet": [
           {
            "aaxis": {
             "endlinecolor": "#2a3f5f",
             "gridcolor": "white",
             "linecolor": "white",
             "minorgridcolor": "white",
             "startlinecolor": "#2a3f5f"
            },
            "baxis": {
             "endlinecolor": "#2a3f5f",
             "gridcolor": "white",
             "linecolor": "white",
             "minorgridcolor": "white",
             "startlinecolor": "#2a3f5f"
            },
            "type": "carpet"
           }
          ],
          "choropleth": [
           {
            "colorbar": {
             "outlinewidth": 0,
             "ticks": ""
            },
            "type": "choropleth"
           }
          ],
          "contour": [
           {
            "colorbar": {
             "outlinewidth": 0,
             "ticks": ""
            },
            "colorscale": [
             [
              0,
              "#0d0887"
             ],
             [
              0.1111111111111111,
              "#46039f"
             ],
             [
              0.2222222222222222,
              "#7201a8"
             ],
             [
              0.3333333333333333,
              "#9c179e"
             ],
             [
              0.4444444444444444,
              "#bd3786"
             ],
             [
              0.5555555555555556,
              "#d8576b"
             ],
             [
              0.6666666666666666,
              "#ed7953"
             ],
             [
              0.7777777777777778,
              "#fb9f3a"
             ],
             [
              0.8888888888888888,
              "#fdca26"
             ],
             [
              1,
              "#f0f921"
             ]
            ],
            "type": "contour"
           }
          ],
          "contourcarpet": [
           {
            "colorbar": {
             "outlinewidth": 0,
             "ticks": ""
            },
            "type": "contourcarpet"
           }
          ],
          "heatmap": [
           {
            "colorbar": {
             "outlinewidth": 0,
             "ticks": ""
            },
            "colorscale": [
             [
              0,
              "#0d0887"
             ],
             [
              0.1111111111111111,
              "#46039f"
             ],
             [
              0.2222222222222222,
              "#7201a8"
             ],
             [
              0.3333333333333333,
              "#9c179e"
             ],
             [
              0.4444444444444444,
              "#bd3786"
             ],
             [
              0.5555555555555556,
              "#d8576b"
             ],
             [
              0.6666666666666666,
              "#ed7953"
             ],
             [
              0.7777777777777778,
              "#fb9f3a"
             ],
             [
              0.8888888888888888,
              "#fdca26"
             ],
             [
              1,
              "#f0f921"
             ]
            ],
            "type": "heatmap"
           }
          ],
          "heatmapgl": [
           {
            "colorbar": {
             "outlinewidth": 0,
             "ticks": ""
            },
            "colorscale": [
             [
              0,
              "#0d0887"
             ],
             [
              0.1111111111111111,
              "#46039f"
             ],
             [
              0.2222222222222222,
              "#7201a8"
             ],
             [
              0.3333333333333333,
              "#9c179e"
             ],
             [
              0.4444444444444444,
              "#bd3786"
             ],
             [
              0.5555555555555556,
              "#d8576b"
             ],
             [
              0.6666666666666666,
              "#ed7953"
             ],
             [
              0.7777777777777778,
              "#fb9f3a"
             ],
             [
              0.8888888888888888,
              "#fdca26"
             ],
             [
              1,
              "#f0f921"
             ]
            ],
            "type": "heatmapgl"
           }
          ],
          "histogram": [
           {
            "marker": {
             "pattern": {
              "fillmode": "overlay",
              "size": 10,
              "solidity": 0.2
             }
            },
            "type": "histogram"
           }
          ],
          "histogram2d": [
           {
            "colorbar": {
             "outlinewidth": 0,
             "ticks": ""
            },
            "colorscale": [
             [
              0,
              "#0d0887"
             ],
             [
              0.1111111111111111,
              "#46039f"
             ],
             [
              0.2222222222222222,
              "#7201a8"
             ],
             [
              0.3333333333333333,
              "#9c179e"
             ],
             [
              0.4444444444444444,
              "#bd3786"
             ],
             [
              0.5555555555555556,
              "#d8576b"
             ],
             [
              0.6666666666666666,
              "#ed7953"
             ],
             [
              0.7777777777777778,
              "#fb9f3a"
             ],
             [
              0.8888888888888888,
              "#fdca26"
             ],
             [
              1,
              "#f0f921"
             ]
            ],
            "type": "histogram2d"
           }
          ],
          "histogram2dcontour": [
           {
            "colorbar": {
             "outlinewidth": 0,
             "ticks": ""
            },
            "colorscale": [
             [
              0,
              "#0d0887"
             ],
             [
              0.1111111111111111,
              "#46039f"
             ],
             [
              0.2222222222222222,
              "#7201a8"
             ],
             [
              0.3333333333333333,
              "#9c179e"
             ],
             [
              0.4444444444444444,
              "#bd3786"
             ],
             [
              0.5555555555555556,
              "#d8576b"
             ],
             [
              0.6666666666666666,
              "#ed7953"
             ],
             [
              0.7777777777777778,
              "#fb9f3a"
             ],
             [
              0.8888888888888888,
              "#fdca26"
             ],
             [
              1,
              "#f0f921"
             ]
            ],
            "type": "histogram2dcontour"
           }
          ],
          "mesh3d": [
           {
            "colorbar": {
             "outlinewidth": 0,
             "ticks": ""
            },
            "type": "mesh3d"
           }
          ],
          "parcoords": [
           {
            "line": {
             "colorbar": {
              "outlinewidth": 0,
              "ticks": ""
             }
            },
            "type": "parcoords"
           }
          ],
          "pie": [
           {
            "automargin": true,
            "type": "pie"
           }
          ],
          "scatter": [
           {
            "marker": {
             "colorbar": {
              "outlinewidth": 0,
              "ticks": ""
             }
            },
            "type": "scatter"
           }
          ],
          "scatter3d": [
           {
            "line": {
             "colorbar": {
              "outlinewidth": 0,
              "ticks": ""
             }
            },
            "marker": {
             "colorbar": {
              "outlinewidth": 0,
              "ticks": ""
             }
            },
            "type": "scatter3d"
           }
          ],
          "scattercarpet": [
           {
            "marker": {
             "colorbar": {
              "outlinewidth": 0,
              "ticks": ""
             }
            },
            "type": "scattercarpet"
           }
          ],
          "scattergeo": [
           {
            "marker": {
             "colorbar": {
              "outlinewidth": 0,
              "ticks": ""
             }
            },
            "type": "scattergeo"
           }
          ],
          "scattergl": [
           {
            "marker": {
             "colorbar": {
              "outlinewidth": 0,
              "ticks": ""
             }
            },
            "type": "scattergl"
           }
          ],
          "scattermapbox": [
           {
            "marker": {
             "colorbar": {
              "outlinewidth": 0,
              "ticks": ""
             }
            },
            "type": "scattermapbox"
           }
          ],
          "scatterpolar": [
           {
            "marker": {
             "colorbar": {
              "outlinewidth": 0,
              "ticks": ""
             }
            },
            "type": "scatterpolar"
           }
          ],
          "scatterpolargl": [
           {
            "marker": {
             "colorbar": {
              "outlinewidth": 0,
              "ticks": ""
             }
            },
            "type": "scatterpolargl"
           }
          ],
          "scatterternary": [
           {
            "marker": {
             "colorbar": {
              "outlinewidth": 0,
              "ticks": ""
             }
            },
            "type": "scatterternary"
           }
          ],
          "surface": [
           {
            "colorbar": {
             "outlinewidth": 0,
             "ticks": ""
            },
            "colorscale": [
             [
              0,
              "#0d0887"
             ],
             [
              0.1111111111111111,
              "#46039f"
             ],
             [
              0.2222222222222222,
              "#7201a8"
             ],
             [
              0.3333333333333333,
              "#9c179e"
             ],
             [
              0.4444444444444444,
              "#bd3786"
             ],
             [
              0.5555555555555556,
              "#d8576b"
             ],
             [
              0.6666666666666666,
              "#ed7953"
             ],
             [
              0.7777777777777778,
              "#fb9f3a"
             ],
             [
              0.8888888888888888,
              "#fdca26"
             ],
             [
              1,
              "#f0f921"
             ]
            ],
            "type": "surface"
           }
          ],
          "table": [
           {
            "cells": {
             "fill": {
              "color": "#EBF0F8"
             },
             "line": {
              "color": "white"
             }
            },
            "header": {
             "fill": {
              "color": "#C8D4E3"
             },
             "line": {
              "color": "white"
             }
            },
            "type": "table"
           }
          ]
         },
         "layout": {
          "annotationdefaults": {
           "arrowcolor": "#2a3f5f",
           "arrowhead": 0,
           "arrowwidth": 1
          },
          "autotypenumbers": "strict",
          "coloraxis": {
           "colorbar": {
            "outlinewidth": 0,
            "ticks": ""
           }
          },
          "colorscale": {
           "diverging": [
            [
             0,
             "#8e0152"
            ],
            [
             0.1,
             "#c51b7d"
            ],
            [
             0.2,
             "#de77ae"
            ],
            [
             0.3,
             "#f1b6da"
            ],
            [
             0.4,
             "#fde0ef"
            ],
            [
             0.5,
             "#f7f7f7"
            ],
            [
             0.6,
             "#e6f5d0"
            ],
            [
             0.7,
             "#b8e186"
            ],
            [
             0.8,
             "#7fbc41"
            ],
            [
             0.9,
             "#4d9221"
            ],
            [
             1,
             "#276419"
            ]
           ],
           "sequential": [
            [
             0,
             "#0d0887"
            ],
            [
             0.1111111111111111,
             "#46039f"
            ],
            [
             0.2222222222222222,
             "#7201a8"
            ],
            [
             0.3333333333333333,
             "#9c179e"
            ],
            [
             0.4444444444444444,
             "#bd3786"
            ],
            [
             0.5555555555555556,
             "#d8576b"
            ],
            [
             0.6666666666666666,
             "#ed7953"
            ],
            [
             0.7777777777777778,
             "#fb9f3a"
            ],
            [
             0.8888888888888888,
             "#fdca26"
            ],
            [
             1,
             "#f0f921"
            ]
           ],
           "sequentialminus": [
            [
             0,
             "#0d0887"
            ],
            [
             0.1111111111111111,
             "#46039f"
            ],
            [
             0.2222222222222222,
             "#7201a8"
            ],
            [
             0.3333333333333333,
             "#9c179e"
            ],
            [
             0.4444444444444444,
             "#bd3786"
            ],
            [
             0.5555555555555556,
             "#d8576b"
            ],
            [
             0.6666666666666666,
             "#ed7953"
            ],
            [
             0.7777777777777778,
             "#fb9f3a"
            ],
            [
             0.8888888888888888,
             "#fdca26"
            ],
            [
             1,
             "#f0f921"
            ]
           ]
          },
          "colorway": [
           "#636efa",
           "#EF553B",
           "#00cc96",
           "#ab63fa",
           "#FFA15A",
           "#19d3f3",
           "#FF6692",
           "#B6E880",
           "#FF97FF",
           "#FECB52"
          ],
          "font": {
           "color": "#2a3f5f"
          },
          "geo": {
           "bgcolor": "white",
           "lakecolor": "white",
           "landcolor": "#E5ECF6",
           "showlakes": true,
           "showland": true,
           "subunitcolor": "white"
          },
          "hoverlabel": {
           "align": "left"
          },
          "hovermode": "closest",
          "mapbox": {
           "style": "light"
          },
          "paper_bgcolor": "white",
          "plot_bgcolor": "#E5ECF6",
          "polar": {
           "angularaxis": {
            "gridcolor": "white",
            "linecolor": "white",
            "ticks": ""
           },
           "bgcolor": "#E5ECF6",
           "radialaxis": {
            "gridcolor": "white",
            "linecolor": "white",
            "ticks": ""
           }
          },
          "scene": {
           "xaxis": {
            "backgroundcolor": "#E5ECF6",
            "gridcolor": "white",
            "gridwidth": 2,
            "linecolor": "white",
            "showbackground": true,
            "ticks": "",
            "zerolinecolor": "white"
           },
           "yaxis": {
            "backgroundcolor": "#E5ECF6",
            "gridcolor": "white",
            "gridwidth": 2,
            "linecolor": "white",
            "showbackground": true,
            "ticks": "",
            "zerolinecolor": "white"
           },
           "zaxis": {
            "backgroundcolor": "#E5ECF6",
            "gridcolor": "white",
            "gridwidth": 2,
            "linecolor": "white",
            "showbackground": true,
            "ticks": "",
            "zerolinecolor": "white"
           }
          },
          "shapedefaults": {
           "line": {
            "color": "#2a3f5f"
           }
          },
          "ternary": {
           "aaxis": {
            "gridcolor": "white",
            "linecolor": "white",
            "ticks": ""
           },
           "baxis": {
            "gridcolor": "white",
            "linecolor": "white",
            "ticks": ""
           },
           "bgcolor": "#E5ECF6",
           "caxis": {
            "gridcolor": "white",
            "linecolor": "white",
            "ticks": ""
           }
          },
          "title": {
           "x": 0.05
          },
          "xaxis": {
           "automargin": true,
           "gridcolor": "white",
           "linecolor": "white",
           "ticks": "",
           "title": {
            "standoff": 15
           },
           "zerolinecolor": "white",
           "zerolinewidth": 2
          },
          "yaxis": {
           "automargin": true,
           "gridcolor": "white",
           "linecolor": "white",
           "ticks": "",
           "title": {
            "standoff": 15
           },
           "zerolinecolor": "white",
           "zerolinewidth": 2
          }
         }
        },
        "title": {
         "text": "Coeficient importances"
        },
        "width": 980,
        "xaxis": {
         "anchor": "y",
         "categoryorder": "total ascending",
         "domain": [
          0,
          1
         ],
         "title": {
          "text": "Feature"
         }
        },
        "yaxis": {
         "anchor": "x",
         "domain": [
          0,
          1
         ],
         "title": {
          "text": "coefficient logistic"
         }
        }
       }
      },
      "text/html": [
       "<div>                            <div id=\"16981b4a-6fd9-470f-9996-d6d0faf58cbc\" class=\"plotly-graph-div\" style=\"height:800px; width:980px;\"></div>            <script type=\"text/javascript\">                require([\"plotly\"], function(Plotly) {                    window.PLOTLYENV=window.PLOTLYENV || {};                                    if (document.getElementById(\"16981b4a-6fd9-470f-9996-d6d0faf58cbc\")) {                    Plotly.newPlot(                        \"16981b4a-6fd9-470f-9996-d6d0faf58cbc\",                        [{\"alignmentgroup\":\"True\",\"hovertemplate\":\"color=Negative<br>Feature=%{x}<br>coefficient logistic=%{y}<extra></extra>\",\"legendgroup\":\"Negative\",\"marker\":{\"color\":\"red\",\"pattern\":{\"shape\":\"\"}},\"name\":\"Negative\",\"offsetgroup\":\"Negative\",\"orientation\":\"v\",\"showlegend\":true,\"textposition\":\"auto\",\"x\":[\"CODE_GENDER\",\"FLAG_OWN_CAR\",\"FLAG_OWN_REALTY\",\"REG_REGION_NOT_LIVE_REGION\",\"LIVE_REGION_NOT_WORK_REGION\",\"LIVE_CITY_NOT_WORK_CITY\",\"EXT_SOURCE_1\",\"EXT_SOURCE_3\",\"AMT_REQ_CREDIT_BUREAU_YEAR\",\"DAYS_LAST_PHONE_CHANGE\",\"AMT_GOODS_PRICE\",\"DAYS_REGISTRATION\",\"NAME_CONTRACT_TYPE_Revolving loans\",\"NAME_INCOME_TYPE_Businessman\",\"NAME_INCOME_TYPE_Pensioner\",\"NAME_INCOME_TYPE_State servant\",\"NAME_INCOME_TYPE_Student\",\"NAME_FAMILY_STATUS_Married\",\"NAME_FAMILY_STATUS_Separated\",\"NAME_FAMILY_STATUS_Unknown\",\"NAME_FAMILY_STATUS_Widow\",\"NAME_EDUCATION_TYPE_Academic degree\",\"NAME_EDUCATION_TYPE_Higher education\",\"NAME_HOUSING_TYPE_Co-op apartment\",\"NAME_HOUSING_TYPE_House / apartment\",\"NAME_HOUSING_TYPE_Municipal apartment\",\"NAME_HOUSING_TYPE_Office apartment\",\"INCOME_CREDIT_PERC\",\"INCOME_PER_PERSON\",\"ANNUITY_INCOME_PERC\",\"PAYMENT_RATE\"],\"xaxis\":\"x\",\"y\":[-0.2216610106656831,-0.21485181980285292,-0.10259124481744879,-0.02134192074978979,-0.06338933505217233,-0.12246047503203274,-0.003207211690774546,-0.027358619767763312,-0.020021965278852895,-0.0250632463254211,-0.06862819772184664,-0.027528964373472423,-0.05866138684031181,-0.050803439413086224,-0.13235575457094664,-0.09264375380090889,-0.09515526835538608,-0.03517465433502649,-0.003986180763523901,-0.03152676831237311,-0.033568158357350886,-0.21776898056485205,-0.13422644680626836,-0.00677007873796813,-0.0343649407828518,-0.015629186185430795,-0.002712063558814528,-0.06418113881536347,-0.054431691945436435,-0.004310402580818294,-0.023033431451884228],\"yaxis\":\"y\",\"type\":\"bar\"},{\"alignmentgroup\":\"True\",\"hovertemplate\":\"color=Positive<br>Feature=%{x}<br>coefficient logistic=%{y}<extra></extra>\",\"legendgroup\":\"Positive\",\"marker\":{\"color\":\"blue\",\"pattern\":{\"shape\":\"\"}},\"name\":\"Positive\",\"offsetgroup\":\"Positive\",\"orientation\":\"v\",\"showlegend\":true,\"textposition\":\"auto\",\"x\":[\"CNT_CHILDREN\",\"REG_CITY_NOT_LIVE_CITY\",\"REG_REGION_NOT_WORK_REGION\",\"REG_CITY_NOT_WORK_CITY\",\"EXT_SOURCE_2\",\"DAYS_ID_PUBLISH\",\"NAME_CONTRACT_TYPE_Cash loans\",\"NAME_INCOME_TYPE_Commercial associate\",\"NAME_INCOME_TYPE_Maternity leave\",\"NAME_INCOME_TYPE_Unemployed\",\"NAME_INCOME_TYPE_Working\",\"NAME_FAMILY_STATUS_Civil marriage\",\"NAME_FAMILY_STATUS_Single / not married\",\"NAME_EDUCATION_TYPE_Incomplete higher\",\"NAME_EDUCATION_TYPE_Lower secondary\",\"NAME_EDUCATION_TYPE_Secondary / secondary special\",\"NAME_HOUSING_TYPE_Rented apartment\",\"NAME_HOUSING_TYPE_With parents\",\"DAYS_EMPLOYED_PERC\"],\"xaxis\":\"x\",\"y\":[0.013233874714330506,0.009951466128229959,0.05173358845627463,0.1877205597690813,0.010615175597648099,0.029535633968745128,0.05866138684028538,0.009323135797878294,0.14209076647372876,0.013272283655730587,0.14298448559111543,0.02882330015455351,0.04797627208685999,0.028084154344061234,0.053387863556129074,0.1144931893506466,0.02678569564198486,0.05154646345498324,0.023402295039593096],\"yaxis\":\"y\",\"type\":\"bar\"}],                        {\"template\":{\"data\":{\"bar\":[{\"error_x\":{\"color\":\"#2a3f5f\"},\"error_y\":{\"color\":\"#2a3f5f\"},\"marker\":{\"line\":{\"color\":\"#E5ECF6\",\"width\":0.5},\"pattern\":{\"fillmode\":\"overlay\",\"size\":10,\"solidity\":0.2}},\"type\":\"bar\"}],\"barpolar\":[{\"marker\":{\"line\":{\"color\":\"#E5ECF6\",\"width\":0.5},\"pattern\":{\"fillmode\":\"overlay\",\"size\":10,\"solidity\":0.2}},\"type\":\"barpolar\"}],\"carpet\":[{\"aaxis\":{\"endlinecolor\":\"#2a3f5f\",\"gridcolor\":\"white\",\"linecolor\":\"white\",\"minorgridcolor\":\"white\",\"startlinecolor\":\"#2a3f5f\"},\"baxis\":{\"endlinecolor\":\"#2a3f5f\",\"gridcolor\":\"white\",\"linecolor\":\"white\",\"minorgridcolor\":\"white\",\"startlinecolor\":\"#2a3f5f\"},\"type\":\"carpet\"}],\"choropleth\":[{\"colorbar\":{\"outlinewidth\":0,\"ticks\":\"\"},\"type\":\"choropleth\"}],\"contour\":[{\"colorbar\":{\"outlinewidth\":0,\"ticks\":\"\"},\"colorscale\":[[0.0,\"#0d0887\"],[0.1111111111111111,\"#46039f\"],[0.2222222222222222,\"#7201a8\"],[0.3333333333333333,\"#9c179e\"],[0.4444444444444444,\"#bd3786\"],[0.5555555555555556,\"#d8576b\"],[0.6666666666666666,\"#ed7953\"],[0.7777777777777778,\"#fb9f3a\"],[0.8888888888888888,\"#fdca26\"],[1.0,\"#f0f921\"]],\"type\":\"contour\"}],\"contourcarpet\":[{\"colorbar\":{\"outlinewidth\":0,\"ticks\":\"\"},\"type\":\"contourcarpet\"}],\"heatmap\":[{\"colorbar\":{\"outlinewidth\":0,\"ticks\":\"\"},\"colorscale\":[[0.0,\"#0d0887\"],[0.1111111111111111,\"#46039f\"],[0.2222222222222222,\"#7201a8\"],[0.3333333333333333,\"#9c179e\"],[0.4444444444444444,\"#bd3786\"],[0.5555555555555556,\"#d8576b\"],[0.6666666666666666,\"#ed7953\"],[0.7777777777777778,\"#fb9f3a\"],[0.8888888888888888,\"#fdca26\"],[1.0,\"#f0f921\"]],\"type\":\"heatmap\"}],\"heatmapgl\":[{\"colorbar\":{\"outlinewidth\":0,\"ticks\":\"\"},\"colorscale\":[[0.0,\"#0d0887\"],[0.1111111111111111,\"#46039f\"],[0.2222222222222222,\"#7201a8\"],[0.3333333333333333,\"#9c179e\"],[0.4444444444444444,\"#bd3786\"],[0.5555555555555556,\"#d8576b\"],[0.6666666666666666,\"#ed7953\"],[0.7777777777777778,\"#fb9f3a\"],[0.8888888888888888,\"#fdca26\"],[1.0,\"#f0f921\"]],\"type\":\"heatmapgl\"}],\"histogram\":[{\"marker\":{\"pattern\":{\"fillmode\":\"overlay\",\"size\":10,\"solidity\":0.2}},\"type\":\"histogram\"}],\"histogram2d\":[{\"colorbar\":{\"outlinewidth\":0,\"ticks\":\"\"},\"colorscale\":[[0.0,\"#0d0887\"],[0.1111111111111111,\"#46039f\"],[0.2222222222222222,\"#7201a8\"],[0.3333333333333333,\"#9c179e\"],[0.4444444444444444,\"#bd3786\"],[0.5555555555555556,\"#d8576b\"],[0.6666666666666666,\"#ed7953\"],[0.7777777777777778,\"#fb9f3a\"],[0.8888888888888888,\"#fdca26\"],[1.0,\"#f0f921\"]],\"type\":\"histogram2d\"}],\"histogram2dcontour\":[{\"colorbar\":{\"outlinewidth\":0,\"ticks\":\"\"},\"colorscale\":[[0.0,\"#0d0887\"],[0.1111111111111111,\"#46039f\"],[0.2222222222222222,\"#7201a8\"],[0.3333333333333333,\"#9c179e\"],[0.4444444444444444,\"#bd3786\"],[0.5555555555555556,\"#d8576b\"],[0.6666666666666666,\"#ed7953\"],[0.7777777777777778,\"#fb9f3a\"],[0.8888888888888888,\"#fdca26\"],[1.0,\"#f0f921\"]],\"type\":\"histogram2dcontour\"}],\"mesh3d\":[{\"colorbar\":{\"outlinewidth\":0,\"ticks\":\"\"},\"type\":\"mesh3d\"}],\"parcoords\":[{\"line\":{\"colorbar\":{\"outlinewidth\":0,\"ticks\":\"\"}},\"type\":\"parcoords\"}],\"pie\":[{\"automargin\":true,\"type\":\"pie\"}],\"scatter\":[{\"marker\":{\"colorbar\":{\"outlinewidth\":0,\"ticks\":\"\"}},\"type\":\"scatter\"}],\"scatter3d\":[{\"line\":{\"colorbar\":{\"outlinewidth\":0,\"ticks\":\"\"}},\"marker\":{\"colorbar\":{\"outlinewidth\":0,\"ticks\":\"\"}},\"type\":\"scatter3d\"}],\"scattercarpet\":[{\"marker\":{\"colorbar\":{\"outlinewidth\":0,\"ticks\":\"\"}},\"type\":\"scattercarpet\"}],\"scattergeo\":[{\"marker\":{\"colorbar\":{\"outlinewidth\":0,\"ticks\":\"\"}},\"type\":\"scattergeo\"}],\"scattergl\":[{\"marker\":{\"colorbar\":{\"outlinewidth\":0,\"ticks\":\"\"}},\"type\":\"scattergl\"}],\"scattermapbox\":[{\"marker\":{\"colorbar\":{\"outlinewidth\":0,\"ticks\":\"\"}},\"type\":\"scattermapbox\"}],\"scatterpolar\":[{\"marker\":{\"colorbar\":{\"outlinewidth\":0,\"ticks\":\"\"}},\"type\":\"scatterpolar\"}],\"scatterpolargl\":[{\"marker\":{\"colorbar\":{\"outlinewidth\":0,\"ticks\":\"\"}},\"type\":\"scatterpolargl\"}],\"scatterternary\":[{\"marker\":{\"colorbar\":{\"outlinewidth\":0,\"ticks\":\"\"}},\"type\":\"scatterternary\"}],\"surface\":[{\"colorbar\":{\"outlinewidth\":0,\"ticks\":\"\"},\"colorscale\":[[0.0,\"#0d0887\"],[0.1111111111111111,\"#46039f\"],[0.2222222222222222,\"#7201a8\"],[0.3333333333333333,\"#9c179e\"],[0.4444444444444444,\"#bd3786\"],[0.5555555555555556,\"#d8576b\"],[0.6666666666666666,\"#ed7953\"],[0.7777777777777778,\"#fb9f3a\"],[0.8888888888888888,\"#fdca26\"],[1.0,\"#f0f921\"]],\"type\":\"surface\"}],\"table\":[{\"cells\":{\"fill\":{\"color\":\"#EBF0F8\"},\"line\":{\"color\":\"white\"}},\"header\":{\"fill\":{\"color\":\"#C8D4E3\"},\"line\":{\"color\":\"white\"}},\"type\":\"table\"}]},\"layout\":{\"annotationdefaults\":{\"arrowcolor\":\"#2a3f5f\",\"arrowhead\":0,\"arrowwidth\":1},\"autotypenumbers\":\"strict\",\"coloraxis\":{\"colorbar\":{\"outlinewidth\":0,\"ticks\":\"\"}},\"colorscale\":{\"diverging\":[[0,\"#8e0152\"],[0.1,\"#c51b7d\"],[0.2,\"#de77ae\"],[0.3,\"#f1b6da\"],[0.4,\"#fde0ef\"],[0.5,\"#f7f7f7\"],[0.6,\"#e6f5d0\"],[0.7,\"#b8e186\"],[0.8,\"#7fbc41\"],[0.9,\"#4d9221\"],[1,\"#276419\"]],\"sequential\":[[0.0,\"#0d0887\"],[0.1111111111111111,\"#46039f\"],[0.2222222222222222,\"#7201a8\"],[0.3333333333333333,\"#9c179e\"],[0.4444444444444444,\"#bd3786\"],[0.5555555555555556,\"#d8576b\"],[0.6666666666666666,\"#ed7953\"],[0.7777777777777778,\"#fb9f3a\"],[0.8888888888888888,\"#fdca26\"],[1.0,\"#f0f921\"]],\"sequentialminus\":[[0.0,\"#0d0887\"],[0.1111111111111111,\"#46039f\"],[0.2222222222222222,\"#7201a8\"],[0.3333333333333333,\"#9c179e\"],[0.4444444444444444,\"#bd3786\"],[0.5555555555555556,\"#d8576b\"],[0.6666666666666666,\"#ed7953\"],[0.7777777777777778,\"#fb9f3a\"],[0.8888888888888888,\"#fdca26\"],[1.0,\"#f0f921\"]]},\"colorway\":[\"#636efa\",\"#EF553B\",\"#00cc96\",\"#ab63fa\",\"#FFA15A\",\"#19d3f3\",\"#FF6692\",\"#B6E880\",\"#FF97FF\",\"#FECB52\"],\"font\":{\"color\":\"#2a3f5f\"},\"geo\":{\"bgcolor\":\"white\",\"lakecolor\":\"white\",\"landcolor\":\"#E5ECF6\",\"showlakes\":true,\"showland\":true,\"subunitcolor\":\"white\"},\"hoverlabel\":{\"align\":\"left\"},\"hovermode\":\"closest\",\"mapbox\":{\"style\":\"light\"},\"paper_bgcolor\":\"white\",\"plot_bgcolor\":\"#E5ECF6\",\"polar\":{\"angularaxis\":{\"gridcolor\":\"white\",\"linecolor\":\"white\",\"ticks\":\"\"},\"bgcolor\":\"#E5ECF6\",\"radialaxis\":{\"gridcolor\":\"white\",\"linecolor\":\"white\",\"ticks\":\"\"}},\"scene\":{\"xaxis\":{\"backgroundcolor\":\"#E5ECF6\",\"gridcolor\":\"white\",\"gridwidth\":2,\"linecolor\":\"white\",\"showbackground\":true,\"ticks\":\"\",\"zerolinecolor\":\"white\"},\"yaxis\":{\"backgroundcolor\":\"#E5ECF6\",\"gridcolor\":\"white\",\"gridwidth\":2,\"linecolor\":\"white\",\"showbackground\":true,\"ticks\":\"\",\"zerolinecolor\":\"white\"},\"zaxis\":{\"backgroundcolor\":\"#E5ECF6\",\"gridcolor\":\"white\",\"gridwidth\":2,\"linecolor\":\"white\",\"showbackground\":true,\"ticks\":\"\",\"zerolinecolor\":\"white\"}},\"shapedefaults\":{\"line\":{\"color\":\"#2a3f5f\"}},\"ternary\":{\"aaxis\":{\"gridcolor\":\"white\",\"linecolor\":\"white\",\"ticks\":\"\"},\"baxis\":{\"gridcolor\":\"white\",\"linecolor\":\"white\",\"ticks\":\"\"},\"bgcolor\":\"#E5ECF6\",\"caxis\":{\"gridcolor\":\"white\",\"linecolor\":\"white\",\"ticks\":\"\"}},\"title\":{\"x\":0.05},\"xaxis\":{\"automargin\":true,\"gridcolor\":\"white\",\"linecolor\":\"white\",\"ticks\":\"\",\"title\":{\"standoff\":15},\"zerolinecolor\":\"white\",\"zerolinewidth\":2},\"yaxis\":{\"automargin\":true,\"gridcolor\":\"white\",\"linecolor\":\"white\",\"ticks\":\"\",\"title\":{\"standoff\":15},\"zerolinecolor\":\"white\",\"zerolinewidth\":2}}},\"xaxis\":{\"anchor\":\"y\",\"domain\":[0.0,1.0],\"title\":{\"text\":\"Feature\"},\"categoryorder\":\"total ascending\"},\"yaxis\":{\"anchor\":\"x\",\"domain\":[0.0,1.0],\"title\":{\"text\":\"coefficient logistic\"}},\"legend\":{\"title\":{\"text\":\"color\"},\"tracegroupgap\":0},\"title\":{\"text\":\"Coeficient importances\"},\"barmode\":\"relative\",\"autosize\":false,\"width\":980,\"height\":800},                        {\"responsive\": true}                    ).then(function(){\n",
       "                            \n",
       "var gd = document.getElementById('16981b4a-6fd9-470f-9996-d6d0faf58cbc');\n",
       "var x = new MutationObserver(function (mutations, observer) {{\n",
       "        var display = window.getComputedStyle(gd).display;\n",
       "        if (!display || display === 'none') {{\n",
       "            console.log([gd, 'removed!']);\n",
       "            Plotly.purge(gd);\n",
       "            observer.disconnect();\n",
       "        }}\n",
       "}});\n",
       "\n",
       "// Listen for the removal of the full notebook cells\n",
       "var notebookContainer = gd.closest('#notebook-container');\n",
       "if (notebookContainer) {{\n",
       "    x.observe(notebookContainer, {childList: true});\n",
       "}}\n",
       "\n",
       "// Listen for the clearing of the current output cell\n",
       "var outputEl = gd.closest('.output');\n",
       "if (outputEl) {{\n",
       "    x.observe(outputEl, {childList: true});\n",
       "}}\n",
       "\n",
       "                        })                };                });            </script>        </div>"
      ]
     },
     "metadata": {},
     "output_type": "display_data"
    }
   ],
   "source": [
    "coef_importan()"
   ]
  },
  {
   "cell_type": "code",
   "execution_count": 38,
   "id": "5fd26bfa",
   "metadata": {},
   "outputs": [],
   "source": [
    "def infos_client_lime(id_client) :\n",
    "     \n",
    "    exp_client = explainer.explain_instance(x_test_transformed.loc[id_client],\n",
    "                                 pipe_model[3].predict_proba)\n",
    "    \n",
    "    indices, values = [], []\n",
    "    \n",
    "\n",
    "    for ind, val in sorted(exp_client.as_list(), key=itemgetter(1)):\n",
    "        indices.append(ind)\n",
    "        values.append(val)\n",
    "    \n",
    "    # Retourne le barplot correspondant aux 'feature importances'\n",
    "    # du client dont l'id est séléctionné sur le dashboard\n",
    "    colors = ['Non solvable' if c > 0 else 'Solvable' for c in values]\n",
    "    fig_lime = px.bar(\n",
    "        x=indices, y=values, color=colors,\n",
    "        color_discrete_sequence=['red', 'blue'],\n",
    "        labels=dict(x='Feature', y='coefficient Lime'),\n",
    "        title='Information locale sur le client'\n",
    "\n",
    "    )\n",
    "    fig_lime.update_layout(autosize=False,\n",
    "        width=970,\n",
    "        height=700)\n",
    "\n",
    "    \n",
    "    fig_lime.update_xaxes(categoryorder = \"total ascending\")\n",
    "    return fig_lime "
   ]
  },
  {
   "cell_type": "code",
   "execution_count": null,
   "id": "06b15fc9",
   "metadata": {},
   "outputs": [],
   "source": []
  },
  {
   "cell_type": "code",
   "execution_count": null,
   "id": "2d9d6f65",
   "metadata": {},
   "outputs": [],
   "source": []
  },
  {
   "cell_type": "code",
   "execution_count": 39,
   "id": "56cf592c",
   "metadata": {},
   "outputs": [
    {
     "data": {
      "application/vnd.plotly.v1+json": {
       "config": {
        "plotlyServerURL": "https://plot.ly"
       },
       "data": [
        {
         "alignmentgroup": "True",
         "hovertemplate": "color=Solvable<br>Feature=%{x}<br>coefficient Lime=%{y}<extra></extra>",
         "legendgroup": "Solvable",
         "marker": {
          "color": "red",
          "pattern": {
           "shape": ""
          }
         },
         "name": "Solvable",
         "offsetgroup": "Solvable",
         "orientation": "v",
         "showlegend": true,
         "textposition": "auto",
         "type": "bar",
         "x": [
          "CODE_GENDER",
          "FLAG_OWN_CAR",
          "NAME_INCOME_TYPE_Pensioner",
          "NAME_EDUCATION_TYPE_Higher education",
          "FLAG_OWN_REALTY",
          "AMT_GOODS_PRICE"
         ],
         "xaxis": "x",
         "y": [
          -0.05126156845650016,
          -0.04935317308744229,
          -0.033446594905838616,
          -0.030890665450246733,
          -0.022444272219793966,
          -0.014871109280823604
         ],
         "yaxis": "y"
        },
        {
         "alignmentgroup": "True",
         "hovertemplate": "color=Non solvable<br>Feature=%{x}<br>coefficient Lime=%{y}<extra></extra>",
         "legendgroup": "Non solvable",
         "marker": {
          "color": "blue",
          "pattern": {
           "shape": ""
          }
         },
         "name": "Non solvable",
         "offsetgroup": "Non solvable",
         "orientation": "v",
         "showlegend": true,
         "textposition": "auto",
         "type": "bar",
         "x": [
          "DAYS_EMPLOYED_PERC",
          "NAME_EDUCATION_TYPE_Secondary / secondary special",
          "NAME_INCOME_TYPE_Working",
          "REG_CITY_NOT_WORK_CITY"
         ],
         "xaxis": "x",
         "y": [
          0.005731369143077608,
          0.02640868023402443,
          0.03465704901801396,
          0.04303941794796909
         ],
         "yaxis": "y"
        }
       ],
       "layout": {
        "autosize": false,
        "barmode": "relative",
        "height": 700,
        "legend": {
         "title": {
          "text": "color"
         },
         "tracegroupgap": 0
        },
        "template": {
         "data": {
          "bar": [
           {
            "error_x": {
             "color": "#2a3f5f"
            },
            "error_y": {
             "color": "#2a3f5f"
            },
            "marker": {
             "line": {
              "color": "#E5ECF6",
              "width": 0.5
             },
             "pattern": {
              "fillmode": "overlay",
              "size": 10,
              "solidity": 0.2
             }
            },
            "type": "bar"
           }
          ],
          "barpolar": [
           {
            "marker": {
             "line": {
              "color": "#E5ECF6",
              "width": 0.5
             },
             "pattern": {
              "fillmode": "overlay",
              "size": 10,
              "solidity": 0.2
             }
            },
            "type": "barpolar"
           }
          ],
          "carpet": [
           {
            "aaxis": {
             "endlinecolor": "#2a3f5f",
             "gridcolor": "white",
             "linecolor": "white",
             "minorgridcolor": "white",
             "startlinecolor": "#2a3f5f"
            },
            "baxis": {
             "endlinecolor": "#2a3f5f",
             "gridcolor": "white",
             "linecolor": "white",
             "minorgridcolor": "white",
             "startlinecolor": "#2a3f5f"
            },
            "type": "carpet"
           }
          ],
          "choropleth": [
           {
            "colorbar": {
             "outlinewidth": 0,
             "ticks": ""
            },
            "type": "choropleth"
           }
          ],
          "contour": [
           {
            "colorbar": {
             "outlinewidth": 0,
             "ticks": ""
            },
            "colorscale": [
             [
              0,
              "#0d0887"
             ],
             [
              0.1111111111111111,
              "#46039f"
             ],
             [
              0.2222222222222222,
              "#7201a8"
             ],
             [
              0.3333333333333333,
              "#9c179e"
             ],
             [
              0.4444444444444444,
              "#bd3786"
             ],
             [
              0.5555555555555556,
              "#d8576b"
             ],
             [
              0.6666666666666666,
              "#ed7953"
             ],
             [
              0.7777777777777778,
              "#fb9f3a"
             ],
             [
              0.8888888888888888,
              "#fdca26"
             ],
             [
              1,
              "#f0f921"
             ]
            ],
            "type": "contour"
           }
          ],
          "contourcarpet": [
           {
            "colorbar": {
             "outlinewidth": 0,
             "ticks": ""
            },
            "type": "contourcarpet"
           }
          ],
          "heatmap": [
           {
            "colorbar": {
             "outlinewidth": 0,
             "ticks": ""
            },
            "colorscale": [
             [
              0,
              "#0d0887"
             ],
             [
              0.1111111111111111,
              "#46039f"
             ],
             [
              0.2222222222222222,
              "#7201a8"
             ],
             [
              0.3333333333333333,
              "#9c179e"
             ],
             [
              0.4444444444444444,
              "#bd3786"
             ],
             [
              0.5555555555555556,
              "#d8576b"
             ],
             [
              0.6666666666666666,
              "#ed7953"
             ],
             [
              0.7777777777777778,
              "#fb9f3a"
             ],
             [
              0.8888888888888888,
              "#fdca26"
             ],
             [
              1,
              "#f0f921"
             ]
            ],
            "type": "heatmap"
           }
          ],
          "heatmapgl": [
           {
            "colorbar": {
             "outlinewidth": 0,
             "ticks": ""
            },
            "colorscale": [
             [
              0,
              "#0d0887"
             ],
             [
              0.1111111111111111,
              "#46039f"
             ],
             [
              0.2222222222222222,
              "#7201a8"
             ],
             [
              0.3333333333333333,
              "#9c179e"
             ],
             [
              0.4444444444444444,
              "#bd3786"
             ],
             [
              0.5555555555555556,
              "#d8576b"
             ],
             [
              0.6666666666666666,
              "#ed7953"
             ],
             [
              0.7777777777777778,
              "#fb9f3a"
             ],
             [
              0.8888888888888888,
              "#fdca26"
             ],
             [
              1,
              "#f0f921"
             ]
            ],
            "type": "heatmapgl"
           }
          ],
          "histogram": [
           {
            "marker": {
             "pattern": {
              "fillmode": "overlay",
              "size": 10,
              "solidity": 0.2
             }
            },
            "type": "histogram"
           }
          ],
          "histogram2d": [
           {
            "colorbar": {
             "outlinewidth": 0,
             "ticks": ""
            },
            "colorscale": [
             [
              0,
              "#0d0887"
             ],
             [
              0.1111111111111111,
              "#46039f"
             ],
             [
              0.2222222222222222,
              "#7201a8"
             ],
             [
              0.3333333333333333,
              "#9c179e"
             ],
             [
              0.4444444444444444,
              "#bd3786"
             ],
             [
              0.5555555555555556,
              "#d8576b"
             ],
             [
              0.6666666666666666,
              "#ed7953"
             ],
             [
              0.7777777777777778,
              "#fb9f3a"
             ],
             [
              0.8888888888888888,
              "#fdca26"
             ],
             [
              1,
              "#f0f921"
             ]
            ],
            "type": "histogram2d"
           }
          ],
          "histogram2dcontour": [
           {
            "colorbar": {
             "outlinewidth": 0,
             "ticks": ""
            },
            "colorscale": [
             [
              0,
              "#0d0887"
             ],
             [
              0.1111111111111111,
              "#46039f"
             ],
             [
              0.2222222222222222,
              "#7201a8"
             ],
             [
              0.3333333333333333,
              "#9c179e"
             ],
             [
              0.4444444444444444,
              "#bd3786"
             ],
             [
              0.5555555555555556,
              "#d8576b"
             ],
             [
              0.6666666666666666,
              "#ed7953"
             ],
             [
              0.7777777777777778,
              "#fb9f3a"
             ],
             [
              0.8888888888888888,
              "#fdca26"
             ],
             [
              1,
              "#f0f921"
             ]
            ],
            "type": "histogram2dcontour"
           }
          ],
          "mesh3d": [
           {
            "colorbar": {
             "outlinewidth": 0,
             "ticks": ""
            },
            "type": "mesh3d"
           }
          ],
          "parcoords": [
           {
            "line": {
             "colorbar": {
              "outlinewidth": 0,
              "ticks": ""
             }
            },
            "type": "parcoords"
           }
          ],
          "pie": [
           {
            "automargin": true,
            "type": "pie"
           }
          ],
          "scatter": [
           {
            "marker": {
             "colorbar": {
              "outlinewidth": 0,
              "ticks": ""
             }
            },
            "type": "scatter"
           }
          ],
          "scatter3d": [
           {
            "line": {
             "colorbar": {
              "outlinewidth": 0,
              "ticks": ""
             }
            },
            "marker": {
             "colorbar": {
              "outlinewidth": 0,
              "ticks": ""
             }
            },
            "type": "scatter3d"
           }
          ],
          "scattercarpet": [
           {
            "marker": {
             "colorbar": {
              "outlinewidth": 0,
              "ticks": ""
             }
            },
            "type": "scattercarpet"
           }
          ],
          "scattergeo": [
           {
            "marker": {
             "colorbar": {
              "outlinewidth": 0,
              "ticks": ""
             }
            },
            "type": "scattergeo"
           }
          ],
          "scattergl": [
           {
            "marker": {
             "colorbar": {
              "outlinewidth": 0,
              "ticks": ""
             }
            },
            "type": "scattergl"
           }
          ],
          "scattermapbox": [
           {
            "marker": {
             "colorbar": {
              "outlinewidth": 0,
              "ticks": ""
             }
            },
            "type": "scattermapbox"
           }
          ],
          "scatterpolar": [
           {
            "marker": {
             "colorbar": {
              "outlinewidth": 0,
              "ticks": ""
             }
            },
            "type": "scatterpolar"
           }
          ],
          "scatterpolargl": [
           {
            "marker": {
             "colorbar": {
              "outlinewidth": 0,
              "ticks": ""
             }
            },
            "type": "scatterpolargl"
           }
          ],
          "scatterternary": [
           {
            "marker": {
             "colorbar": {
              "outlinewidth": 0,
              "ticks": ""
             }
            },
            "type": "scatterternary"
           }
          ],
          "surface": [
           {
            "colorbar": {
             "outlinewidth": 0,
             "ticks": ""
            },
            "colorscale": [
             [
              0,
              "#0d0887"
             ],
             [
              0.1111111111111111,
              "#46039f"
             ],
             [
              0.2222222222222222,
              "#7201a8"
             ],
             [
              0.3333333333333333,
              "#9c179e"
             ],
             [
              0.4444444444444444,
              "#bd3786"
             ],
             [
              0.5555555555555556,
              "#d8576b"
             ],
             [
              0.6666666666666666,
              "#ed7953"
             ],
             [
              0.7777777777777778,
              "#fb9f3a"
             ],
             [
              0.8888888888888888,
              "#fdca26"
             ],
             [
              1,
              "#f0f921"
             ]
            ],
            "type": "surface"
           }
          ],
          "table": [
           {
            "cells": {
             "fill": {
              "color": "#EBF0F8"
             },
             "line": {
              "color": "white"
             }
            },
            "header": {
             "fill": {
              "color": "#C8D4E3"
             },
             "line": {
              "color": "white"
             }
            },
            "type": "table"
           }
          ]
         },
         "layout": {
          "annotationdefaults": {
           "arrowcolor": "#2a3f5f",
           "arrowhead": 0,
           "arrowwidth": 1
          },
          "autotypenumbers": "strict",
          "coloraxis": {
           "colorbar": {
            "outlinewidth": 0,
            "ticks": ""
           }
          },
          "colorscale": {
           "diverging": [
            [
             0,
             "#8e0152"
            ],
            [
             0.1,
             "#c51b7d"
            ],
            [
             0.2,
             "#de77ae"
            ],
            [
             0.3,
             "#f1b6da"
            ],
            [
             0.4,
             "#fde0ef"
            ],
            [
             0.5,
             "#f7f7f7"
            ],
            [
             0.6,
             "#e6f5d0"
            ],
            [
             0.7,
             "#b8e186"
            ],
            [
             0.8,
             "#7fbc41"
            ],
            [
             0.9,
             "#4d9221"
            ],
            [
             1,
             "#276419"
            ]
           ],
           "sequential": [
            [
             0,
             "#0d0887"
            ],
            [
             0.1111111111111111,
             "#46039f"
            ],
            [
             0.2222222222222222,
             "#7201a8"
            ],
            [
             0.3333333333333333,
             "#9c179e"
            ],
            [
             0.4444444444444444,
             "#bd3786"
            ],
            [
             0.5555555555555556,
             "#d8576b"
            ],
            [
             0.6666666666666666,
             "#ed7953"
            ],
            [
             0.7777777777777778,
             "#fb9f3a"
            ],
            [
             0.8888888888888888,
             "#fdca26"
            ],
            [
             1,
             "#f0f921"
            ]
           ],
           "sequentialminus": [
            [
             0,
             "#0d0887"
            ],
            [
             0.1111111111111111,
             "#46039f"
            ],
            [
             0.2222222222222222,
             "#7201a8"
            ],
            [
             0.3333333333333333,
             "#9c179e"
            ],
            [
             0.4444444444444444,
             "#bd3786"
            ],
            [
             0.5555555555555556,
             "#d8576b"
            ],
            [
             0.6666666666666666,
             "#ed7953"
            ],
            [
             0.7777777777777778,
             "#fb9f3a"
            ],
            [
             0.8888888888888888,
             "#fdca26"
            ],
            [
             1,
             "#f0f921"
            ]
           ]
          },
          "colorway": [
           "#636efa",
           "#EF553B",
           "#00cc96",
           "#ab63fa",
           "#FFA15A",
           "#19d3f3",
           "#FF6692",
           "#B6E880",
           "#FF97FF",
           "#FECB52"
          ],
          "font": {
           "color": "#2a3f5f"
          },
          "geo": {
           "bgcolor": "white",
           "lakecolor": "white",
           "landcolor": "#E5ECF6",
           "showlakes": true,
           "showland": true,
           "subunitcolor": "white"
          },
          "hoverlabel": {
           "align": "left"
          },
          "hovermode": "closest",
          "mapbox": {
           "style": "light"
          },
          "paper_bgcolor": "white",
          "plot_bgcolor": "#E5ECF6",
          "polar": {
           "angularaxis": {
            "gridcolor": "white",
            "linecolor": "white",
            "ticks": ""
           },
           "bgcolor": "#E5ECF6",
           "radialaxis": {
            "gridcolor": "white",
            "linecolor": "white",
            "ticks": ""
           }
          },
          "scene": {
           "xaxis": {
            "backgroundcolor": "#E5ECF6",
            "gridcolor": "white",
            "gridwidth": 2,
            "linecolor": "white",
            "showbackground": true,
            "ticks": "",
            "zerolinecolor": "white"
           },
           "yaxis": {
            "backgroundcolor": "#E5ECF6",
            "gridcolor": "white",
            "gridwidth": 2,
            "linecolor": "white",
            "showbackground": true,
            "ticks": "",
            "zerolinecolor": "white"
           },
           "zaxis": {
            "backgroundcolor": "#E5ECF6",
            "gridcolor": "white",
            "gridwidth": 2,
            "linecolor": "white",
            "showbackground": true,
            "ticks": "",
            "zerolinecolor": "white"
           }
          },
          "shapedefaults": {
           "line": {
            "color": "#2a3f5f"
           }
          },
          "ternary": {
           "aaxis": {
            "gridcolor": "white",
            "linecolor": "white",
            "ticks": ""
           },
           "baxis": {
            "gridcolor": "white",
            "linecolor": "white",
            "ticks": ""
           },
           "bgcolor": "#E5ECF6",
           "caxis": {
            "gridcolor": "white",
            "linecolor": "white",
            "ticks": ""
           }
          },
          "title": {
           "x": 0.05
          },
          "xaxis": {
           "automargin": true,
           "gridcolor": "white",
           "linecolor": "white",
           "ticks": "",
           "title": {
            "standoff": 15
           },
           "zerolinecolor": "white",
           "zerolinewidth": 2
          },
          "yaxis": {
           "automargin": true,
           "gridcolor": "white",
           "linecolor": "white",
           "ticks": "",
           "title": {
            "standoff": 15
           },
           "zerolinecolor": "white",
           "zerolinewidth": 2
          }
         }
        },
        "title": {
         "text": "Information locale sur le client"
        },
        "width": 970,
        "xaxis": {
         "anchor": "y",
         "categoryorder": "total ascending",
         "domain": [
          0,
          1
         ],
         "title": {
          "text": "Feature"
         }
        },
        "yaxis": {
         "anchor": "x",
         "domain": [
          0,
          1
         ],
         "title": {
          "text": "coefficient Lime"
         }
        }
       }
      },
      "text/html": [
       "<div>                            <div id=\"64c9ade8-3e3a-44db-9708-2ae50b4ec43d\" class=\"plotly-graph-div\" style=\"height:700px; width:970px;\"></div>            <script type=\"text/javascript\">                require([\"plotly\"], function(Plotly) {                    window.PLOTLYENV=window.PLOTLYENV || {};                                    if (document.getElementById(\"64c9ade8-3e3a-44db-9708-2ae50b4ec43d\")) {                    Plotly.newPlot(                        \"64c9ade8-3e3a-44db-9708-2ae50b4ec43d\",                        [{\"alignmentgroup\":\"True\",\"hovertemplate\":\"color=Solvable<br>Feature=%{x}<br>coefficient Lime=%{y}<extra></extra>\",\"legendgroup\":\"Solvable\",\"marker\":{\"color\":\"red\",\"pattern\":{\"shape\":\"\"}},\"name\":\"Solvable\",\"offsetgroup\":\"Solvable\",\"orientation\":\"v\",\"showlegend\":true,\"textposition\":\"auto\",\"x\":[\"CODE_GENDER\",\"FLAG_OWN_CAR\",\"NAME_INCOME_TYPE_Pensioner\",\"NAME_EDUCATION_TYPE_Higher education\",\"FLAG_OWN_REALTY\",\"AMT_GOODS_PRICE\"],\"xaxis\":\"x\",\"y\":[-0.05126156845650016,-0.04935317308744229,-0.033446594905838616,-0.030890665450246733,-0.022444272219793966,-0.014871109280823604],\"yaxis\":\"y\",\"type\":\"bar\"},{\"alignmentgroup\":\"True\",\"hovertemplate\":\"color=Non solvable<br>Feature=%{x}<br>coefficient Lime=%{y}<extra></extra>\",\"legendgroup\":\"Non solvable\",\"marker\":{\"color\":\"blue\",\"pattern\":{\"shape\":\"\"}},\"name\":\"Non solvable\",\"offsetgroup\":\"Non solvable\",\"orientation\":\"v\",\"showlegend\":true,\"textposition\":\"auto\",\"x\":[\"DAYS_EMPLOYED_PERC\",\"NAME_EDUCATION_TYPE_Secondary / secondary special\",\"NAME_INCOME_TYPE_Working\",\"REG_CITY_NOT_WORK_CITY\"],\"xaxis\":\"x\",\"y\":[0.005731369143077608,0.02640868023402443,0.03465704901801396,0.04303941794796909],\"yaxis\":\"y\",\"type\":\"bar\"}],                        {\"template\":{\"data\":{\"bar\":[{\"error_x\":{\"color\":\"#2a3f5f\"},\"error_y\":{\"color\":\"#2a3f5f\"},\"marker\":{\"line\":{\"color\":\"#E5ECF6\",\"width\":0.5},\"pattern\":{\"fillmode\":\"overlay\",\"size\":10,\"solidity\":0.2}},\"type\":\"bar\"}],\"barpolar\":[{\"marker\":{\"line\":{\"color\":\"#E5ECF6\",\"width\":0.5},\"pattern\":{\"fillmode\":\"overlay\",\"size\":10,\"solidity\":0.2}},\"type\":\"barpolar\"}],\"carpet\":[{\"aaxis\":{\"endlinecolor\":\"#2a3f5f\",\"gridcolor\":\"white\",\"linecolor\":\"white\",\"minorgridcolor\":\"white\",\"startlinecolor\":\"#2a3f5f\"},\"baxis\":{\"endlinecolor\":\"#2a3f5f\",\"gridcolor\":\"white\",\"linecolor\":\"white\",\"minorgridcolor\":\"white\",\"startlinecolor\":\"#2a3f5f\"},\"type\":\"carpet\"}],\"choropleth\":[{\"colorbar\":{\"outlinewidth\":0,\"ticks\":\"\"},\"type\":\"choropleth\"}],\"contour\":[{\"colorbar\":{\"outlinewidth\":0,\"ticks\":\"\"},\"colorscale\":[[0.0,\"#0d0887\"],[0.1111111111111111,\"#46039f\"],[0.2222222222222222,\"#7201a8\"],[0.3333333333333333,\"#9c179e\"],[0.4444444444444444,\"#bd3786\"],[0.5555555555555556,\"#d8576b\"],[0.6666666666666666,\"#ed7953\"],[0.7777777777777778,\"#fb9f3a\"],[0.8888888888888888,\"#fdca26\"],[1.0,\"#f0f921\"]],\"type\":\"contour\"}],\"contourcarpet\":[{\"colorbar\":{\"outlinewidth\":0,\"ticks\":\"\"},\"type\":\"contourcarpet\"}],\"heatmap\":[{\"colorbar\":{\"outlinewidth\":0,\"ticks\":\"\"},\"colorscale\":[[0.0,\"#0d0887\"],[0.1111111111111111,\"#46039f\"],[0.2222222222222222,\"#7201a8\"],[0.3333333333333333,\"#9c179e\"],[0.4444444444444444,\"#bd3786\"],[0.5555555555555556,\"#d8576b\"],[0.6666666666666666,\"#ed7953\"],[0.7777777777777778,\"#fb9f3a\"],[0.8888888888888888,\"#fdca26\"],[1.0,\"#f0f921\"]],\"type\":\"heatmap\"}],\"heatmapgl\":[{\"colorbar\":{\"outlinewidth\":0,\"ticks\":\"\"},\"colorscale\":[[0.0,\"#0d0887\"],[0.1111111111111111,\"#46039f\"],[0.2222222222222222,\"#7201a8\"],[0.3333333333333333,\"#9c179e\"],[0.4444444444444444,\"#bd3786\"],[0.5555555555555556,\"#d8576b\"],[0.6666666666666666,\"#ed7953\"],[0.7777777777777778,\"#fb9f3a\"],[0.8888888888888888,\"#fdca26\"],[1.0,\"#f0f921\"]],\"type\":\"heatmapgl\"}],\"histogram\":[{\"marker\":{\"pattern\":{\"fillmode\":\"overlay\",\"size\":10,\"solidity\":0.2}},\"type\":\"histogram\"}],\"histogram2d\":[{\"colorbar\":{\"outlinewidth\":0,\"ticks\":\"\"},\"colorscale\":[[0.0,\"#0d0887\"],[0.1111111111111111,\"#46039f\"],[0.2222222222222222,\"#7201a8\"],[0.3333333333333333,\"#9c179e\"],[0.4444444444444444,\"#bd3786\"],[0.5555555555555556,\"#d8576b\"],[0.6666666666666666,\"#ed7953\"],[0.7777777777777778,\"#fb9f3a\"],[0.8888888888888888,\"#fdca26\"],[1.0,\"#f0f921\"]],\"type\":\"histogram2d\"}],\"histogram2dcontour\":[{\"colorbar\":{\"outlinewidth\":0,\"ticks\":\"\"},\"colorscale\":[[0.0,\"#0d0887\"],[0.1111111111111111,\"#46039f\"],[0.2222222222222222,\"#7201a8\"],[0.3333333333333333,\"#9c179e\"],[0.4444444444444444,\"#bd3786\"],[0.5555555555555556,\"#d8576b\"],[0.6666666666666666,\"#ed7953\"],[0.7777777777777778,\"#fb9f3a\"],[0.8888888888888888,\"#fdca26\"],[1.0,\"#f0f921\"]],\"type\":\"histogram2dcontour\"}],\"mesh3d\":[{\"colorbar\":{\"outlinewidth\":0,\"ticks\":\"\"},\"type\":\"mesh3d\"}],\"parcoords\":[{\"line\":{\"colorbar\":{\"outlinewidth\":0,\"ticks\":\"\"}},\"type\":\"parcoords\"}],\"pie\":[{\"automargin\":true,\"type\":\"pie\"}],\"scatter\":[{\"marker\":{\"colorbar\":{\"outlinewidth\":0,\"ticks\":\"\"}},\"type\":\"scatter\"}],\"scatter3d\":[{\"line\":{\"colorbar\":{\"outlinewidth\":0,\"ticks\":\"\"}},\"marker\":{\"colorbar\":{\"outlinewidth\":0,\"ticks\":\"\"}},\"type\":\"scatter3d\"}],\"scattercarpet\":[{\"marker\":{\"colorbar\":{\"outlinewidth\":0,\"ticks\":\"\"}},\"type\":\"scattercarpet\"}],\"scattergeo\":[{\"marker\":{\"colorbar\":{\"outlinewidth\":0,\"ticks\":\"\"}},\"type\":\"scattergeo\"}],\"scattergl\":[{\"marker\":{\"colorbar\":{\"outlinewidth\":0,\"ticks\":\"\"}},\"type\":\"scattergl\"}],\"scattermapbox\":[{\"marker\":{\"colorbar\":{\"outlinewidth\":0,\"ticks\":\"\"}},\"type\":\"scattermapbox\"}],\"scatterpolar\":[{\"marker\":{\"colorbar\":{\"outlinewidth\":0,\"ticks\":\"\"}},\"type\":\"scatterpolar\"}],\"scatterpolargl\":[{\"marker\":{\"colorbar\":{\"outlinewidth\":0,\"ticks\":\"\"}},\"type\":\"scatterpolargl\"}],\"scatterternary\":[{\"marker\":{\"colorbar\":{\"outlinewidth\":0,\"ticks\":\"\"}},\"type\":\"scatterternary\"}],\"surface\":[{\"colorbar\":{\"outlinewidth\":0,\"ticks\":\"\"},\"colorscale\":[[0.0,\"#0d0887\"],[0.1111111111111111,\"#46039f\"],[0.2222222222222222,\"#7201a8\"],[0.3333333333333333,\"#9c179e\"],[0.4444444444444444,\"#bd3786\"],[0.5555555555555556,\"#d8576b\"],[0.6666666666666666,\"#ed7953\"],[0.7777777777777778,\"#fb9f3a\"],[0.8888888888888888,\"#fdca26\"],[1.0,\"#f0f921\"]],\"type\":\"surface\"}],\"table\":[{\"cells\":{\"fill\":{\"color\":\"#EBF0F8\"},\"line\":{\"color\":\"white\"}},\"header\":{\"fill\":{\"color\":\"#C8D4E3\"},\"line\":{\"color\":\"white\"}},\"type\":\"table\"}]},\"layout\":{\"annotationdefaults\":{\"arrowcolor\":\"#2a3f5f\",\"arrowhead\":0,\"arrowwidth\":1},\"autotypenumbers\":\"strict\",\"coloraxis\":{\"colorbar\":{\"outlinewidth\":0,\"ticks\":\"\"}},\"colorscale\":{\"diverging\":[[0,\"#8e0152\"],[0.1,\"#c51b7d\"],[0.2,\"#de77ae\"],[0.3,\"#f1b6da\"],[0.4,\"#fde0ef\"],[0.5,\"#f7f7f7\"],[0.6,\"#e6f5d0\"],[0.7,\"#b8e186\"],[0.8,\"#7fbc41\"],[0.9,\"#4d9221\"],[1,\"#276419\"]],\"sequential\":[[0.0,\"#0d0887\"],[0.1111111111111111,\"#46039f\"],[0.2222222222222222,\"#7201a8\"],[0.3333333333333333,\"#9c179e\"],[0.4444444444444444,\"#bd3786\"],[0.5555555555555556,\"#d8576b\"],[0.6666666666666666,\"#ed7953\"],[0.7777777777777778,\"#fb9f3a\"],[0.8888888888888888,\"#fdca26\"],[1.0,\"#f0f921\"]],\"sequentialminus\":[[0.0,\"#0d0887\"],[0.1111111111111111,\"#46039f\"],[0.2222222222222222,\"#7201a8\"],[0.3333333333333333,\"#9c179e\"],[0.4444444444444444,\"#bd3786\"],[0.5555555555555556,\"#d8576b\"],[0.6666666666666666,\"#ed7953\"],[0.7777777777777778,\"#fb9f3a\"],[0.8888888888888888,\"#fdca26\"],[1.0,\"#f0f921\"]]},\"colorway\":[\"#636efa\",\"#EF553B\",\"#00cc96\",\"#ab63fa\",\"#FFA15A\",\"#19d3f3\",\"#FF6692\",\"#B6E880\",\"#FF97FF\",\"#FECB52\"],\"font\":{\"color\":\"#2a3f5f\"},\"geo\":{\"bgcolor\":\"white\",\"lakecolor\":\"white\",\"landcolor\":\"#E5ECF6\",\"showlakes\":true,\"showland\":true,\"subunitcolor\":\"white\"},\"hoverlabel\":{\"align\":\"left\"},\"hovermode\":\"closest\",\"mapbox\":{\"style\":\"light\"},\"paper_bgcolor\":\"white\",\"plot_bgcolor\":\"#E5ECF6\",\"polar\":{\"angularaxis\":{\"gridcolor\":\"white\",\"linecolor\":\"white\",\"ticks\":\"\"},\"bgcolor\":\"#E5ECF6\",\"radialaxis\":{\"gridcolor\":\"white\",\"linecolor\":\"white\",\"ticks\":\"\"}},\"scene\":{\"xaxis\":{\"backgroundcolor\":\"#E5ECF6\",\"gridcolor\":\"white\",\"gridwidth\":2,\"linecolor\":\"white\",\"showbackground\":true,\"ticks\":\"\",\"zerolinecolor\":\"white\"},\"yaxis\":{\"backgroundcolor\":\"#E5ECF6\",\"gridcolor\":\"white\",\"gridwidth\":2,\"linecolor\":\"white\",\"showbackground\":true,\"ticks\":\"\",\"zerolinecolor\":\"white\"},\"zaxis\":{\"backgroundcolor\":\"#E5ECF6\",\"gridcolor\":\"white\",\"gridwidth\":2,\"linecolor\":\"white\",\"showbackground\":true,\"ticks\":\"\",\"zerolinecolor\":\"white\"}},\"shapedefaults\":{\"line\":{\"color\":\"#2a3f5f\"}},\"ternary\":{\"aaxis\":{\"gridcolor\":\"white\",\"linecolor\":\"white\",\"ticks\":\"\"},\"baxis\":{\"gridcolor\":\"white\",\"linecolor\":\"white\",\"ticks\":\"\"},\"bgcolor\":\"#E5ECF6\",\"caxis\":{\"gridcolor\":\"white\",\"linecolor\":\"white\",\"ticks\":\"\"}},\"title\":{\"x\":0.05},\"xaxis\":{\"automargin\":true,\"gridcolor\":\"white\",\"linecolor\":\"white\",\"ticks\":\"\",\"title\":{\"standoff\":15},\"zerolinecolor\":\"white\",\"zerolinewidth\":2},\"yaxis\":{\"automargin\":true,\"gridcolor\":\"white\",\"linecolor\":\"white\",\"ticks\":\"\",\"title\":{\"standoff\":15},\"zerolinecolor\":\"white\",\"zerolinewidth\":2}}},\"xaxis\":{\"anchor\":\"y\",\"domain\":[0.0,1.0],\"title\":{\"text\":\"Feature\"},\"categoryorder\":\"total ascending\"},\"yaxis\":{\"anchor\":\"x\",\"domain\":[0.0,1.0],\"title\":{\"text\":\"coefficient Lime\"}},\"legend\":{\"title\":{\"text\":\"color\"},\"tracegroupgap\":0},\"title\":{\"text\":\"Information locale sur le client\"},\"barmode\":\"relative\",\"autosize\":false,\"width\":970,\"height\":700},                        {\"responsive\": true}                    ).then(function(){\n",
       "                            \n",
       "var gd = document.getElementById('64c9ade8-3e3a-44db-9708-2ae50b4ec43d');\n",
       "var x = new MutationObserver(function (mutations, observer) {{\n",
       "        var display = window.getComputedStyle(gd).display;\n",
       "        if (!display || display === 'none') {{\n",
       "            console.log([gd, 'removed!']);\n",
       "            Plotly.purge(gd);\n",
       "            observer.disconnect();\n",
       "        }}\n",
       "}});\n",
       "\n",
       "// Listen for the removal of the full notebook cells\n",
       "var notebookContainer = gd.closest('#notebook-container');\n",
       "if (notebookContainer) {{\n",
       "    x.observe(notebookContainer, {childList: true});\n",
       "}}\n",
       "\n",
       "// Listen for the clearing of the current output cell\n",
       "var outputEl = gd.closest('.output');\n",
       "if (outputEl) {{\n",
       "    x.observe(outputEl, {childList: true});\n",
       "}}\n",
       "\n",
       "                        })                };                });            </script>        </div>"
      ]
     },
     "metadata": {},
     "output_type": "display_data"
    }
   ],
   "source": [
    "infos_client_lime(100001)"
   ]
  },
  {
   "cell_type": "code",
   "execution_count": 40,
   "id": "59ae1362",
   "metadata": {},
   "outputs": [],
   "source": [
    "def plot_mat_conf(conf_mx):\n",
    "    \n",
    "    labels = [\"False\", \"True\"]\n",
    "    \n",
    "    annotations = go.Annotations()\n",
    "    for n in range(conf_mx.shape[0]):\n",
    "        for m in range(conf_mx.shape[1]):\n",
    "            annotations.append(go.Annotation(text=str(conf_mx[n][m]), x=labels[m], y=labels[n],\n",
    "                                             showarrow=False))\n",
    "            \n",
    "            \n",
    "    colorscale=[[0.0, 'rgb(255, 255, 153)'], [.2, 'rgb(255, 255, 203)'],\n",
    "            [.4, 'rgb(153, 255, 204)'], [.6, 'rgb(179, 217, 255)'],\n",
    "            [.8, 'rgb(240, 179, 255)'],[1.0, 'rgb(255, 77, 148)']]\n",
    "\n",
    "    trace = go.Heatmap(x=labels,\n",
    "                       y=labels,\n",
    "                       z=conf_mx,\n",
    "                       colorscale=colorscale,\n",
    "                       showscale=True)\n",
    "\n",
    "    fig_confusion = go.Figure(data=go.Data([trace]))\n",
    "    \n",
    "    fig_confusion['layout'].update(\n",
    "        annotations=annotations,\n",
    "        xaxis= dict(title='Classes prédites'), \n",
    "        yaxis=dict(title='Classes réelles', dtick=1),\n",
    "        margin={'b': 30, 'r': 20, 't': 10},\n",
    "        width=500,\n",
    "        height=300,\n",
    "        autosize=False\n",
    "    )\n",
    "    \n",
    "    return fig_confusion # Retourne la figure crée"
   ]
  },
  {
   "cell_type": "code",
   "execution_count": 41,
   "id": "9cf748d9",
   "metadata": {},
   "outputs": [
    {
     "name": "stderr",
     "output_type": "stream",
     "text": [
      "C:\\Users\\sylla\\anaconda3\\lib\\site-packages\\plotly\\graph_objs\\_deprecations.py:62: DeprecationWarning:\n",
      "\n",
      "plotly.graph_objs.Annotations is deprecated.\n",
      "Please replace it with a list or tuple of instances of the following types\n",
      "  - plotly.graph_objs.layout.Annotation\n",
      "  - plotly.graph_objs.layout.scene.Annotation\n",
      "\n",
      "\n",
      "C:\\Users\\sylla\\anaconda3\\lib\\site-packages\\plotly\\graph_objs\\_deprecations.py:143: DeprecationWarning:\n",
      "\n",
      "plotly.graph_objs.Annotation is deprecated.\n",
      "Please replace it with one of the following more specific types\n",
      "  - plotly.graph_objs.layout.Annotation\n",
      "  - plotly.graph_objs.layout.scene.Annotation\n",
      "\n",
      "\n",
      "C:\\Users\\sylla\\anaconda3\\lib\\site-packages\\plotly\\graph_objs\\_deprecations.py:31: DeprecationWarning:\n",
      "\n",
      "plotly.graph_objs.Data is deprecated.\n",
      "Please replace it with a list or tuple of instances of the following types\n",
      "  - plotly.graph_objs.Scatter\n",
      "  - plotly.graph_objs.Bar\n",
      "  - plotly.graph_objs.Area\n",
      "  - plotly.graph_objs.Histogram\n",
      "  - etc.\n",
      "\n",
      "\n"
     ]
    },
    {
     "data": {
      "application/vnd.plotly.v1+json": {
       "config": {
        "plotlyServerURL": "https://plot.ly"
       },
       "data": [
        {
         "colorscale": [
          [
           0,
           "rgb(255, 255, 153)"
          ],
          [
           0.2,
           "rgb(255, 255, 203)"
          ],
          [
           0.4,
           "rgb(153, 255, 204)"
          ],
          [
           0.6,
           "rgb(179, 217, 255)"
          ],
          [
           0.8,
           "rgb(240, 179, 255)"
          ],
          [
           1,
           "rgb(255, 77, 148)"
          ]
         ],
         "showscale": true,
         "type": "heatmap",
         "x": [
          "False",
          "True"
         ],
         "y": [
          "False",
          "True"
         ],
         "z": [
          [
           17312,
           8132
          ],
          [
           1115,
           1117
          ]
         ]
        }
       ],
       "layout": {
        "annotations": [
         {
          "showarrow": false,
          "text": "17312",
          "x": "False",
          "y": "False"
         },
         {
          "showarrow": false,
          "text": "8132",
          "x": "True",
          "y": "False"
         },
         {
          "showarrow": false,
          "text": "1115",
          "x": "False",
          "y": "True"
         },
         {
          "showarrow": false,
          "text": "1117",
          "x": "True",
          "y": "True"
         }
        ],
        "autosize": false,
        "height": 300,
        "margin": {
         "b": 30,
         "r": 20,
         "t": 10
        },
        "template": {
         "data": {
          "bar": [
           {
            "error_x": {
             "color": "#2a3f5f"
            },
            "error_y": {
             "color": "#2a3f5f"
            },
            "marker": {
             "line": {
              "color": "#E5ECF6",
              "width": 0.5
             },
             "pattern": {
              "fillmode": "overlay",
              "size": 10,
              "solidity": 0.2
             }
            },
            "type": "bar"
           }
          ],
          "barpolar": [
           {
            "marker": {
             "line": {
              "color": "#E5ECF6",
              "width": 0.5
             },
             "pattern": {
              "fillmode": "overlay",
              "size": 10,
              "solidity": 0.2
             }
            },
            "type": "barpolar"
           }
          ],
          "carpet": [
           {
            "aaxis": {
             "endlinecolor": "#2a3f5f",
             "gridcolor": "white",
             "linecolor": "white",
             "minorgridcolor": "white",
             "startlinecolor": "#2a3f5f"
            },
            "baxis": {
             "endlinecolor": "#2a3f5f",
             "gridcolor": "white",
             "linecolor": "white",
             "minorgridcolor": "white",
             "startlinecolor": "#2a3f5f"
            },
            "type": "carpet"
           }
          ],
          "choropleth": [
           {
            "colorbar": {
             "outlinewidth": 0,
             "ticks": ""
            },
            "type": "choropleth"
           }
          ],
          "contour": [
           {
            "colorbar": {
             "outlinewidth": 0,
             "ticks": ""
            },
            "colorscale": [
             [
              0,
              "#0d0887"
             ],
             [
              0.1111111111111111,
              "#46039f"
             ],
             [
              0.2222222222222222,
              "#7201a8"
             ],
             [
              0.3333333333333333,
              "#9c179e"
             ],
             [
              0.4444444444444444,
              "#bd3786"
             ],
             [
              0.5555555555555556,
              "#d8576b"
             ],
             [
              0.6666666666666666,
              "#ed7953"
             ],
             [
              0.7777777777777778,
              "#fb9f3a"
             ],
             [
              0.8888888888888888,
              "#fdca26"
             ],
             [
              1,
              "#f0f921"
             ]
            ],
            "type": "contour"
           }
          ],
          "contourcarpet": [
           {
            "colorbar": {
             "outlinewidth": 0,
             "ticks": ""
            },
            "type": "contourcarpet"
           }
          ],
          "heatmap": [
           {
            "colorbar": {
             "outlinewidth": 0,
             "ticks": ""
            },
            "colorscale": [
             [
              0,
              "#0d0887"
             ],
             [
              0.1111111111111111,
              "#46039f"
             ],
             [
              0.2222222222222222,
              "#7201a8"
             ],
             [
              0.3333333333333333,
              "#9c179e"
             ],
             [
              0.4444444444444444,
              "#bd3786"
             ],
             [
              0.5555555555555556,
              "#d8576b"
             ],
             [
              0.6666666666666666,
              "#ed7953"
             ],
             [
              0.7777777777777778,
              "#fb9f3a"
             ],
             [
              0.8888888888888888,
              "#fdca26"
             ],
             [
              1,
              "#f0f921"
             ]
            ],
            "type": "heatmap"
           }
          ],
          "heatmapgl": [
           {
            "colorbar": {
             "outlinewidth": 0,
             "ticks": ""
            },
            "colorscale": [
             [
              0,
              "#0d0887"
             ],
             [
              0.1111111111111111,
              "#46039f"
             ],
             [
              0.2222222222222222,
              "#7201a8"
             ],
             [
              0.3333333333333333,
              "#9c179e"
             ],
             [
              0.4444444444444444,
              "#bd3786"
             ],
             [
              0.5555555555555556,
              "#d8576b"
             ],
             [
              0.6666666666666666,
              "#ed7953"
             ],
             [
              0.7777777777777778,
              "#fb9f3a"
             ],
             [
              0.8888888888888888,
              "#fdca26"
             ],
             [
              1,
              "#f0f921"
             ]
            ],
            "type": "heatmapgl"
           }
          ],
          "histogram": [
           {
            "marker": {
             "pattern": {
              "fillmode": "overlay",
              "size": 10,
              "solidity": 0.2
             }
            },
            "type": "histogram"
           }
          ],
          "histogram2d": [
           {
            "colorbar": {
             "outlinewidth": 0,
             "ticks": ""
            },
            "colorscale": [
             [
              0,
              "#0d0887"
             ],
             [
              0.1111111111111111,
              "#46039f"
             ],
             [
              0.2222222222222222,
              "#7201a8"
             ],
             [
              0.3333333333333333,
              "#9c179e"
             ],
             [
              0.4444444444444444,
              "#bd3786"
             ],
             [
              0.5555555555555556,
              "#d8576b"
             ],
             [
              0.6666666666666666,
              "#ed7953"
             ],
             [
              0.7777777777777778,
              "#fb9f3a"
             ],
             [
              0.8888888888888888,
              "#fdca26"
             ],
             [
              1,
              "#f0f921"
             ]
            ],
            "type": "histogram2d"
           }
          ],
          "histogram2dcontour": [
           {
            "colorbar": {
             "outlinewidth": 0,
             "ticks": ""
            },
            "colorscale": [
             [
              0,
              "#0d0887"
             ],
             [
              0.1111111111111111,
              "#46039f"
             ],
             [
              0.2222222222222222,
              "#7201a8"
             ],
             [
              0.3333333333333333,
              "#9c179e"
             ],
             [
              0.4444444444444444,
              "#bd3786"
             ],
             [
              0.5555555555555556,
              "#d8576b"
             ],
             [
              0.6666666666666666,
              "#ed7953"
             ],
             [
              0.7777777777777778,
              "#fb9f3a"
             ],
             [
              0.8888888888888888,
              "#fdca26"
             ],
             [
              1,
              "#f0f921"
             ]
            ],
            "type": "histogram2dcontour"
           }
          ],
          "mesh3d": [
           {
            "colorbar": {
             "outlinewidth": 0,
             "ticks": ""
            },
            "type": "mesh3d"
           }
          ],
          "parcoords": [
           {
            "line": {
             "colorbar": {
              "outlinewidth": 0,
              "ticks": ""
             }
            },
            "type": "parcoords"
           }
          ],
          "pie": [
           {
            "automargin": true,
            "type": "pie"
           }
          ],
          "scatter": [
           {
            "marker": {
             "colorbar": {
              "outlinewidth": 0,
              "ticks": ""
             }
            },
            "type": "scatter"
           }
          ],
          "scatter3d": [
           {
            "line": {
             "colorbar": {
              "outlinewidth": 0,
              "ticks": ""
             }
            },
            "marker": {
             "colorbar": {
              "outlinewidth": 0,
              "ticks": ""
             }
            },
            "type": "scatter3d"
           }
          ],
          "scattercarpet": [
           {
            "marker": {
             "colorbar": {
              "outlinewidth": 0,
              "ticks": ""
             }
            },
            "type": "scattercarpet"
           }
          ],
          "scattergeo": [
           {
            "marker": {
             "colorbar": {
              "outlinewidth": 0,
              "ticks": ""
             }
            },
            "type": "scattergeo"
           }
          ],
          "scattergl": [
           {
            "marker": {
             "colorbar": {
              "outlinewidth": 0,
              "ticks": ""
             }
            },
            "type": "scattergl"
           }
          ],
          "scattermapbox": [
           {
            "marker": {
             "colorbar": {
              "outlinewidth": 0,
              "ticks": ""
             }
            },
            "type": "scattermapbox"
           }
          ],
          "scatterpolar": [
           {
            "marker": {
             "colorbar": {
              "outlinewidth": 0,
              "ticks": ""
             }
            },
            "type": "scatterpolar"
           }
          ],
          "scatterpolargl": [
           {
            "marker": {
             "colorbar": {
              "outlinewidth": 0,
              "ticks": ""
             }
            },
            "type": "scatterpolargl"
           }
          ],
          "scatterternary": [
           {
            "marker": {
             "colorbar": {
              "outlinewidth": 0,
              "ticks": ""
             }
            },
            "type": "scatterternary"
           }
          ],
          "surface": [
           {
            "colorbar": {
             "outlinewidth": 0,
             "ticks": ""
            },
            "colorscale": [
             [
              0,
              "#0d0887"
             ],
             [
              0.1111111111111111,
              "#46039f"
             ],
             [
              0.2222222222222222,
              "#7201a8"
             ],
             [
              0.3333333333333333,
              "#9c179e"
             ],
             [
              0.4444444444444444,
              "#bd3786"
             ],
             [
              0.5555555555555556,
              "#d8576b"
             ],
             [
              0.6666666666666666,
              "#ed7953"
             ],
             [
              0.7777777777777778,
              "#fb9f3a"
             ],
             [
              0.8888888888888888,
              "#fdca26"
             ],
             [
              1,
              "#f0f921"
             ]
            ],
            "type": "surface"
           }
          ],
          "table": [
           {
            "cells": {
             "fill": {
              "color": "#EBF0F8"
             },
             "line": {
              "color": "white"
             }
            },
            "header": {
             "fill": {
              "color": "#C8D4E3"
             },
             "line": {
              "color": "white"
             }
            },
            "type": "table"
           }
          ]
         },
         "layout": {
          "annotationdefaults": {
           "arrowcolor": "#2a3f5f",
           "arrowhead": 0,
           "arrowwidth": 1
          },
          "autotypenumbers": "strict",
          "coloraxis": {
           "colorbar": {
            "outlinewidth": 0,
            "ticks": ""
           }
          },
          "colorscale": {
           "diverging": [
            [
             0,
             "#8e0152"
            ],
            [
             0.1,
             "#c51b7d"
            ],
            [
             0.2,
             "#de77ae"
            ],
            [
             0.3,
             "#f1b6da"
            ],
            [
             0.4,
             "#fde0ef"
            ],
            [
             0.5,
             "#f7f7f7"
            ],
            [
             0.6,
             "#e6f5d0"
            ],
            [
             0.7,
             "#b8e186"
            ],
            [
             0.8,
             "#7fbc41"
            ],
            [
             0.9,
             "#4d9221"
            ],
            [
             1,
             "#276419"
            ]
           ],
           "sequential": [
            [
             0,
             "#0d0887"
            ],
            [
             0.1111111111111111,
             "#46039f"
            ],
            [
             0.2222222222222222,
             "#7201a8"
            ],
            [
             0.3333333333333333,
             "#9c179e"
            ],
            [
             0.4444444444444444,
             "#bd3786"
            ],
            [
             0.5555555555555556,
             "#d8576b"
            ],
            [
             0.6666666666666666,
             "#ed7953"
            ],
            [
             0.7777777777777778,
             "#fb9f3a"
            ],
            [
             0.8888888888888888,
             "#fdca26"
            ],
            [
             1,
             "#f0f921"
            ]
           ],
           "sequentialminus": [
            [
             0,
             "#0d0887"
            ],
            [
             0.1111111111111111,
             "#46039f"
            ],
            [
             0.2222222222222222,
             "#7201a8"
            ],
            [
             0.3333333333333333,
             "#9c179e"
            ],
            [
             0.4444444444444444,
             "#bd3786"
            ],
            [
             0.5555555555555556,
             "#d8576b"
            ],
            [
             0.6666666666666666,
             "#ed7953"
            ],
            [
             0.7777777777777778,
             "#fb9f3a"
            ],
            [
             0.8888888888888888,
             "#fdca26"
            ],
            [
             1,
             "#f0f921"
            ]
           ]
          },
          "colorway": [
           "#636efa",
           "#EF553B",
           "#00cc96",
           "#ab63fa",
           "#FFA15A",
           "#19d3f3",
           "#FF6692",
           "#B6E880",
           "#FF97FF",
           "#FECB52"
          ],
          "font": {
           "color": "#2a3f5f"
          },
          "geo": {
           "bgcolor": "white",
           "lakecolor": "white",
           "landcolor": "#E5ECF6",
           "showlakes": true,
           "showland": true,
           "subunitcolor": "white"
          },
          "hoverlabel": {
           "align": "left"
          },
          "hovermode": "closest",
          "mapbox": {
           "style": "light"
          },
          "paper_bgcolor": "white",
          "plot_bgcolor": "#E5ECF6",
          "polar": {
           "angularaxis": {
            "gridcolor": "white",
            "linecolor": "white",
            "ticks": ""
           },
           "bgcolor": "#E5ECF6",
           "radialaxis": {
            "gridcolor": "white",
            "linecolor": "white",
            "ticks": ""
           }
          },
          "scene": {
           "xaxis": {
            "backgroundcolor": "#E5ECF6",
            "gridcolor": "white",
            "gridwidth": 2,
            "linecolor": "white",
            "showbackground": true,
            "ticks": "",
            "zerolinecolor": "white"
           },
           "yaxis": {
            "backgroundcolor": "#E5ECF6",
            "gridcolor": "white",
            "gridwidth": 2,
            "linecolor": "white",
            "showbackground": true,
            "ticks": "",
            "zerolinecolor": "white"
           },
           "zaxis": {
            "backgroundcolor": "#E5ECF6",
            "gridcolor": "white",
            "gridwidth": 2,
            "linecolor": "white",
            "showbackground": true,
            "ticks": "",
            "zerolinecolor": "white"
           }
          },
          "shapedefaults": {
           "line": {
            "color": "#2a3f5f"
           }
          },
          "ternary": {
           "aaxis": {
            "gridcolor": "white",
            "linecolor": "white",
            "ticks": ""
           },
           "baxis": {
            "gridcolor": "white",
            "linecolor": "white",
            "ticks": ""
           },
           "bgcolor": "#E5ECF6",
           "caxis": {
            "gridcolor": "white",
            "linecolor": "white",
            "ticks": ""
           }
          },
          "title": {
           "x": 0.05
          },
          "xaxis": {
           "automargin": true,
           "gridcolor": "white",
           "linecolor": "white",
           "ticks": "",
           "title": {
            "standoff": 15
           },
           "zerolinecolor": "white",
           "zerolinewidth": 2
          },
          "yaxis": {
           "automargin": true,
           "gridcolor": "white",
           "linecolor": "white",
           "ticks": "",
           "title": {
            "standoff": 15
           },
           "zerolinecolor": "white",
           "zerolinewidth": 2
          }
         }
        },
        "width": 500,
        "xaxis": {
         "title": {
          "text": "Classes prédites"
         }
        },
        "yaxis": {
         "dtick": 1,
         "title": {
          "text": "Classes réelles"
         }
        }
       }
      },
      "text/html": [
       "<div>                            <div id=\"c49ae754-e6a2-49a5-95b4-6b08ad706130\" class=\"plotly-graph-div\" style=\"height:300px; width:500px;\"></div>            <script type=\"text/javascript\">                require([\"plotly\"], function(Plotly) {                    window.PLOTLYENV=window.PLOTLYENV || {};                                    if (document.getElementById(\"c49ae754-e6a2-49a5-95b4-6b08ad706130\")) {                    Plotly.newPlot(                        \"c49ae754-e6a2-49a5-95b4-6b08ad706130\",                        [{\"colorscale\":[[0.0,\"rgb(255, 255, 153)\"],[0.2,\"rgb(255, 255, 203)\"],[0.4,\"rgb(153, 255, 204)\"],[0.6,\"rgb(179, 217, 255)\"],[0.8,\"rgb(240, 179, 255)\"],[1.0,\"rgb(255, 77, 148)\"]],\"showscale\":true,\"x\":[\"False\",\"True\"],\"y\":[\"False\",\"True\"],\"z\":[[17312,8132],[1115,1117]],\"type\":\"heatmap\"}],                        {\"template\":{\"data\":{\"bar\":[{\"error_x\":{\"color\":\"#2a3f5f\"},\"error_y\":{\"color\":\"#2a3f5f\"},\"marker\":{\"line\":{\"color\":\"#E5ECF6\",\"width\":0.5},\"pattern\":{\"fillmode\":\"overlay\",\"size\":10,\"solidity\":0.2}},\"type\":\"bar\"}],\"barpolar\":[{\"marker\":{\"line\":{\"color\":\"#E5ECF6\",\"width\":0.5},\"pattern\":{\"fillmode\":\"overlay\",\"size\":10,\"solidity\":0.2}},\"type\":\"barpolar\"}],\"carpet\":[{\"aaxis\":{\"endlinecolor\":\"#2a3f5f\",\"gridcolor\":\"white\",\"linecolor\":\"white\",\"minorgridcolor\":\"white\",\"startlinecolor\":\"#2a3f5f\"},\"baxis\":{\"endlinecolor\":\"#2a3f5f\",\"gridcolor\":\"white\",\"linecolor\":\"white\",\"minorgridcolor\":\"white\",\"startlinecolor\":\"#2a3f5f\"},\"type\":\"carpet\"}],\"choropleth\":[{\"colorbar\":{\"outlinewidth\":0,\"ticks\":\"\"},\"type\":\"choropleth\"}],\"contour\":[{\"colorbar\":{\"outlinewidth\":0,\"ticks\":\"\"},\"colorscale\":[[0.0,\"#0d0887\"],[0.1111111111111111,\"#46039f\"],[0.2222222222222222,\"#7201a8\"],[0.3333333333333333,\"#9c179e\"],[0.4444444444444444,\"#bd3786\"],[0.5555555555555556,\"#d8576b\"],[0.6666666666666666,\"#ed7953\"],[0.7777777777777778,\"#fb9f3a\"],[0.8888888888888888,\"#fdca26\"],[1.0,\"#f0f921\"]],\"type\":\"contour\"}],\"contourcarpet\":[{\"colorbar\":{\"outlinewidth\":0,\"ticks\":\"\"},\"type\":\"contourcarpet\"}],\"heatmap\":[{\"colorbar\":{\"outlinewidth\":0,\"ticks\":\"\"},\"colorscale\":[[0.0,\"#0d0887\"],[0.1111111111111111,\"#46039f\"],[0.2222222222222222,\"#7201a8\"],[0.3333333333333333,\"#9c179e\"],[0.4444444444444444,\"#bd3786\"],[0.5555555555555556,\"#d8576b\"],[0.6666666666666666,\"#ed7953\"],[0.7777777777777778,\"#fb9f3a\"],[0.8888888888888888,\"#fdca26\"],[1.0,\"#f0f921\"]],\"type\":\"heatmap\"}],\"heatmapgl\":[{\"colorbar\":{\"outlinewidth\":0,\"ticks\":\"\"},\"colorscale\":[[0.0,\"#0d0887\"],[0.1111111111111111,\"#46039f\"],[0.2222222222222222,\"#7201a8\"],[0.3333333333333333,\"#9c179e\"],[0.4444444444444444,\"#bd3786\"],[0.5555555555555556,\"#d8576b\"],[0.6666666666666666,\"#ed7953\"],[0.7777777777777778,\"#fb9f3a\"],[0.8888888888888888,\"#fdca26\"],[1.0,\"#f0f921\"]],\"type\":\"heatmapgl\"}],\"histogram\":[{\"marker\":{\"pattern\":{\"fillmode\":\"overlay\",\"size\":10,\"solidity\":0.2}},\"type\":\"histogram\"}],\"histogram2d\":[{\"colorbar\":{\"outlinewidth\":0,\"ticks\":\"\"},\"colorscale\":[[0.0,\"#0d0887\"],[0.1111111111111111,\"#46039f\"],[0.2222222222222222,\"#7201a8\"],[0.3333333333333333,\"#9c179e\"],[0.4444444444444444,\"#bd3786\"],[0.5555555555555556,\"#d8576b\"],[0.6666666666666666,\"#ed7953\"],[0.7777777777777778,\"#fb9f3a\"],[0.8888888888888888,\"#fdca26\"],[1.0,\"#f0f921\"]],\"type\":\"histogram2d\"}],\"histogram2dcontour\":[{\"colorbar\":{\"outlinewidth\":0,\"ticks\":\"\"},\"colorscale\":[[0.0,\"#0d0887\"],[0.1111111111111111,\"#46039f\"],[0.2222222222222222,\"#7201a8\"],[0.3333333333333333,\"#9c179e\"],[0.4444444444444444,\"#bd3786\"],[0.5555555555555556,\"#d8576b\"],[0.6666666666666666,\"#ed7953\"],[0.7777777777777778,\"#fb9f3a\"],[0.8888888888888888,\"#fdca26\"],[1.0,\"#f0f921\"]],\"type\":\"histogram2dcontour\"}],\"mesh3d\":[{\"colorbar\":{\"outlinewidth\":0,\"ticks\":\"\"},\"type\":\"mesh3d\"}],\"parcoords\":[{\"line\":{\"colorbar\":{\"outlinewidth\":0,\"ticks\":\"\"}},\"type\":\"parcoords\"}],\"pie\":[{\"automargin\":true,\"type\":\"pie\"}],\"scatter\":[{\"marker\":{\"colorbar\":{\"outlinewidth\":0,\"ticks\":\"\"}},\"type\":\"scatter\"}],\"scatter3d\":[{\"line\":{\"colorbar\":{\"outlinewidth\":0,\"ticks\":\"\"}},\"marker\":{\"colorbar\":{\"outlinewidth\":0,\"ticks\":\"\"}},\"type\":\"scatter3d\"}],\"scattercarpet\":[{\"marker\":{\"colorbar\":{\"outlinewidth\":0,\"ticks\":\"\"}},\"type\":\"scattercarpet\"}],\"scattergeo\":[{\"marker\":{\"colorbar\":{\"outlinewidth\":0,\"ticks\":\"\"}},\"type\":\"scattergeo\"}],\"scattergl\":[{\"marker\":{\"colorbar\":{\"outlinewidth\":0,\"ticks\":\"\"}},\"type\":\"scattergl\"}],\"scattermapbox\":[{\"marker\":{\"colorbar\":{\"outlinewidth\":0,\"ticks\":\"\"}},\"type\":\"scattermapbox\"}],\"scatterpolar\":[{\"marker\":{\"colorbar\":{\"outlinewidth\":0,\"ticks\":\"\"}},\"type\":\"scatterpolar\"}],\"scatterpolargl\":[{\"marker\":{\"colorbar\":{\"outlinewidth\":0,\"ticks\":\"\"}},\"type\":\"scatterpolargl\"}],\"scatterternary\":[{\"marker\":{\"colorbar\":{\"outlinewidth\":0,\"ticks\":\"\"}},\"type\":\"scatterternary\"}],\"surface\":[{\"colorbar\":{\"outlinewidth\":0,\"ticks\":\"\"},\"colorscale\":[[0.0,\"#0d0887\"],[0.1111111111111111,\"#46039f\"],[0.2222222222222222,\"#7201a8\"],[0.3333333333333333,\"#9c179e\"],[0.4444444444444444,\"#bd3786\"],[0.5555555555555556,\"#d8576b\"],[0.6666666666666666,\"#ed7953\"],[0.7777777777777778,\"#fb9f3a\"],[0.8888888888888888,\"#fdca26\"],[1.0,\"#f0f921\"]],\"type\":\"surface\"}],\"table\":[{\"cells\":{\"fill\":{\"color\":\"#EBF0F8\"},\"line\":{\"color\":\"white\"}},\"header\":{\"fill\":{\"color\":\"#C8D4E3\"},\"line\":{\"color\":\"white\"}},\"type\":\"table\"}]},\"layout\":{\"annotationdefaults\":{\"arrowcolor\":\"#2a3f5f\",\"arrowhead\":0,\"arrowwidth\":1},\"autotypenumbers\":\"strict\",\"coloraxis\":{\"colorbar\":{\"outlinewidth\":0,\"ticks\":\"\"}},\"colorscale\":{\"diverging\":[[0,\"#8e0152\"],[0.1,\"#c51b7d\"],[0.2,\"#de77ae\"],[0.3,\"#f1b6da\"],[0.4,\"#fde0ef\"],[0.5,\"#f7f7f7\"],[0.6,\"#e6f5d0\"],[0.7,\"#b8e186\"],[0.8,\"#7fbc41\"],[0.9,\"#4d9221\"],[1,\"#276419\"]],\"sequential\":[[0.0,\"#0d0887\"],[0.1111111111111111,\"#46039f\"],[0.2222222222222222,\"#7201a8\"],[0.3333333333333333,\"#9c179e\"],[0.4444444444444444,\"#bd3786\"],[0.5555555555555556,\"#d8576b\"],[0.6666666666666666,\"#ed7953\"],[0.7777777777777778,\"#fb9f3a\"],[0.8888888888888888,\"#fdca26\"],[1.0,\"#f0f921\"]],\"sequentialminus\":[[0.0,\"#0d0887\"],[0.1111111111111111,\"#46039f\"],[0.2222222222222222,\"#7201a8\"],[0.3333333333333333,\"#9c179e\"],[0.4444444444444444,\"#bd3786\"],[0.5555555555555556,\"#d8576b\"],[0.6666666666666666,\"#ed7953\"],[0.7777777777777778,\"#fb9f3a\"],[0.8888888888888888,\"#fdca26\"],[1.0,\"#f0f921\"]]},\"colorway\":[\"#636efa\",\"#EF553B\",\"#00cc96\",\"#ab63fa\",\"#FFA15A\",\"#19d3f3\",\"#FF6692\",\"#B6E880\",\"#FF97FF\",\"#FECB52\"],\"font\":{\"color\":\"#2a3f5f\"},\"geo\":{\"bgcolor\":\"white\",\"lakecolor\":\"white\",\"landcolor\":\"#E5ECF6\",\"showlakes\":true,\"showland\":true,\"subunitcolor\":\"white\"},\"hoverlabel\":{\"align\":\"left\"},\"hovermode\":\"closest\",\"mapbox\":{\"style\":\"light\"},\"paper_bgcolor\":\"white\",\"plot_bgcolor\":\"#E5ECF6\",\"polar\":{\"angularaxis\":{\"gridcolor\":\"white\",\"linecolor\":\"white\",\"ticks\":\"\"},\"bgcolor\":\"#E5ECF6\",\"radialaxis\":{\"gridcolor\":\"white\",\"linecolor\":\"white\",\"ticks\":\"\"}},\"scene\":{\"xaxis\":{\"backgroundcolor\":\"#E5ECF6\",\"gridcolor\":\"white\",\"gridwidth\":2,\"linecolor\":\"white\",\"showbackground\":true,\"ticks\":\"\",\"zerolinecolor\":\"white\"},\"yaxis\":{\"backgroundcolor\":\"#E5ECF6\",\"gridcolor\":\"white\",\"gridwidth\":2,\"linecolor\":\"white\",\"showbackground\":true,\"ticks\":\"\",\"zerolinecolor\":\"white\"},\"zaxis\":{\"backgroundcolor\":\"#E5ECF6\",\"gridcolor\":\"white\",\"gridwidth\":2,\"linecolor\":\"white\",\"showbackground\":true,\"ticks\":\"\",\"zerolinecolor\":\"white\"}},\"shapedefaults\":{\"line\":{\"color\":\"#2a3f5f\"}},\"ternary\":{\"aaxis\":{\"gridcolor\":\"white\",\"linecolor\":\"white\",\"ticks\":\"\"},\"baxis\":{\"gridcolor\":\"white\",\"linecolor\":\"white\",\"ticks\":\"\"},\"bgcolor\":\"#E5ECF6\",\"caxis\":{\"gridcolor\":\"white\",\"linecolor\":\"white\",\"ticks\":\"\"}},\"title\":{\"x\":0.05},\"xaxis\":{\"automargin\":true,\"gridcolor\":\"white\",\"linecolor\":\"white\",\"ticks\":\"\",\"title\":{\"standoff\":15},\"zerolinecolor\":\"white\",\"zerolinewidth\":2},\"yaxis\":{\"automargin\":true,\"gridcolor\":\"white\",\"linecolor\":\"white\",\"ticks\":\"\",\"title\":{\"standoff\":15},\"zerolinecolor\":\"white\",\"zerolinewidth\":2}}},\"yaxis\":{\"title\":{\"text\":\"Classes r\\u00e9elles\"},\"dtick\":1},\"margin\":{\"b\":30,\"r\":20,\"t\":10},\"annotations\":[{\"showarrow\":false,\"text\":\"17312\",\"x\":\"False\",\"y\":\"False\"},{\"showarrow\":false,\"text\":\"8132\",\"x\":\"True\",\"y\":\"False\"},{\"showarrow\":false,\"text\":\"1115\",\"x\":\"False\",\"y\":\"True\"},{\"showarrow\":false,\"text\":\"1117\",\"x\":\"True\",\"y\":\"True\"}],\"xaxis\":{\"title\":{\"text\":\"Classes pr\\u00e9dites\"}},\"width\":500,\"height\":300,\"autosize\":false},                        {\"responsive\": true}                    ).then(function(){\n",
       "                            \n",
       "var gd = document.getElementById('c49ae754-e6a2-49a5-95b4-6b08ad706130');\n",
       "var x = new MutationObserver(function (mutations, observer) {{\n",
       "        var display = window.getComputedStyle(gd).display;\n",
       "        if (!display || display === 'none') {{\n",
       "            console.log([gd, 'removed!']);\n",
       "            Plotly.purge(gd);\n",
       "            observer.disconnect();\n",
       "        }}\n",
       "}});\n",
       "\n",
       "// Listen for the removal of the full notebook cells\n",
       "var notebookContainer = gd.closest('#notebook-container');\n",
       "if (notebookContainer) {{\n",
       "    x.observe(notebookContainer, {childList: true});\n",
       "}}\n",
       "\n",
       "// Listen for the clearing of the current output cell\n",
       "var outputEl = gd.closest('.output');\n",
       "if (outputEl) {{\n",
       "    x.observe(outputEl, {childList: true});\n",
       "}}\n",
       "\n",
       "                        })                };                });            </script>        </div>"
      ]
     },
     "metadata": {},
     "output_type": "display_data"
    }
   ],
   "source": [
    "plot_mat_conf(conf_mx)"
   ]
  },
  {
   "cell_type": "markdown",
   "id": "4d4f2c8a",
   "metadata": {},
   "source": [
    "##  <font color=\"red\" id=\"section_5_3\"> 5.3 Premiers dashbords avec uniquement les features importances unique\n",
    "###  <font color=\"red\" > Etape 1: Importation librairies\n",
    "    \n",
    "* dash: la librairie Dash, qui comprend :\n",
    "\n",
    "    - **Dash**: classe Dash\n",
    "    \n",
    "    - **html(module Dash HTML Components)**: pour construire la mise en page, qui contient des composants pour chaque balise HTML, comme le titre H1.\n",
    "    \n",
    "    - **dcc(module Dash Core Components)** : pour construire la mise en page, qui contient divers composants de niveau supérieur tels que la liste déroulante et le graphique.\n",
    "    \n",
    "    - **Input, Output**: pour définir les fonctions de rappel;"
   ]
  },
  {
   "cell_type": "code",
   "execution_count": null,
   "id": "d7a9030e",
   "metadata": {},
   "outputs": [],
   "source": [
    "from dash import Dash, html, dcc, Input, Output,dash_table"
   ]
  },
  {
   "cell_type": "markdown",
   "id": "f0bb85d2",
   "metadata": {},
   "source": [
    "###  <font color=\"red\" > Etape 2: Construction de l'application dash\n",
    "    \n",
    "Chaque application Dash comporte deux parties principales :\n",
    "\n",
    "* **Mise en page** : détermine à quoi ressemble l'application Dash\n",
    "\n",
    "* **Fonctions de rappel (callback)**: la fonction qui relie les composants Dash et définit leurs fonctionnalités interactives\n",
    "\n",
    "Réalisons une visualisation de données interactive à l'aide de Dash."
   ]
  },
  {
   "cell_type": "code",
   "execution_count": null,
   "id": "4fcf2a39",
   "metadata": {},
   "outputs": [],
   "source": [
    "app =  Dash()"
   ]
  },
  {
   "cell_type": "markdown",
   "id": "6a922c82",
   "metadata": {},
   "source": [
    "###  <font color=\"red\" > Etape 3:  Construire la disposition  et  l'interactivité du tableau de bord et \n",
    " \n",
    "### Disposition\n",
    "    \n",
    "Le processus de création d'applications commence toujours à partir de la mise en page. Donc, d'abord, nous devons concevoir l'apparence du tableau de bord.\n",
    "\n",
    "La mise en page a la structure d'une arborescence de composants. Et nous utilisons le mot-clé **layout du app** pour spécifier sa mise en page. Ensuite, à l'aide des deux modules : **html** et **dcc**, nous pouvons afficher trois composants sur notre tableau de bord, de haut en bas :\n",
    "\n",
    "    \n",
    "* **Un titre H1 ( html.H1)** comme titre du tableau de bord. Nous spécifions que sa propriété enfants est le texte **Tableau de bord de la situtation d'un client**.\n",
    "\n",
    "    \n",
    "* Un **menu déroulant** basé sur l'identifiant du client.\n",
    "    \n",
    "\n",
    "* Un **graphe** ( dcc.Graph) avec l'id : **id_client**.\n",
    "    \n",
    "### Interactivité au tableau de bord\n",
    "\n",
    "Les fonctions de rappel sont des fonctions Python. Ils sont automatiquement appelés par Dash chaque fois que leurs entrées changent. En conséquence, les fonctions s'exécutent et mettent à jour leurs sorties.\n",
    "\n",
    "Les deux sections principales de la fonction de rappel sont :\n",
    "\n",
    "* décorateur, qui commence par @app.callback \n",
    "\n",
    "* fonction elle-même, qui commence par def\n"
   ]
  },
  {
   "cell_type": "code",
   "execution_count": null,
   "id": "8211cc44",
   "metadata": {},
   "outputs": [],
   "source": []
  },
  {
   "cell_type": "code",
   "execution_count": null,
   "id": "6ac43740",
   "metadata": {},
   "outputs": [],
   "source": []
  },
  {
   "cell_type": "markdown",
   "id": "0365e3fc",
   "metadata": {},
   "source": [
    "## <font color = 'red' > Étape 4 et fin : Exécuter le tableau de bord\n",
    "Par défaut, l'application Dash s'exécute sur nos ordinateurs locaux. Pour terminer le script, nous devons ajouter du code pour exécuter le serveur. Nous pouvons ajouter ces deux lignes de code après la fonction de rappel."
   ]
  },
  {
   "cell_type": "code",
   "execution_count": null,
   "id": "8d219485",
   "metadata": {},
   "outputs": [],
   "source": [
    "if __name__ == '__main__':\n",
    "    app.run_server(debug=True)"
   ]
  },
  {
   "cell_type": "markdown",
   "id": "3d07b73c",
   "metadata": {},
   "source": [
    "##  <font color=\"red\" id=\"section_6\"> 6. Dashboard global"
   ]
  },
  {
   "cell_type": "code",
   "execution_count": 45,
   "id": "615277b2",
   "metadata": {},
   "outputs": [
    {
     "data": {
      "text/html": [
       "<div>\n",
       "<style scoped>\n",
       "    .dataframe tbody tr th:only-of-type {\n",
       "        vertical-align: middle;\n",
       "    }\n",
       "\n",
       "    .dataframe tbody tr th {\n",
       "        vertical-align: top;\n",
       "    }\n",
       "\n",
       "    .dataframe thead th {\n",
       "        text-align: right;\n",
       "    }\n",
       "</style>\n",
       "<table border=\"1\" class=\"dataframe\">\n",
       "  <thead>\n",
       "    <tr style=\"text-align: right;\">\n",
       "      <th></th>\n",
       "      <th>CODE_GENDER</th>\n",
       "      <th>FLAG_OWN_CAR</th>\n",
       "      <th>FLAG_OWN_REALTY</th>\n",
       "      <th>CNT_CHILDREN</th>\n",
       "      <th>REG_CITY_NOT_LIVE_CITY</th>\n",
       "      <th>REG_REGION_NOT_LIVE_REGION</th>\n",
       "      <th>REG_REGION_NOT_WORK_REGION</th>\n",
       "      <th>LIVE_REGION_NOT_WORK_REGION</th>\n",
       "      <th>REG_CITY_NOT_WORK_CITY</th>\n",
       "      <th>LIVE_CITY_NOT_WORK_CITY</th>\n",
       "      <th>EXT_SOURCE_1</th>\n",
       "      <th>EXT_SOURCE_3</th>\n",
       "      <th>AMT_REQ_CREDIT_BUREAU_YEAR</th>\n",
       "      <th>DAYS_LAST_PHONE_CHANGE</th>\n",
       "      <th>EXT_SOURCE_2</th>\n",
       "      <th>AMT_GOODS_PRICE</th>\n",
       "      <th>DAYS_REGISTRATION</th>\n",
       "      <th>DAYS_ID_PUBLISH</th>\n",
       "      <th>NAME_CONTRACT_TYPE_Cash loans</th>\n",
       "      <th>NAME_CONTRACT_TYPE_Revolving loans</th>\n",
       "      <th>NAME_INCOME_TYPE_Businessman</th>\n",
       "      <th>NAME_INCOME_TYPE_Commercial associate</th>\n",
       "      <th>NAME_INCOME_TYPE_Maternity leave</th>\n",
       "      <th>NAME_INCOME_TYPE_Pensioner</th>\n",
       "      <th>NAME_INCOME_TYPE_State servant</th>\n",
       "      <th>NAME_INCOME_TYPE_Student</th>\n",
       "      <th>NAME_INCOME_TYPE_Unemployed</th>\n",
       "      <th>NAME_INCOME_TYPE_Working</th>\n",
       "      <th>NAME_FAMILY_STATUS_Civil marriage</th>\n",
       "      <th>NAME_FAMILY_STATUS_Married</th>\n",
       "      <th>NAME_FAMILY_STATUS_Separated</th>\n",
       "      <th>NAME_FAMILY_STATUS_Single / not married</th>\n",
       "      <th>NAME_FAMILY_STATUS_Unknown</th>\n",
       "      <th>NAME_FAMILY_STATUS_Widow</th>\n",
       "      <th>NAME_EDUCATION_TYPE_Academic degree</th>\n",
       "      <th>NAME_EDUCATION_TYPE_Higher education</th>\n",
       "      <th>NAME_EDUCATION_TYPE_Incomplete higher</th>\n",
       "      <th>NAME_EDUCATION_TYPE_Lower secondary</th>\n",
       "      <th>NAME_EDUCATION_TYPE_Secondary / secondary special</th>\n",
       "      <th>NAME_HOUSING_TYPE_Co-op apartment</th>\n",
       "      <th>NAME_HOUSING_TYPE_House / apartment</th>\n",
       "      <th>NAME_HOUSING_TYPE_Municipal apartment</th>\n",
       "      <th>NAME_HOUSING_TYPE_Office apartment</th>\n",
       "      <th>NAME_HOUSING_TYPE_Rented apartment</th>\n",
       "      <th>NAME_HOUSING_TYPE_With parents</th>\n",
       "      <th>DAYS_EMPLOYED_PERC</th>\n",
       "      <th>INCOME_CREDIT_PERC</th>\n",
       "      <th>INCOME_PER_PERSON</th>\n",
       "      <th>ANNUITY_INCOME_PERC</th>\n",
       "      <th>PAYMENT_RATE</th>\n",
       "    </tr>\n",
       "    <tr>\n",
       "      <th>SK_ID_CURR</th>\n",
       "      <th></th>\n",
       "      <th></th>\n",
       "      <th></th>\n",
       "      <th></th>\n",
       "      <th></th>\n",
       "      <th></th>\n",
       "      <th></th>\n",
       "      <th></th>\n",
       "      <th></th>\n",
       "      <th></th>\n",
       "      <th></th>\n",
       "      <th></th>\n",
       "      <th></th>\n",
       "      <th></th>\n",
       "      <th></th>\n",
       "      <th></th>\n",
       "      <th></th>\n",
       "      <th></th>\n",
       "      <th></th>\n",
       "      <th></th>\n",
       "      <th></th>\n",
       "      <th></th>\n",
       "      <th></th>\n",
       "      <th></th>\n",
       "      <th></th>\n",
       "      <th></th>\n",
       "      <th></th>\n",
       "      <th></th>\n",
       "      <th></th>\n",
       "      <th></th>\n",
       "      <th></th>\n",
       "      <th></th>\n",
       "      <th></th>\n",
       "      <th></th>\n",
       "      <th></th>\n",
       "      <th></th>\n",
       "      <th></th>\n",
       "      <th></th>\n",
       "      <th></th>\n",
       "      <th></th>\n",
       "      <th></th>\n",
       "      <th></th>\n",
       "      <th></th>\n",
       "      <th></th>\n",
       "      <th></th>\n",
       "      <th></th>\n",
       "      <th></th>\n",
       "      <th></th>\n",
       "      <th></th>\n",
       "      <th></th>\n",
       "    </tr>\n",
       "  </thead>\n",
       "  <tbody>\n",
       "    <tr>\n",
       "      <th>100001</th>\n",
       "      <td>0.715789</td>\n",
       "      <td>-0.715467</td>\n",
       "      <td>-0.665612</td>\n",
       "      <td>-0.573224</td>\n",
       "      <td>-0.290454</td>\n",
       "      <td>-0.123233</td>\n",
       "      <td>-0.229386</td>\n",
       "      <td>-0.204122</td>\n",
       "      <td>-0.548531</td>\n",
       "      <td>-0.46816</td>\n",
       "      <td>0.93575</td>\n",
       "      <td>-1.091919</td>\n",
       "      <td>0.044389</td>\n",
       "      <td>0.970852</td>\n",
       "      <td>0.789977</td>\n",
       "      <td>0.738422</td>\n",
       "      <td>0.348215</td>\n",
       "      <td>-0.528058</td>\n",
       "      <td>0.321429</td>\n",
       "      <td>-0.321429</td>\n",
       "      <td>-0.006816</td>\n",
       "      <td>-0.5492</td>\n",
       "      <td>-0.003935</td>\n",
       "      <td>-0.468849</td>\n",
       "      <td>-0.27691</td>\n",
       "      <td>-0.010412</td>\n",
       "      <td>-0.006816</td>\n",
       "      <td>0.967272</td>\n",
       "      <td>-0.325052</td>\n",
       "      <td>0.752968</td>\n",
       "      <td>-0.263179</td>\n",
       "      <td>-0.417494</td>\n",
       "      <td>-0.003935</td>\n",
       "      <td>-0.236662</td>\n",
       "      <td>-0.025205</td>\n",
       "      <td>1.757085</td>\n",
       "      <td>-0.187626</td>\n",
       "      <td>-0.114385</td>\n",
       "      <td>-1.556326</td>\n",
       "      <td>-0.058201</td>\n",
       "      <td>0.356288</td>\n",
       "      <td>-0.193689</td>\n",
       "      <td>-0.093614</td>\n",
       "      <td>-0.126368</td>\n",
       "      <td>-0.226265</td>\n",
       "      <td>2.890146</td>\n",
       "      <td>-0.472670</td>\n",
       "      <td>-0.341924</td>\n",
       "      <td>0.328304</td>\n",
       "      <td>-0.161010</td>\n",
       "    </tr>\n",
       "    <tr>\n",
       "      <th>100005</th>\n",
       "      <td>-1.397060</td>\n",
       "      <td>-0.715467</td>\n",
       "      <td>-0.665612</td>\n",
       "      <td>-0.573224</td>\n",
       "      <td>-0.290454</td>\n",
       "      <td>-0.123233</td>\n",
       "      <td>-0.229386</td>\n",
       "      <td>-0.204122</td>\n",
       "      <td>-0.548531</td>\n",
       "      <td>-0.46816</td>\n",
       "      <td>0.93575</td>\n",
       "      <td>0.915819</td>\n",
       "      <td>-0.527416</td>\n",
       "      <td>0.007230</td>\n",
       "      <td>0.789977</td>\n",
       "      <td>-0.445750</td>\n",
       "      <td>1.488405</td>\n",
       "      <td>-1.734381</td>\n",
       "      <td>0.321429</td>\n",
       "      <td>-0.321429</td>\n",
       "      <td>-0.006816</td>\n",
       "      <td>-0.5492</td>\n",
       "      <td>-0.003935</td>\n",
       "      <td>-0.468849</td>\n",
       "      <td>-0.27691</td>\n",
       "      <td>-0.010412</td>\n",
       "      <td>-0.006816</td>\n",
       "      <td>0.967272</td>\n",
       "      <td>-0.325052</td>\n",
       "      <td>0.752968</td>\n",
       "      <td>-0.263179</td>\n",
       "      <td>-0.417494</td>\n",
       "      <td>-0.003935</td>\n",
       "      <td>-0.236662</td>\n",
       "      <td>-0.025205</td>\n",
       "      <td>-0.569124</td>\n",
       "      <td>-0.187626</td>\n",
       "      <td>-0.114385</td>\n",
       "      <td>0.642539</td>\n",
       "      <td>-0.058201</td>\n",
       "      <td>0.356288</td>\n",
       "      <td>-0.193689</td>\n",
       "      <td>-0.093614</td>\n",
       "      <td>-0.126368</td>\n",
       "      <td>-0.226265</td>\n",
       "      <td>-0.172307</td>\n",
       "      <td>0.136606</td>\n",
       "      <td>-0.903045</td>\n",
       "      <td>0.120513</td>\n",
       "      <td>0.313065</td>\n",
       "    </tr>\n",
       "  </tbody>\n",
       "</table>\n",
       "</div>"
      ],
      "text/plain": [
       "            CODE_GENDER  FLAG_OWN_CAR  FLAG_OWN_REALTY  CNT_CHILDREN  \\\n",
       "SK_ID_CURR                                                             \n",
       "100001         0.715789     -0.715467        -0.665612     -0.573224   \n",
       "100005        -1.397060     -0.715467        -0.665612     -0.573224   \n",
       "\n",
       "            REG_CITY_NOT_LIVE_CITY  REG_REGION_NOT_LIVE_REGION  \\\n",
       "SK_ID_CURR                                                       \n",
       "100001                   -0.290454                   -0.123233   \n",
       "100005                   -0.290454                   -0.123233   \n",
       "\n",
       "            REG_REGION_NOT_WORK_REGION  LIVE_REGION_NOT_WORK_REGION  \\\n",
       "SK_ID_CURR                                                            \n",
       "100001                       -0.229386                    -0.204122   \n",
       "100005                       -0.229386                    -0.204122   \n",
       "\n",
       "            REG_CITY_NOT_WORK_CITY  LIVE_CITY_NOT_WORK_CITY  EXT_SOURCE_1  \\\n",
       "SK_ID_CURR                                                                  \n",
       "100001                   -0.548531                 -0.46816       0.93575   \n",
       "100005                   -0.548531                 -0.46816       0.93575   \n",
       "\n",
       "            EXT_SOURCE_3  AMT_REQ_CREDIT_BUREAU_YEAR  DAYS_LAST_PHONE_CHANGE  \\\n",
       "SK_ID_CURR                                                                     \n",
       "100001         -1.091919                    0.044389                0.970852   \n",
       "100005          0.915819                   -0.527416                0.007230   \n",
       "\n",
       "            EXT_SOURCE_2  AMT_GOODS_PRICE  DAYS_REGISTRATION  DAYS_ID_PUBLISH  \\\n",
       "SK_ID_CURR                                                                      \n",
       "100001          0.789977         0.738422           0.348215        -0.528058   \n",
       "100005          0.789977        -0.445750           1.488405        -1.734381   \n",
       "\n",
       "            NAME_CONTRACT_TYPE_Cash loans  NAME_CONTRACT_TYPE_Revolving loans  \\\n",
       "SK_ID_CURR                                                                      \n",
       "100001                           0.321429                           -0.321429   \n",
       "100005                           0.321429                           -0.321429   \n",
       "\n",
       "            NAME_INCOME_TYPE_Businessman  \\\n",
       "SK_ID_CURR                                 \n",
       "100001                         -0.006816   \n",
       "100005                         -0.006816   \n",
       "\n",
       "            NAME_INCOME_TYPE_Commercial associate  \\\n",
       "SK_ID_CURR                                          \n",
       "100001                                    -0.5492   \n",
       "100005                                    -0.5492   \n",
       "\n",
       "            NAME_INCOME_TYPE_Maternity leave  NAME_INCOME_TYPE_Pensioner  \\\n",
       "SK_ID_CURR                                                                 \n",
       "100001                             -0.003935                   -0.468849   \n",
       "100005                             -0.003935                   -0.468849   \n",
       "\n",
       "            NAME_INCOME_TYPE_State servant  NAME_INCOME_TYPE_Student  \\\n",
       "SK_ID_CURR                                                             \n",
       "100001                            -0.27691                 -0.010412   \n",
       "100005                            -0.27691                 -0.010412   \n",
       "\n",
       "            NAME_INCOME_TYPE_Unemployed  NAME_INCOME_TYPE_Working  \\\n",
       "SK_ID_CURR                                                          \n",
       "100001                        -0.006816                  0.967272   \n",
       "100005                        -0.006816                  0.967272   \n",
       "\n",
       "            NAME_FAMILY_STATUS_Civil marriage  NAME_FAMILY_STATUS_Married  \\\n",
       "SK_ID_CURR                                                                  \n",
       "100001                              -0.325052                    0.752968   \n",
       "100005                              -0.325052                    0.752968   \n",
       "\n",
       "            NAME_FAMILY_STATUS_Separated  \\\n",
       "SK_ID_CURR                                 \n",
       "100001                         -0.263179   \n",
       "100005                         -0.263179   \n",
       "\n",
       "            NAME_FAMILY_STATUS_Single / not married  \\\n",
       "SK_ID_CURR                                            \n",
       "100001                                    -0.417494   \n",
       "100005                                    -0.417494   \n",
       "\n",
       "            NAME_FAMILY_STATUS_Unknown  NAME_FAMILY_STATUS_Widow  \\\n",
       "SK_ID_CURR                                                         \n",
       "100001                       -0.003935                 -0.236662   \n",
       "100005                       -0.003935                 -0.236662   \n",
       "\n",
       "            NAME_EDUCATION_TYPE_Academic degree  \\\n",
       "SK_ID_CURR                                        \n",
       "100001                                -0.025205   \n",
       "100005                                -0.025205   \n",
       "\n",
       "            NAME_EDUCATION_TYPE_Higher education  \\\n",
       "SK_ID_CURR                                         \n",
       "100001                                  1.757085   \n",
       "100005                                 -0.569124   \n",
       "\n",
       "            NAME_EDUCATION_TYPE_Incomplete higher  \\\n",
       "SK_ID_CURR                                          \n",
       "100001                                  -0.187626   \n",
       "100005                                  -0.187626   \n",
       "\n",
       "            NAME_EDUCATION_TYPE_Lower secondary  \\\n",
       "SK_ID_CURR                                        \n",
       "100001                                -0.114385   \n",
       "100005                                -0.114385   \n",
       "\n",
       "            NAME_EDUCATION_TYPE_Secondary / secondary special  \\\n",
       "SK_ID_CURR                                                      \n",
       "100001                                              -1.556326   \n",
       "100005                                               0.642539   \n",
       "\n",
       "            NAME_HOUSING_TYPE_Co-op apartment  \\\n",
       "SK_ID_CURR                                      \n",
       "100001                              -0.058201   \n",
       "100005                              -0.058201   \n",
       "\n",
       "            NAME_HOUSING_TYPE_House / apartment  \\\n",
       "SK_ID_CURR                                        \n",
       "100001                                 0.356288   \n",
       "100005                                 0.356288   \n",
       "\n",
       "            NAME_HOUSING_TYPE_Municipal apartment  \\\n",
       "SK_ID_CURR                                          \n",
       "100001                                  -0.193689   \n",
       "100005                                  -0.193689   \n",
       "\n",
       "            NAME_HOUSING_TYPE_Office apartment  \\\n",
       "SK_ID_CURR                                       \n",
       "100001                               -0.093614   \n",
       "100005                               -0.093614   \n",
       "\n",
       "            NAME_HOUSING_TYPE_Rented apartment  \\\n",
       "SK_ID_CURR                                       \n",
       "100001                               -0.126368   \n",
       "100005                               -0.126368   \n",
       "\n",
       "            NAME_HOUSING_TYPE_With parents  DAYS_EMPLOYED_PERC  \\\n",
       "SK_ID_CURR                                                       \n",
       "100001                           -0.226265            2.890146   \n",
       "100005                           -0.226265           -0.172307   \n",
       "\n",
       "            INCOME_CREDIT_PERC  INCOME_PER_PERSON  ANNUITY_INCOME_PERC  \\\n",
       "SK_ID_CURR                                                               \n",
       "100001               -0.472670          -0.341924             0.328304   \n",
       "100005                0.136606          -0.903045             0.120513   \n",
       "\n",
       "            PAYMENT_RATE  \n",
       "SK_ID_CURR                \n",
       "100001         -0.161010  \n",
       "100005          0.313065  "
      ]
     },
     "execution_count": 45,
     "metadata": {},
     "output_type": "execute_result"
    }
   ],
   "source": [
    "x_test_transformed = x_test_transformed.set_index(\"SK_ID_CURR\")\n",
    "x_test_transformed.head(2)"
   ]
  },
  {
   "cell_type": "code",
   "execution_count": 49,
   "id": "aadf31fa",
   "metadata": {},
   "outputs": [],
   "source": [
    "app_test = pd.read_csv(path + \"application_test.csv\")\n",
    "app_test = app_test.set_index(\"SK_ID_CURR\")"
   ]
  },
  {
   "cell_type": "code",
   "execution_count": 43,
   "id": "e85f9c4e",
   "metadata": {},
   "outputs": [
    {
     "name": "stdout",
     "output_type": "stream",
     "text": [
      "Dash is running on http://127.0.0.1:8002/\n",
      "\n",
      " * Serving Flask app \"__main__\" (lazy loading)\n",
      " * Environment: production\n",
      "\u001b[31m   WARNING: This is a development server. Do not use it in a production deployment.\u001b[0m\n",
      "\u001b[2m   Use a production WSGI server instead.\u001b[0m\n",
      " * Debug mode: off\n"
     ]
    },
    {
     "name": "stderr",
     "output_type": "stream",
     "text": [
      "C:\\Users\\sylla\\anaconda3\\lib\\site-packages\\plotly\\graph_objs\\_deprecations.py:62: DeprecationWarning:\n",
      "\n",
      "plotly.graph_objs.Annotations is deprecated.\n",
      "Please replace it with a list or tuple of instances of the following types\n",
      "  - plotly.graph_objs.layout.Annotation\n",
      "  - plotly.graph_objs.layout.scene.Annotation\n",
      "\n",
      "\n",
      "C:\\Users\\sylla\\anaconda3\\lib\\site-packages\\plotly\\graph_objs\\_deprecations.py:143: DeprecationWarning:\n",
      "\n",
      "plotly.graph_objs.Annotation is deprecated.\n",
      "Please replace it with one of the following more specific types\n",
      "  - plotly.graph_objs.layout.Annotation\n",
      "  - plotly.graph_objs.layout.scene.Annotation\n",
      "\n",
      "\n",
      "C:\\Users\\sylla\\anaconda3\\lib\\site-packages\\plotly\\graph_objs\\_deprecations.py:31: DeprecationWarning:\n",
      "\n",
      "plotly.graph_objs.Data is deprecated.\n",
      "Please replace it with a list or tuple of instances of the following types\n",
      "  - plotly.graph_objs.Scatter\n",
      "  - plotly.graph_objs.Bar\n",
      "  - plotly.graph_objs.Area\n",
      "  - plotly.graph_objs.Histogram\n",
      "  - etc.\n",
      "\n",
      "\n",
      " * Running on http://127.0.0.1:8002/ (Press CTRL+C to quit)\n",
      "127.0.0.1 - - [08/Sep/2022 16:52:03] \"GET / HTTP/1.1\" 200 -\n",
      "127.0.0.1 - - [08/Sep/2022 16:52:05] \"GET /_dash-dependencies HTTP/1.1\" 200 -\n",
      "127.0.0.1 - - [08/Sep/2022 16:52:05] \"GET /_dash-layout HTTP/1.1\" 200 -\n",
      "127.0.0.1 - - [08/Sep/2022 16:52:07] \"GET /_dash-component-suites/dash/dcc/async-dropdown.js HTTP/1.1\" 200 -\n",
      "127.0.0.1 - - [08/Sep/2022 16:52:07] \"GET /_dash-component-suites/dash/dash_table/async-highlight.js HTTP/1.1\" 200 -\n",
      "127.0.0.1 - - [08/Sep/2022 16:52:07] \"GET /_dash-component-suites/dash/dcc/async-graph.js HTTP/1.1\" 200 -\n",
      "127.0.0.1 - - [08/Sep/2022 16:52:07] \"GET /_dash-component-suites/dash/dcc/async-plotlyjs.js HTTP/1.1\" 200 -\n",
      "127.0.0.1 - - [08/Sep/2022 16:52:07] \"GET /_dash-component-suites/dash/dash_table/async-table.js HTTP/1.1\" 200 -\n",
      "127.0.0.1 - - [08/Sep/2022 16:52:07] \"POST /_dash-update-component HTTP/1.1\" 200 -\n",
      "127.0.0.1 - - [08/Sep/2022 16:52:07] \"POST /_dash-update-component HTTP/1.1\" 200 -\n"
     ]
    },
    {
     "name": "stdout",
     "output_type": "stream",
     "text": [
      "Exception on /_dash-update-component [POST]\n",
      "Traceback (most recent call last):\n",
      "  File \"C:\\Users\\sylla\\anaconda3\\lib\\site-packages\\flask\\app.py\", line 2447, in wsgi_app\n",
      "    response = self.full_dispatch_request()\n",
      "  File \"C:\\Users\\sylla\\anaconda3\\lib\\site-packages\\flask\\app.py\", line 1952, in full_dispatch_request\n",
      "    rv = self.handle_user_exception(e)\n",
      "  File \"C:\\Users\\sylla\\anaconda3\\lib\\site-packages\\flask\\app.py\", line 1821, in handle_user_exception\n",
      "    reraise(exc_type, exc_value, tb)\n",
      "  File \"C:\\Users\\sylla\\anaconda3\\lib\\site-packages\\flask\\_compat.py\", line 39, in reraise\n",
      "    raise value\n",
      "  File \"C:\\Users\\sylla\\anaconda3\\lib\\site-packages\\flask\\app.py\", line 1950, in full_dispatch_request\n",
      "    rv = self.dispatch_request()\n",
      "  File \"C:\\Users\\sylla\\anaconda3\\lib\\site-packages\\flask\\app.py\", line 1936, in dispatch_request\n",
      "    return self.view_functions[rule.endpoint](**req.view_args)\n",
      "  File \"C:\\Users\\sylla\\anaconda3\\lib\\site-packages\\dash\\dash.py\", line 1259, in dispatch\n",
      "    ctx.run(\n",
      "  File \"C:\\Users\\sylla\\anaconda3\\lib\\site-packages\\dash\\_callback.py\", line 439, in add_context\n",
      "    output_value = func(*func_args, **func_kwargs)  # %% callback invoked %%\n",
      "  File \"C:\\Users\\sylla\\AppData\\Local\\Temp/ipykernel_18512/2892688003.py\", line 650, in update_proba_bar\n",
      "    proba = pipe_model[3].predict_proba(np.array(x_test_transformed.loc[id_client]).reshape(1, -1)).flatten()\n",
      "  File \"C:\\Users\\sylla\\anaconda3\\lib\\site-packages\\sklearn\\linear_model\\_logistic.py\", line 1670, in predict_proba\n",
      "    return super()._predict_proba_lr(X)\n",
      "  File \"C:\\Users\\sylla\\anaconda3\\lib\\site-packages\\sklearn\\linear_model\\_base.py\", line 439, in _predict_proba_lr\n",
      "    prob = self.decision_function(X)\n",
      "  File \"C:\\Users\\sylla\\anaconda3\\lib\\site-packages\\sklearn\\linear_model\\_base.py\", line 407, in decision_function\n",
      "    X = self._validate_data(X, accept_sparse=\"csr\", reset=False)\n",
      "  File \"C:\\Users\\sylla\\anaconda3\\lib\\site-packages\\sklearn\\base.py\", line 585, in _validate_data\n",
      "    self._check_n_features(X, reset=reset)\n",
      "  File \"C:\\Users\\sylla\\anaconda3\\lib\\site-packages\\sklearn\\base.py\", line 400, in _check_n_features\n",
      "    raise ValueError(\n",
      "ValueError: X has 51 features, but LogisticRegression is expecting 50 features as input.\n"
     ]
    },
    {
     "name": "stderr",
     "output_type": "stream",
     "text": [
      "127.0.0.1 - - [08/Sep/2022 16:52:07] \"POST /_dash-update-component HTTP/1.1\" 500 -\n"
     ]
    },
    {
     "name": "stdout",
     "output_type": "stream",
     "text": [
      "Exception on /_dash-update-component [POST]\n",
      "Traceback (most recent call last):\n",
      "  File \"C:\\Users\\sylla\\anaconda3\\lib\\site-packages\\flask\\app.py\", line 2447, in wsgi_app\n",
      "    response = self.full_dispatch_request()\n",
      "  File \"C:\\Users\\sylla\\anaconda3\\lib\\site-packages\\flask\\app.py\", line 1952, in full_dispatch_request\n",
      "    rv = self.handle_user_exception(e)\n",
      "  File \"C:\\Users\\sylla\\anaconda3\\lib\\site-packages\\flask\\app.py\", line 1821, in handle_user_exception\n",
      "    reraise(exc_type, exc_value, tb)\n",
      "  File \"C:\\Users\\sylla\\anaconda3\\lib\\site-packages\\flask\\_compat.py\", line 39, in reraise\n",
      "    raise value\n",
      "  File \"C:\\Users\\sylla\\anaconda3\\lib\\site-packages\\flask\\app.py\", line 1950, in full_dispatch_request\n",
      "    rv = self.dispatch_request()\n",
      "  File \"C:\\Users\\sylla\\anaconda3\\lib\\site-packages\\flask\\app.py\", line 1936, in dispatch_request\n",
      "    return self.view_functions[rule.endpoint](**req.view_args)\n",
      "  File \"C:\\Users\\sylla\\anaconda3\\lib\\site-packages\\dash\\dash.py\", line 1259, in dispatch\n",
      "    ctx.run(\n",
      "  File \"C:\\Users\\sylla\\anaconda3\\lib\\site-packages\\dash\\_callback.py\", line 439, in add_context\n",
      "    output_value = func(*func_args, **func_kwargs)  # %% callback invoked %%\n",
      "  File \"C:\\Users\\sylla\\AppData\\Local\\Temp/ipykernel_18512/2892688003.py\", line 637, in update_result\n",
      "    proba = pipe_model[3].predict_proba(np.array(x_test_transformed.loc[id_client]).reshape(1, -1)).flatten()\n",
      "  File \"C:\\Users\\sylla\\anaconda3\\lib\\site-packages\\sklearn\\linear_model\\_logistic.py\", line 1670, in predict_proba\n",
      "    return super()._predict_proba_lr(X)\n",
      "  File \"C:\\Users\\sylla\\anaconda3\\lib\\site-packages\\sklearn\\linear_model\\_base.py\", line 439, in _predict_proba_lr\n",
      "    prob = self.decision_function(X)\n",
      "  File \"C:\\Users\\sylla\\anaconda3\\lib\\site-packages\\sklearn\\linear_model\\_base.py\", line 407, in decision_function\n",
      "    X = self._validate_data(X, accept_sparse=\"csr\", reset=False)\n",
      "  File \"C:\\Users\\sylla\\anaconda3\\lib\\site-packages\\sklearn\\base.py\", line 585, in _validate_data\n",
      "    self._check_n_features(X, reset=reset)\n",
      "  File \"C:\\Users\\sylla\\anaconda3\\lib\\site-packages\\sklearn\\base.py\", line 400, in _check_n_features\n",
      "    raise ValueError(\n",
      "ValueError: X has 51 features, but LogisticRegression is expecting 50 features as input.\n"
     ]
    },
    {
     "name": "stderr",
     "output_type": "stream",
     "text": [
      "127.0.0.1 - - [08/Sep/2022 16:52:07] \"POST /_dash-update-component HTTP/1.1\" 500 -\n",
      "127.0.0.1 - - [08/Sep/2022 16:52:07] \"POST /_dash-update-component HTTP/1.1\" 200 -\n",
      "127.0.0.1 - - [08/Sep/2022 16:52:07] \"POST /_dash-update-component HTTP/1.1\" 200 -\n"
     ]
    },
    {
     "name": "stdout",
     "output_type": "stream",
     "text": [
      "Exception on /_dash-update-component [POST]\n",
      "Traceback (most recent call last):\n",
      "  File \"C:\\Users\\sylla\\anaconda3\\lib\\site-packages\\flask\\app.py\", line 2447, in wsgi_app\n",
      "    response = self.full_dispatch_request()\n",
      "  File \"C:\\Users\\sylla\\anaconda3\\lib\\site-packages\\flask\\app.py\", line 1952, in full_dispatch_request\n",
      "    rv = self.handle_user_exception(e)\n",
      "  File \"C:\\Users\\sylla\\anaconda3\\lib\\site-packages\\flask\\app.py\", line 1821, in handle_user_exception\n",
      "    reraise(exc_type, exc_value, tb)\n",
      "  File \"C:\\Users\\sylla\\anaconda3\\lib\\site-packages\\flask\\_compat.py\", line 39, in reraise\n",
      "    raise value\n",
      "  File \"C:\\Users\\sylla\\anaconda3\\lib\\site-packages\\flask\\app.py\", line 1950, in full_dispatch_request\n",
      "    rv = self.dispatch_request()\n",
      "  File \"C:\\Users\\sylla\\anaconda3\\lib\\site-packages\\flask\\app.py\", line 1936, in dispatch_request\n",
      "    return self.view_functions[rule.endpoint](**req.view_args)\n",
      "  File \"C:\\Users\\sylla\\anaconda3\\lib\\site-packages\\dash\\dash.py\", line 1259, in dispatch\n",
      "    ctx.run(\n",
      "  File \"C:\\Users\\sylla\\anaconda3\\lib\\site-packages\\dash\\_callback.py\", line 439, in add_context\n",
      "    output_value = func(*func_args, **func_kwargs)  # %% callback invoked %%\n",
      "  File \"C:\\Users\\sylla\\AppData\\Local\\Temp/ipykernel_18512/2892688003.py\", line 665, in graphe_lime\n",
      "    exp = explainer.explain_instance(x_test_transformed.loc[id_client],\n",
      "  File \"C:\\Users\\sylla\\anaconda3\\lib\\site-packages\\lime\\lime_tabular.py\", line 355, in explain_instance\n",
      "    yss = predict_fn(inverse)\n",
      "  File \"C:\\Users\\sylla\\anaconda3\\lib\\site-packages\\sklearn\\linear_model\\_logistic.py\", line 1670, in predict_proba\n",
      "    return super()._predict_proba_lr(X)\n",
      "  File \"C:\\Users\\sylla\\anaconda3\\lib\\site-packages\\sklearn\\linear_model\\_base.py\", line 439, in _predict_proba_lr\n",
      "    prob = self.decision_function(X)\n",
      "  File \"C:\\Users\\sylla\\anaconda3\\lib\\site-packages\\sklearn\\linear_model\\_base.py\", line 407, in decision_function\n",
      "    X = self._validate_data(X, accept_sparse=\"csr\", reset=False)\n",
      "  File \"C:\\Users\\sylla\\anaconda3\\lib\\site-packages\\sklearn\\base.py\", line 585, in _validate_data\n",
      "    self._check_n_features(X, reset=reset)\n",
      "  File \"C:\\Users\\sylla\\anaconda3\\lib\\site-packages\\sklearn\\base.py\", line 400, in _check_n_features\n",
      "    raise ValueError(\n",
      "ValueError: X has 51 features, but LogisticRegression is expecting 50 features as input.\n"
     ]
    },
    {
     "name": "stderr",
     "output_type": "stream",
     "text": [
      "127.0.0.1 - - [08/Sep/2022 16:52:07] \"POST /_dash-update-component HTTP/1.1\" 500 -\n",
      "127.0.0.1 - - [08/Sep/2022 16:52:08] \"POST /_dash-update-component HTTP/1.1\" 200 -\n"
     ]
    }
   ],
   "source": [
    "from dash import Dash, html, dcc, Input, Output, dash_table\n",
    "import pandas as pd\n",
    "import numpy as np\n",
    "import plotly.express as px\n",
    "import lime\n",
    "from lime import lime_tabular\n",
    "import pickle\n",
    "from operator import itemgetter\n",
    "from sklearn.neighbors import NearestNeighbors\n",
    "import plotly.graph_objs as go\n",
    "import base64\n",
    "#----------------------------------------------------------------------------------\n",
    "x_test_transformed = pd.read_csv(\"x_test_transformed.csv\")\n",
    "x_test_transformed = x_test_transformed.set_index(\"SK_ID_CURR\")\n",
    "#lecture du model choisi\n",
    "pipe_model =pickle.load(open(\"Model_choice.md\", \"rb\"))\n",
    "\n",
    "#lecture de la matice de confusiion optimal\n",
    "conf_mx =pickle.load(open(\"conf_mx_opt\", \"rb\"))\n",
    "\n",
    "#-----------------------------------------------------------------------------------\n",
    "colors = {\n",
    "    'background': '#111111',\n",
    "    'text': '#7FDBFF'\n",
    "}\n",
    "#---------------------------------------------------------------------------------------\n",
    "\n",
    "explainer = lime_tabular.LimeTabularExplainer(x_test_transformed,\n",
    "                             feature_names=x_test_transformed.columns,\n",
    "                             class_names=[\"0\", \"1\"],\n",
    "                             discretize_continuous=False)\n",
    "\n",
    "#------------------------------------------------------------------------------------------------------\n",
    "\n",
    "path = r'C:\\Users\\sylla\\Desktop\\Data Sciences\\Projet7_ impémenter un model scoring\\archive/'\n",
    "\n",
    "app_test = pd.read_csv(path + \"application_test.csv\")\n",
    "app_test = app_test.set_index(\"SK_ID_CURR\")\n",
    "#----------------------------------------------------------------------------------------------------\n",
    "df_cout = pd.read_csv(\"df_cout.csv\")\n",
    "\n",
    "#---------------------------------------------------------------------------------------------------\n",
    "\n",
    "# Calcul des 5 plus proches voisins\n",
    "nbrs = NearestNeighbors(n_neighbors=5, algorithm='ball_tree').fit(x_test_transformed)\n",
    "\n",
    "#-------------------------- liste des vaiables pertinentes----------------------------------\n",
    "listeInfos = ['NAME_CONTRACT_TYPE','CODE_GENDER','FLAG_OWN_CAR','FLAG_OWN_REALTY','CNT_CHILDREN',\n",
    "              'AMT_INCOME_TOTAL',\n",
    " 'AMT_CREDIT','AMT_ANNUITY','AMT_GOODS_PRICE','NAME_INCOME_TYPE','NAME_EDUCATION_TYPE','NAME_FAMILY_STATUS',\n",
    "'DAYS_BIRTH','DAYS_EMPLOYED','DAYS_REGISTRATION','DAYS_ID_PUBLISH',\"REG_CITY_NOT_LIVE_CITY\",'REG_REGION_NOT_LIVE_REGION',\n",
    "  'REG_REGION_NOT_WORK_REGION', 'REG_CITY_NOT_WORK_CITY','LIVE_REGION_NOT_WORK_REGION','CNT_FAM_MEMBERS',\n",
    "              'LIVE_CITY_NOT_WORK_CITY',\n",
    "'EXT_SOURCE_1','EXT_SOURCE_2','EXT_SOURCE_3','DAYS_LAST_PHONE_CHANGE', 'AMT_REQ_CREDIT_BUREAU_YEAR']\n",
    "\n",
    "#---------------------------- selection de vaeiable à afficher ------------------------------------\n",
    "app_test = app_test[listeInfos]\n",
    "#------------------------------------------------------------------------------------------------------\n",
    "def plot_mat_conf(conf_mx):\n",
    "    \n",
    "    labels = [\"False\", \"True\"]\n",
    "    \n",
    "    annotations = go.Annotations()\n",
    "    for n in range(conf_mx.shape[0]):\n",
    "        for m in range(conf_mx.shape[1]):\n",
    "            annotations.append(go.Annotation(text=str(conf_mx[n][m]), x=labels[m], y=labels[n],\n",
    "                                             showarrow=False))\n",
    "            \n",
    "            \n",
    "    colorscale=[[0.0, 'rgb(255, 255, 153)'], [.2, 'rgb(255, 255, 203)'],\n",
    "            [.4, 'rgb(153, 255, 204)'], [.6, 'rgb(179, 217, 255)'],\n",
    "            [.8, 'rgb(240, 179, 255)'],[1.0, 'rgb(255, 77, 148)']]\n",
    "\n",
    "    trace = go.Heatmap(x=labels,\n",
    "                       y=labels,\n",
    "                       z=conf_mx,\n",
    "                       colorscale=colorscale,\n",
    "                       showscale=True)\n",
    "\n",
    "    fig_confusion = go.Figure(data=go.Data([trace]))\n",
    "    \n",
    "    fig_confusion['layout'].update(\n",
    "        annotations=annotations,\n",
    "        xaxis= dict(title='Classes prédites'), \n",
    "        yaxis=dict(title='Classes réelles', dtick=1),\n",
    "        margin={'b': 30, 'r': 20, 't': 10},\n",
    "        width=600,\n",
    "        height=450,\n",
    "        autosize=False\n",
    "    )\n",
    "    \n",
    "    return fig_confusion # Retourne la figure crée\n",
    "#-------------------------------------------------------------------------------------------------\n",
    "def coef_importances(pipe_model) :\n",
    "     \n",
    "    coef = pipe_model[3].coef_.flatten()\n",
    "    indices =[]\n",
    "    values = []\n",
    "    for val, ind in sorted(zip(pipe_model[3].coef_.flatten(),\n",
    "                               x_test_transformed.columns), reverse=True):\n",
    "        indices.append(ind)\n",
    "        values.append(val)\n",
    "        \n",
    "    data = pd.DataFrame(values, columns=[\"values\"], index=indices)\n",
    "    data[\"positive\"] = data[\"values\"]>0\n",
    "    del indices, values\n",
    "\n",
    "    traces = [go.Bar(x=data[\"values\"], y=data.index,\n",
    "                    orientation='h',\n",
    "                    marker_color=list(data.positive.map({True: 'red', False: 'blue'}).values))]\n",
    "     \n",
    "    return {\n",
    "        'data': traces,\n",
    "        \n",
    "        'layout': go.Layout(margin=dict(l=300, r=0, t=30, b=100))\n",
    "           }\n",
    "\n",
    "\n",
    "def fonction_cout():\n",
    "    x_axis = df_cout[\"threshold\"]\n",
    "    y_axis_cout = df_cout[\"cost\"]\n",
    "    min_cout = df_cout['cost'].min()\n",
    "    fig = go.Figure()\n",
    "    traces = go.Scatter(\n",
    "            x= x_axis,\n",
    "            y= y_axis_cout,\n",
    "            mode= 'lines+markers',\n",
    "            y0 =min_cout,\n",
    "            line={'shape':'spline','smoothing':1},\n",
    "            name= \"Fonction cout\")\n",
    "  \n",
    "\n",
    "    return {\n",
    "        'data': [traces],\n",
    "        'layout': go.Layout(\n",
    "            title = \"Evolution du coût par rapport aux thresholds\",\n",
    "            xaxis= dict(title = \"Thresholds\"),\n",
    "            yaxis= dict(title = \"Coût\"),\n",
    "          \n",
    "            hovermode= 'closest',\n",
    "            legend_orientation= 'h'\n",
    "\n",
    "        )\n",
    "    }\n",
    "\n",
    "#-------------------------------------- table des client similaire-----------------------------------\n",
    "\n",
    "\n",
    "\n",
    "#-------------------------------------------------------------------------------------\n",
    "variables = ['AMT_INCOME_TOTAL','AMT_CREDIT','AMT_ANNUITY','AMT_GOODS_PRICE',\n",
    "                 'CNT_FAM_MEMBERS' ,'EXT_SOURCE_1','EXT_SOURCE_2','EXT_SOURCE_3', \"AMT_REQ_CREDIT_BUREAU_YEAR\" ]\n",
    "\n",
    "variable_inf = ['AMT_INCOME_TOTAL','AMT_CREDIT','AMT_ANNUITY','AMT_GOODS_PRICE',\n",
    "                 'CNT_FAM_MEMBERS' ,'EXT_SOURCE_1','EXT_SOURCE_2','EXT_SOURCE_3', \"AMT_REQ_CREDIT_BUREAU_YEAR\" ]\n",
    "\n",
    "\n",
    "#----------------------------------------------------------------------------------------------------------\n",
    "\n",
    "image_filename = 'logo.png' # replace with your own image\n",
    "encoded_image = base64.b64encode(open(image_filename, 'rb').read())\n",
    "#image_path = \"C:\\Users\\sylla\\Desktop\\Data Sciences\\Projet7_ impémenter un model scoring\\P7_Notebook_2_Dashbord/logo.png\"\n",
    "\n",
    "#-----------------------------------------------------------------------------------------------------\n",
    "markdown_text = '''\n",
    "### Seuil de probabilté\n",
    "\n",
    "Le seuil de probalilité obtenu après optimisation de la\n",
    "fonction coût est de: **0.54123**.\n",
    "\n",
    "En sous de cette  valeur, **demande acceptée**;\n",
    "\n",
    "\n",
    "Sinon, **refusée**.\n",
    "'''\n",
    "\n",
    "#-------------------------------------------------------------------------\n",
    "                     \n",
    "################################################################################################################\"\"\n",
    "########################################################################################################################\"\n",
    "app = Dash(__name__)\n",
    "# definition de la colone vertebrale du dashboad avzec dcc qui permet de creer des onglers\n",
    "id_dropdown = dcc.Dropdown( id='id_client',\n",
    "                           options=x_test_transformed.index,\n",
    "                            value=x_test_transformed.index[0],\n",
    "                           multi = True\n",
    "                          )\n",
    "## Définition de loyout de app\n",
    "\n",
    "app.layout = html.Div([\n",
    "   html.Div( children =[\n",
    "       \n",
    "         html.Div([\n",
    "            #Mettre un titre au dropdown\n",
    "            html.H4(\"Choisissez l'identifiant d'un client:\"),\n",
    "            ## deuxieme composante un dcc\n",
    "            dcc.Dropdown(\n",
    "                ##donner un id\n",
    "                id = 'id_client',\n",
    "                #on choisit l'option qu'est je vais mettre à l'interieur du dropdown (ici les identifiant des clients\n",
    "                options = x_test_transformed.index,\n",
    "                #on on peut même donner une valeur par defaut le client à l'index 0\n",
    "                value = x_test_transformed.index[0]\n",
    "            )\n",
    "        ], style = {\n",
    "             'background-color': 'rgb(200, 200, 200)',\n",
    "    \n",
    "            'width': \"25%\", # 25 % de la page\n",
    "            \"border\": '1px solid #eee',\n",
    "            'padding': '30px 30px 30px 12px',\n",
    "            'box-shadow': '0 2px 2px #ccc',\n",
    "             'display': 'inline_block',\n",
    "            'textAlign': 'left'}),\n",
    "  \n",
    "           \n",
    "                                   ]\n",
    "             \n",
    "            \n",
    "        ), \n",
    "#----------------------------------------------------------------------------------------------    \n",
    "    #On va definir les onglet à farire apparaitre sur le tableau de bord\n",
    "    html.Div([\n",
    "        dcc.Tabs(id ='tab', value ='tab-1', # les children sont les enfants de de Tabs \n",
    "                children = [\n",
    "           ###################################################################################################         \n",
    "               # 1 ier onglet: infos client\n",
    "                    dcc.Tab(label = 'Infos client', children = [\n",
    "                         html.Div([html.H3('Infos client') \n",
    "                             \n",
    "                         ], style ={'background': 'blue',\n",
    "                                          \"color\": \"white\", \n",
    "                                    'textAlign':'center',\n",
    "                                'padding':'10px 0px 10px 0px'}),\n",
    "                        \n",
    "                        \n",
    "                        \n",
    "                        html.Div([\n",
    "                            dash_table.DataTable(\n",
    "                                id = \"table_infos\",style_cell = {'font-family': 'Montserrat'}, \n",
    "                    style_data_conditional  =[{\n",
    "                        \n",
    "                        'if': {'column_id': 'intitule'},\n",
    "                        'textAlign': 'left'\n",
    "                    }] +\n",
    "                    \n",
    "                    [{\n",
    "                        \n",
    "                        'if': {'row_index': 'odd'}, # si les ligens sont impaire\n",
    "                        'backgroundColor ': 'rgb(248,248, 248)'\n",
    "                    }], style_header = { 'backgroundColor ': 'rgb(230,230, 230)',       #l'entête un peu plus foncé\n",
    "                                        'fontWeight': 'bold'\n",
    "                        \n",
    "                    }\n",
    "                           \n",
    "                )], style= {'display':'inline-block',\n",
    "                            'verticalAlign':'top',\n",
    "                            'width': '45%', \n",
    "                            'padding':'40px 0px 0px 10px'} ),\n",
    "                        \n",
    "                        \n",
    "                        html.Div([\n",
    "                            dcc.Graph(id = 'pie_infos')\n",
    "                            \n",
    "                            \n",
    "                        ], style= {'display':'inline-block', \n",
    "                                   'verticalAlign':'top',\n",
    "                                   'width': '45%',\n",
    "                                  'padding':'70px 0px 0px 70px',\n",
    "                                  'box-shadow': '2px 2px 2px  #ccc'}),\n",
    "           #**********************************************************************************************************             \n",
    "           #--------------------liste deroulante de toute les variable de la table  client simil----------------------\n",
    "                     html.Div([  \n",
    "            \n",
    "            html.H4(\"Choisissez une variable:\"),\n",
    "            ## deuxieme composante un dcc\n",
    "            dcc.Dropdown(\n",
    "                ##donner un id\n",
    "                id = 'variable_info',\n",
    "                #on choisit l'option qu'est je vais mettre à l'interieur du dropdown (ici les identifiant des clients\n",
    "                options = variable_inf,\n",
    "                #on on peut même donner une valeur par defaut le client à l'index 0\n",
    "                value = variable_inf[0])\n",
    "\n",
    "                     ], style = {'width': \"25%\", # 25 % de la page\n",
    "                                            \"border\": '1px solid #eee',\n",
    "                                            'padding': '30px 30px 30px 120px',\n",
    "                                            'box-shadow': '2px 2px 0px #ccc',\n",
    "                                             'display': 'inline_block',\n",
    "                                            'verticalAlign': 'top'}),\n",
    "      #-------------------------------------- Titre -------------------------------------------\n",
    "                      html.Div([html.H3('Information du client choisi par rapport à la moyenne de la population') \n",
    "                             \n",
    "                         ], style ={'background': 'blue',\n",
    "                                          \"color\": \"white\", \n",
    "                                    'textAlign':'center',\n",
    "                                'padding':'10px 0px 10px 0px'}),\n",
    "        #___________________________________________ graphe moyenne_________________________________________________  \n",
    "                        html.Div([\n",
    "                            dcc.Graph(id = 'bar_moyenne')\n",
    "                            \n",
    "                            \n",
    "                        ], style= {'display':'inline-block', \n",
    "                                   'verticalAlign':'center',\n",
    "                                   'width': '90%',\n",
    "                                  'padding':'70px 0px 0px 70px',\n",
    "                                  'box-shadow': '2px 2px 2px  #ccc'}),\n",
    "                        \n",
    "                        \n",
    "                        \n",
    "                                                                ],\n",
    "                           ),\n",
    "        ################################################################################################\n",
    "                    # 2 ieme onglet: Score de probabilté de faillite\n",
    "                    dcc.Tab(label = 'Situation du client', children =[\n",
    "                        \n",
    "                #****************************************************************************************      \n",
    "           \n",
    "                 html.Div([html.H3(\"Acceptabilité de la demande de prêt du client \")], style ={'background': 'blue',\n",
    "                                                                                             \"color\": \"white\", 'textAlign':'center',\n",
    "                                                                                           'padding':'10px 0px 10px 0px'}),          \n",
    "                        \n",
    "                   html.Div(id='result', children=[\"Resultat\"], style={'background': '',\n",
    "                                                                       \"color\": \"black\",\n",
    "                                                                      # \"height\": '50px',\n",
    "                                                                       'border': '5px dotted red',\n",
    "                                                                       'padding':'50px 3px 50px 50px'}), \n",
    "                        \n",
    "                     #------------------------------------------------------------------------------   \n",
    "                        \n",
    "                         html.Div([\n",
    "                                        dcc.Markdown(children=markdown_text)\n",
    "                                    ],style ={'background': '',\n",
    "                                                \"color\": \"black\", 'textAlign':'center',\n",
    "                                                 'border': '10px solid #ccc', \n",
    "                                                  'padding':'10px 0px 10px 0px'} ),\n",
    "               \n",
    "        #****************************************************************************************       \n",
    "                html.Div([html.H3(\"Eléments justifiant la décision de prêt ou non \")], style ={'background': 'blue',\n",
    "                                                                                             \"color\": \"white\", 'textAlign':'center',\n",
    "                                                                                    'padding':'10px 0px 10px 0px'}),\n",
    "                        html.Div([\n",
    "                    dcc.Graph(id = 'proba_value'),\n",
    "                            \n",
    "                   html.P(\"Position of hline\"),\n",
    "                dcc.Slider(\n",
    "                id='slider-position', \n",
    "                        min=0, max=1, value=0.54123, step=0.54123,\n",
    "                    marks={0: '0',0.54123:'0.54123', 1: '1'}\n",
    "                                        ),\n",
    "                     ], style = {'border': '1px solid #ccc', \n",
    "                                #'box-shadow': '0 2px 2px #ccc',\n",
    "                                 'display': 'inline-block',\n",
    "                                 'verticalAlign': 'top',\n",
    "                                 'width': '45%',\n",
    "                                 'padding': '0px 0px 0px 0px'\n",
    "                                }),\n",
    "                        #____________________________________________________________\n",
    "                        html.Div([\n",
    "                    dcc.Graph(id = 'graph_lime')\n",
    "                     ], style = {#'border': '1px solid #ccc', \n",
    "                                #'box-shadow': '0 2px 0px #ccc',\n",
    "                                 'display': 'inline-block',\n",
    "                                 'verticalAlign': 'top',\n",
    "                                 'width': '45%',\n",
    "                                'padding': '50px 0px 0px 30px'\n",
    "                                }), \n",
    "                        #____________________________________________________________client similaires__________________________\n",
    "                      \n",
    "             html.Div([html.H3(\"Tableau des données du client choisi et de ses quatre plus proches voisins ?\")], \n",
    "                      style ={'background': 'blue',\n",
    "                               \"color\": \"white\", 'textAlign':'center',\n",
    "                           'padding':'10px 0px 10px 0px'}),\n",
    "                        \n",
    "                  html.Div([            \n",
    "                    dash_table.DataTable(\n",
    "                                            id='client_similaire',\n",
    "                                            columns=[  {\"name\": i, \"id\": i} for i in app_test.reset_index().columns],\n",
    "                                            \n",
    "                                           filter_action='custom',\n",
    "                                            filter_query='',\n",
    "                                            fixed_rows={'headers': True, 'data': 0 },\n",
    "                                           style_cell={'width': '200px'},\n",
    "                                            style_table={'minWidth': '90%'},\n",
    "                                            style_data_conditional=[\n",
    "                                                                    {'if': {'row_index': 'odd'},\n",
    "                                                                    'backgroundColor': 'rgb(248, 248, 248)' \n",
    "                                                                    }],\n",
    "                                            style_header={\n",
    "                                                            'backgroundColor': 'rgb(230, 230, 230)',\n",
    "                                                            'fontWeight': 'bold'\n",
    "                                                        }, \n",
    "                                            virtualization=True,\n",
    "                                         )\n",
    "\n",
    "\n",
    "                                  ],style ={'width': '90%', \"border\": '1px solid #eee',\n",
    "                            'box-shadow': '0 2px 2px #ccc',\n",
    "                             'display': 'inline_block',\n",
    "                            'verticalAlign': 'top',\n",
    "                            'padding':'60px 30px 60px 30px'\n",
    "                                           } ),\n",
    "                          \n",
    "                        \n",
    "                                  \n",
    "                  #--------------------liste deroulante de toute les variable de la table  client simil----------------------\n",
    "                                #--------------------liste deroulante de toute les variable de la table  client simil----------------------\n",
    "                     html.Div([  \n",
    "            \n",
    "            html.H4(\"Choisissez une variable:\"),\n",
    "            ## deuxieme composante un dcc\n",
    "            dcc.Dropdown(\n",
    "                ##donner un id\n",
    "                id = 'variable',\n",
    "                #on choisit l'option qu'est je vais mettre à l'interieur du dropdown (ici les identifiant des clients\n",
    "                options = variables,\n",
    "                #on on peut même donner une valeur par defaut le client à l'index 0\n",
    "                value = variables[0])\n",
    "\n",
    "                     ], style = {'width': \"25%\", # 25 % de la page\n",
    "                                            \"border\": '1px solid #eee',\n",
    "                                            'padding': '30px 30px 30px 120px',\n",
    "                                            'box-shadow': '2px 2px 0px #ccc',\n",
    "                                             'display': 'inline_block',\n",
    "                                            'verticalAlign': 'top'}),\n",
    "      #-------------------------------------- Titre -------------------------------------------\n",
    "                        \n",
    "                  html.Div([  \n",
    "            \n",
    "                               html.Div([html.H3(\"Comparaison du client choisi par rapport à ses plus proches voisins\")],\n",
    "                                              style ={'background': 'blue',\n",
    "                                                        \"color\": \"white\", 'textAlign':'center',\n",
    "                                                        'padding':'10px 0px 10px 0px'}),\n",
    "#------------------------------------------------------- Grphe 1---------------------------------------------\n",
    "\n",
    "                                ]),\n",
    "                        html.Div([\n",
    "            dcc.Graph(id = 'graph_comp_1')\n",
    "                    ], style = {'border': '1px solid #ccc', \n",
    "                                'box-shadow': '0 2px 2px #ccc',\n",
    "                                 'display': 'inline-block',\n",
    "                                 'verticalAlign': 'top',\n",
    "                                 'width': '90%',\n",
    "                                 'padding': '50px 0px 0px 50px'} ), \n",
    "   #------------------------------------------------------fin graphe ------------------------------------------------------\n",
    "                        \n",
    " #------------------------------------------------------- Grphe 2---------------------------------------------\n",
    "\n",
    "\n",
    "                        \n",
    "                                                           ]),\n",
    "\n",
    "                                 \n",
    "   \n",
    "           #*****************************************************************************************         \n",
    "                            # 3ieme onglet: Grahique des coef importances local\n",
    "\n",
    "                         dcc.Tab(label=\"Performance du model\", children=[\n",
    "                             \n",
    "                                   #------------------------------- Matrice de confusion ------------------------\n",
    "                                  html.Div([\n",
    "                                      html.H3(\"Matrice de confusion et coefficients importances\"),\n",
    "                                            \n",
    "                                           ], style ={'background': 'blue',\n",
    "                                                    \"color\": \"white\", 'textAlign':'center',\n",
    "                                                    'padding':'10px 0px 10px 0px'},\n",
    "                                           ),\n",
    "                                  html.Div([\n",
    "                            # Affiche la matrice de confusion obtenue apres optimisation fonction cout\n",
    "                                            \n",
    "                                            html.Div([\n",
    "                                                html.H3(\"Matrice de confusion\"), \n",
    "                                                dcc.Graph(id='matrice_conf',\n",
    "                                                          figure= plot_mat_conf(conf_mx),\n",
    "                                                         ),\n",
    "                                                     ], style = {'border': '1px solid #ccc', \n",
    "                                                                'box-shadow': '0 2px 2px #ccc',\n",
    "                                                                 'display': 'inline-block',\n",
    "                                                                 'verticalAlign': 'top',\n",
    "                                                                 'width': '45%',\n",
    "                                                                 'padding': '50px 0px 0px 50px'\n",
    "                                                                }),\n",
    "                    #------------------------------- coeficicient importances globales------------------------\n",
    "                        \n",
    "                                            html.Div([\n",
    "                                                html.H3(\"Coeficient importances\"), \n",
    "                                                dcc.Graph(id='coef_importance',\n",
    "                                                          figure= coef_importances(pipe_model),\n",
    "                                                         ),\n",
    "                                                     ],    style = {'border': '1px solid #ccc', \n",
    "                                                                    'box-shadow': '0 2px 2px #ccc',\n",
    "                                                                     'display': 'inline-block',\n",
    "                                                                     'verticalAlign': 'top',\n",
    "                                                                     'width': '45%',\n",
    "                                                                     'padding': '50px 0px 0px 50px'\n",
    "                                                                    }),\n",
    "\n",
    "                                         ]),\n",
    "\n",
    "                                                                 ],\n",
    "                                ),\n",
    "               \n",
    "                       \n",
    "          #********************************************************************************************************************              \n",
    "                    \n",
    "                     # 4 ième onglet: Tableau fonction cout\n",
    "                    dcc.Tab(label = 'Fonction coût', children = [\n",
    "                                  \n",
    "        #-------------------------------------------------------petit titre de l'inglet-----------------------\n",
    "                    html.Div([html.H3('Graphique de la fonction de coût optimisée'),\n",
    "                             ],\n",
    "                              style = {'background': 'blue',\n",
    "                                         \"color\": \"white\", 'textAlign':'center',\n",
    "                                          'padding':'10px 0px 10px 0px'}),       \n",
    "                           \n",
    "                        html.Div([\n",
    "                            dcc.Graph(id = 'cout', \n",
    "                                 figure = fonction_cout(),\n",
    "                                     \n",
    "                                 ),\n",
    "                        ], style = {'border': '1px solid #ccc', \n",
    "                                      'box-shadow': '2px 2px 2px #ccc',\n",
    "                                        'display': 'inline-block',\n",
    "                                        'verticalAlign': 'top',\n",
    "                                        'width': '80%',\n",
    "                                            'padding': '50px 0px 0px 100px'})   \n",
    "                                                                    ],\n",
    "                           ),\n",
    "      \n",
    "                        \n",
    "                    \n",
    "         #******************************************************************************************************  \n",
    "                    #4 iéme onglet : Exploration des données\n",
    "                    #dcc.Tab(label = 'Exploration des données'),\n",
    "                    \n",
    "                ])\n",
    "                \n",
    "        \n",
    "    ])\n",
    "   \n",
    "])\n",
    "#*************************************************************************************************************\n",
    "#******************************************************    *******************************************************\n",
    "# Création d'un système de filtre\n",
    "operators = [['ge ', '>='],\n",
    "             ['le ', '<='],\n",
    "             ['lt ', '<'],\n",
    "             ['gt ', '>'],\n",
    "             ['ne ', '!='],\n",
    "             ['eq ', '='],\n",
    "             ['contains '],\n",
    "             ['datestartswith ']]\n",
    "def split_filter_part(filter_part):\n",
    "    # Permet d'avoir un outil de filtrage des données\n",
    "    for operator_type in operators:\n",
    "        for operator in operator_type:\n",
    "            if operator in filter_part:\n",
    "                name_part, value_part = filter_part.split(operator, 1)\n",
    "                name = name_part[name_part.find('{') + 1: name_part.rfind('}')]\n",
    "\n",
    "                value_part = value_part.strip()\n",
    "                v0 = value_part[0]\n",
    "                if (v0 == value_part[-1] and v0 in (\"'\", '\"', '`')):\n",
    "                    value = value_part[1: -1].replace('\\\\' + v0, v0)\n",
    "                else:\n",
    "                    try:\n",
    "                        value = float(value_part)\n",
    "                    except ValueError:\n",
    "                        value = value_part\n",
    "\n",
    "                # word operators need spaces after them in the filter string,\n",
    "                # but we don't want these later\n",
    "                return name, operator_type[0].strip(), value\n",
    "\n",
    "    return [None] * 3\n",
    "#*******************************************       ***************************************************\n",
    "#**************************************************************************************************************\n",
    "\n",
    "\n",
    "\n",
    "\n",
    "\n",
    "\n",
    "\n",
    "\n",
    "#--------------------------------------------------------------------------------------\n",
    "# Definition fonction de rappel callback\n",
    "\n",
    "#----------------------------------------------------------------------------------------------------\n",
    "#-------------------------------------------------------------------------------------------------------------\n",
    "\n",
    "############################ infos client #######################################################\"\"\n",
    "\n",
    "@app.callback([Output('table_infos', 'data'),Output('table_infos', 'columns')],\n",
    "              [Input(\"id_client\", 'value')]) #obliger de la mettre entre crocher meme si c\"est un seul elemen\n",
    "def infos_client(id_client):\n",
    "    infos_list = ['NAME_CONTRACT_TYPE','CODE_GENDER','FLAG_OWN_CAR','FLAG_OWN_REALTY', 'NAME_INCOME_TYPE',\n",
    "                  'NAME_EDUCATION_TYPE','NAME_FAMILY_STATUS',\"REG_CITY_NOT_LIVE_CITY\",'REG_REGION_NOT_LIVE_REGION',\n",
    "                'REG_REGION_NOT_WORK_REGION', 'REG_CITY_NOT_WORK_CITY','LIVE_REGION_NOT_WORK_REGION','CNT_FAM_MEMBERS',\n",
    "              'LIVE_CITY_NOT_WORK_CITY', 'AMT_INCOME_TOTAL']\n",
    "    \n",
    "    #info_list = [info  for info in col ]\n",
    "    infos = {'intitule':infos_list,\n",
    "            'donnee': [app_test[app_test.index==id_client][col].iloc[0] for col in infos_list]\n",
    "            }\n",
    "    \n",
    "    table = pd.DataFrame(infos)\n",
    "    data = table.to_dict('rows')\n",
    "    entete = {'id':'intitule', 'name': \"Principaux indicateurs\"}, {'id': 'donnee',\n",
    "                                                                                           'name': \"Id_client: \" + str(id_client)}\n",
    "    \n",
    "    return data, entete\n",
    "    #--------------------------------------- grahe pie client----------------------------------------------------#\n",
    "@app.callback(Output('pie_infos', 'figure'),\n",
    "              [Input('id_client', 'value')])\n",
    "def graph_pie(id_client):\n",
    "    col_pie = ['AMT_INCOME_TOTAL','AMT_CREDIT','AMT_GOODS_PRICE']\n",
    "    data_info = [float(app_test[app_test.index ==id_client][col].iloc[0]) for col in col_pie]\n",
    "    labels =  col_pie\n",
    "   \n",
    "    traces = [\n",
    "        go.Bar(x= labels, y =data_info, text =data_info , textposition='auto')\n",
    "    ]\n",
    "    del data_info\n",
    "    return {\n",
    "        'data': traces,\n",
    "        'layout': go.Layout(\n",
    "           \n",
    "            title= 'Information client',\n",
    "            #legend_orientation= 'h'\n",
    "        )\n",
    "    }\n",
    "############################################## acceptabilité de la demande ##################\"\"\n",
    "@app.callback(\n",
    "    Output('result', 'children'),\n",
    "    [Input('id_client', 'value')])\n",
    "\n",
    "def update_result(id_client):\n",
    "    proba = pipe_model[3].predict_proba(np.array(x_test_transformed.loc[id_client]).reshape(1, -1)).flatten()\n",
    "    proba = proba[1]\n",
    "    if (proba < 0.541237): \n",
    "        return \"Demande de prêt accéptée !\"\n",
    "    else:\n",
    "        return \"Demande de prêt refusée !\"\n",
    "\n",
    "\n",
    "############################ probabilté de faillite #######################################################\"\"\n",
    "\n",
    "@app.callback(Output('proba_value', 'figure'),\n",
    "             [Input('id_client', 'value')])\n",
    "def update_proba_bar(id_client):    \n",
    "    proba = pipe_model[3].predict_proba(np.array(x_test_transformed.loc[id_client]).reshape(1, -1)).flatten()\n",
    "    prod = np.array([proba[1]])\n",
    "    df = [\"Classe\"]\n",
    "    fig =px.bar(x = df, y= prod,\n",
    "                labels=dict(x = '...= Seuil', y='Score proba'),\n",
    "               title='Le score de probabilité  pour prise de décision ', text_auto=True)\n",
    "    fig.add_hline(y=0.8, line_color=\"black\", line_dash=\"dot\", line_width = 0.001)\n",
    "    fig.add_hline(y=0.54123, line_color=\"red\", line_dash=\"dot\", line_width = 2)\n",
    "    return fig\n",
    "    del proba\n",
    "#****************************************graph de lime**********************************\n",
    "@app.callback(Output('graph_lime', 'figure'),\n",
    "             [Input('id_client', 'value')])\n",
    "def graphe_lime(id_client) :\n",
    "     \n",
    "    exp = explainer.explain_instance(x_test_transformed.loc[id_client],\n",
    "                                 pipe_model[3].predict_proba)\n",
    "    \n",
    "    indices, values = [], []\n",
    "    \n",
    "\n",
    "    for ind, val in sorted(exp.as_list(), key=itemgetter(1)):\n",
    "        indices.append(ind)\n",
    "        values.append(val)\n",
    "    data = pd.DataFrame(values, columns=[\"values\"], index=indices)\n",
    "    data[\"positive\"] = data[\"values\"]>0\n",
    "    del indices, values\n",
    "    \n",
    "    # Retourne le barplot correspondant aux 'feature importances'\n",
    "    # du client dont l'id est séléctionné sur le dashboard\n",
    "    traces = [go.Bar(\n",
    "                    x=data[\"values\"],\n",
    "                    y=data.index,\n",
    "                    orientation='h',\n",
    "                    marker_color=list(data.positive.map({True: 'red', False: 'green'}).values)\n",
    "        )]\n",
    "    return {\n",
    "        \n",
    "        'data': traces,\n",
    "        \n",
    "        'layout': go.Layout(\n",
    "                            margin=dict(l=300, r=0, t=30, b=100),\n",
    "            title = \"Influences des variables(Vert facilitant Non faillite et rouge  faillite)\"\n",
    "        )  \n",
    "                           \n",
    "    } \n",
    "############################################ client similaire ################################\n",
    "@app.callback(\n",
    "    Output('client_similaire', 'data'),\n",
    "    [Input('client_similaire', \"filter_query\"),\n",
    "     Input('id_client', \"value\")])\n",
    "def update_table(filter, id_client):\n",
    "    \n",
    "    # Déterminer les individus les plus proches du client dont l'id est séléctionné\n",
    "    indices_similary_clients = nbrs.kneighbors(np.array(x_test_transformed.loc[id_client]).reshape(1, -1))[1].flatten()\n",
    "     \n",
    "    filtering_expressions = filter.split(' && ')\n",
    "    dff = app_test.iloc[indices_similary_clients].reset_index()\n",
    "    for filter_part in filtering_expressions:\n",
    "        col_name, operator, filter_value = split_filter_part(filter_part)\n",
    "\n",
    "        if operator in ('eq', 'ne', 'lt', 'le', 'gt', 'ge'):\n",
    "            # these operators match pandas series operator method names\n",
    "            dff = dff.loc[getattr(dff[col_name], operator)(filter_value)]\n",
    "        elif operator == 'contains':\n",
    "            dff = dff.loc[dff[col_name].str.contains(filter_value)]\n",
    "        elif operator == 'datestartswith':\n",
    "            # this is a simplification of the front-end filtering logic,\n",
    "            # only works with complete fields in standard format\n",
    "            dff = dff.loc[dff[col_name].str.startswith(filter_value)]\n",
    "    \n",
    "    return dff.to_dict('records')\n",
    "\n",
    "   ################################### graphe_comp_1 ###################### \n",
    "@app.callback(Output('graph_comp_1', 'figure'),\n",
    "             [Input('id_client', 'value'), Input('variable', 'value')])\n",
    "def graph_comparaison_1(id_client,variable):\n",
    "    indices_similary_clients = nbrs.kneighbors(np.array(x_test_transformed.loc[id_client]).reshape(1, -1))[1].flatten()\n",
    "    df_client_simil = app_test.iloc[indices_similary_clients]\n",
    " \n",
    "    ind_client_vs = indices_similary_clients.tolist()\n",
    "    \n",
    "    data_client_princi = df_client_simil[df_client_simil.index == id_client][variable].iloc[0]\n",
    "    data_client_1 = df_client_simil[df_client_simil.index  == ind_client_vs[1]][variable].iloc[0]\n",
    "    data_client_2 = df_client_simil[df_client_simil.index  == ind_client_vs[2]][variable].iloc[0]\n",
    "    data_client_3 = df_client_simil[df_client_simil.index  == ind_client_vs[3]][variable].iloc[0]\n",
    "    data_client_4 = df_client_simil[df_client_simil.index  == ind_client_vs[4]][variable].iloc[0]\n",
    "\n",
    "    labels = ['Client choisi', 'Voisin_1', \"Voisin_2\", \"Voisin_3\", \"Voisin_4\"]\n",
    "    values = [float(data_client_princi), float(data_client_1),float(data_client_2), float(data_client_3),\n",
    "              float( data_client_4) ]\n",
    "    \n",
    "    total = sum(values)\n",
    "\n",
    "    traces = [\n",
    "        go.Pie(labels= labels, values= values, texttemplate = \"%{label}: %{value:s} <br>(%{percent})\",\n",
    "    textposition = \"inside\")\n",
    "    ]\n",
    "\n",
    "    return {\n",
    "        'data': traces,\n",
    "        'layout': go.Layout(\n",
    "        title= \" Information du client choisi comparée <br> à celle de ses 4 + proches voisins  (Total: \" + str(total) + \")\",\n",
    "            #legend_orientation= 'h'\n",
    "        )\n",
    "    }\n",
    "\n",
    "##################################################Graphe moyenne #####################################################\n",
    "@app.callback(Output('bar_moyenne', 'figure'),\n",
    "             [Input('id_client', 'value'), Input('variable_info', 'value')])\n",
    "def graph_bar_moyenne(id_client,variable_info):\n",
    "\n",
    "    \n",
    "    data_client_princi = app_test[app_test.index == id_client][variable_info].iloc[0]\n",
    "    data_moy = app_test[variable_info].mean()\n",
    " \n",
    "\n",
    "    labels = ['Client choisi', \"Moy_Pop\"]\n",
    "    values = [float(data_client_princi), float(data_moy)]\n",
    "    \n",
    "    total = sum(values)\n",
    "\n",
    "    traces = [\n",
    "        go.Pie(labels= labels, values= values, hole =0.5, texttemplate = \"%{label}: %{value:s} <br>(%{percent})\",\n",
    "    textposition = \"inside\")\n",
    "    ]\n",
    "\n",
    "    return {\n",
    "        'data': traces,\n",
    "        'layout': go.Layout(\n",
    "        title= \" Information du client choisi comparée <br> à la moyenne de la population (Total: \" + str(total) + \")\",\n",
    "            #legend_orientation= 'h'\n",
    "        )\n",
    "    }\n",
    "\n",
    "\n",
    "\n",
    "\n",
    "\n",
    "\n",
    "server =  app.server  \n",
    "if __name__ == \"__main__\":\n",
    "    app.run_server(port = 8002) "
   ]
  },
  {
   "cell_type": "code",
   "execution_count": null,
   "id": "6d3ba46e",
   "metadata": {},
   "outputs": [],
   "source": []
  },
  {
   "cell_type": "markdown",
   "id": "a1457e8c",
   "metadata": {},
   "source": [
    "## Fast API"
   ]
  },
  {
   "cell_type": "code",
   "execution_count": null,
   "id": "0dc2cfd8",
   "metadata": {},
   "outputs": [],
   "source": [
    "### Editeur préféreé\n",
    "\n",
    "# 1. Library imports\n",
    "import uvicorn\n",
    "from fastapi import FastAPI\n",
    "\n",
    "# 2. Create the app object\n",
    "app = FastAPI()\n",
    "\n",
    "# 3. Index route, opens automatically on http://127.0.0.1:8000\n",
    "@app.get('/')\n",
    "def index():\n",
    "    return {'message': 'Hello, stranger'}\n",
    "\n",
    "# 4. Route with a single parameter, returns the parameter within a message\n",
    "#    Located at: http://127.0.0.1:8000/AnyNameHere\n",
    "@app.get('/{name}')\n",
    "def get_name(name: str):\n",
    "    return {'message': f'Hello, {name}'}\n",
    "\n",
    "# 5. Run the API with uvicorn\n",
    "#    Will run on http://127.0.0.1:8000\n",
    "if __name__ == '__main__':\n",
    "    uvicorn.run(app, host='127.0.0.1', port=8000)"
   ]
  },
  {
   "cell_type": "markdown",
   "id": "a4d3adbe",
   "metadata": {},
   "source": [
    "C'est ça! Exécutons maintenant notre API. Pour ce faire, ouvrez une fenêtre de terminal là où app.pyse trouve le. Tapez maintenant ce qui suit :\n",
    "\n",
    "uvicorn app:app --reload\n",
    "\n",
    "###  explicatuon\n",
    "Et appuyez sur Entrée . Démystifions cette affirmation avant de continuer. La première application fait référence au nom de votre fichier Python sans l'extension. La deuxième application doit être identique à la façon dont vous avez nommé votre instance FastAPI (voir l'étape 2 dans la liste ci-dessus ou le commentaire 2 dans l'extrait de code). Le -reload indique que vous souhaitez que l'API s'actualise automatiquement lorsque vous enregistrez le fichier sans redémarrer l'ensemble.\n",
    "\n",
    "\n",
    "### \n",
    "N'est-ce pas incroyable? Vous pouvez également utiliser cette page de documentation pour bien documenter vos points de terminaison API. Cela se fait en plaçant des chaînes de documentation juste en dessous de la déclaration de fonction. L'extrait de code suivant montre comment :"
   ]
  },
  {
   "cell_type": "code",
   "execution_count": null,
   "id": "a3753afc",
   "metadata": {},
   "outputs": [],
   "source": [
    "import uvicorn\n",
    "from fastapi import FastAPI\n",
    "\n",
    "app = FastAPI()\n",
    "\n",
    "@app.get('/')\n",
    "def index():\n",
    "    '''\n",
    "    This is a first docstring.\n",
    "    '''\n",
    "    return {'message': 'Hello, stranger'}\n",
    "\n",
    "@app.get('/{name}')\n",
    "def get_name(name: str):\n",
    "    '''\n",
    "    This is a second docstring.\n",
    "    '''\n",
    "    return {'message': f'Hello, {name}'}\n",
    "\n",
    "\n",
    "if __name__ == '__main__':\n",
    "    uvicorn.run(app, host='127.0.0.1', port=8000)"
   ]
  },
  {
   "cell_type": "markdown",
   "id": "abccb099",
   "metadata": {},
   "source": [
    "Si vous n'aimez pas l'apparence de l' interface utilisateur Swagger (ce que vous avez vu jusqu'à présent), il existe une autre option intégrée. Pour explorer, ouvrez l'URL suivante : http://127.0.0.1:8000/redoc — et cette page apparaîtra :"
   ]
  },
  {
   "cell_type": "markdown",
   "id": "8589e743",
   "metadata": {},
   "source": [
    "## Entraînement d'un modèle d'apprentissage automatique\n",
    "Cet article devient assez long tel quel, alors ne perdons pas de temps dans cette section. Nous formerons un modèle simple sans aucune préparation ni exploration de données. Ceux-ci ne sont pas au cœur du sujet d'aujourd'hui et ne sont pas pertinents pour le déploiement du modèle. Le processus de déploiement d'un modèle basé sur le jeu de données Iris est le même que celui basé sur les réseaux de neurones.\n",
    "\n",
    "Et c'est exactement ce que nous ferons : téléchargez l' ensemble de données Iris et entraînez le modèle. Eh bien, ce ne sera pas si facile. Pour commencer, créez un fichier appelé Model.py. Dans celui-ci, vous effectuerez les étapes suivantes :\n",
    "\n",
    "1. Importations - vous aurez besoin de pandas, RandomForecastClassifierde scikit-learn, BaseModelde pydantic(vous verrez pourquoi à l'étape suivante) et joblib- pour enregistrer et charger des modèles\n",
    "\n",
    "\n",
    "2. Déclarez une classe IrisSpeciesqui hérite de BaseModel. Cette classe ne contient que des champs qui sont utilisés pour prédire une seule espèce de fleur (plus à ce sujet dans la section suivante)\n",
    "\n",
    "3. Déclarer une classe IrisModel- utilisé pour la formation de modèles et pour faire des prédictions\n",
    "\n",
    "4. À l' intérieur IrisModelde , déclarez une méthode appelée _train_model. Il est utilisé pour effectuer la formation du modèle avec l'algorithme Random Forests. La méthode renvoie le modèle formé\n",
    "\n",
    "5. À l' intérieur IrisModelde , déclarez une méthode appelée predict_species. Il permet de faire une prédiction à partir de 4 paramètres d'entrée (mesures de fleurs). La méthode renvoie la prédiction (espèce de fleur) et la probabilité de prédiction\n",
    "\n",
    "6. À l' intérieur IrisModelde , modifiez le constructeur afin qu'il charge le jeu de données Iris et entraîne le modèle s'il n'existe pas dans le dossier. Cela résout le problème de la formation d'un nouveau modèle à chaque fois. La joblibbibliothèque est utilisée pour enregistrer et charger des modèles.\n",
    "\n",
    "## Voici le code complet :\n",
    "\n"
   ]
  },
  {
   "cell_type": "code",
   "execution_count": null,
   "id": "401fa60a",
   "metadata": {},
   "outputs": [],
   "source": [
    "# 1. Library imports\n",
    "import pandas as pd \n",
    "from sklearn.ensemble import RandomForestClassifier\n",
    "from pydantic import BaseModel\n",
    "import joblib\n",
    "\n",
    "\n",
    "# 2. Class which describes a single flower measurements\n",
    "class IrisSpecies(BaseModel):\n",
    "    sepal_length: float \n",
    "    sepal_width: float \n",
    "    petal_length: float \n",
    "    petal_width: float\n",
    "\n",
    "\n",
    "# 3. Class for training the model and making predictions\n",
    "class IrisModel:\n",
    "    # 6. Class constructor, loads the dataset and loads the model\n",
    "    #    if exists. If not, calls the _train_model method and \n",
    "    #    saves the model\n",
    "    def __init__(self):\n",
    "        self.df = pd.read_csv('iris.csv')\n",
    "        self.model_fname_ = 'iris_model.pkl'\n",
    "        try:\n",
    "            self.model = joblib.load(self.model_fname_)\n",
    "        except Exception as _:\n",
    "            self.model = self._train_model()\n",
    "            joblib.dump(self.model, self.model_fname_)\n",
    "        \n",
    "\n",
    "    # 4. Perform model training using the RandomForest classifier\n",
    "    def _train_model(self):\n",
    "        X = self.df.drop('species', axis=1)\n",
    "        y = self.df['species']\n",
    "        rfc = RandomForestClassifier()\n",
    "        model = rfc.fit(X, y)\n",
    "        return model\n",
    "\n",
    "\n",
    "    # 5. Make a prediction based on the user-entered data\n",
    "    #    Returns the predicted species with its respective probability\n",
    "    def predict_species(self, sepal_length, sepal_width, petal_length, petal_width):\n",
    "        data_in = [[sepal_length, sepal_width, petal_length, petal_length]]\n",
    "        prediction = self.model.predict(data_in)\n",
    "        probability = self.model.predict_proba(data_in).max()\n",
    "        return prediction[0], probability"
   ]
  },
  {
   "cell_type": "markdown",
   "id": "e4ad2b47",
   "metadata": {},
   "source": [
    "## Construire une API REST complète\n",
    "Revenons au app.pyfichier et supprimons tout. Nous devrions recommencer avec un fichier vierge, même si le passe-partout sera plus ou moins identique à ce que vous aviez auparavant.\n",
    "\n",
    "Cette fois, vous ne déclarerez qu'un seul critère d'évaluation, utilisé pour prédire l'espèce de fleur. Ce point de terminaison effectue la prédiction en appelant la IrisModel.predict_species()méthode déclarée dans la section précédente. L'autre changement important est le type de demande.POST est ce que vous voulez avec les API d'apprentissage automatique, car il est préférable d'envoyer des paramètres en JSON plutôt qu'en URL.\n",
    "\n",
    "Si vous êtes un spécialiste des données, le paragraphe ci-dessus ressemblait probablement à du charabia, mais ce n'est pas grave. Une compréhension approfondie des API REST et des requêtes HTTP n'est pas nécessaire pour créer et déployer des modèles.\n",
    "\n",
    "##La liste de tâches pour app.pyest assez courte :\n",
    "\n",
    "1. Importations — vous aurez besoin uvicornde , FastAPI, IrisModelet du fichier IrisSpeciesprécédemment écritModel.py\n",
    "\n",
    "2. Créer une instance de FastAPIet deIrisModel\n",
    "\n",
    "3. Déclarez une fonction pour faire des prédictions, \n",
    "située sur http://127.0.0.1:8000/predict. La fonction prend un objet de type IrisSpecies, \n",
    "        le convertit en dictionnaire et le passe à la IrisModel.predict_species()méthode.\n",
    "        La classe prédite et la probabilité prédite sont renvoyées\n",
    "\n",
    "4. Exécutez l'API à l'aide deuvicorn\n",
    "\n",
    "## Encore une fois, voici le code complet de ce fichier avec les commentaires :"
   ]
  },
  {
   "cell_type": "code",
   "execution_count": null,
   "id": "ad02bf27",
   "metadata": {},
   "outputs": [],
   "source": [
    "# 1. Library imports\n",
    "import uvicorn\n",
    "from fastapi import FastAPI\n",
    "from Model import IrisModel, IrisSpecies\n",
    "\n",
    "# 2. Create app and model objects\n",
    "app = FastAPI()\n",
    "model = IrisModel()\n",
    "\n",
    "# 3. Expose the prediction functionality, make a prediction from the passed\n",
    "#    JSON data and return the predicted flower species with the confidence\n",
    "@app.post('/predict')\n",
    "def predict_species(iris: IrisSpecies):\n",
    "    data = iris.dict()\n",
    "    prediction, probability = model.predict_species(\n",
    "        data['sepal_length'], data['sepal_width'], data['petal_length'], data['petal_width']\n",
    "    )\n",
    "    return {\n",
    "        'prediction': prediction,\n",
    "        'probability': probability\n",
    "    }\n",
    "\n",
    "\n",
    "# 4. Run the API with uvicorn\n",
    "#    Will run on http://127.0.0.1:8000\n",
    "if __name__ == '__main__':\n",
    "    uvicorn.run(app, host='127.0.0.1', port=8000)"
   ]
  },
  {
   "cell_type": "markdown",
   "id": "a8f60e0f",
   "metadata": {},
   "source": [
    "Et c'est tout ce que vous avez à faire. Testons l'API dans la section suivante.\n",
    "\n",
    "## Essai\n",
    "Pour exécuter l'API, saisissez à nouveau le texte suivant dans le Termi"
   ]
  },
  {
   "cell_type": "code",
   "execution_count": null,
   "id": "d6a347e0",
   "metadata": {},
   "outputs": [],
   "source": [
    "uvicorn app:app --reload"
   ]
  },
  {
   "cell_type": "markdown",
   "id": "a7f26ee3",
   "metadata": {},
   "source": [
    "Ou même via n'importe quel langage de programmation (exemple Python):"
   ]
  },
  {
   "cell_type": "code",
   "execution_count": null,
   "id": "15396490",
   "metadata": {},
   "outputs": [],
   "source": [
    "import requests \n",
    "\n",
    "new_measurement = {\n",
    "    'sepal_length': 5.7,\n",
    "    'sepal_width': 3.1,\n",
    "    'petal_length': 4.9,\n",
    "    'petal_width': 2.2\n",
    "}\n",
    "\n",
    "response = requests.post('http://127.0.0.1:8000/predict', json=new_measurement)\n",
    "print(response.content)\n",
    "\n",
    "\n",
    ">>> b'{\"prediction\":\"virginica\",\"probability\":0.87}'"
   ]
  },
  {
   "cell_type": "markdown",
   "id": "9f620548",
   "metadata": {},
   "source": [
    "## Mots d'adieu\n",
    "\n",
    "Aujourd'hui, vous avez appris ce qu'est FastAPI et comment l'utiliser, à la fois grâce à un exemple d'API jouet et à un exemple d'apprentissage machine jouet. De plus, vous avez appris à écrire et à explorer la documentation de votre API et à la tester. C'est beaucoup pour un seul article, alors ne soyez pas frustré s'il faut quelques lectures pour digérer complètement.\n",
    "\n",
    "Il y a tellement plus à couvrir avec FastAPI - comme sa fonctionnalité asynchrone, mais c'est un sujet pour un autre jour."
   ]
  },
  {
   "cell_type": "code",
   "execution_count": null,
   "id": "d3aee23d",
   "metadata": {},
   "outputs": [],
   "source": [
    "def update_proba_bar(id_client):    \n",
    "    proba = pipe_model[3].predict_proba(np.array(x_test_transformed.loc[id_client]).reshape(1, -1)).flatten()\n",
    "    prod = np.array([proba[1]])\n",
    "    df = [\"Non Faillite\"]\n",
    "    fig =px.bar(x = df, y= prod,\n",
    "                labels=dict(x='Classes', y='Score proba'),\n",
    "               title='Le score de probabilité  pour prise de décision ', text_auto=True)\n",
    "    #fig.add_hline(y=1, line_color=\"red\", line_dash=\"dot\", line_width =0.1)\n",
    "    #fig.add_hline(y=0.54123, line_color=\"red\", line_dash=\"dot\", line_width =2)\n",
    "    fig.add_shape(\n",
    "        type='line',\n",
    "        x0=-0.1,\n",
    "        y0=0.54123,\n",
    "        x1=0.4,\n",
    "        y1=0.54123,\n",
    "        line=dict(\n",
    "            color='Red',\n",
    "        )\n",
    ")\n",
    "    return fig\n",
    "    del proba"
   ]
  },
  {
   "cell_type": "code",
   "execution_count": null,
   "id": "4d27c7c0",
   "metadata": {},
   "outputs": [],
   "source": [
    "update_proba_bar(455)"
   ]
  },
  {
   "cell_type": "code",
   "execution_count": null,
   "id": "e9baa290",
   "metadata": {},
   "outputs": [],
   "source": []
  },
  {
   "cell_type": "code",
   "execution_count": null,
   "id": "729b8691",
   "metadata": {},
   "outputs": [],
   "source": []
  },
  {
   "cell_type": "code",
   "execution_count": null,
   "id": "cc4f6fbf",
   "metadata": {},
   "outputs": [],
   "source": [
    "def update_proba_bar(id_client):\n",
    "    proba = pipe_model[3].predict_proba(np.array(x_test_transformed.loc[id_client]).reshape(1, -1)).flatten()\n",
    "    #y_pred_proba =np.where(proba > 0.541237, 1, 0)\n",
    "    proba_client = np.array(proba[1])\n",
    "    # Retourne le bar plot mis à jour pour l'id client\n",
    "    df = [\"faillite\"]\n",
    "    fig = px.bar(x = df, y= proba_client)\n",
    "             #color=['Faillite', 'Non faillite'],\n",
    "             #labels=dict(x='Classes', y='Score proba'),\n",
    "            # title='Les scores de probabilité <br> pour prise de décision ', text_auto=True)\n",
    "    return fig\n",
    "    del proba"
   ]
  },
  {
   "cell_type": "code",
   "execution_count": null,
   "id": "9da1620b",
   "metadata": {},
   "outputs": [],
   "source": [
    "app_test.head()"
   ]
  },
  {
   "cell_type": "code",
   "execution_count": null,
   "id": "ae13a032",
   "metadata": {},
   "outputs": [],
   "source": [
    "app_test[\"AMT_INCOME_TOTAL\"].mean()"
   ]
  },
  {
   "cell_type": "code",
   "execution_count": null,
   "id": "c49a7191",
   "metadata": {},
   "outputs": [],
   "source": []
  },
  {
   "cell_type": "code",
   "execution_count": null,
   "id": "97e05a3f",
   "metadata": {},
   "outputs": [],
   "source": []
  },
  {
   "cell_type": "code",
   "execution_count": null,
   "id": "3a75c81e",
   "metadata": {},
   "outputs": [],
   "source": []
  },
  {
   "cell_type": "code",
   "execution_count": null,
   "id": "62323b57",
   "metadata": {},
   "outputs": [],
   "source": []
  },
  {
   "cell_type": "code",
   "execution_count": null,
   "id": "1f9cc40d",
   "metadata": {},
   "outputs": [],
   "source": [
    "app_test.head(2)"
   ]
  },
  {
   "cell_type": "code",
   "execution_count": null,
   "id": "a2b04c27",
   "metadata": {},
   "outputs": [],
   "source": [
    "app_test.index"
   ]
  },
  {
   "cell_type": "code",
   "execution_count": null,
   "id": "dfd920aa",
   "metadata": {},
   "outputs": [],
   "source": [
    "x_test_transformed.index[0]"
   ]
  },
  {
   "cell_type": "code",
   "execution_count": null,
   "id": "94159792",
   "metadata": {},
   "outputs": [],
   "source": []
  },
  {
   "cell_type": "code",
   "execution_count": 51,
   "id": "d1c7595e",
   "metadata": {},
   "outputs": [],
   "source": [
    "def infos_client(id_client):\n",
    "    infos_list = ['NAME_CONTRACT_TYPE','CODE_GENDER','FLAG_OWN_CAR','FLAG_OWN_REALTY', 'NAME_INCOME_TYPE',\n",
    "                  'NAME_EDUCATION_TYPE','NAME_FAMILY_STATUS',\"REG_CITY_NOT_LIVE_CITY\",'REG_REGION_NOT_LIVE_REGION',\n",
    "                'REG_REGION_NOT_WORK_REGION', 'REG_CITY_NOT_WORK_CITY','LIVE_REGION_NOT_WORK_REGION','CNT_FAM_MEMBERS',\n",
    "              'LIVE_CITY_NOT_WORK_CITY', 'AMT_INCOME_TOTAL']\n",
    "    \n",
    "    #info_list = [info  for info in col ]\n",
    "    infos = {'intitule':infos_list,\n",
    "            'donnee': [app_test[app_test.index==id_client][col].iloc[0] for col in infos_list]\n",
    "            }\n",
    "    \n",
    "    table = pd.DataFrame(infos)\n",
    "    data = table.to_dict('rows')\n",
    "    entete = {'id':'intitule', 'name': \"Principaux indicateurs\"}, {'id': 'donnee',\n",
    "                                                                                           'name': \"Id_client: \" + str(id_client)}\n",
    "    \n",
    "    return data, entete"
   ]
  },
  {
   "cell_type": "code",
   "execution_count": 52,
   "id": "a1773fb5",
   "metadata": {},
   "outputs": [
    {
     "data": {
      "text/plain": [
       "Int64Index([100001, 100005, 100013, 100028, 100038, 100042, 100057, 100065,\n",
       "            100066, 100067,\n",
       "            ...\n",
       "            456168, 456169, 456170, 456189, 456202, 456221, 456222, 456223,\n",
       "            456224, 456250],\n",
       "           dtype='int64', name='SK_ID_CURR', length=48744)"
      ]
     },
     "execution_count": 52,
     "metadata": {},
     "output_type": "execute_result"
    }
   ],
   "source": [
    "app_test.index"
   ]
  },
  {
   "cell_type": "code",
   "execution_count": 54,
   "id": "39a38d43",
   "metadata": {},
   "outputs": [
    {
     "data": {
      "text/plain": [
       "([{'intitule': 'NAME_CONTRACT_TYPE', 'donnee': 'Cash loans'},\n",
       "  {'intitule': 'CODE_GENDER', 'donnee': 'F'},\n",
       "  {'intitule': 'FLAG_OWN_CAR', 'donnee': 'N'},\n",
       "  {'intitule': 'FLAG_OWN_REALTY', 'donnee': 'Y'},\n",
       "  {'intitule': 'NAME_INCOME_TYPE', 'donnee': 'Working'},\n",
       "  {'intitule': 'NAME_EDUCATION_TYPE', 'donnee': 'Higher education'},\n",
       "  {'intitule': 'NAME_FAMILY_STATUS', 'donnee': 'Married'},\n",
       "  {'intitule': 'REG_CITY_NOT_LIVE_CITY', 'donnee': 0},\n",
       "  {'intitule': 'REG_REGION_NOT_LIVE_REGION', 'donnee': 0},\n",
       "  {'intitule': 'REG_REGION_NOT_WORK_REGION', 'donnee': 0},\n",
       "  {'intitule': 'REG_CITY_NOT_WORK_CITY', 'donnee': 0},\n",
       "  {'intitule': 'LIVE_REGION_NOT_WORK_REGION', 'donnee': 0},\n",
       "  {'intitule': 'CNT_FAM_MEMBERS', 'donnee': 2.0},\n",
       "  {'intitule': 'LIVE_CITY_NOT_WORK_CITY', 'donnee': 0},\n",
       "  {'intitule': 'AMT_INCOME_TOTAL', 'donnee': 135000.0}],\n",
       " ({'id': 'intitule', 'name': 'Principaux indicateurs'},\n",
       "  {'id': 'donnee', 'name': 'Id_client: 100001'}))"
      ]
     },
     "execution_count": 54,
     "metadata": {},
     "output_type": "execute_result"
    }
   ],
   "source": [
    "infos_client(100001)"
   ]
  },
  {
   "cell_type": "code",
   "execution_count": null,
   "id": "65f673d6",
   "metadata": {},
   "outputs": [],
   "source": []
  }
 ],
 "metadata": {
  "kernelspec": {
   "display_name": "Python 3 (ipykernel)",
   "language": "python",
   "name": "python3"
  },
  "language_info": {
   "codemirror_mode": {
    "name": "ipython",
    "version": 3
   },
   "file_extension": ".py",
   "mimetype": "text/x-python",
   "name": "python",
   "nbconvert_exporter": "python",
   "pygments_lexer": "ipython3",
   "version": "3.9.7"
  }
 },
 "nbformat": 4,
 "nbformat_minor": 5
}
